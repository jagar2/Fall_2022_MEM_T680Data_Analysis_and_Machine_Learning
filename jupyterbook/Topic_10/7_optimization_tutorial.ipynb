{
  "cells": [
    {
      "cell_type": "code",
      "execution_count": 2,
      "metadata": {
        "collapsed": false,
        "slideshow": {
          "slide_type": "fragment"
        }
      },
      "outputs": [],
      "source": [
        "%matplotlib inline\n",
        "\n",
        "import torch\n",
        "from torch import nn\n",
        "from torch.utils.data import DataLoader\n",
        "from torchvision import datasets\n",
        "from torchvision.transforms import ToTensor"
      ]
    },
    {
      "cell_type": "markdown",
      "metadata": {
        "slideshow": {
          "slide_type": "slide"
        }
      },
      "source": [
        "# Optimizing Model Parameters\n",
        "\n",
        "Now that we have a model and data it's time to train, validate and test our model by optimizing its parameters on\n",
        "our data. \n"
      ]
    },
    {
      "cell_type": "markdown",
      "metadata": {
        "slideshow": {
          "slide_type": "fragment"
        }
      },
      "source": [
        "\n",
        "Training a model is an iterative process; in each iteration (called an _epoch_) the model makes a guess about the output, calculates\n",
        "the error in its guess (_loss_), collects the derivatives of the error with respect to its parameters (as we saw in\n",
        "the [previous section](autograd_tutorial.html)), and **optimizes** these parameters using gradient descent. "
      ]
    },
    {
      "cell_type": "markdown",
      "metadata": {
        "slideshow": {
          "slide_type": "fragment"
        }
      },
      "source": [
        "For a more\n",
        "detailed walkthrough of this process, check out this video on [backpropagation from 3Blue1Brown](https://www.youtube.com/watch?v=tIeHLnjs5U8)\\_.\n"
      ]
    },
    {
      "cell_type": "markdown",
      "metadata": {
        "slideshow": {
          "slide_type": "slide"
        }
      },
      "source": [
        "## Prerequisite Code\n",
        "\n",
        "We load the code from the previous sections on [Datasets & DataLoaders](data_tutorial.html)\n",
        "and [Build Model](buildmodel_tutorial.html).\n"
      ]
    },
    {
      "cell_type": "code",
      "execution_count": 3,
      "metadata": {
        "collapsed": false
      },
      "outputs": [],
      "source": [
        "training_data = datasets.FashionMNIST(\n",
        "    root=\"data\", train=True, download=True, transform=ToTensor()\n",
        ")\n",
        "\n",
        "test_data = datasets.FashionMNIST(\n",
        "    root=\"data\", train=False, download=True, transform=ToTensor()\n",
        ")\n",
        "\n",
        "train_dataloader = DataLoader(training_data, batch_size=64)\n",
        "test_dataloader = DataLoader(test_data, batch_size=64)\n",
        "\n",
        "\n",
        "class NeuralNetwork(nn.Module):\n",
        "    def __init__(self):\n",
        "        super(NeuralNetwork, self).__init__()\n",
        "        self.flatten = nn.Flatten()\n",
        "        self.linear_relu_stack = nn.Sequential(\n",
        "            nn.Linear(28 * 28, 512),\n",
        "            nn.ReLU(),\n",
        "            nn.Linear(512, 512),\n",
        "            nn.ReLU(),\n",
        "            nn.Linear(512, 10),\n",
        "        )\n",
        "\n",
        "    def forward(self, x):\n",
        "        x = self.flatten(x)\n",
        "        logits = self.linear_relu_stack(x)\n",
        "        return logits\n",
        "\n",
        "\n",
        "model = NeuralNetwork()"
      ]
    },
    {
      "cell_type": "markdown",
      "metadata": {
        "slideshow": {
          "slide_type": "slide"
        }
      },
      "source": [
        "## Hyperparameters\n",
        "\n",
        "Hyperparameters are adjustable parameters that let you control the model optimization process.\n",
        "Different hyperparameter values can impact model training and convergence rates\n",
        "([read more](https://pytorch.org/tutorials/beginner/hyperparameter_tuning_tutorial.html)\\_ about hyperparameter tuning)\n"
      ]
    },
    {
      "cell_type": "markdown",
      "metadata": {
        "slideshow": {
          "slide_type": "fragment"
        }
      },
      "source": [
        "\n",
        "We define the following hyperparameters for training:\n",
        "\n",
        "- **Number of Epochs** - the number times to iterate over the dataset\n",
        "- **Batch Size** - the number of data samples propagated through the network before the parameters are updated\n",
        "- **Learning Rate** - how much to update models parameters at each batch/epoch. Smaller values yield slow learning speed, while large values may result in unpredictable behavior during training.\n"
      ]
    },
    {
      "cell_type": "code",
      "execution_count": 4,
      "metadata": {
        "collapsed": false,
        "slideshow": {
          "slide_type": "fragment"
        }
      },
      "outputs": [],
      "source": [
        "learning_rate = 1e-3\n",
        "batch_size = 64\n",
        "epochs = 5\n"
      ]
    },
    {
      "cell_type": "markdown",
      "metadata": {
        "slideshow": {
          "slide_type": "slide"
        }
      },
      "source": [
        "## Optimization Loop\n",
        "\n",
        "Once we set our hyperparameters, we can then train and optimize our model with an optimization loop. Each\n",
        "iteration of the optimization loop is called an **epoch**.\n"
      ]
    },
    {
      "cell_type": "markdown",
      "metadata": {
        "slideshow": {
          "slide_type": "fragment"
        }
      },
      "source": [
        "Each epoch consists of two main parts:\n",
        "\n",
        "- **The Train Loop** - iterate over the training dataset and try to converge to optimal parameters.\n",
        "- **The Validation/Test Loop** - iterate over the test dataset to check if model performance is improving.\n"
      ]
    },
    {
      "cell_type": "markdown",
      "metadata": {
        "slideshow": {
          "slide_type": "slide"
        }
      },
      "source": [
        "### Loss Function\n",
        "\n",
        "When presented with some training data, our untrained network is likely not to give the correct\n",
        "answer. **Loss function** measures the degree of dissimilarity of obtained result to the target value,\n",
        "and it is the loss function that we want to minimize during training. To calculate the loss we make a\n",
        "prediction using the inputs of our given data sample and compare it against the true data label value.\n"
      ]
    },
    {
      "cell_type": "markdown",
      "metadata": {
        "slideshow": {
          "slide_type": "fragment"
        }
      },
      "source": [
        "Common loss functions include \n",
        "1. [nn.MSELoss](https://pytorch.org/docs/stable/generated/torch.nn.MSELoss.html#torch.nn.MSELoss) (Mean Square Error) for regression tasks\n",
        "2. [nn.NLLLoss](https://pytorch.org/docs/stable/generated/torch.nn.NLLLoss.html#torch.nn.NLLLoss) (Negative Log Likelihood) for classification.\n",
        "3. [nn.CrossEntropyLoss](https://pytorch.org/docs/stable/generated/torch.nn.CrossEntropyLoss.html#torch.nn.CrossEntropyLoss) combines `nn.LogSoftmax` and `nn.NLLLoss`.\n",
        "\n",
        "We pass our model's output logits to `nn.CrossEntropyLoss`, which will normalize the logits and compute the prediction error.\n"
      ]
    },
    {
      "cell_type": "code",
      "execution_count": 5,
      "metadata": {
        "collapsed": false,
        "slideshow": {
          "slide_type": "fragment"
        }
      },
      "outputs": [],
      "source": [
        "# Initialize the loss function\n",
        "loss_fn = nn.CrossEntropyLoss()\n"
      ]
    },
    {
      "cell_type": "markdown",
      "metadata": {
        "slideshow": {
          "slide_type": "slide"
        }
      },
      "source": [
        "### Optimizer\n",
        "\n",
        "Optimization is the process of adjusting model parameters to reduce model error in each training step. **Optimization algorithms** define how this process is performed (in this example we use Stochastic Gradient Descent).\n"
      ]
    },
    {
      "cell_type": "markdown",
      "metadata": {
        "slideshow": {
          "slide_type": "fragment"
        }
      },
      "source": [
        "All optimization logic is encapsulated in the `optimizer` object. Here, we use the SGD optimizer; additionally, there are many [different optimizers](https://pytorch.org/docs/stable/optim.html)\n",
        "available in PyTorch such as ADAM and RMSProp, that work better for different kinds of models and data.\n"
      ]
    },
    {
      "cell_type": "markdown",
      "metadata": {
        "slideshow": {
          "slide_type": "fragment"
        }
      },
      "source": [
        "We initialize the optimizer by registering the model's parameters that need to be trained, and passing in the learning rate hyperparameter.\n"
      ]
    },
    {
      "cell_type": "code",
      "execution_count": 6,
      "metadata": {
        "collapsed": false,
        "slideshow": {
          "slide_type": "fragment"
        }
      },
      "outputs": [],
      "source": [
        "optimizer = torch.optim.SGD(model.parameters(), lr=learning_rate)\n"
      ]
    },
    {
      "cell_type": "markdown",
      "metadata": {
        "slideshow": {
          "slide_type": "fragment"
        }
      },
      "source": [
        "Inside the training loop, optimization happens in three steps:\n",
        "\n",
        "1. Call `optimizer.zero_grad()` to reset the gradients of model parameters. Gradients by default add up; to prevent double-counting, we explicitly zero them at each iteration.\n",
        "2. Backpropagate the prediction loss with a call to `loss.backward()`. PyTorch deposits the gradients of the loss w.r.t. each parameter.\n",
        "3. Once we have our gradients, we call `optimizer.step()` to adjust the parameters by the gradients collected in the backward pass.\n"
      ]
    },
    {
      "cell_type": "markdown",
      "metadata": {
        "slideshow": {
          "slide_type": "slide"
        }
      },
      "source": [
        "## Full Implementation\n",
        "\n",
        "We define `train_loop` that loops over our optimization code, and `test_loop` that\n",
        "evaluates the model's performance against our test data.\n"
      ]
    },
    {
      "cell_type": "code",
      "execution_count": 7,
      "metadata": {
        "collapsed": false,
        "slideshow": {
          "slide_type": "fragment"
        }
      },
      "outputs": [],
      "source": [
        "def train_loop(dataloader, model, loss_fn, optimizer):\n",
        "    size = len(dataloader.dataset)\n",
        "    for batch, (X, y) in enumerate(dataloader):\n",
        "        # Compute prediction and loss\n",
        "        pred = model(X)\n",
        "        loss = loss_fn(pred, y)\n",
        "\n",
        "        # Backpropagation\n",
        "        optimizer.zero_grad()\n",
        "        loss.backward()\n",
        "        optimizer.step()\n",
        "\n",
        "        if batch % 100 == 0:\n",
        "            loss, current = loss.item(), batch * len(X)\n",
        "            print(f\"loss: {loss:>7f}  [{current:>5d}/{size:>5d}]\")\n",
        "\n",
        "\n",
        "def test_loop(dataloader, model, loss_fn):\n",
        "    size = len(dataloader.dataset)\n",
        "    num_batches = len(dataloader)\n",
        "    test_loss, correct = 0, 0\n",
        "\n",
        "    with torch.no_grad():\n",
        "        for X, y in dataloader:\n",
        "            pred = model(X)\n",
        "            test_loss += loss_fn(pred, y).item()\n",
        "            correct += (pred.argmax(1) == y).type(torch.float).sum().item()\n",
        "\n",
        "    test_loss /= num_batches\n",
        "    correct /= size\n",
        "    print(\n",
        "        f\"Test Error: \\n Accuracy: {(100*correct):>0.1f}%, Avg loss: {test_loss:>8f} \\n\"\n",
        "    )"
      ]
    },
    {
      "cell_type": "markdown",
      "metadata": {
        "slideshow": {
          "slide_type": "fragment"
        }
      },
      "source": [
        "We initialize the loss function and optimizer, and pass it to `train_loop` and `test_loop`.\n"
      ]
    },
    {
      "cell_type": "code",
      "execution_count": 8,
      "metadata": {
        "collapsed": false,
        "slideshow": {
          "slide_type": "fragment"
        }
      },
      "outputs": [
        {
          "name": "stdout",
          "output_type": "stream",
          "text": [
            "Epoch 1\n",
            "-------------------------------\n",
            "loss: 2.303225  [    0/60000]\n",
            "loss: 2.289541  [ 6400/60000]\n",
            "loss: 2.279066  [12800/60000]\n",
            "loss: 2.274888  [19200/60000]\n",
            "loss: 2.246112  [25600/60000]\n",
            "loss: 2.228006  [32000/60000]\n",
            "loss: 2.235648  [38400/60000]\n",
            "loss: 2.201222  [44800/60000]\n",
            "loss: 2.201264  [51200/60000]\n",
            "loss: 2.176174  [57600/60000]\n",
            "Test Error: \n",
            " Accuracy: 50.8%, Avg loss: 2.160985 \n",
            "\n",
            "Epoch 2\n",
            "-------------------------------\n",
            "loss: 2.165169  [    0/60000]\n",
            "loss: 2.155181  [ 6400/60000]\n",
            "loss: 2.107632  [12800/60000]\n",
            "loss: 2.127545  [19200/60000]\n",
            "loss: 2.073723  [25600/60000]\n",
            "loss: 2.021960  [32000/60000]\n",
            "loss: 2.049046  [38400/60000]\n",
            "loss: 1.968688  [44800/60000]\n",
            "loss: 1.972086  [51200/60000]\n",
            "loss: 1.916106  [57600/60000]\n",
            "Test Error: \n",
            " Accuracy: 60.0%, Avg loss: 1.898527 \n",
            "\n",
            "Epoch 3\n",
            "-------------------------------\n",
            "loss: 1.924987  [    0/60000]\n",
            "loss: 1.895322  [ 6400/60000]\n",
            "loss: 1.785617  [12800/60000]\n",
            "loss: 1.827132  [19200/60000]\n",
            "loss: 1.729618  [25600/60000]\n",
            "loss: 1.675945  [32000/60000]\n",
            "loss: 1.697962  [38400/60000]\n",
            "loss: 1.592595  [44800/60000]\n",
            "loss: 1.612464  [51200/60000]\n",
            "loss: 1.518723  [57600/60000]\n",
            "Test Error: \n",
            " Accuracy: 62.6%, Avg loss: 1.525155 \n",
            "\n",
            "Epoch 4\n",
            "-------------------------------\n",
            "loss: 1.586864  [    0/60000]\n",
            "loss: 1.551196  [ 6400/60000]\n",
            "loss: 1.404517  [12800/60000]\n",
            "loss: 1.477531  [19200/60000]\n",
            "loss: 1.367625  [25600/60000]\n",
            "loss: 1.353168  [32000/60000]\n",
            "loss: 1.368994  [38400/60000]\n",
            "loss: 1.291902  [44800/60000]\n",
            "loss: 1.323477  [51200/60000]\n",
            "loss: 1.225744  [57600/60000]\n",
            "Test Error: \n",
            " Accuracy: 64.1%, Avg loss: 1.250211 \n",
            "\n",
            "Epoch 5\n",
            "-------------------------------\n",
            "loss: 1.322305  [    0/60000]\n",
            "loss: 1.305181  [ 6400/60000]\n",
            "loss: 1.144152  [12800/60000]\n",
            "loss: 1.248504  [19200/60000]\n",
            "loss: 1.128180  [25600/60000]\n",
            "loss: 1.147773  [32000/60000]\n",
            "loss: 1.167554  [38400/60000]\n",
            "loss: 1.109190  [44800/60000]\n",
            "loss: 1.146896  [51200/60000]\n",
            "loss: 1.058834  [57600/60000]\n",
            "Test Error: \n",
            " Accuracy: 65.2%, Avg loss: 1.081675 \n",
            "\n",
            "Epoch 6\n",
            "-------------------------------\n",
            "loss: 1.148129  [    0/60000]\n",
            "loss: 1.151250  [ 6400/60000]\n",
            "loss: 0.974741  [12800/60000]\n",
            "loss: 1.106791  [19200/60000]\n",
            "loss: 0.983119  [25600/60000]\n",
            "loss: 1.013388  [32000/60000]\n",
            "loss: 1.044529  [38400/60000]\n",
            "loss: 0.994171  [44800/60000]\n",
            "loss: 1.035014  [51200/60000]\n",
            "loss: 0.955920  [57600/60000]\n",
            "Test Error: \n",
            " Accuracy: 66.5%, Avg loss: 0.974251 \n",
            "\n",
            "Epoch 7\n",
            "-------------------------------\n",
            "loss: 1.028656  [    0/60000]\n",
            "loss: 1.052388  [ 6400/60000]\n",
            "loss: 0.859850  [12800/60000]\n",
            "loss: 1.013595  [19200/60000]\n",
            "loss: 0.894262  [25600/60000]\n",
            "loss: 0.920695  [32000/60000]\n",
            "loss: 0.964659  [38400/60000]\n",
            "loss: 0.919096  [44800/60000]\n",
            "loss: 0.958929  [51200/60000]\n",
            "loss: 0.887306  [57600/60000]\n",
            "Test Error: \n",
            " Accuracy: 67.6%, Avg loss: 0.901732 \n",
            "\n",
            "Epoch 8\n",
            "-------------------------------\n",
            "loss: 0.941216  [    0/60000]\n",
            "loss: 0.984030  [ 6400/60000]\n",
            "loss: 0.778177  [12800/60000]\n",
            "loss: 0.948593  [19200/60000]\n",
            "loss: 0.836766  [25600/60000]\n",
            "loss: 0.853844  [32000/60000]\n",
            "loss: 0.908599  [38400/60000]\n",
            "loss: 0.868537  [44800/60000]\n",
            "loss: 0.904277  [51200/60000]\n",
            "loss: 0.837926  [57600/60000]\n",
            "Test Error: \n",
            " Accuracy: 68.9%, Avg loss: 0.849746 \n",
            "\n",
            "Epoch 9\n",
            "-------------------------------\n",
            "loss: 0.874199  [    0/60000]\n",
            "loss: 0.932751  [ 6400/60000]\n",
            "loss: 0.717243  [12800/60000]\n",
            "loss: 0.900738  [19200/60000]\n",
            "loss: 0.796654  [25600/60000]\n",
            "loss: 0.803857  [32000/60000]\n",
            "loss: 0.866232  [38400/60000]\n",
            "loss: 0.833128  [44800/60000]\n",
            "loss: 0.863497  [51200/60000]\n",
            "loss: 0.800281  [57600/60000]\n",
            "Test Error: \n",
            " Accuracy: 70.0%, Avg loss: 0.810445 \n",
            "\n",
            "Epoch 10\n",
            "-------------------------------\n",
            "loss: 0.820602  [    0/60000]\n",
            "loss: 0.891656  [ 6400/60000]\n",
            "loss: 0.669617  [12800/60000]\n",
            "loss: 0.864081  [19200/60000]\n",
            "loss: 0.766518  [25600/60000]\n",
            "loss: 0.765468  [32000/60000]\n",
            "loss: 0.832183  [38400/60000]\n",
            "loss: 0.806928  [44800/60000]\n",
            "loss: 0.831662  [51200/60000]\n",
            "loss: 0.770084  [57600/60000]\n",
            "Test Error: \n",
            " Accuracy: 70.9%, Avg loss: 0.779284 \n",
            "\n",
            "Done!\n"
          ]
        }
      ],
      "source": [
        "loss_fn = nn.CrossEntropyLoss()\n",
        "optimizer = torch.optim.SGD(model.parameters(), lr=learning_rate)\n",
        "\n",
        "epochs = 10\n",
        "for t in range(epochs):\n",
        "    print(f\"Epoch {t+1}\\n-------------------------------\")\n",
        "    train_loop(train_dataloader, model, loss_fn, optimizer)\n",
        "    test_loop(test_dataloader, model, loss_fn)\n",
        "print(\"Done!\")\n"
      ]
    },
    {
      "cell_type": "markdown",
      "metadata": {
        "slideshow": {
          "slide_type": "fragment"
        }
      },
      "source": [
        "## Further Reading\n",
        "\n",
        "- [Loss Functions](https://pytorch.org/docs/stable/nn.html#loss-functions)\n",
        "- [torch.optim](https://pytorch.org/docs/stable/optim.html)\n",
        "- [Warmstart Training a Model](https://pytorch.org/tutorials/recipes/recipes/warmstarting_model_using_parameters_from_a_different_model.html)\n"
      ]
    }
  ],
  "metadata": {
    "kernelspec": {
      "display_name": "Python 3.10.0 ('jupyterbook')",
      "language": "python",
      "name": "python3"
    },
    "language_info": {
      "codemirror_mode": {
        "name": "ipython",
        "version": 3
      },
      "file_extension": ".py",
      "mimetype": "text/x-python",
      "name": "python",
      "nbconvert_exporter": "python",
      "pygments_lexer": "ipython3",
      "version": "3.10.8"
    },
    "vscode": {
      "interpreter": {
        "hash": "c475b5beda6d617ffb7b2fcf453fbe132321ffc1e1f96c06cf49356e1e7f42cb"
      }
    }
  },
  "nbformat": 4,
  "nbformat_minor": 0
}
