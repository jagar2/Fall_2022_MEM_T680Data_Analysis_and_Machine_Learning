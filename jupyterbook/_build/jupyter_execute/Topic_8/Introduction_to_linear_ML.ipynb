{
 "cells": [
  {
   "cell_type": "code",
   "execution_count": 1,
   "id": "43096f22",
   "metadata": {
    "slideshow": {
     "slide_type": "fragment"
    }
   },
   "outputs": [],
   "source": [
    "from IPython.display import IFrame\n",
    "import numpy as np\n",
    "import matplotlib.pyplot as plt\n",
    "import pickle\n",
    "\n",
    "\n",
    "from sklearn import datasets, svm\n",
    "from sklearn.preprocessing import PolynomialFeatures\n",
    "from sklearn.model_selection import cross_val_score\n",
    "from sklearn.pipeline import Pipeline\n",
    "from sklearn.linear_model import LinearRegression"
   ]
  },
  {
   "cell_type": "markdown",
   "id": "71d0dd73",
   "metadata": {
    "slideshow": {
     "slide_type": "slide"
    }
   },
   "source": [
    "# Introduction to Linear Machine Learning\n",
    "\n",
    "![](figs/big_hammer.jpeg)\n"
   ]
  },
  {
   "cell_type": "markdown",
   "id": "e37c873e",
   "metadata": {
    "slideshow": {
     "slide_type": "slide"
    }
   },
   "source": [
    "## What is Machine Learning?\n"
   ]
  },
  {
   "cell_type": "markdown",
   "id": "f858e8b2",
   "metadata": {
    "slideshow": {
     "slide_type": "fragment"
    }
   },
   "source": [
    "Everyone write down their definition\n"
   ]
  },
  {
   "cell_type": "markdown",
   "id": "73c1322b",
   "metadata": {
    "slideshow": {
     "slide_type": "fragment"
    }
   },
   "source": [
    "- “Machine Learning at its most basic is the practice of using algorithms to parse data, learn from it, and then make a determination or prediction about something in the world.” – Nvidia\n"
   ]
  },
  {
   "cell_type": "markdown",
   "id": "cb9b6435",
   "metadata": {
    "slideshow": {
     "slide_type": "fragment"
    }
   },
   "source": [
    "- “Machine learning is based on algorithms that can learn from data without relying on rules-based programming.”- McKinsey & Co.\n"
   ]
  },
  {
   "cell_type": "markdown",
   "id": "75f7586b",
   "metadata": {
    "slideshow": {
     "slide_type": "fragment"
    }
   },
   "source": [
    "- “The field of Machine Learning seeks to answer the question “How can we build computer systems that automatically improve with experience, and what are the fundamental laws that govern all learning processes?” – Carnegie Mellon University\n"
   ]
  },
  {
   "cell_type": "markdown",
   "id": "86ee55d5",
   "metadata": {
    "slideshow": {
     "slide_type": "fragment"
    }
   },
   "source": [
    "- Machine learning research is part of research on artificial intelligence, seeking to provide knowledge to computers through data, observations and interactions with the world. That acquired knowledge allows computers to correctly generalize to new settings.\n"
   ]
  },
  {
   "cell_type": "markdown",
   "id": "28f7a6a6",
   "metadata": {
    "slideshow": {
     "slide_type": "fragment"
    }
   },
   "source": [
    "- “Machine Learning is the science of getting computers to learn and act like humans do, and improve their learning over time in autonomous fashion, by feeding them data and information in the form of observations and real-world interactions.”\n"
   ]
  },
  {
   "cell_type": "markdown",
   "id": "ab0a4fae",
   "metadata": {
    "slideshow": {
     "slide_type": "slide"
    }
   },
   "source": [
    "## Mathematical Definition\n"
   ]
  },
  {
   "cell_type": "markdown",
   "id": "5a029b33",
   "metadata": {
    "slideshow": {
     "slide_type": "fragment"
    }
   },
   "source": [
    "The problem is to take _n-samples_ of data with _m-features_ and try to predict a property of unknown data\n"
   ]
  },
  {
   "cell_type": "markdown",
   "id": "35e9de98",
   "metadata": {
    "slideshow": {
     "slide_type": "fragment"
    }
   },
   "source": [
    "- Generally, each sample has multiple attributes commonly called **features**\n"
   ]
  },
  {
   "cell_type": "markdown",
   "id": "92bb277e",
   "metadata": {
    "slideshow": {
     "slide_type": "fragment"
    }
   },
   "source": [
    "- When using linear machine learning models choice of features is essential\n"
   ]
  },
  {
   "cell_type": "markdown",
   "id": "40cb2438",
   "metadata": {
    "slideshow": {
     "slide_type": "slide"
    }
   },
   "source": [
    "## Machine Learning Basic Concepts\n"
   ]
  },
  {
   "cell_type": "markdown",
   "id": "3ad04ccb",
   "metadata": {
    "slideshow": {
     "slide_type": "subslide"
    }
   },
   "source": [
    "### Representations\n",
    "\n",
    "- A set of classifiers or the language that a computer understands\n",
    "- How the model connects data to the objective\n"
   ]
  },
  {
   "cell_type": "markdown",
   "id": "de072efd",
   "metadata": {
    "slideshow": {
     "slide_type": "fragment"
    }
   },
   "source": [
    "**The way humans make inferences from data is different than of machines**\n"
   ]
  },
  {
   "cell_type": "markdown",
   "id": "d5600119",
   "metadata": {
    "slideshow": {
     "slide_type": "fragment"
    }
   },
   "source": [
    "Examples:\n",
    "\n",
    "- K-nearest neighbors\n",
    "- support vector machines\n",
    "- decision trees\n",
    "- neural networks\n",
    "- ...\n"
   ]
  },
  {
   "cell_type": "markdown",
   "id": "131d18df",
   "metadata": {
    "slideshow": {
     "slide_type": "subslide"
    }
   },
   "source": [
    "### Evaluation\n",
    "\n",
    "- how the model determines its success at completing an objective\n"
   ]
  },
  {
   "cell_type": "markdown",
   "id": "cad575b7",
   "metadata": {
    "slideshow": {
     "slide_type": "fragment"
    }
   },
   "source": [
    "**The ways humans and computers quantify success at **an objective **are** very different\\*\\*\\*\\*\n"
   ]
  },
  {
   "cell_type": "markdown",
   "id": "4577631f",
   "metadata": {
    "slideshow": {
     "slide_type": "fragment"
    }
   },
   "source": [
    "Examples:\n",
    "\n",
    "- accuracy/error rate\n",
    "- squared error\n",
    "- likelihood\n",
    "- KL divergence (entropy between two distributions)\n",
    "- ...\n",
    "\n",
    "**Note for Engineers - The concepts of statistical thermodynamics are very relevant to machine learning dynamics**\n"
   ]
  },
  {
   "cell_type": "markdown",
   "id": "cf3c73f4",
   "metadata": {
    "slideshow": {
     "slide_type": "subslide"
    }
   },
   "source": [
    "## Optimization\n",
    "\n",
    "- the model search method\n",
    "- how the model improves itself\n",
    "- how the model values exploration vs. exploitation\n"
   ]
  },
  {
   "cell_type": "markdown",
   "id": "e6721272",
   "metadata": {
    "slideshow": {
     "slide_type": "fragment"
    }
   },
   "source": [
    "**The way that humans and computers optimize and solve problems is very different**\n"
   ]
  },
  {
   "cell_type": "markdown",
   "id": "0ad4ff2c",
   "metadata": {
    "slideshow": {
     "slide_type": "fragment"
    }
   },
   "source": [
    "Examples:\n",
    "Combinatorial optimization\n",
    "\n",
    "- random search\n",
    "- greedy search\n",
    "  Continuous optimization\n",
    "- gradient descent\n",
    "- quasi-Newton method\n"
   ]
  },
  {
   "cell_type": "markdown",
   "id": "27f94444",
   "metadata": {
    "slideshow": {
     "slide_type": "subslide"
    }
   },
   "source": [
    "![figure](figs/Componets_of_a_learning_algorithm.png)\n"
   ]
  },
  {
   "cell_type": "code",
   "execution_count": 2,
   "id": "828e643c",
   "metadata": {
    "slideshow": {
     "slide_type": "slide"
    }
   },
   "outputs": [
    {
     "data": {
      "text/html": [
       "\n",
       "<iframe\n",
       "    width=\"1000\"\n",
       "    height=\"800\"\n",
       "    src=\"http://www.r2d3.us/visual-intro-to-machine-learning-part-1/\"\n",
       "    frameborder=\"0\"\n",
       "    allowfullscreen\n",
       "\n",
       "></iframe>\n"
      ],
      "text/plain": [
       "<IPython.lib.display.IFrame at 0x24432d93cd0>"
      ]
     },
     "execution_count": 2,
     "metadata": {},
     "output_type": "execute_result"
    }
   ],
   "source": [
    "IFrame(src='http://www.r2d3.us/visual-intro-to-machine-learning-part-1/', width=1000, height=800)"
   ]
  },
  {
   "cell_type": "markdown",
   "id": "d6c1ee09",
   "metadata": {
    "slideshow": {
     "slide_type": "slide"
    }
   },
   "source": [
    "## How do we get machines to learn?\n"
   ]
  },
  {
   "cell_type": "markdown",
   "id": "0f548d58",
   "metadata": {
    "slideshow": {
     "slide_type": "fragment"
    }
   },
   "source": [
    "- Choose the best learning algorithm\n"
   ]
  },
  {
   "cell_type": "markdown",
   "id": "0a268bfe",
   "metadata": {
    "slideshow": {
     "slide_type": "fragment"
    }
   },
   "source": [
    "Other things that matter\n",
    "\n",
    "- Collect and collate meaningful data\n"
   ]
  },
  {
   "cell_type": "markdown",
   "id": "b257aab7",
   "metadata": {
    "slideshow": {
     "slide_type": "fragment"
    }
   },
   "source": [
    "- Provide the data to the machine in a form that emphasizes the learning objective\n"
   ]
  },
  {
   "cell_type": "markdown",
   "id": "41935906",
   "metadata": {
    "slideshow": {
     "slide_type": "fragment"
    }
   },
   "source": [
    "\\*\\*Humans and machines are great collaborators:\n",
    "\n",
    "- Humans are great at deducing conclusions from a few examples based on abstract connections between observations\n"
   ]
  },
  {
   "cell_type": "markdown",
   "id": "c25767da",
   "metadata": {
    "slideshow": {
     "slide_type": "fragment"
    }
   },
   "source": [
    "- Machines are great at searching large high-dimensional information for statistical trends\\*\\*\n"
   ]
  },
  {
   "cell_type": "markdown",
   "id": "8b7dde15",
   "metadata": {
    "slideshow": {
     "slide_type": "slide"
    }
   },
   "source": [
    "## Challenges and Limitations\n"
   ]
  },
  {
   "cell_type": "markdown",
   "id": "d80db1a6",
   "metadata": {
    "slideshow": {
     "slide_type": "subslide"
    }
   },
   "source": [
    "### Overfitting\n"
   ]
  },
  {
   "cell_type": "markdown",
   "id": "0d74fb7d",
   "metadata": {
    "slideshow": {
     "slide_type": "fragment"
    }
   },
   "source": [
    "![figure](figs/Explaining_Overfitting.png)\n"
   ]
  },
  {
   "cell_type": "markdown",
   "id": "d76f682f",
   "metadata": {
    "slideshow": {
     "slide_type": "fragment"
    }
   },
   "source": [
    "This might be a comfy bed for you, but I don't know if your friend would like to sleep on it ☺️\n"
   ]
  },
  {
   "cell_type": "markdown",
   "id": "b29cf37d",
   "metadata": {
    "slideshow": {
     "slide_type": "fragment"
    }
   },
   "source": [
    "- It is possible to get perfect accuracy on a test set but cannot conduct inference on a new problem\n",
    "- The model is not **generalizable**\n"
   ]
  },
  {
   "cell_type": "markdown",
   "id": "882e4593",
   "metadata": {
    "slideshow": {
     "slide_type": "fragment"
    }
   },
   "source": [
    "A model can classify types of apples but show it an orange and it is useless\n"
   ]
  },
  {
   "cell_type": "markdown",
   "id": "7d1cf982",
   "metadata": {
    "slideshow": {
     "slide_type": "slide"
    }
   },
   "source": [
    "### Overfitting Example with Polynomials\n"
   ]
  },
  {
   "cell_type": "code",
   "execution_count": 3,
   "id": "ae94a26e",
   "metadata": {
    "slideshow": {
     "slide_type": "fragment"
    }
   },
   "outputs": [
    {
     "data": {
      "image/png": "[encoded data removed]",
      "text/plain": [
       "<Figure size 1400x500 with 3 Axes>"
      ]
     },
     "metadata": {
      "filenames": {
       "image/png": "C:\\Users\\jca92\\Documents\\codes\\Fall_2022_MEM_T680Data_Analysis_and_Machine_Learning\\jupyterbook\\_build\\jupyter_execute\\Topic_8\\Introduction_to_linear_ML_38_0.png"
      }
     },
     "output_type": "display_data"
    }
   ],
   "source": [
    "# Defines the function\n",
    "def true_fun(X):\n",
    "    return np.cos(1.5 * np.pi * X)\n",
    "\n",
    "\n",
    "# sets a random seed for consistent plotting\n",
    "np.random.seed(0)\n",
    "\n",
    "# sets the number of samples\n",
    "n_samples = 100\n",
    "\n",
    "# Sets the range in degrees\n",
    "degrees = [1, 4, 15]\n",
    "\n",
    "# adds some noise to the data\n",
    "X = np.sort(np.random.rand(n_samples))\n",
    "y = true_fun(X) + np.random.randn(n_samples) * 0.3\n",
    "\n",
    "# does the plotting\n",
    "plt.figure(figsize=(14, 5))\n",
    "\n",
    "# Loops around the number of degrees selected\n",
    "for i in range(len(degrees)):\n",
    "\n",
    "    # makes the subplot\n",
    "    ax = plt.subplot(1, len(degrees), i + 1)\n",
    "    plt.setp(ax, xticks=(), yticks=())\n",
    "\n",
    "    # creates the polynomial\n",
    "    polynomial_features = PolynomialFeatures(degree=degrees[i],\n",
    "                                             include_bias=False)\n",
    "\n",
    "    # Least squares linear regression\n",
    "    linear_regression = LinearRegression()\n",
    "\n",
    "    # establishes a fitting pipeline\n",
    "    pipeline = Pipeline([(\"polynomial_features\", polynomial_features),\n",
    "                         (\"linear_regression\", linear_regression)])\n",
    "\n",
    "    # does the fit\n",
    "    pipeline.fit(X[:, np.newaxis], y)\n",
    "\n",
    "    # Evaluate the models using crossvalidation\n",
    "    scores = cross_val_score(pipeline, X[:, np.newaxis], y,\n",
    "                             scoring=\"neg_mean_squared_error\", cv=10)\n",
    "\n",
    "    # Defines a linear vector\n",
    "    X_test = np.linspace(0, 1, 100)\n",
    "\n",
    "    # plots the real model\n",
    "    plt.plot(X_test, pipeline.predict(X_test[:, np.newaxis]), label=\"Model\")\n",
    "    plt.plot(X_test, true_fun(X_test), label=\"True function\")\n",
    "\n",
    "    # plots the generated data\n",
    "    plt.scatter(X, y, edgecolor='b', s=20, label=\"Samples\")\n",
    "\n",
    "    # sets the axes format\n",
    "    plt.xlabel(\"x\")\n",
    "    plt.ylabel(\"y\")\n",
    "    plt.xlim((0, 1))\n",
    "    plt.ylim((-2, 2))\n",
    "    plt.legend(loc=\"best\")\n",
    "    plt.title(\"Degree {}\\nMSE = {:.2e}(+/- {:.2e})\".format(\n",
    "        degrees[i], -scores.mean(), scores.std()))"
   ]
  },
  {
   "cell_type": "markdown",
   "id": "c654fccf",
   "metadata": {
    "slideshow": {
     "slide_type": "slide"
    }
   },
   "source": [
    "## Categories of Machine Learning\n"
   ]
  },
  {
   "cell_type": "markdown",
   "id": "40876d04",
   "metadata": {
    "slideshow": {
     "slide_type": "fragment"
    }
   },
   "source": [
    "### Supervised Learning\n"
   ]
  },
  {
   "cell_type": "markdown",
   "id": "784e7a08",
   "metadata": {
    "slideshow": {
     "slide_type": "fragment"
    }
   },
   "source": [
    "- The data that we have comes with examples that have ground truths for what we want to predict\n"
   ]
  },
  {
   "cell_type": "code",
   "execution_count": 4,
   "id": "b7931a54",
   "metadata": {
    "slideshow": {
     "slide_type": "subslide"
    }
   },
   "outputs": [
    {
     "data": {
      "text/html": [
       "\n",
       "<iframe\n",
       "    width=\"1000\"\n",
       "    height=\"1000\"\n",
       "    src=\"https://scikit-learn.org/stable/supervised_learning.html#supervised-learning\"\n",
       "    frameborder=\"0\"\n",
       "    allowfullscreen\n",
       "\n",
       "></iframe>\n"
      ],
      "text/plain": [
       "<IPython.lib.display.IFrame at 0x2446080e080>"
      ]
     },
     "execution_count": 4,
     "metadata": {},
     "output_type": "execute_result"
    }
   ],
   "source": [
    "IFrame(src='https://scikit-learn.org/stable/supervised_learning.html#supervised-learning', width=1000, height=1000)"
   ]
  },
  {
   "cell_type": "markdown",
   "id": "9f1087f9",
   "metadata": {
    "slideshow": {
     "slide_type": "subslide"
    }
   },
   "source": [
    "### Classification\n",
    "\n",
    "- Samples belong to two or more classes ... we want to learn from labeled data how to predict the class of an unlabeled example.\n",
    "  - Example: Read handwritten digits from images\n"
   ]
  },
  {
   "cell_type": "markdown",
   "id": "a6b9e53d",
   "metadata": {
    "slideshow": {
     "slide_type": "fragment"
    }
   },
   "source": [
    "### Regression\n",
    "\n",
    "- The desired output consists of one or more continuous variables.\n",
    "  - Example: Predict the yield of product for a given operating condition\n"
   ]
  },
  {
   "cell_type": "markdown",
   "id": "f9318427",
   "metadata": {
    "slideshow": {
     "slide_type": "slide"
    }
   },
   "source": [
    "## Unsupervised Learning\n",
    "\n",
    "- Training data consists of input values without any target values\n",
    "  Goals are to:\n"
   ]
  },
  {
   "cell_type": "markdown",
   "id": "e8e4b111",
   "metadata": {
    "slideshow": {
     "slide_type": "fragment"
    }
   },
   "source": [
    "- **Cluster** - Cluster data into groups\n"
   ]
  },
  {
   "cell_type": "markdown",
   "id": "5514ab79",
   "metadata": {
    "slideshow": {
     "slide_type": "fragment"
    }
   },
   "source": [
    "- **Dimensionality Reduction** - Reduce the dimensionality of data\n"
   ]
  },
  {
   "cell_type": "markdown",
   "id": "673aa989",
   "metadata": {
    "slideshow": {
     "slide_type": "fragment"
    }
   },
   "source": [
    "- **Generation** - Try to generate new samples that belong to the same distribution\n"
   ]
  },
  {
   "cell_type": "code",
   "execution_count": 5,
   "id": "3ca46b34",
   "metadata": {
    "slideshow": {
     "slide_type": "subslide"
    }
   },
   "outputs": [
    {
     "data": {
      "text/html": [
       "\n",
       "<iframe\n",
       "    width=\"1000\"\n",
       "    height=\"1000\"\n",
       "    src=\"https://scikit-learn.org/stable/unsupervised_learning.html#unsupervised-learning\"\n",
       "    frameborder=\"0\"\n",
       "    allowfullscreen\n",
       "\n",
       "></iframe>\n"
      ],
      "text/plain": [
       "<IPython.lib.display.IFrame at 0x2446080dde0>"
      ]
     },
     "execution_count": 5,
     "metadata": {},
     "output_type": "execute_result"
    }
   ],
   "source": [
    "IFrame(src='https://scikit-learn.org/stable/unsupervised_learning.html#unsupervised-learning', width=1000, height=1000)"
   ]
  },
  {
   "cell_type": "markdown",
   "id": "770b53f1",
   "metadata": {
    "slideshow": {
     "slide_type": "slide"
    }
   },
   "source": [
    "## Designing a Training and Validation\n",
    "\n",
    "### Training and Testing Sets\n"
   ]
  },
  {
   "cell_type": "markdown",
   "id": "0fae425b",
   "metadata": {
    "slideshow": {
     "slide_type": "fragment"
    }
   },
   "source": [
    "- When conducting machine learning we want to train the model with one **training dataset** and then apply it to new never-before-seen **testing data**\n",
    "- It is quite common to have a **validation dataset** that you can validate your model independent of your in-training metrics\n"
   ]
  },
  {
   "cell_type": "markdown",
   "id": "44f4ca96",
   "metadata": {
    "slideshow": {
     "slide_type": "slide"
    }
   },
   "source": [
    "## Example Workflow\n"
   ]
  },
  {
   "cell_type": "markdown",
   "id": "24ca22ad",
   "metadata": {
    "slideshow": {
     "slide_type": "fragment"
    }
   },
   "source": [
    "### Loading Example Datasets\n",
    "\n",
    "- `scikit-learn` has a handful of datasets for testing purposes\n",
    "- It is always good to benchmark models on standard data sets\n"
   ]
  },
  {
   "cell_type": "code",
   "execution_count": 6,
   "id": "cceb9ca1",
   "metadata": {
    "slideshow": {
     "slide_type": "fragment"
    }
   },
   "outputs": [],
   "source": [
    "# imports iris dataset\n",
    "iris = datasets.load_iris()\n",
    "\n",
    "# imports digits dataset\n",
    "digits = datasets.load_digits()"
   ]
  },
  {
   "cell_type": "markdown",
   "id": "118e6f46",
   "metadata": {
    "slideshow": {
     "slide_type": "fragment"
    }
   },
   "source": [
    "- Each of these datasets are classes that contain:\n",
    "  - `*.data` : `n_samples, n_features` samples and features\n",
    "  - `*.target`: ground truth\n"
   ]
  },
  {
   "cell_type": "markdown",
   "id": "ffeb9546",
   "metadata": {
    "slideshow": {
     "slide_type": "subslide"
    }
   },
   "source": [
    "### Visualization\n",
    "\n",
    "You must have an idea of what the data from a random sample of your dataset looks like\n"
   ]
  },
  {
   "cell_type": "code",
   "execution_count": 7,
   "id": "3fabf97b",
   "metadata": {
    "slideshow": {
     "slide_type": "fragment"
    }
   },
   "outputs": [
    {
     "data": {
      "image/png": "[encoded data removed]",
      "text/plain": [
       "<Figure size 640x480 with 1 Axes>"
      ]
     },
     "metadata": {
      "filenames": {
       "image/png": "C:\\Users\\jca92\\Documents\\codes\\Fall_2022_MEM_T680Data_Analysis_and_Machine_Learning\\jupyterbook\\_build\\jupyter_execute\\Topic_8\\Introduction_to_linear_ML_57_0.png"
      }
     },
     "output_type": "display_data"
    }
   ],
   "source": [
    "# selects a random example\n",
    "ind = np.random.randint(0,100)\n",
    "\n",
    "plt.imshow(digits.data[ind].reshape(8,8))\n",
    "plt.title(f'Target is {digits.target[ind]}')\n",
    "plt.tick_params(left = False, right = False , labelleft = False ,\n",
    "                labelbottom = False, bottom = False)"
   ]
  },
  {
   "cell_type": "markdown",
   "id": "a667d8c6",
   "metadata": {
    "slideshow": {
     "slide_type": "subslide"
    }
   },
   "source": [
    "### Learning to Fit and Predict\n",
    "\n",
    "- For now, we can think of the algorithm as a semi-perfect magical black box\n"
   ]
  },
  {
   "cell_type": "code",
   "execution_count": 8,
   "id": "9b4ee5fe",
   "metadata": {
    "slideshow": {
     "slide_type": "fragment"
    }
   },
   "outputs": [],
   "source": [
    "# makes an object that is the classifier with specific hyperparameter\n",
    "# this is the model that you are training\n",
    "clf = svm.SVC(gamma=0.001, C=100)"
   ]
  },
  {
   "cell_type": "markdown",
   "id": "efde97c3",
   "metadata": {
    "slideshow": {
     "slide_type": "fragment"
    }
   },
   "source": [
    "- Here we choose some good parameters that might have to use gridsearch or cross-validation to determine these\n"
   ]
  },
  {
   "cell_type": "markdown",
   "id": "93c7019e",
   "metadata": {
    "slideshow": {
     "slide_type": "fragment"
    }
   },
   "source": [
    "### Fitting the data\n"
   ]
  },
  {
   "cell_type": "code",
   "execution_count": 9,
   "id": "e1d2a4b0",
   "metadata": {
    "slideshow": {
     "slide_type": "fragment"
    }
   },
   "outputs": [
    {
     "data": {
      "text/html": [
       "<style>#sk-container-id-1 {color: black;background-color: white;}#sk-container-id-1 pre{padding: 0;}#sk-container-id-1 div.sk-toggleable {background-color: white;}#sk-container-id-1 label.sk-toggleable__label {cursor: pointer;display: block;width: 100%;margin-bottom: 0;padding: 0.3em;box-sizing: border-box;text-align: center;}#sk-container-id-1 label.sk-toggleable__label-arrow:before {content: \"▸\";float: left;margin-right: 0.25em;color: #696969;}#sk-container-id-1 label.sk-toggleable__label-arrow:hover:before {color: black;}#sk-container-id-1 div.sk-estimator:hover label.sk-toggleable__label-arrow:before {color: black;}#sk-container-id-1 div.sk-toggleable__content {max-height: 0;max-width: 0;overflow: hidden;text-align: left;background-color: #f0f8ff;}#sk-container-id-1 div.sk-toggleable__content pre {margin: 0.2em;color: black;border-radius: 0.25em;background-color: #f0f8ff;}#sk-container-id-1 input.sk-toggleable__control:checked~div.sk-toggleable__content {max-height: 200px;max-width: 100%;overflow: auto;}#sk-container-id-1 input.sk-toggleable__control:checked~label.sk-toggleable__label-arrow:before {content: \"▾\";}#sk-container-id-1 div.sk-estimator input.sk-toggleable__control:checked~label.sk-toggleable__label {background-color: #d4ebff;}#sk-container-id-1 div.sk-label input.sk-toggleable__control:checked~label.sk-toggleable__label {background-color: #d4ebff;}#sk-container-id-1 input.sk-hidden--visually {border: 0;clip: rect(1px 1px 1px 1px);clip: rect(1px, 1px, 1px, 1px);height: 1px;margin: -1px;overflow: hidden;padding: 0;position: absolute;width: 1px;}#sk-container-id-1 div.sk-estimator {font-family: monospace;background-color: #f0f8ff;border: 1px dotted black;border-radius: 0.25em;box-sizing: border-box;margin-bottom: 0.5em;}#sk-container-id-1 div.sk-estimator:hover {background-color: #d4ebff;}#sk-container-id-1 div.sk-parallel-item::after {content: \"\";width: 100%;border-bottom: 1px solid gray;flex-grow: 1;}#sk-container-id-1 div.sk-label:hover label.sk-toggleable__label {background-color: #d4ebff;}#sk-container-id-1 div.sk-serial::before {content: \"\";position: absolute;border-left: 1px solid gray;box-sizing: border-box;top: 0;bottom: 0;left: 50%;z-index: 0;}#sk-container-id-1 div.sk-serial {display: flex;flex-direction: column;align-items: center;background-color: white;padding-right: 0.2em;padding-left: 0.2em;position: relative;}#sk-container-id-1 div.sk-item {position: relative;z-index: 1;}#sk-container-id-1 div.sk-parallel {display: flex;align-items: stretch;justify-content: center;background-color: white;position: relative;}#sk-container-id-1 div.sk-item::before, #sk-container-id-1 div.sk-parallel-item::before {content: \"\";position: absolute;border-left: 1px solid gray;box-sizing: border-box;top: 0;bottom: 0;left: 50%;z-index: -1;}#sk-container-id-1 div.sk-parallel-item {display: flex;flex-direction: column;z-index: 1;position: relative;background-color: white;}#sk-container-id-1 div.sk-parallel-item:first-child::after {align-self: flex-end;width: 50%;}#sk-container-id-1 div.sk-parallel-item:last-child::after {align-self: flex-start;width: 50%;}#sk-container-id-1 div.sk-parallel-item:only-child::after {width: 0;}#sk-container-id-1 div.sk-dashed-wrapped {border: 1px dashed gray;margin: 0 0.4em 0.5em 0.4em;box-sizing: border-box;padding-bottom: 0.4em;background-color: white;}#sk-container-id-1 div.sk-label label {font-family: monospace;font-weight: bold;display: inline-block;line-height: 1.2em;}#sk-container-id-1 div.sk-label-container {text-align: center;}#sk-container-id-1 div.sk-container {/* jupyter's `normalize.less` sets `[hidden] { display: none; }` but bootstrap.min.css set `[hidden] { display: none !important; }` so we also need the `!important` here to be able to override the default hidden behavior on the sphinx rendered scikit-learn.org. See: https://github.com/scikit-learn/scikit-learn/issues/21755 */display: inline-block !important;position: relative;}#sk-container-id-1 div.sk-text-repr-fallback {display: none;}</style><div id=\"sk-container-id-1\" class=\"sk-top-container\"><div class=\"sk-text-repr-fallback\"><pre>SVC(C=100, gamma=0.001)</pre><b>In a Jupyter environment, please rerun this cell to show the HTML representation or trust the notebook. <br />On GitHub, the HTML representation is unable to render, please try loading this page with nbviewer.org.</b></div><div class=\"sk-container\" hidden><div class=\"sk-item\"><div class=\"sk-estimator sk-toggleable\"><input class=\"sk-toggleable__control sk-hidden--visually\" id=\"sk-estimator-id-1\" type=\"checkbox\" checked><label for=\"sk-estimator-id-1\" class=\"sk-toggleable__label sk-toggleable__label-arrow\">SVC</label><div class=\"sk-toggleable__content\"><pre>SVC(C=100, gamma=0.001)</pre></div></div></div></div></div>"
      ],
      "text/plain": [
       "SVC(C=100, gamma=0.001)"
      ]
     },
     "execution_count": 9,
     "metadata": {},
     "output_type": "execute_result"
    }
   ],
   "source": [
    "# Fit the model using some data\n",
    "# Includes all data except the last index\n",
    "clf.fit(digits.data[:-1], digits.target[:-1])"
   ]
  },
  {
   "cell_type": "markdown",
   "id": "b7f7192f",
   "metadata": {
    "slideshow": {
     "slide_type": "fragment"
    }
   },
   "source": [
    "### Visualizing the Results\n"
   ]
  },
  {
   "cell_type": "code",
   "execution_count": 10,
   "id": "81b65587",
   "metadata": {
    "slideshow": {
     "slide_type": "fragment"
    }
   },
   "outputs": [
    {
     "data": {
      "image/png": "[encoded data removed]",
      "text/plain": [
       "<Figure size 640x480 with 1 Axes>"
      ]
     },
     "metadata": {
      "filenames": {
       "image/png": "C:\\Users\\jca92\\Documents\\codes\\Fall_2022_MEM_T680Data_Analysis_and_Machine_Learning\\jupyterbook\\_build\\jupyter_execute\\Topic_8\\Introduction_to_linear_ML_64_0.png"
      }
     },
     "output_type": "display_data"
    }
   ],
   "source": [
    "# selects a random example\n",
    "ind = np.random.randint(0,100)\n",
    "\n",
    "plt.imshow(digits.data[ind].reshape(8,8))\n",
    "plt.title(f'Target is {digits.target[ind]}, the prediction is {clf.predict(digits.data[ind].reshape(1,-1))}')\n",
    "plt.tick_params(left = False, right = False , labelleft = False ,\n",
    "                labelbottom = False, bottom = False)"
   ]
  },
  {
   "cell_type": "markdown",
   "id": "8feeb52b",
   "metadata": {
    "slideshow": {
     "slide_type": "subslide"
    }
   },
   "source": [
    "### Saving a model\n"
   ]
  },
  {
   "cell_type": "markdown",
   "id": "5718d7a7",
   "metadata": {
    "slideshow": {
     "slide_type": "fragment"
    }
   },
   "source": [
    "- Once trained it is possible to save a model to a file using `pickle`\n"
   ]
  },
  {
   "cell_type": "markdown",
   "id": "4545bf3a",
   "metadata": {
    "slideshow": {
     "slide_type": "fragment"
    }
   },
   "source": [
    "#### Saves the Model\n",
    "\n",
    "Saves the model object as a pickle\n"
   ]
  },
  {
   "cell_type": "code",
   "execution_count": 11,
   "id": "383a85c3",
   "metadata": {
    "slideshow": {
     "slide_type": "fragment"
    }
   },
   "outputs": [],
   "source": [
    "# saves the model \n",
    "s = pickle.dumps(clf)\n"
   ]
  },
  {
   "cell_type": "markdown",
   "id": "f259002a",
   "metadata": {
    "slideshow": {
     "slide_type": "fragment"
    }
   },
   "source": [
    "#### Loads the Saved Model\n"
   ]
  },
  {
   "cell_type": "code",
   "execution_count": 12,
   "id": "c4bc3289",
   "metadata": {
    "slideshow": {
     "slide_type": "fragment"
    }
   },
   "outputs": [],
   "source": [
    "\n",
    "# loads the model\n",
    "clf2 = pickle.loads(s)\n"
   ]
  },
  {
   "cell_type": "markdown",
   "id": "94af91c0",
   "metadata": {
    "slideshow": {
     "slide_type": "fragment"
    }
   },
   "source": [
    "#### Tests the Loaded Model\n"
   ]
  },
  {
   "cell_type": "code",
   "execution_count": 13,
   "id": "025295e6",
   "metadata": {
    "slideshow": {
     "slide_type": "fragment"
    }
   },
   "outputs": [
    {
     "data": {
      "image/png": "[encoded data removed]",
      "text/plain": [
       "<Figure size 640x480 with 1 Axes>"
      ]
     },
     "metadata": {
      "filenames": {
       "image/png": "C:\\Users\\jca92\\Documents\\codes\\Fall_2022_MEM_T680Data_Analysis_and_Machine_Learning\\jupyterbook\\_build\\jupyter_execute\\Topic_8\\Introduction_to_linear_ML_72_0.png"
      }
     },
     "output_type": "display_data"
    }
   ],
   "source": [
    "\n",
    "# test the model\n",
    "# selects a random example\n",
    "ind = np.random.randint(0,100)\n",
    "\n",
    "plt.imshow(digits.data[ind].reshape(8,8))\n",
    "plt.title(f'Target is {digits.target[ind]}, the prediction is {clf2.predict(digits.data[ind].reshape(1,-1))}')\n",
    "plt.tick_params(left = False, right = False , labelleft = False ,\n",
    "                labelbottom = False, bottom = False)"
   ]
  },
  {
   "cell_type": "code",
   "execution_count": null,
   "id": "6d8967ce",
   "metadata": {},
   "outputs": [],
   "source": []
  }
 ],
 "metadata": {
  "celltoolbar": "Slideshow",
  "kernelspec": {
   "display_name": "Python 3.10.0 ('jupyterbook')",
   "language": "python",
   "name": "python3"
  },
  "language_info": {
   "codemirror_mode": {
    "name": "ipython",
    "version": 3
   },
   "file_extension": ".py",
   "mimetype": "text/x-python",
   "name": "python",
   "nbconvert_exporter": "python",
   "pygments_lexer": "ipython3",
   "version": "3.10.0"
  },
  "vscode": {
   "interpreter": {
    "hash": "c475b5beda6d617ffb7b2fcf453fbe132321ffc1e1f96c06cf49356e1e7f42cb"
   }
  }
 },
 "nbformat": 4,
 "nbformat_minor": 5
}