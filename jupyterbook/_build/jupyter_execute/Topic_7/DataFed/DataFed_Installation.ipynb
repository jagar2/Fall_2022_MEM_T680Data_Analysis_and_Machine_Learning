{
 "cells": [
  {
   "cell_type": "markdown",
   "metadata": {
    "slideshow": {
     "slide_type": "slide"
    }
   },
   "source": [
    "# Installing DataFed"
   ]
  },
  {
   "cell_type": "markdown",
   "metadata": {
    "slideshow": {
     "slide_type": "subslide"
    }
   },
   "source": [
    "## Getting Started\n",
    "\n",
    "Please follow this guide to get started with DataFed\n"
   ]
  },
  {
   "cell_type": "markdown",
   "metadata": {
    "slideshow": {
     "slide_type": "fragment"
    }
   },
   "source": [
    "### Get a Globus account\n",
    "\n",
    "Follow only step 1 of instructions [here](https://docs.globus.org/how-to/get-started/) to get a Globus account.\n"
   ]
  },
  {
   "cell_type": "markdown",
   "metadata": {
    "slideshow": {
     "slide_type": "fragment"
    }
   },
   "source": [
    "### Get a Globus ID\n",
    "\n",
    "Ensure that your `globus ID` is linked with your institutional ID in your globus account:\n",
    "\n",
    "1. Log into [globus.org](https://www.globus.org/)\n"
   ]
  },
  {
   "cell_type": "markdown",
   "metadata": {
    "slideshow": {
     "slide_type": "fragment"
    }
   },
   "source": [
    "2. Click on `Account` on the left hand pane\n"
   ]
  },
  {
   "cell_type": "markdown",
   "metadata": {
    "slideshow": {
     "slide_type": "fragment"
    }
   },
   "source": [
    "3. Select the `Identities` tab in the window that opens up\n",
    "\n",
    "You should see (at least these) two identities:\n",
    "\n",
    "- One from your home institution (that is listed as primary with a crown)\n",
    "\n",
    "- Globus ID (your_username@globusid.org)\n",
    "\n",
    "- If you do not see the `Globus ID`, click on `Link another identity`. Select `Globus ID` and link this ID.\n"
   ]
  },
  {
   "cell_type": "markdown",
   "metadata": {
    "slideshow": {
     "slide_type": "fragment"
    }
   },
   "source": [
    "### Register at DataFed\n",
    "\n",
    "1. Once you have a Globus ID, visit the [DataFed web portal](https://datafed.ornl.gov/).\n"
   ]
  },
  {
   "cell_type": "markdown",
   "metadata": {
    "slideshow": {
     "slide_type": "fragment"
    }
   },
   "source": [
    "2. Click on the `Log in / Register` button on the top right of the page.\n"
   ]
  },
  {
   "cell_type": "markdown",
   "metadata": {
    "slideshow": {
     "slide_type": "fragment"
    }
   },
   "source": [
    "3. Follow the steps to register yourself with DataFed.\n"
   ]
  },
  {
   "cell_type": "markdown",
   "metadata": {
    "slideshow": {
     "slide_type": "fragment"
    }
   },
   "source": [
    "4. Though you can log into the DataFed web portal with your institution’s credentials, you will need the username and password you set up during your registration for scripting.\n"
   ]
  },
  {
   "cell_type": "markdown",
   "metadata": {
    "slideshow": {
     "slide_type": "fragment"
    }
   },
   "source": [
    "```{note}\n",
    "Your institutional credentials are not the same as your DataFed credentials. The latter is only required for using DataFed via python / CLI.\n",
    "```\n"
   ]
  },
  {
   "cell_type": "markdown",
   "metadata": {
    "slideshow": {
     "slide_type": "fragment"
    }
   },
   "source": [
    "### Get data allocations\n",
    "\n",
    "As the name suggests, a data allocation is just the data storage space that users and projects can use to store and share data of their own. Though you can start to use DataFed at this point to view and get publicly shared data, it would not be possible to create or manipulate data of your own unless you have a data allocation in a DataFed data repository.\n",
    "\n",
    "You can request a small allocation from Prof. Agar. If you would like to use DataFed for your research please email [Prof. Agar](jca92@drexel.edu)\n"
   ]
  },
  {
   "cell_type": "markdown",
   "metadata": {
    "slideshow": {
     "slide_type": "fragment"
    }
   },
   "source": [
    "### Install a Globus Endpoint\n",
    "\n",
    "You will need a [Globus endpoint](https://docs.cades.ornl.gov/#data-transfer-storage/globus-endpoints/) on every machine where you intend to download / upload data.\n",
    "\n",
    "- Most computing facilities already have a Globus endpoint\n"
   ]
  },
  {
   "cell_type": "markdown",
   "metadata": {
    "slideshow": {
     "slide_type": "subslide"
    }
   },
   "source": [
    "### Using Personal Computers and Workstations\n",
    "\n",
    "1. Install [Globus Personal Connect](https://www.globus.org/globus-connect-personal)\n"
   ]
  },
  {
   "cell_type": "markdown",
   "metadata": {
    "slideshow": {
     "slide_type": "fragment"
    }
   },
   "source": [
    "2. When conducting the install make note of the endpoint name\n"
   ]
  },
  {
   "cell_type": "markdown",
   "metadata": {
    "slideshow": {
     "slide_type": "fragment"
    }
   },
   "source": [
    "3. Log into Globus: Drexel does not have an organizational login, you may choose to either Sign in with Google or Sign in with ORCiD iD.\n",
    "\n",
    "![](figs/globus_google.png)\n"
   ]
  },
  {
   "cell_type": "markdown",
   "metadata": {
    "slideshow": {
     "slide_type": "fragment"
    }
   },
   "source": [
    "4. Check your managed endpoints to make sure your endpoint is visible.\n",
    "   - You want to copy the UUID - this is the ID to the endpoint\n",
    "\n",
    "![](figs/Id.png)\n"
   ]
  },
  {
   "cell_type": "markdown",
   "metadata": {
    "slideshow": {
     "slide_type": "fragment"
    }
   },
   "source": [
    "5. Installing DataFed\n",
    "\n",
    "   `pip install datafed`\n",
    "\n",
    "Note, if you used the `requirements.txt` file this was already installed. You can just verify that it was installed by running `pip install command`\n"
   ]
  },
  {
   "cell_type": "markdown",
   "metadata": {
    "slideshow": {
     "slide_type": "fragment"
    }
   },
   "source": [
    "6. Ensure the bin Directory is in the Path\n",
    "\n",
    "If you do not see an error when you type `datafed` in your terminal, you may skip this step.\n",
    "\n",
    "If you encounter errors stating that `datafed was an unknown command`, you would need to add DataFed to your path.\n",
    "\n",
    "- First, you would need to find where datafed was installed. For example, on some compute clusters, datafed was installed into directories such as `~/.local/MACHINE_NAME/PREFIXES-anaconda-SUFFIXES/bin`\n",
    "\n",
    "- Next, add DataFed to the `PATH` variable.\n",
    "\n",
    "Here is an [external guide](https://www.makeuseof.com/python-windows-path/) on adding Python to the `PATH` on Windows machines\n"
   ]
  },
  {
   "cell_type": "markdown",
   "metadata": {
    "slideshow": {
     "slide_type": "fragment"
    }
   },
   "source": [
    "7. Basic Configuration\n",
    "\n",
    "- Type the following command into shell:\n",
    "\n",
    "`datafed setup`\n",
    "\n",
    "It will prompt you for your username and password.\n"
   ]
  },
  {
   "cell_type": "markdown",
   "metadata": {
    "slideshow": {
     "slide_type": "fragment"
    }
   },
   "source": [
    "- Enter the credentials you set up when registering for an account on DataFed (not your institutional credentials you use to log into the machine)\n"
   ]
  },
  {
   "cell_type": "markdown",
   "metadata": {
    "slideshow": {
     "slide_type": "fragment"
    }
   },
   "source": [
    "- Add the Globus endpoint specific to this machine / file-system as the default endpoint via:\n",
    "\n",
    "`datafed ep default set endpoint_name_here`\n",
    "\n",
    "```{note}\n",
    "If you are using Globus Connect Personal, visit the Settings or Preferences of the application to inspect which folders Globus has write access to. Consider adding or removing directories to suit your needs.\n",
    "```\n"
   ]
  },
  {
   "cell_type": "markdown",
   "metadata": {
    "slideshow": {
     "slide_type": "slide"
    }
   },
   "source": [
    "## Checking DataFed Installation and Configuration\n"
   ]
  },
  {
   "cell_type": "code",
   "execution_count": 1,
   "metadata": {
    "scrolled": true,
    "slideshow": {
     "slide_type": "fragment"
    }
   },
   "outputs": [],
   "source": [
    "# Import packages\n",
    "\n",
    "import os\n",
    "import getpass\n",
    "import subprocess\n",
    "from platform import platform\n",
    "import sys\n",
    "\n",
    "try:\n",
    "    datapath = os.mkdir(\"./datapath\")\n",
    "except:\n",
    "    datapath = \"./datapath\"\n"
   ]
  },
  {
   "cell_type": "markdown",
   "metadata": {
    "slideshow": {
     "slide_type": "subslide"
    }
   },
   "source": [
    "### 0. Machine information:\n"
   ]
  },
  {
   "cell_type": "markdown",
   "metadata": {
    "slideshow": {
     "slide_type": "fragment"
    }
   },
   "source": [
    "Python version:\n"
   ]
  },
  {
   "cell_type": "code",
   "execution_count": 2,
   "metadata": {
    "slideshow": {
     "slide_type": "fragment"
    }
   },
   "outputs": [
    {
     "data": {
      "text/plain": [
       "sys.version_info(major=3, minor=10, micro=0, releaselevel='final', serial=0)"
      ]
     },
     "execution_count": 2,
     "metadata": {},
     "output_type": "execute_result"
    }
   ],
   "source": [
    "sys.version_info\n"
   ]
  },
  {
   "cell_type": "code",
   "execution_count": 3,
   "metadata": {
    "slideshow": {
     "slide_type": "fragment"
    }
   },
   "outputs": [
    {
     "data": {
      "text/plain": [
       "'Windows-10-10.0.19044-SP0'"
      ]
     },
     "execution_count": 3,
     "metadata": {},
     "output_type": "execute_result"
    }
   ],
   "source": [
    "platform()\n"
   ]
  },
  {
   "cell_type": "markdown",
   "metadata": {
    "slideshow": {
     "slide_type": "subslide"
    }
   },
   "source": [
    "### 1. Verify DataFed installation:\n"
   ]
  },
  {
   "cell_type": "code",
   "execution_count": 4,
   "metadata": {
    "slideshow": {
     "slide_type": "fragment"
    }
   },
   "outputs": [
    {
     "name": "stdout",
     "output_type": "stream",
     "text": [
      "Success! You have DataFed: 1.4.0:0\n"
     ]
    }
   ],
   "source": [
    "try:\n",
    "\n",
    "    # This package is not part of anaconda and may need to be installed.\n",
    "    from datafed.CommandLib import API\n",
    "\n",
    "except ImportError:\n",
    "    print(\"datafed not found. Installing from pip.\")\n",
    "    subprocess.call([sys.executable, \"-m\", \"pip\", \"install\", \"datafed\"])\n",
    "    from datafed.CommandLib import API\n",
    "\n",
    "from datafed import version as df_ver\n",
    "\n",
    "if not df_ver.startswith(\"1.4\"):\n",
    "    print(\"Attempting to update DataFed.\")\n",
    "    subprocess.call([sys.executable, \"-m\", \"pip\", \"install\", \"--upgrade\", \"datafed\"])\n",
    "    print(\n",
    "        \"Please restart the python kernel or upgrade manually to V 1.1.0:1 if you are repeatedly seeing this message via\"\n",
    "        \"\\n\\tpip install --upgrade datafed\"\n",
    "    )\n",
    "else:\n",
    "    df_api = API()\n",
    "    print(\"Success! You have DataFed: \" + df_ver)"
   ]
  },
  {
   "cell_type": "markdown",
   "metadata": {
    "slideshow": {
     "slide_type": "subslide"
    }
   },
   "source": [
    "### 2. Verify user authentication:\n"
   ]
  },
  {
   "cell_type": "code",
   "execution_count": 5,
   "metadata": {
    "slideshow": {
     "slide_type": "fragment"
    }
   },
   "outputs": [
    {
     "name": "stdout",
     "output_type": "stream",
     "text": [
      "Success! You have been authenticated into DataFed as: u/jca318\n"
     ]
    }
   ],
   "source": [
    "if df_api.getAuthUser():\n",
    "    print(\n",
    "        \"Success! You have been authenticated into DataFed as: \" + df_api.getAuthUser()\n",
    "    )\n",
    "else:\n",
    "    print(\"You have not authenticated into DataFed Client\")\n",
    "    print(\n",
    "        'Please follow instructions in the \"Basic Configuration\" section in the link below to authenticate yourself:'\n",
    "    )\n",
    "    print(\"https://ornl.github.io/DataFed/user/client/install.html#basic-configuration\")"
   ]
  },
  {
   "cell_type": "markdown",
   "metadata": {
    "slideshow": {
     "slide_type": "subslide"
    }
   },
   "source": [
    "### 3. Ensure Globus Endpoint is set:\n"
   ]
  },
  {
   "cell_type": "code",
   "execution_count": 6,
   "metadata": {
    "slideshow": {
     "slide_type": "fragment"
    }
   },
   "outputs": [
    {
     "name": "stdout",
     "output_type": "stream",
     "text": [
      "Your default Globus Endpoint in DataFed is:\n",
      "f134f91a-572a-11ed-ba55-d5fb255a47cc\n"
     ]
    }
   ],
   "source": [
    "if not df_api.endpointDefaultGet():\n",
    "    print(\"Please follow instructions in the link below to find your Globus Endpoint:\")\n",
    "    print(\n",
    "        \"https://ornl.github.io/DataFed/system/getting_started.html#install-identify-globus-endpoint\"\n",
    "    )\n",
    "    endpoint = input(\n",
    "        \"\\nPlease enter either the Endpoint UUID or Legacy Name for your Globus Endpoint: \"\n",
    "    )\n",
    "    df_api.endpointDefaultSet(endpoint)\n",
    "\n",
    "print(\"Your default Globus Endpoint in DataFed is:\\n\" + df_api.endpointDefaultGet())"
   ]
  },
  {
   "cell_type": "markdown",
   "metadata": {
    "slideshow": {
     "slide_type": "subslide"
    }
   },
   "source": [
    "### 4. Test Globus Endpoint:\n",
    "\n",
    "This will make sure you have write access to the folder\n"
   ]
  },
  {
   "cell_type": "code",
   "execution_count": 7,
   "metadata": {
    "slideshow": {
     "slide_type": "fragment"
    }
   },
   "outputs": [
    {
     "data": {
      "text/plain": [
       "(task {\n",
       "   id: \"task/412662990\"\n",
       "   type: TT_DATA_GET\n",
       "   status: TS_SUCCEEDED\n",
       "   client: \"u/jca318\"\n",
       "   step: 2\n",
       "   steps: 3\n",
       "   msg: \"Finished\"\n",
       "   ct: 1667076705\n",
       "   ut: 1667076711\n",
       "   source: \"d/35437908\"\n",
       "   dest: \"f134f91a-572a-11ed-ba55-d5fb255a47cc/C/Users/jca92/Documents/codes/Fall_2022_MEM_T680Data_Analysis_and_Machine_Learning/jupyterbook/Topic_7/DataFed/datapath\"\n",
       " },\n",
       " 'TaskDataReply')"
      ]
     },
     "execution_count": 7,
     "metadata": {},
     "output_type": "execute_result"
    }
   ],
   "source": [
    "# This is a dataGet Command\n",
    "dget_resp = df_api.dataGet(\"d/35437908\", os.path.abspath(datapath), wait=True)\n",
    "dget_resp\n"
   ]
  },
  {
   "cell_type": "markdown",
   "metadata": {
    "slideshow": {
     "slide_type": "fragment"
    }
   },
   "source": [
    "You can see that a file was downloaded.\n"
   ]
  },
  {
   "cell_type": "code",
   "execution_count": 8,
   "metadata": {
    "slideshow": {
     "slide_type": "fragment"
    }
   },
   "outputs": [
    {
     "name": "stdout",
     "output_type": "stream",
     "text": [
      "Success! Downloaded a test file to your location. Removing the file now\n"
     ]
    }
   ],
   "source": [
    "if dget_resp[0].task[0].status == 3:\n",
    "    print(\"Success! Downloaded a test file to your location. Removing the file now\")\n",
    "    os.remove(datapath + \"/35437908.md5sum\")\n",
    "else:\n",
    "    if dget_resp[0].task[0].msg == \"globus connect offline\":\n",
    "        print(\n",
    "            \"You need to activate your Globus Endpoint and/or ensure Globus Connect Personal is running.\\n\"\n",
    "            \"Please visit https://globus.org to activate your Endpoint\"\n",
    "        )\n",
    "    elif dget_resp[0].task[0].msg == \"permission denied\":\n",
    "        print(\n",
    "            \"Globus does not have write access to this directory. \\n\"\n",
    "            \"If you are using Globus Connect Personal, ensure that this notebook runs within\"\n",
    "            \"one of the directories where Globus has write access. You may consider moving this\"\n",
    "            \"notebook to a valid directory or add this directory to the Globus Connect Personal settings\"\n",
    "        )\n",
    "    else:\n",
    "        NotImplementedError(\n",
    "            \"Get in touch with us or consider looking online to find a solution to this problem:\\n\"\n",
    "            + dget_resp[0].task[0].msg\n",
    "        )"
   ]
  },
  {
   "cell_type": "markdown",
   "metadata": {
    "slideshow": {
     "slide_type": "subslide"
    }
   },
   "source": [
    "### (Optional) for Windows - Test for Admin privileges\n",
    "\n",
    "Admin privileges may be necessary for some operations. On Windows when you start your Anaconda Console you can `right-click` and select `run as administrator`\n"
   ]
  },
  {
   "cell_type": "code",
   "execution_count": 9,
   "metadata": {
    "slideshow": {
     "slide_type": "fragment"
    }
   },
   "outputs": [
    {
     "name": "stdout",
     "output_type": "stream",
     "text": [
      "You are not running as an admin\n"
     ]
    }
   ],
   "source": [
    "import ctypes, os\n",
    "\n",
    "try:\n",
    "    is_admin = os.getuid() == 0\n",
    "except AttributeError:\n",
    "    is_admin = ctypes.windll.shell32.IsUserAnAdmin() != 0\n",
    "\n",
    "value = \"\"\n",
    "if not is_admin:\n",
    "    value = \"not \"\n",
    "\n",
    "print(f\"You are {value}running as an admin\")"
   ]
  }
 ],
 "metadata": {
  "celltoolbar": "Slideshow",
  "kernelspec": {
   "display_name": "Python 3 (ipykernel)",
   "language": "python",
   "name": "python3"
  },
  "language_info": {
   "codemirror_mode": {
    "name": "ipython",
    "version": 3
   },
   "file_extension": ".py",
   "mimetype": "text/x-python",
   "name": "python",
   "nbconvert_exporter": "python",
   "pygments_lexer": "ipython3",
   "version": "3.10.0"
  },
  "vscode": {
   "interpreter": {
    "hash": "c475b5beda6d617ffb7b2fcf453fbe132321ffc1e1f96c06cf49356e1e7f42cb"
   }
  }
 },
 "nbformat": 4,
 "nbformat_minor": 2
}