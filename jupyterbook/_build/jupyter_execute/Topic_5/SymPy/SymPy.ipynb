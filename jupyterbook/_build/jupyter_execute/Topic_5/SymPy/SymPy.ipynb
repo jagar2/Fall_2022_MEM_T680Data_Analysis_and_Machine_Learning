{
 "cells": [
  {
   "cell_type": "markdown",
   "id": "8ed6ae1f",
   "metadata": {
    "slideshow": {
     "slide_type": "slide"
    }
   },
   "source": [
    "# Sympy\n"
   ]
  },
  {
   "cell_type": "markdown",
   "id": "23a1a1a3",
   "metadata": {
    "slideshow": {
     "slide_type": "fragment"
    }
   },
   "source": [
    "## What is Symbolic Computation?\n",
    "\n",
    "Symbolic computation deals with the computation of mathematical objects\n",
    "symbolically. This means that the mathematical objects are represented\n",
    "exactly, not approximately, and mathematical expressions with unevaluated\n",
    "variables are left in symbolic form.\n"
   ]
  },
  {
   "cell_type": "markdown",
   "id": "3b0fc9c9",
   "metadata": {
    "slideshow": {
     "slide_type": "fragment"
    }
   },
   "source": [
    "Let’s take an example. Say we wanted to use the built-in Python functions to\n",
    "compute square roots. We might do something like this\n"
   ]
  },
  {
   "cell_type": "code",
   "execution_count": 1,
   "id": "3f0c1885",
   "metadata": {
    "slideshow": {
     "slide_type": "fragment"
    }
   },
   "outputs": [
    {
     "data": {
      "text/plain": [
       "3.0"
      ]
     },
     "execution_count": 1,
     "metadata": {},
     "output_type": "execute_result"
    }
   ],
   "source": [
    "import math\n",
    "\n",
    "math.sqrt(9)"
   ]
  },
  {
   "cell_type": "markdown",
   "id": "c968bea6",
   "metadata": {
    "slideshow": {
     "slide_type": "fragment"
    }
   },
   "source": [
    "9 is a perfect square, so we got the exact answer, 3. But suppose we computed\n",
    "the square root of a number that isn’t a perfect square\n"
   ]
  },
  {
   "cell_type": "code",
   "execution_count": 2,
   "id": "e7fd7678",
   "metadata": {
    "slideshow": {
     "slide_type": "fragment"
    }
   },
   "outputs": [
    {
     "data": {
      "text/plain": [
       "2.8284271247461903"
      ]
     },
     "execution_count": 2,
     "metadata": {},
     "output_type": "execute_result"
    }
   ],
   "source": [
    "math.sqrt(8)"
   ]
  },
  {
   "cell_type": "markdown",
   "id": "577c3c70",
   "metadata": {
    "slideshow": {
     "slide_type": "fragment"
    }
   },
   "source": [
    "Here we got an approximate result. 2.82842712475 is not the exact square root\n",
    "of 8 (indeed, the actual square root of 8 cannot be represented by a finite\n",
    "decimal, since it is an irrational number). If all we cared about was the\n",
    "decimal form of the square root of 8, we would be done.\n"
   ]
  },
  {
   "cell_type": "markdown",
   "id": "d6fcc824",
   "metadata": {
    "slideshow": {
     "slide_type": "fragment"
    }
   },
   "source": [
    "But suppose we want to go further. Recall that $\\sqrt{8} = \\sqrt{4\\cdot 2} =\n",
    "2\\sqrt{2}$. We would have a hard time deducing this from the above result.\n",
    "This is where symbolic computation comes in. With a symbolic computation\n",
    "system like SymPy, square roots of numbers that are not perfect squares are\n",
    "left unevaluated by default\n"
   ]
  },
  {
   "cell_type": "code",
   "execution_count": 3,
   "id": "d4da145c",
   "metadata": {
    "slideshow": {
     "slide_type": "fragment"
    }
   },
   "outputs": [
    {
     "data": {
      "text/latex": [
       "$\\displaystyle 2 \\sqrt{2}$"
      ],
      "text/plain": [
       "2*sqrt(2)"
      ]
     },
     "execution_count": 3,
     "metadata": {},
     "output_type": "execute_result"
    }
   ],
   "source": [
    "import sympy\n",
    "\n",
    "sympy.sqrt(8)"
   ]
  },
  {
   "cell_type": "markdown",
   "id": "4c3a7da5",
   "metadata": {
    "slideshow": {
     "slide_type": "subslide"
    }
   },
   "source": [
    "## Why Sympy\n",
    "\n",
    "1. It is free and open source, you can even use it as part of something you sell\n",
    "2. SymPy is written entirely in Python, and is executed entirely in Python. Thus it is interoperable\n",
    "3. It is very lightweight to download and install. Other packages might be Gb in size.\n",
    "4. It can be used as a library. There is an Application Programming Interface or API for use with other tools.\n"
   ]
  },
  {
   "cell_type": "markdown",
   "id": "6a86512e",
   "metadata": {
    "slideshow": {
     "slide_type": "fragment"
    }
   },
   "source": [
    "## A more interesting example\n",
    "\n",
    "The above example starts to show how we can manipulate irrational numbers\n",
    "exactly using SymPy. But it is much more powerful than that. Symbolic\n",
    "computation systems (which by the way, are also often called computer algebra\n",
    "systems, or just CASs) such as SymPy are capable of computing symbolic\n",
    "expressions with variables.\n"
   ]
  },
  {
   "cell_type": "markdown",
   "id": "55f044b7",
   "metadata": {
    "slideshow": {
     "slide_type": "fragment"
    }
   },
   "source": [
    "Let us define a symbolic expression, representing the mathematical expression\n"
   ]
  },
  {
   "cell_type": "code",
   "execution_count": 4,
   "id": "7be7c95a",
   "metadata": {
    "slideshow": {
     "slide_type": "fragment"
    }
   },
   "outputs": [
    {
     "data": {
      "text/latex": [
       "$\\displaystyle x + 2 y$"
      ],
      "text/plain": [
       "x + 2*y"
      ]
     },
     "execution_count": 4,
     "metadata": {},
     "output_type": "execute_result"
    }
   ],
   "source": [
    "from sympy import symbols\n",
    "\n",
    "x, y = symbols(\"x y\")\n",
    "expr = x + 2 * y\n",
    "expr"
   ]
  },
  {
   "cell_type": "markdown",
   "id": "f9b55015",
   "metadata": {
    "slideshow": {
     "slide_type": "fragment"
    }
   },
   "source": [
    "Note that we wrote `x + 2*y` just as we would if `x` and `y` were\n",
    "ordinary Python variables. But in this case, instead of evaluating to\n",
    "something, the expression remains as just `x + 2*y`. Now let us play around\n",
    "with it:\n"
   ]
  },
  {
   "cell_type": "code",
   "execution_count": 5,
   "id": "de99cdf2",
   "metadata": {
    "slideshow": {
     "slide_type": "fragment"
    }
   },
   "outputs": [
    {
     "data": {
      "text/latex": [
       "$\\displaystyle x + 2 y + 1$"
      ],
      "text/plain": [
       "x + 2*y + 1"
      ]
     },
     "execution_count": 5,
     "metadata": {},
     "output_type": "execute_result"
    }
   ],
   "source": [
    "expr + 1"
   ]
  },
  {
   "cell_type": "code",
   "execution_count": 6,
   "id": "08946309",
   "metadata": {
    "slideshow": {
     "slide_type": "fragment"
    }
   },
   "outputs": [
    {
     "data": {
      "text/latex": [
       "$\\displaystyle 2 y$"
      ],
      "text/plain": [
       "2*y"
      ]
     },
     "execution_count": 6,
     "metadata": {},
     "output_type": "execute_result"
    }
   ],
   "source": [
    "expr - x"
   ]
  },
  {
   "cell_type": "code",
   "execution_count": 7,
   "id": "de7bd0e9",
   "metadata": {
    "slideshow": {
     "slide_type": "fragment"
    }
   },
   "outputs": [
    {
     "data": {
      "text/latex": [
       "$\\displaystyle x \\left(x + 2 y\\right)$"
      ],
      "text/plain": [
       "x*(x + 2*y)"
      ]
     },
     "execution_count": 7,
     "metadata": {},
     "output_type": "execute_result"
    }
   ],
   "source": [
    "x * expr\n"
   ]
  },
  {
   "cell_type": "markdown",
   "id": "7beacc9b",
   "metadata": {
    "slideshow": {
     "slide_type": "subslide"
    }
   },
   "source": [
    "Notice something in the above example. When we typed `expr`, we did not\n",
    "get $x + 2 y-x$, but rather just $2y$. The `x` and the `-x`\n",
    "automatically canceled one another. This is similar to how `sqrt(8)`\n",
    "automatically turned into `2*sqrt(2)` above. This isn’t always the case in\n",
    "SymPy, however:\n"
   ]
  },
  {
   "cell_type": "code",
   "execution_count": 8,
   "id": "bbe1a155",
   "metadata": {
    "slideshow": {
     "slide_type": "fragment"
    }
   },
   "outputs": [
    {
     "data": {
      "text/latex": [
       "$\\displaystyle x^{2} + 2 x y$"
      ],
      "text/plain": [
       "x**2 + 2*x*y"
      ]
     },
     "execution_count": 8,
     "metadata": {},
     "output_type": "execute_result"
    }
   ],
   "source": [
    "from sympy import expand, factor\n",
    "\n",
    "expanded = expand(x * expr)\n",
    "expanded"
   ]
  },
  {
   "cell_type": "code",
   "execution_count": 9,
   "id": "061794cd",
   "metadata": {
    "slideshow": {
     "slide_type": "fragment"
    }
   },
   "outputs": [
    {
     "data": {
      "text/latex": [
       "$\\displaystyle x \\left(x + 2 y\\right)$"
      ],
      "text/plain": [
       "x*(x + 2*y)"
      ]
     },
     "execution_count": 9,
     "metadata": {},
     "output_type": "execute_result"
    }
   ],
   "source": [
    "factor(expanded)"
   ]
  },
  {
   "cell_type": "markdown",
   "id": "2634b6da",
   "metadata": {
    "slideshow": {
     "slide_type": "fragment"
    }
   },
   "source": [
    "## The Power of Symbolic Computation\n",
    "\n",
    "- The real power of a symbolic computation system such as SymPy is the ability to do all sorts of computations symbolically. SymPy can simplify expressions,\n",
    "  - compute derivatives\n",
    "  - integrals\n",
    "  - limits\n",
    "  - solve equations\n",
    "  - work with matrices\n"
   ]
  },
  {
   "cell_type": "markdown",
   "id": "d5b04a6b",
   "metadata": {
    "slideshow": {
     "slide_type": "fragment"
    }
   },
   "source": [
    "It includes modules for plotting, printing (like 2D pretty printed output of math\n",
    "formulas, or $\\mathrm{\\LaTeX}$, code generation, physics, statistics, combinatorics,\n",
    "number theory, geometry, logic, and more. Here is a small sampling of the sort\n",
    "of symbolic power SymPy is capable of, to whet your appetite.\n"
   ]
  },
  {
   "cell_type": "code",
   "execution_count": 10,
   "id": "00472bac",
   "metadata": {
    "slideshow": {
     "slide_type": "fragment"
    }
   },
   "outputs": [],
   "source": [
    "# * means we import everything from the package\n",
    "from sympy import *\n",
    "\n",
    "# defines multiple symbols at once\n",
    "x, t, z, nu = symbols(\"x t z nu\")\n"
   ]
  },
  {
   "cell_type": "code",
   "execution_count": 11,
   "id": "b5d5cd2d",
   "metadata": {
    "slideshow": {
     "slide_type": "fragment"
    }
   },
   "outputs": [
    {
     "data": {
      "text/plain": [
       "sympy.core.symbol.Symbol"
      ]
     },
     "execution_count": 11,
     "metadata": {},
     "output_type": "execute_result"
    }
   ],
   "source": [
    "# x is now an object of type Symbol\n",
    "type(x)\n"
   ]
  },
  {
   "cell_type": "code",
   "execution_count": 12,
   "id": "d3cb518a",
   "metadata": {
    "slideshow": {
     "slide_type": "fragment"
    }
   },
   "outputs": [],
   "source": [
    "# This will make things look pretty\n",
    "init_printing(use_unicode=True)\n"
   ]
  },
  {
   "cell_type": "markdown",
   "id": "ea7eaebf",
   "metadata": {
    "slideshow": {
     "slide_type": "subslide"
    }
   },
   "source": [
    "### Class Exercise\n",
    "\n",
    "1. _Take_ the derivative of $sin{(x)}e^x$\n",
    "2. Compute $\\int(e^x\\sin{(x)} + e^x\\cos{(x)})\\,dx$\n",
    "3. Compute $\\int_{-\\infty}^\\infty \\sin{(x^2)}\\,dx$\n",
    "4. Find $\\lim_{x\\to 0}\\frac{\\sin{(x)}}{x}$\n",
    "5. Solve $x^2 - 2 = 0$\n",
    "6. Solve the differential equation $y'' - y = e^t$\n"
   ]
  },
  {
   "cell_type": "markdown",
   "id": "5025a07f",
   "metadata": {
    "slideshow": {
     "slide_type": "subslide"
    }
   },
   "source": [
    "1. _Take_ the derivative of $sin{(x)}e^x$\n"
   ]
  },
  {
   "cell_type": "code",
   "execution_count": 13,
   "id": "73449a49",
   "metadata": {
    "slideshow": {
     "slide_type": "fragment"
    }
   },
   "outputs": [],
   "source": [
    "# Type Your Solution Here"
   ]
  },
  {
   "cell_type": "code",
   "execution_count": 14,
   "id": "27506119",
   "metadata": {
    "slideshow": {
     "slide_type": "fragment"
    },
    "tags": [
     "hide-cell"
    ]
   },
   "outputs": [
    {
     "data": {
      "image/png": "[encoded data removed]",
      "text/latex": [
       "$\\displaystyle e^{x} \\sin{\\left(x \\right)} + e^{x} \\cos{\\left(x \\right)}$"
      ],
      "text/plain": [
       " x           x       \n",
       "ℯ ⋅sin(x) + ℯ ⋅cos(x)"
      ]
     },
     "execution_count": 14,
     "metadata": {
      "filenames": {
       "image/png": "C:\\Users\\jca92\\Documents\\codes\\Fall_2022_MEM_T680Data_Analysis_and_Machine_Learning\\jupyterbook\\_build\\jupyter_execute\\Topic_5\\SymPy\\SymPy_28_0.png"
      }
     },
     "output_type": "execute_result"
    }
   ],
   "source": [
    "diff(sin(x) * exp(x), x)\n"
   ]
  },
  {
   "cell_type": "markdown",
   "id": "5e6833c9",
   "metadata": {
    "slideshow": {
     "slide_type": "subslide"
    }
   },
   "source": [
    "2. Compute $\\int(e^x\\sin{(x)} + e^x\\cos{(x)})\\,dx$\n"
   ]
  },
  {
   "cell_type": "code",
   "execution_count": 15,
   "id": "a723aecc",
   "metadata": {
    "slideshow": {
     "slide_type": "fragment"
    }
   },
   "outputs": [],
   "source": [
    "# Type Your Solution Here"
   ]
  },
  {
   "cell_type": "code",
   "execution_count": 16,
   "id": "63293a9c",
   "metadata": {
    "slideshow": {
     "slide_type": "fragment"
    },
    "tags": [
     "hide-cell"
    ]
   },
   "outputs": [
    {
     "data": {
      "image/png": "[encoded data removed]",
      "text/latex": [
       "$\\displaystyle e^{x} \\sin{\\left(x \\right)}$"
      ],
      "text/plain": [
       " x       \n",
       "ℯ ⋅sin(x)"
      ]
     },
     "execution_count": 16,
     "metadata": {
      "filenames": {
       "image/png": "C:\\Users\\jca92\\Documents\\codes\\Fall_2022_MEM_T680Data_Analysis_and_Machine_Learning\\jupyterbook\\_build\\jupyter_execute\\Topic_5\\SymPy\\SymPy_31_0.png"
      }
     },
     "output_type": "execute_result"
    }
   ],
   "source": [
    "integrate(exp(x) * sin(x) + exp(x) * cos(x), x)\n"
   ]
  },
  {
   "cell_type": "markdown",
   "id": "e5c01611",
   "metadata": {
    "slideshow": {
     "slide_type": "subslide"
    }
   },
   "source": [
    "3. Compute $\\int_{-\\infty}^\\infty \\sin{(x^2)}\\,dx$\n"
   ]
  },
  {
   "cell_type": "code",
   "execution_count": 17,
   "id": "d2de9f9d",
   "metadata": {
    "slideshow": {
     "slide_type": "fragment"
    }
   },
   "outputs": [],
   "source": [
    "# Type Your Solution Here"
   ]
  },
  {
   "cell_type": "code",
   "execution_count": 18,
   "id": "bdb1eed0",
   "metadata": {
    "slideshow": {
     "slide_type": "fragment"
    },
    "tags": [
     "hide-cell"
    ]
   },
   "outputs": [
    {
     "data": {
      "image/png": "[encoded data removed]",
      "text/latex": [
       "$\\displaystyle \\frac{\\sqrt{2} \\sqrt{\\pi}}{2}$"
      ],
      "text/plain": [
       "√2⋅√π\n",
       "─────\n",
       "  2  "
      ]
     },
     "execution_count": 18,
     "metadata": {
      "filenames": {
       "image/png": "C:\\Users\\jca92\\Documents\\codes\\Fall_2022_MEM_T680Data_Analysis_and_Machine_Learning\\jupyterbook\\_build\\jupyter_execute\\Topic_5\\SymPy\\SymPy_34_0.png"
      }
     },
     "output_type": "execute_result"
    }
   ],
   "source": [
    "integrate(sin(x**2), (x, -oo, oo))"
   ]
  },
  {
   "cell_type": "markdown",
   "id": "c2885f11",
   "metadata": {
    "slideshow": {
     "slide_type": "subslide"
    }
   },
   "source": [
    "4. Find $\\lim_{x\\to 0}\\frac{\\sin{(x)}}{x}$\n"
   ]
  },
  {
   "cell_type": "code",
   "execution_count": 19,
   "id": "43007b58",
   "metadata": {
    "slideshow": {
     "slide_type": "fragment"
    }
   },
   "outputs": [],
   "source": [
    "# Type Your Solution Here"
   ]
  },
  {
   "cell_type": "code",
   "execution_count": 20,
   "id": "73f34854",
   "metadata": {
    "slideshow": {
     "slide_type": "fragment"
    },
    "tags": [
     "hide-cell"
    ]
   },
   "outputs": [
    {
     "data": {
      "image/png": "[encoded data removed]",
      "text/latex": [
       "$\\displaystyle 1$"
      ],
      "text/plain": [
       "1"
      ]
     },
     "execution_count": 20,
     "metadata": {
      "filenames": {
       "image/png": "C:\\Users\\jca92\\Documents\\codes\\Fall_2022_MEM_T680Data_Analysis_and_Machine_Learning\\jupyterbook\\_build\\jupyter_execute\\Topic_5\\SymPy\\SymPy_37_0.png"
      }
     },
     "output_type": "execute_result"
    }
   ],
   "source": [
    "limit(sin(x) / x, x, 0)\n"
   ]
  },
  {
   "cell_type": "markdown",
   "id": "662c5aa2",
   "metadata": {
    "slideshow": {
     "slide_type": "subslide"
    }
   },
   "source": [
    "5. Solve $x^2 - 2 = 0$\n"
   ]
  },
  {
   "cell_type": "code",
   "execution_count": 21,
   "id": "1ae98642",
   "metadata": {
    "slideshow": {
     "slide_type": "fragment"
    }
   },
   "outputs": [],
   "source": [
    "# Type Your Solution Here"
   ]
  },
  {
   "cell_type": "code",
   "execution_count": 22,
   "id": "37f057c7",
   "metadata": {
    "slideshow": {
     "slide_type": "fragment"
    },
    "tags": [
     "hide-cell"
    ]
   },
   "outputs": [
    {
     "data": {
      "image/png": "[encoded data removed]",
      "text/latex": [
       "$\\displaystyle \\left[ - \\sqrt{2}, \\  \\sqrt{2}\\right]$"
      ],
      "text/plain": [
       "[-√2, √2]"
      ]
     },
     "execution_count": 22,
     "metadata": {
      "filenames": {
       "image/png": "C:\\Users\\jca92\\Documents\\codes\\Fall_2022_MEM_T680Data_Analysis_and_Machine_Learning\\jupyterbook\\_build\\jupyter_execute\\Topic_5\\SymPy\\SymPy_40_0.png"
      }
     },
     "output_type": "execute_result"
    }
   ],
   "source": [
    "solve(x**2 - 2, x)"
   ]
  },
  {
   "cell_type": "markdown",
   "id": "c030c07e",
   "metadata": {
    "slideshow": {
     "slide_type": "subslide"
    }
   },
   "source": [
    "6. Solve the differential equation $y'' - y = e^t$\n"
   ]
  },
  {
   "cell_type": "code",
   "execution_count": 23,
   "id": "811d1d1e",
   "metadata": {
    "slideshow": {
     "slide_type": "fragment"
    }
   },
   "outputs": [],
   "source": [
    "# Type Your Solution Here"
   ]
  },
  {
   "cell_type": "code",
   "execution_count": 24,
   "id": "2e49e239",
   "metadata": {
    "slideshow": {
     "slide_type": "fragment"
    },
    "tags": [
     "hide-cell"
    ]
   },
   "outputs": [
    {
     "data": {
      "image/png": "[encoded data removed]",
      "text/latex": [
       "$\\displaystyle y{\\left(t \\right)} = C_{2} e^{- t} + \\left(C_{1} + \\frac{t}{2}\\right) e^{t}$"
      ],
      "text/plain": [
       "           -t   ⎛     t⎞  t\n",
       "y(t) = C₂⋅ℯ   + ⎜C₁ + ─⎟⋅ℯ \n",
       "                ⎝     2⎠   "
      ]
     },
     "execution_count": 24,
     "metadata": {
      "filenames": {
       "image/png": "C:\\Users\\jca92\\Documents\\codes\\Fall_2022_MEM_T680Data_Analysis_and_Machine_Learning\\jupyterbook\\_build\\jupyter_execute\\Topic_5\\SymPy\\SymPy_43_0.png"
      }
     },
     "output_type": "execute_result"
    }
   ],
   "source": [
    "y = Function(\"y\")\n",
    "dsolve(Eq(y(t).diff(t, t) - y(t), exp(t)), y(t))\n"
   ]
  },
  {
   "cell_type": "markdown",
   "id": "38a68295",
   "metadata": {
    "slideshow": {
     "slide_type": "subslide"
    }
   },
   "source": [
    "Print $\\int_{0}^{\\pi} \\cos^{2}{\\left (x \\right )}\\, dx$ in $\\mathrm{\\LaTeX}$\n"
   ]
  },
  {
   "cell_type": "code",
   "execution_count": 25,
   "id": "08b55b33",
   "metadata": {
    "slideshow": {
     "slide_type": "fragment"
    }
   },
   "outputs": [
    {
     "data": {
      "text/plain": [
       "'\\\\int\\\\limits_{0}^{\\\\pi} \\\\cos^{2}{\\\\left(x \\\\right)}\\\\, dx'"
      ]
     },
     "execution_count": 25,
     "metadata": {},
     "output_type": "execute_result"
    }
   ],
   "source": [
    "latex(Integral(cos(x) ** 2, (x, 0, pi)))\n"
   ]
  },
  {
   "cell_type": "markdown",
   "id": "1d74673a",
   "metadata": {
    "slideshow": {
     "slide_type": "slide"
    }
   },
   "source": [
    "## Series Expansion\n",
    "\n",
    "SymPy can compute asymptotic series expansions of functions around a point. To\n",
    "compute the expansion of $f(x)$ around the point $x = x_0$ terms of order\n",
    "$x^n$ use `f(x).series(x,x0,n)`.`x0` and `n` can be omitted, in\n",
    "which case the defaults `x0=0` and `n=6` will be used.\n"
   ]
  },
  {
   "cell_type": "code",
   "execution_count": 26,
   "id": "43ce0905",
   "metadata": {
    "slideshow": {
     "slide_type": "fragment"
    }
   },
   "outputs": [
    {
     "data": {
      "image/png": "[encoded data removed]",
      "text/latex": [
       "$\\displaystyle 1 + x + \\frac{x^{2}}{2} + O\\left(x^{4}\\right)$"
      ],
      "text/plain": [
       "         2        \n",
       "        x     ⎛ 4⎞\n",
       "1 + x + ── + O⎝x ⎠\n",
       "        2         "
      ]
     },
     "execution_count": 26,
     "metadata": {
      "filenames": {
       "image/png": "C:\\Users\\jca92\\Documents\\codes\\Fall_2022_MEM_T680Data_Analysis_and_Machine_Learning\\jupyterbook\\_build\\jupyter_execute\\Topic_5\\SymPy\\SymPy_47_0.png"
      }
     },
     "output_type": "execute_result"
    }
   ],
   "source": [
    "expr = exp(sin(x))\n",
    "expr.series(x, 0, 4)\n"
   ]
  },
  {
   "cell_type": "markdown",
   "id": "cd2c6e7b",
   "metadata": {
    "slideshow": {
     "slide_type": "fragment"
    }
   },
   "source": [
    "The $O\\left(x^4\\right)$ term at the end represents the Landau order term at\n",
    "`x=0` (not to be confused with big O notation used in computer science, which\n",
    "generally represents the Landau order term at $x=\\infty$. All x terms with power greater than or equal to $x^4$ are omitted. Order terms\n",
    "can be created and manipulated outside of `series`. They automatically absorb higher-order terms.\n"
   ]
  },
  {
   "cell_type": "markdown",
   "id": "9e45cea2",
   "metadata": {
    "slideshow": {
     "slide_type": "slide"
    }
   },
   "source": [
    "## Lambdafy\n",
    "\n",
    "Lambdafy allows you to use SymPy expressions as functions\n"
   ]
  },
  {
   "cell_type": "markdown",
   "id": "09c7c8b0",
   "metadata": {
    "slideshow": {
     "slide_type": "fragment"
    }
   },
   "source": [
    "The easiest way to convert a SymPy expression to an expression that can be numerically evaluated is to use the `lambdify` function. `lambdify` acts like a `lambda` function, except it converts the SymPy names to the names of the given numerical library, usually NumPy. For example\n"
   ]
  },
  {
   "cell_type": "markdown",
   "id": "356863c5",
   "metadata": {
    "slideshow": {
     "slide_type": "subslide"
    }
   },
   "source": [
    "Recall `Lambda` functions are just small anonymous functions\n"
   ]
  },
  {
   "cell_type": "code",
   "execution_count": 27,
   "id": "d58f3ec2",
   "metadata": {
    "slideshow": {
     "slide_type": "fragment"
    }
   },
   "outputs": [
    {
     "name": "stdout",
     "output_type": "stream",
     "text": [
      "[10 11 12 13 14 15 16 17 18 19]\n"
     ]
    }
   ],
   "source": [
    "import numpy as np\n",
    "\n",
    "x = lambda a: a + 10\n",
    "print(x(np.arange(10)))"
   ]
  },
  {
   "cell_type": "code",
   "execution_count": 28,
   "id": "8ab2fd48",
   "metadata": {
    "slideshow": {
     "slide_type": "fragment"
    }
   },
   "outputs": [
    {
     "name": "stdout",
     "output_type": "stream",
     "text": [
      "30\n"
     ]
    }
   ],
   "source": [
    "x = lambda a, b: a * b\n",
    "print(x(5, 6))\n"
   ]
  },
  {
   "cell_type": "code",
   "execution_count": 29,
   "id": "be137b07",
   "metadata": {
    "slideshow": {
     "slide_type": "fragment"
    }
   },
   "outputs": [
    {
     "name": "stdout",
     "output_type": "stream",
     "text": [
      "33\n"
     ]
    }
   ],
   "source": [
    "def myfunc(n):\n",
    "    return lambda a: a * n\n",
    "\n",
    "\n",
    "mytripler = myfunc(3)\n",
    "\n",
    "print(mytripler(11))"
   ]
  },
  {
   "cell_type": "markdown",
   "id": "38683668",
   "metadata": {
    "slideshow": {
     "slide_type": "subslide"
    }
   },
   "source": [
    "### Using Lambdafy with SymPy\n"
   ]
  },
  {
   "cell_type": "code",
   "execution_count": 30,
   "id": "3181962d",
   "metadata": {
    "slideshow": {
     "slide_type": "fragment"
    }
   },
   "outputs": [
    {
     "data": {
      "text/plain": [
       "array([ 0.        ,  0.84147098,  0.90929743,  0.14112001, -0.7568025 ,\n",
       "       -0.95892427, -0.2794155 ,  0.6569866 ,  0.98935825,  0.41211849])"
      ]
     },
     "execution_count": 30,
     "metadata": {},
     "output_type": "execute_result"
    }
   ],
   "source": [
    "x = symbols(\"x\")\n",
    "a = np.arange(10)\n",
    "expr = sin(x)\n",
    "\n",
    "\n",
    "f = lambdify(x, expr)\n",
    "\n",
    "f(a)\n"
   ]
  }
 ],
 "metadata": {
  "celltoolbar": "Tags",
  "kernelspec": {
   "display_name": "Python 3.9.12",
   "language": "python",
   "name": "python3"
  },
  "language_info": {
   "codemirror_mode": {
    "name": "ipython",
    "version": 3
   },
   "file_extension": ".py",
   "mimetype": "text/x-python",
   "name": "python",
   "nbconvert_exporter": "python",
   "pygments_lexer": "ipython3",
   "version": "3.10.0"
  },
  "vscode": {
   "interpreter": {
    "hash": "81436187d6781c3ccec267398526cbaf638744671e64245120c2d906c5c69e63"
   }
  }
 },
 "nbformat": 4,
 "nbformat_minor": 5
}