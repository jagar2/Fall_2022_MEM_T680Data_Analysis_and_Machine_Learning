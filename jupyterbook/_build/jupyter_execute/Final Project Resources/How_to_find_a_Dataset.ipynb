{
 "cells": [
  {
   "cell_type": "markdown",
   "metadata": {},
   "source": [
    "# How to Find a Dataset\n",
    "\n",
    "There are many excellent sources of open data online. You are free to use any of them. I would recommend the following. "
   ]
  },
  {
   "cell_type": "markdown",
   "metadata": {},
   "source": [
    "## Kaggle Datasets\n",
    "\n",
    "Kaggle is an online community platform for data scientists and machine learning enthusiasts. \n",
    "* Kaggle allows users to collaborate with other users, find and publish datasets, use GPU-integrated notebooks, and compete with other data scientists to solve data science challenges. \n",
    "* The aim of this online platform (founded in 2010 by Anthony Goldbloom and Jeremy Howard and acquired by Google in 2017)  is to help professionals and learners reach their goals in their data science \n",
    "* As of today (2021), there are over 8 million registered users on Kaggle.\n",
    "\n",
    "Look at [Kaggle Competitions](https://www.kaggle.com/competitions)\n",
    "\n",
    "The advantage of Kaggle is all of the datasets are designed for machine learning tasks. "
   ]
  },
  {
   "cell_type": "markdown",
   "metadata": {},
   "source": [
    "## Zenodo"
   ]
  },
  {
   "cell_type": "code",
   "execution_count": 1,
   "metadata": {
    "tags": [
     "hidden-input"
    ]
   },
   "outputs": [
    {
     "data": {
      "text/html": [
       "\n",
       "<iframe\n",
       "    width=\"800\"\n",
       "    height=\"1200\"\n",
       "    src=\"https://about.zenodo.org/\"\n",
       "    frameborder=\"0\"\n",
       "    allowfullscreen\n",
       "\n",
       "></iframe>\n"
      ],
      "text/plain": [
       "<IPython.lib.display.IFrame at 0x155d55b4fd0>"
      ]
     },
     "execution_count": 1,
     "metadata": {},
     "output_type": "execute_result"
    }
   ],
   "source": [
    "from IPython.display import IFrame\n",
    "IFrame('https://about.zenodo.org/', width=800, height=1200)"
   ]
  },
  {
   "cell_type": "markdown",
   "metadata": {},
   "source": [
    "* Zenodo has a massive amount of data online\n",
    "* You need to vet the quality of the data because anyone, even you can add your own data"
   ]
  },
  {
   "cell_type": "markdown",
   "metadata": {},
   "source": [
    "## Open Science Framework\n",
    "\n",
    "This is an identical service to Zenodo.\n",
    "\n",
    "[Open Science Framework](http://osf.io/?hsCtaTracking=c282d297-ff8f-46f6-a8ec-d181b097a4ab%7Ce92fac20-3b07-4642-8c32-e8a6db713860)"
   ]
  }
 ],
 "metadata": {
  "kernelspec": {
   "display_name": "Python 3.10.0 ('jupyterbook')",
   "language": "python",
   "name": "python3"
  },
  "language_info": {
   "codemirror_mode": {
    "name": "ipython",
    "version": 3
   },
   "file_extension": ".py",
   "mimetype": "text/x-python",
   "name": "python",
   "nbconvert_exporter": "python",
   "pygments_lexer": "ipython3",
   "version": "3.10.0"
  },
  "vscode": {
   "interpreter": {
    "hash": "c475b5beda6d617ffb7b2fcf453fbe132321ffc1e1f96c06cf49356e1e7f42cb"
   }
  }
 },
 "nbformat": 4,
 "nbformat_minor": 2
}