{
 "cells": [
  {
   "cell_type": "markdown",
   "id": "5364e3e4-f5b2-41fa-9fbd-c048f1e09656",
   "metadata": {
    "slideshow": {
     "slide_type": "slide"
    }
   },
   "source": [
    "# Importance of Data Analysis"
   ]
  },
  {
   "cell_type": "markdown",
   "id": "7122e67f-a1c9-4ac1-8774-5cc6c0d48102",
   "metadata": {
    "slideshow": {
     "slide_type": "fragment"
    }
   },
   "source": [
    "## Why is Data Analysis Your Most Important Skill?"
   ]
  },
  {
   "cell_type": "markdown",
   "id": "63a75afd-b8cf-4043-b56d-1f8406dd4059",
   "metadata": {
    "slideshow": {
     "slide_type": "fragment"
    }
   },
   "source": [
    "* In your work you will be asked to derive data-driven conclusions, how you analyze and visualize data is the most important skill you can have. "
   ]
  },
  {
   "cell_type": "markdown",
   "id": "66a912b0-c8c2-4237-924c-ac9a4c1fb773",
   "metadata": {
    "slideshow": {
     "slide_type": "fragment"
    }
   },
   "source": [
    "* A failure in any one of the data analysis steps can results in non-optimal decisions"
   ]
  },
  {
   "cell_type": "markdown",
   "id": "b271c54d",
   "metadata": {
    "slideshow": {
     "slide_type": "slide"
    }
   },
   "source": [
    "## Data Analysis Failure Cases"
   ]
  },
  {
   "cell_type": "markdown",
   "id": "33ee8f40",
   "metadata": {
    "slideshow": {
     "slide_type": "fragment"
    }
   },
   "source": [
    "### Morton Thiokol Engineers on the Challenger"
   ]
  },
  {
   "cell_type": "markdown",
   "id": "b70c8e62",
   "metadata": {
    "slideshow": {
     "slide_type": "fragment"
    }
   },
   "source": [
    "#### Background"
   ]
  },
  {
   "cell_type": "markdown",
   "id": "2588dc4d",
   "metadata": {
    "slideshow": {
     "slide_type": "fragment"
    }
   },
   "source": [
    "* On January 28, 1986 the Challenger aircraft was set to launch"
   ]
  },
  {
   "cell_type": "markdown",
   "id": "db130c2c",
   "metadata": {
    "slideshow": {
     "slide_type": "fragment"
    }
   },
   "source": [
    "![](./figs/Shuttle_1.jpg)"
   ]
  },
  {
   "cell_type": "markdown",
   "id": "0e105c76",
   "metadata": {
    "slideshow": {
     "slide_type": "subslide"
    }
   },
   "source": [
    "* The shuttle has an orbiter, a large fuel tank, and two solid-rocket boosters."
   ]
  },
  {
   "cell_type": "markdown",
   "id": "b90aae65",
   "metadata": {
    "slideshow": {
     "slide_type": "fragment"
    }
   },
   "source": [
    "![](./figs/Expanded_view.jpg)"
   ]
  },
  {
   "cell_type": "markdown",
   "id": "489335ec",
   "metadata": {
    "slideshow": {
     "slide_type": "fragment"
    }
   },
   "source": [
    "* In the solid rocket their are field joints held together by O-rings"
   ]
  },
  {
   "cell_type": "markdown",
   "id": "b225ec66",
   "metadata": {
    "slideshow": {
     "slide_type": "subslide"
    }
   },
   "source": [
    "![](./figs/Oring_figure.jpg)"
   ]
  },
  {
   "cell_type": "markdown",
   "id": "905c128e",
   "metadata": {
    "slideshow": {
     "slide_type": "fragment"
    }
   },
   "source": [
    "* Close up of the O-ring assembly, a small leak can lead to a runaway explosion"
   ]
  },
  {
   "cell_type": "markdown",
   "id": "8942e390",
   "metadata": {
    "slideshow": {
     "slide_type": "subslide"
    }
   },
   "source": [
    "![](./figs/initial_jet.jpg)"
   ]
  },
  {
   "cell_type": "markdown",
   "id": "27758dd4",
   "metadata": {
    "slideshow": {
     "slide_type": "fragment"
    }
   },
   "source": [
    "* About 1 second after ignition a small puff of smoke was seen in the right booster indicating the o-ring had failed"
   ]
  },
  {
   "cell_type": "markdown",
   "id": "dbea479d",
   "metadata": {
    "slideshow": {
     "slide_type": "subslide"
    }
   },
   "source": [
    "![](./figs/Launch.jpg)"
   ]
  },
  {
   "cell_type": "markdown",
   "id": "4196cba4",
   "metadata": {
    "slideshow": {
     "slide_type": "fragment"
    }
   },
   "source": [
    "* On launch the area where the leak was could be seen burning for about 2 seconds and then was plugged by the melting material and insulation. "
   ]
  },
  {
   "cell_type": "markdown",
   "id": "d9a5986a",
   "metadata": {
    "slideshow": {
     "slide_type": "fragment"
    }
   },
   "source": [
    "* At ~58 seconds the small flame grew to engulf the right solid rocket booster"
   ]
  },
  {
   "cell_type": "markdown",
   "id": "4984fb35",
   "metadata": {
    "slideshow": {
     "slide_type": "subslide"
    }
   },
   "source": [
    "![](./figs/Explosion.jpg)"
   ]
  },
  {
   "cell_type": "markdown",
   "id": "a8a00a34",
   "metadata": {
    "slideshow": {
     "slide_type": "fragment"
    }
   },
   "source": [
    "* After 73 seconds the space ship exploded"
   ]
  },
  {
   "cell_type": "markdown",
   "id": "07b65360",
   "metadata": {
    "slideshow": {
     "slide_type": "subslide"
    }
   },
   "source": [
    "![](./figs/flight_crew.jpg)"
   ]
  },
  {
   "cell_type": "markdown",
   "id": "825aa4a2",
   "metadata": {
    "slideshow": {
     "slide_type": "fragment"
    }
   },
   "source": [
    "* The life of the 7 members of the flight crew were lost that day. "
   ]
  },
  {
   "cell_type": "markdown",
   "id": "c32fcf4b",
   "metadata": {
    "slideshow": {
     "slide_type": "subslide"
    }
   },
   "source": [
    "#### Why did this happen? "
   ]
  },
  {
   "cell_type": "markdown",
   "id": "85356a36",
   "metadata": {
    "slideshow": {
     "slide_type": "fragment"
    }
   },
   "source": [
    "* Ambient temperatures outside were in the low 30s, and the temperature of the o-ring was less than 20 ${}^{\\circ}F$"
   ]
  },
  {
   "cell_type": "markdown",
   "id": "90cf2809",
   "metadata": {
    "slideshow": {
     "slide_type": "fragment"
    }
   },
   "source": [
    "* The engineers concerned that the o-ring would not seal at low temperatures prepared a document outlining their argument to postpone the launch to NASA"
   ]
  },
  {
   "cell_type": "markdown",
   "id": "8fc842e7",
   "metadata": {
    "slideshow": {
     "slide_type": "fragment"
    }
   },
   "source": [
    "* The data analysis provided by Morton Thiol insufficiently explained:\n",
    "    * The past experience with low temperature launches\n",
    "    * Physics of resiliency which declines exponentially with temperature\n",
    "    * Confusing and misleading representation of data"
   ]
  },
  {
   "cell_type": "markdown",
   "id": "b744ec50",
   "metadata": {
    "slideshow": {
     "slide_type": "fragment"
    }
   },
   "source": [
    "In industry and academia you will be required to present data to administrators and decision makers. These people will have to make difficult decisions and have internal agendas. If you analyze and present data in a convincing way you can lead decision makers to make confident and correct decisions"
   ]
  },
  {
   "cell_type": "markdown",
   "id": "3cf92591",
   "metadata": {
    "slideshow": {
     "slide_type": "fragment"
    }
   },
   "source": [
    "* While a lot of fingers could be pointed in different directions the crisis could have been averted if the data was presented in an obvious and convincing manner"
   ]
  },
  {
   "cell_type": "markdown",
   "id": "06e1b9e0",
   "metadata": {
    "slideshow": {
     "slide_type": "subslide"
    }
   },
   "source": [
    "#### How the data was presented"
   ]
  },
  {
   "cell_type": "markdown",
   "id": "b6c6b85a",
   "metadata": {
    "slideshow": {
     "slide_type": "fragment"
    }
   },
   "source": [
    "* The data was presented in 13 charts and a discussion was held via phone. Yes, maybe things would have been better if it was a Zoom call."
   ]
  },
  {
   "cell_type": "markdown",
   "id": "4aeea9c0",
   "metadata": {
    "slideshow": {
     "slide_type": "fragment"
    }
   },
   "source": [
    "##### Title of report"
   ]
  },
  {
   "cell_type": "markdown",
   "id": "f00857f0",
   "metadata": {
    "slideshow": {
     "slide_type": "fragment"
    }
   },
   "source": [
    "![](./figs/title.png)"
   ]
  },
  {
   "cell_type": "markdown",
   "id": "d9665c48",
   "metadata": {
    "slideshow": {
     "slide_type": "fragment"
    }
   },
   "source": [
    "* What is an SRM joint? $\\rightarrow$ Solid-Rocket Motor\n",
    "* Where are the names and credibility of the authors?\n",
    "* The word concern does not convey the serious nature of their conclusions"
   ]
  },
  {
   "cell_type": "markdown",
   "id": "a2f65471",
   "metadata": {
    "slideshow": {
     "slide_type": "subslide"
    }
   },
   "source": [
    "##### First Figure - History"
   ]
  },
  {
   "cell_type": "markdown",
   "id": "95710d3f",
   "metadata": {
    "slideshow": {
     "slide_type": "fragment"
    }
   },
   "source": [
    "![](./figs/Damage_history.jpg)"
   ]
  },
  {
   "cell_type": "markdown",
   "id": "d195e1e6",
   "metadata": {
    "slideshow": {
     "slide_type": "fragment"
    }
   },
   "source": [
    "* Does not show any evidence of catastrophic damage"
   ]
  },
  {
   "cell_type": "markdown",
   "id": "77266454",
   "metadata": {
    "slideshow": {
     "slide_type": "fragment"
    }
   },
   "source": [
    "* The chart provides no information about the cause determined by the engineers $\\rightarrow$ temperature"
   ]
  },
  {
   "cell_type": "markdown",
   "id": "89e620ef",
   "metadata": {
    "slideshow": {
     "slide_type": "fragment"
    }
   },
   "source": [
    "* Damage is listed as a bunch of parameters $\\rightarrow$ some combined index is needed"
   ]
  },
  {
   "cell_type": "markdown",
   "id": "f23c0e44",
   "metadata": {
    "slideshow": {
     "slide_type": "subslide"
    }
   },
   "source": [
    "##### Second Figure - Joint Bending"
   ]
  },
  {
   "cell_type": "markdown",
   "id": "c91f4233",
   "metadata": {
    "slideshow": {
     "slide_type": "fragment"
    }
   },
   "source": [
    "![](./figs/bending_joint.jpg)"
   ]
  },
  {
   "cell_type": "markdown",
   "id": "e5c776f4",
   "metadata": {
    "slideshow": {
     "slide_type": "fragment"
    }
   },
   "source": [
    "* Shows the effect of how bending joint can cause a problem with the seal $\\rightarrow$ once again temperature is not mentioned"
   ]
  },
  {
   "cell_type": "markdown",
   "id": "38312f7b",
   "metadata": {
    "slideshow": {
     "slide_type": "subslide"
    }
   },
   "source": [
    "![](./figs/chart_1.jpg)"
   ]
  },
  {
   "cell_type": "markdown",
   "id": "7ef44f69",
   "metadata": {
    "slideshow": {
     "slide_type": "fragment"
    }
   },
   "source": [
    "* Chart starts to show the temperatures, important information about blow-by seen in the rocket is not indicated in the chart."
   ]
  },
  {
   "cell_type": "markdown",
   "id": "8ea5d390",
   "metadata": {
    "slideshow": {
     "slide_type": "fragment"
    }
   },
   "source": [
    "* This rocket launch is not clearly indicated"
   ]
  },
  {
   "cell_type": "markdown",
   "id": "4a0c629e",
   "metadata": {
    "slideshow": {
     "slide_type": "fragment"
    }
   },
   "source": [
    "* This does not show the other 22 launches of the SRM rocket, and their temperature."
   ]
  },
  {
   "cell_type": "markdown",
   "id": "304b3c86",
   "metadata": {
    "slideshow": {
     "slide_type": "fragment"
    }
   },
   "source": [
    "* The development motors DM are extremely misleading. These rockets never left the ground and thus should not be expected to exhibit the same degree of blow-by."
   ]
  },
  {
   "cell_type": "markdown",
   "id": "1d0d9aeb",
   "metadata": {
    "slideshow": {
     "slide_type": "subslide"
    }
   },
   "source": [
    "##### Conclusions"
   ]
  },
  {
   "cell_type": "markdown",
   "id": "08453dd3",
   "metadata": {
    "slideshow": {
     "slide_type": "fragment"
    }
   },
   "source": [
    "![](./figs/conclusions.jpg)"
   ]
  },
  {
   "cell_type": "markdown",
   "id": "622ddae5",
   "metadata": {
    "slideshow": {
     "slide_type": "fragment"
    }
   },
   "source": [
    "* Conclusions drawn were not convincing based on evidence"
   ]
  },
  {
   "cell_type": "markdown",
   "id": "6259825f",
   "metadata": {
    "slideshow": {
     "slide_type": "fragment"
    }
   },
   "source": [
    "* The conclusion that the o-ring temperature should be >50 $^{\\circ{}}F$ was based on a sample size of 1"
   ]
  },
  {
   "cell_type": "markdown",
   "id": "bdf8a980",
   "metadata": {
    "slideshow": {
     "slide_type": "fragment"
    }
   },
   "source": [
    "* There was no association made between the materials physics and temperature. This would have highlighed that 53 $^{\\circ{}}F$ is significantly different than the expected launch temperatures of 29 $^{\\circ{}}F$"
   ]
  },
  {
   "cell_type": "markdown",
   "id": "824c8a85",
   "metadata": {
    "slideshow": {
     "slide_type": "subslide"
    }
   },
   "source": [
    "#### How the data should have been presented"
   ]
  },
  {
   "cell_type": "markdown",
   "id": "867d3462",
   "metadata": {
    "slideshow": {
     "slide_type": "fragment"
    }
   },
   "source": [
    "![](./figs/table.jpg)"
   ]
  },
  {
   "cell_type": "markdown",
   "id": "68607d3c",
   "metadata": {
    "slideshow": {
     "slide_type": "fragment"
    }
   },
   "source": [
    "* If a mere ordered data table with some description was used it would have been clear that temperature and o-ring damage are strongly correlated"
   ]
  },
  {
   "cell_type": "markdown",
   "id": "a0afffdf",
   "metadata": {
    "slideshow": {
     "slide_type": "subslide"
    }
   },
   "source": [
    "![](./figs/scatterplot.jpg)"
   ]
  },
  {
   "cell_type": "markdown",
   "id": "48688a64",
   "metadata": {
    "slideshow": {
     "slide_type": "fragment"
    }
   },
   "source": [
    "* Even better a scatter plot showing the o-ring damage index and launch temperature would have made the argument not to launch incredibly convincing"
   ]
  },
  {
   "cell_type": "markdown",
   "id": "43ea1e29",
   "metadata": {
    "slideshow": {
     "slide_type": "subslide"
    }
   },
   "source": [
    "#### The post-mortem report"
   ]
  },
  {
   "cell_type": "markdown",
   "id": "4e1717b5",
   "metadata": {
    "slideshow": {
     "slide_type": "fragment"
    }
   },
   "source": [
    "##### The report they presented\n",
    "![](./figs/Report_figure.png)"
   ]
  },
  {
   "cell_type": "markdown",
   "id": "c9edc673",
   "metadata": {
    "slideshow": {
     "slide_type": "fragment"
    }
   },
   "source": [
    "Even after the accident the data still was not presented clearly:"
   ]
  },
  {
   "cell_type": "markdown",
   "id": "c01a3fcd",
   "metadata": {
    "slideshow": {
     "slide_type": "fragment"
    }
   },
   "source": [
    "* The order of the rockets is listed sequentially, not by temperature of the launch"
   ]
  },
  {
   "cell_type": "markdown",
   "id": "49c1aa5f",
   "metadata": {
    "slideshow": {
     "slide_type": "fragment"
    }
   },
   "source": [
    "* Temperature is not able to be visualized graphically"
   ]
  },
  {
   "cell_type": "markdown",
   "id": "2182750f",
   "metadata": {
    "slideshow": {
     "slide_type": "fragment"
    }
   },
   "source": [
    "* Damage indication is very difficult to correlate to the temperature"
   ]
  },
  {
   "cell_type": "markdown",
   "id": "7a673eab",
   "metadata": {
    "slideshow": {
     "slide_type": "fragment"
    }
   },
   "source": [
    "* Rockets are silly, unnecessary, and distracting"
   ]
  },
  {
   "cell_type": "markdown",
   "id": "5dc4828e",
   "metadata": {
    "slideshow": {
     "slide_type": "fragment"
    }
   },
   "source": [
    "* Also, they dropped the legend"
   ]
  },
  {
   "cell_type": "markdown",
   "id": "b5e0fa48",
   "metadata": {
    "slideshow": {
     "slide_type": "subslide"
    }
   },
   "source": [
    "##### A Slightly better but still bad report"
   ]
  },
  {
   "cell_type": "markdown",
   "id": "26af270d",
   "metadata": {
    "slideshow": {
     "slide_type": "fragment"
    }
   },
   "source": [
    "![](./figs/rockets_ordered.jpg)"
   ]
  },
  {
   "cell_type": "markdown",
   "id": "474bc897",
   "metadata": {
    "slideshow": {
     "slide_type": "fragment"
    }
   },
   "source": [
    "* If they just ordered the rockets by temperature it would have been much more convincing"
   ]
  },
  {
   "cell_type": "markdown",
   "id": "f49dce11",
   "metadata": {
    "slideshow": {
     "slide_type": "subslide"
    }
   },
   "source": [
    "#### Richard Feynman Simply Explains the Day"
   ]
  },
  {
   "cell_type": "markdown",
   "id": "511280f0",
   "metadata": {
    "slideshow": {
     "slide_type": "fragment"
    }
   },
   "source": [
    "![](./figs/feynman.jpg)"
   ]
  },
  {
   "cell_type": "markdown",
   "id": "88be87d9",
   "metadata": {
    "slideshow": {
     "slide_type": "fragment"
    }
   },
   "source": [
    "* The best way to explain a complex concept is with a simple to understand experience"
   ]
  },
  {
   "cell_type": "code",
   "execution_count": 1,
   "id": "4aa4ecb9",
   "metadata": {
    "slideshow": {
     "slide_type": "fragment"
    },
    "tags": [
     "hide-input"
    ]
   },
   "outputs": [
    {
     "name": "stderr",
     "output_type": "stream",
     "text": [
      "C:\\Users\\jca92\\.conda\\envs\\jupyterbook\\lib\\site-packages\\IPython\\core\\display.py:419: UserWarning: Consider using IPython.display.IFrame instead\n",
      "  warnings.warn(\"Consider using IPython.display.IFrame instead\")\n"
     ]
    },
    {
     "data": {
      "text/html": [
       "<iframe width=\"800\" height=\"450\" src=\"https://www.youtube.com/embed/raMmRKGkGD4\" title=\"YouTube video player\" frameborder=\"0\" allow=\"accelerometer; autoplay; clipboard-write; encrypted-media; gyroscope; picture-in-picture\" allowfullscreen></iframe>"
      ],
      "text/plain": [
       "<IPython.core.display.HTML object>"
      ]
     },
     "execution_count": 1,
     "metadata": {},
     "output_type": "execute_result"
    }
   ],
   "source": [
    "from IPython.display import HTML\n",
    "HTML('<iframe width=\"800\" height=\"450\" src=\"https://www.youtube.com/embed/raMmRKGkGD4\" title=\"YouTube video player\" frameborder=\"0\" allow=\"accelerometer; autoplay; clipboard-write; encrypted-media; gyroscope; picture-in-picture\" allowfullscreen></iframe>')"
   ]
  },
  {
   "cell_type": "markdown",
   "id": "571fc8a0",
   "metadata": {
    "slideshow": {
     "slide_type": "fragment"
    }
   },
   "source": [
    "* How you analyze and present data-driven arguments has a transformation effect on critical decisions"
   ]
  },
  {
   "cell_type": "markdown",
   "id": "1f1fc4f6",
   "metadata": {
    "slideshow": {
     "slide_type": "slide"
    }
   },
   "source": [
    "## Zillow\n",
    "### Background"
   ]
  },
  {
   "cell_type": "markdown",
   "id": "e2afef07",
   "metadata": {
    "slideshow": {
     "slide_type": "fragment"
    }
   },
   "source": [
    "* Founded in 2006, by 2019 had revenue of $2.7B"
   ]
  },
  {
   "cell_type": "markdown",
   "id": "df99968a",
   "metadata": {
    "slideshow": {
     "slide_type": "fragment"
    }
   },
   "source": [
    "* Zillow got into the business of flipping houses. The goal is to buy low and sell high."
   ]
  },
  {
   "cell_type": "markdown",
   "id": "a75d8804",
   "metadata": {
    "slideshow": {
     "slide_type": "fragment"
    }
   },
   "source": [
    "* The most important objective is to price homes correctly"
   ]
  },
  {
   "cell_type": "markdown",
   "id": "277e97b5",
   "metadata": {
    "slideshow": {
     "slide_type": "fragment"
    }
   },
   "source": [
    "*  Zillow had about 43 million homes in their database in 2006 and they were able to predict the price of a property at 14% median absolute percent error. By 2017, they had about 110 million homes in their database. The error rate had reduced to 5%."
   ]
  },
  {
   "cell_type": "markdown",
   "id": "02939a70",
   "metadata": {
    "slideshow": {
     "slide_type": "subslide"
    }
   },
   "source": [
    "<blockquote class=\"twitter-tweet\" data-theme=\"dark\"><p lang=\"en\" dir=\"ltr\">Where’s that TikTok expert?<br><br>“208 homes that Zillow owns in Phoenix, for instance, 93% were listed for less than what it paid. In Dallas, where Zillow owns 168 homes, about 81% of its properties were listed for less than what the company bought them for.” <a href=\"https://t.co/ex5iGYmph7\">https://t.co/ex5iGYmph7</a></p>&mdash; Ayesha Selden, CFP® (@AyeshaSelden) <a href=\"https://twitter.com/AyeshaSelden/status/1455205223224393733?ref_src=twsrc%5Etfw\">November 1, 2021</a></blockquote> <script async src=\"https://platform.twitter.com/widgets.js\" charset=\"utf-8\"></script>"
   ]
  },
  {
   "cell_type": "markdown",
   "id": "47cd7ed4",
   "metadata": {
    "slideshow": {
     "slide_type": "subslide"
    }
   },
   "source": [
    "### Why did the model start to fail?"
   ]
  },
  {
   "cell_type": "markdown",
   "id": "ea693cb0",
   "metadata": {
    "slideshow": {
     "slide_type": "fragment"
    }
   },
   "source": [
    "#### Data Quality"
   ]
  },
  {
   "cell_type": "markdown",
   "id": "a01dd843",
   "metadata": {
    "slideshow": {
     "slide_type": "fragment"
    }
   },
   "source": [
    "* Garbage in garbage out - if the quality of the data used to make a prediction is bad or does not reflect the statistical distribution of the real world the quality of the model will be diminished"
   ]
  },
  {
   "cell_type": "markdown",
   "id": "a09c7a13",
   "metadata": {
    "slideshow": {
     "slide_type": "fragment"
    }
   },
   "source": [
    "* Zillow relied on data from users and public records. Some of this data was outdated or flawed\n",
    "   * House was remodeled but not updated on website\n",
    "  * House underwent an addition but was not updated on website\n",
    "  * Sales price was recorded incorrectly"
   ]
  },
  {
   "cell_type": "markdown",
   "id": "777be9c7",
   "metadata": {
    "slideshow": {
     "slide_type": "subslide"
    }
   },
   "source": [
    "#### Reliance on an Algorithm"
   ]
  },
  {
   "cell_type": "markdown",
   "id": "02e95cae",
   "metadata": {
    "slideshow": {
     "slide_type": "fragment"
    }
   },
   "source": [
    "* There is a tendancy to overly depend on an algorithms decision making, it is important to remember algorithms only think algorithmically $\\rightarrow$ algorithms are logical but not senible"
   ]
  },
  {
   "cell_type": "markdown",
   "id": "93337d85",
   "metadata": {
    "slideshow": {
     "slide_type": "fragment"
    }
   },
   "source": [
    "```{admonition} Definition\n",
    "Sensible - (of a statement or course of action) chosen in accordance with wisdom or prudence; likely to be of benefit.\n",
    "```\n",
    "```{admonition} Definition\n",
    "Logical - of or according to the rules of logic or formal argument.\n",
    "```"
   ]
  },
  {
   "cell_type": "markdown",
   "id": "2d6d4130",
   "metadata": {
    "slideshow": {
     "slide_type": "subslide"
    }
   },
   "source": [
    "#### Gaming the system"
   ]
  },
  {
   "cell_type": "markdown",
   "id": "29ee870a",
   "metadata": {
    "slideshow": {
     "slide_type": "fragment"
    }
   },
   "source": [
    "* When there are intelligent agents involved there are ways to game the system"
   ]
  },
  {
   "cell_type": "markdown",
   "id": "0ea5f69c",
   "metadata": {
    "slideshow": {
     "slide_type": "fragment"
    }
   },
   "source": [
    "* If you list a few houses and notify Zillow of fake inflated sales the algorithm will think the home values are high."
   ]
  },
  {
   "cell_type": "markdown",
   "id": "e28ad429",
   "metadata": {
    "slideshow": {
     "slide_type": "fragment"
    }
   },
   "source": [
    "* It is important to have a robust fraud detection systems"
   ]
  },
  {
   "cell_type": "markdown",
   "id": "94091719",
   "metadata": {
    "slideshow": {
     "slide_type": "subslide"
    }
   },
   "source": [
    "#### Understanding the problem in its entirety and external factors"
   ]
  },
  {
   "cell_type": "markdown",
   "id": "063ee148",
   "metadata": {
    "slideshow": {
     "slide_type": "fragment"
    }
   },
   "source": [
    "* Zillow only considered the price of homes, not the buyers $\\rightarrow$ if the buyers change their behavior model can fail."
   ]
  },
  {
   "cell_type": "markdown",
   "id": "f3b1ba12",
   "metadata": {
    "slideshow": {
     "slide_type": "fragment"
    }
   },
   "source": [
    "* Real problems have a lot of complexity, it is important that you adversarial attack your models and algorithms"
   ]
  },
  {
   "cell_type": "markdown",
   "id": "5e33ae59",
   "metadata": {
    "slideshow": {
     "slide_type": "fragment"
    }
   },
   "source": [
    "* You should always think your results are a lie until proven otherwise"
   ]
  },
  {
   "cell_type": "markdown",
   "id": "a8826cda",
   "metadata": {
    "slideshow": {
     "slide_type": "slide"
    }
   },
   "source": [
    "## Discriminatory Algorithms\n",
    "### AI Bias"
   ]
  },
  {
   "cell_type": "markdown",
   "id": "0032b79d",
   "metadata": {
    "slideshow": {
     "slide_type": "fragment"
    }
   },
   "source": [
    "* The representation of data, and the data used by the model is imperfect, and can encode hidden bias. "
   ]
  },
  {
   "cell_type": "markdown",
   "id": "2a6da9b9",
   "metadata": {
    "slideshow": {
     "slide_type": "subslide"
    }
   },
   "source": [
    "#### Example AI: In healthcare"
   ]
  },
  {
   "cell_type": "markdown",
   "id": "1fd08d6a",
   "metadata": {
    "slideshow": {
     "slide_type": "fragment"
    }
   },
   "source": [
    "An algorithm was designed to determine if a patient would benefit from high-risk care management which provides chronically-ill penitents with specially trained staff"
   ]
  },
  {
   "cell_type": "markdown",
   "id": "141e5b5c",
   "metadata": {
    "slideshow": {
     "slide_type": "fragment"
    }
   },
   "source": [
    "* The data considered the needs of the patient based on their past healthcare costs. $\\rightarrow$ why might this be a bad metric? "
   ]
  },
  {
   "cell_type": "markdown",
   "id": "ca116181",
   "metadata": {
    "slideshow": {
     "slide_type": "fragment"
    }
   },
   "source": [
    "*The data is biased. of almost 50,000 patients—of whom 6,079 self-identified as black and 43,539 self-identified as white—and compared their algorithmic risk scores with their actual health histories. Black patients, the researchers found, tended to receive lower risk scores. For example, among all patients classified as very high-risk, black individuals turned out to have 26.3 percent more chronic illnesses than white ones (despite sharing similar risk scores). Because their recorded health care costs were on par with those of healthier white people, the program was less likely to flag eligible black patients for high-risk care management.*"
   ]
  },
  {
   "cell_type": "markdown",
   "id": "a8b48736",
   "metadata": {
    "slideshow": {
     "slide_type": "fragment"
    }
   },
   "source": [
    "*There are a few further reasons for this bias:*"
   ]
  },
  {
   "cell_type": "markdown",
   "id": "095a90b7",
   "metadata": {
    "slideshow": {
     "slide_type": "fragment"
    }
   },
   "source": [
    "1. *Race and income are correlated, this effects ability to afford healthcare services due to access, location, and time constraints*\n",
    "1. *Black patients tend to have less trust in doctors who they perceive to exhibit bias $\\rightarrow$ thus black patients are less likely to seek care*\n",
    "\n",
    "{cite:p}`Vartan2019-ot`\n",
    "{cite:p}`Obermeyer2019-jo`"
   ]
  },
  {
   "cell_type": "markdown",
   "id": "d47f8f28",
   "metadata": {
    "slideshow": {
     "slide_type": "subslide"
    }
   },
   "source": [
    "#### Correctional Offender Management Profiling for Alternative Sanctions (COMPAS)"
   ]
  },
  {
   "cell_type": "markdown",
   "id": "9ef796c2",
   "metadata": {
    "slideshow": {
     "slide_type": "fragment"
    }
   },
   "source": [
    "This algorithm tried to determine the tendancy of recidivism of a person convicted of a crime"
   ]
  },
  {
   "cell_type": "markdown",
   "id": "668c7ef0",
   "metadata": {
    "slideshow": {
     "slide_type": "fragment"
    }
   },
   "source": [
    "Race is not a factor for in determining the tendency of recidivism, however, COMPAS showed significant bias:\n",
    "* Black defendants were often predicted to be at a higher risk of recidivism than they actually were.\n",
    "* White defendants were often predicted to be less risky than they were. \n",
    "* The analysis also showed that even when controlling for prior crimes, future recidivism, age, and gender, black defendants were 45 percent more likely to be assigned higher risk scores than white defendants.\n",
    "* Black defendants were also twice as likely as white defendants to be misclassified as being a higher risk of violent recidivism. "
   ]
  },
  {
   "cell_type": "markdown",
   "id": "7b1e74ba",
   "metadata": {
    "slideshow": {
     "slide_type": "subslide"
    }
   },
   "source": [
    "Model tended to predict low scores for white offenders and high scores for black offenders. \n",
    "![](./figs/Histogram_reactivism.jpg)"
   ]
  },
  {
   "cell_type": "markdown",
   "id": "89356592",
   "metadata": {
    "slideshow": {
     "slide_type": "subslide"
    }
   },
   "source": [
    "##### What happens when we validate this model on real data?"
   ]
  },
  {
   "cell_type": "markdown",
   "id": "4f02e801",
   "metadata": {
    "slideshow": {
     "slide_type": "fragment"
    }
   },
   "source": [
    "![](./figs/truth_table.jpg)"
   ]
  },
  {
   "cell_type": "markdown",
   "id": "0a9a07a8",
   "metadata": {
    "slideshow": {
     "slide_type": "fragment"
    }
   },
   "source": [
    "* Black defendants had a much higher false-positive (meaning it was predicted that they would commit a crime and did not), and lower false negative-rate (meaning they were predicted not to commit a crime and they did) compared to white defendants\n",
    "* The only viable conclusion is the algorithm is unfairly biased\n",
    "\n",
    "{cite:p}`Larson2016-sm`"
   ]
  },
  {
   "cell_type": "markdown",
   "id": "984262cd",
   "metadata": {
    "slideshow": {
     "slide_type": "subslide"
    }
   },
   "source": [
    "## What can we learn from these examples?"
   ]
  },
  {
   "cell_type": "markdown",
   "id": "0412017c",
   "metadata": {
    "slideshow": {
     "slide_type": "fragment"
    }
   },
   "source": [
    "### How data is presented is extremely important"
   ]
  },
  {
   "cell_type": "markdown",
   "id": "33b14cda",
   "metadata": {
    "slideshow": {
     "slide_type": "fragment"
    }
   },
   "source": [
    "* Data and charts are extremely convincing. Design of charts can convey false conclusions, conceal important information, or make important observations convincing"
   ]
  },
  {
   "cell_type": "markdown",
   "id": "923ced7c",
   "metadata": {
    "slideshow": {
     "slide_type": "fragment"
    }
   },
   "source": [
    "### Data used should represent what the the data \"should be\" not what the data \"is\""
   ]
  },
  {
   "cell_type": "markdown",
   "id": "94a7c907",
   "metadata": {
    "slideshow": {
     "slide_type": "fragment"
    }
   },
   "source": [
    "* Most samplings of data or data records are not without bias $\\rightarrow$ algorithms using biased data will only enhance its bias"
   ]
  },
  {
   "cell_type": "code",
   "execution_count": 2,
   "id": "8de25f26",
   "metadata": {
    "slideshow": {
     "slide_type": "fragment"
    },
    "tags": [
     "hide-input"
    ]
   },
   "outputs": [
    {
     "data": {
      "text/html": [
       "\n",
       "<iframe\n",
       "    width=\"800\"\n",
       "    height=\"1200\"\n",
       "    src=\"https://badvisualisations.tumblr.com/\"\n",
       "    frameborder=\"0\"\n",
       "    allowfullscreen\n",
       "\n",
       "></iframe>\n"
      ],
      "text/plain": [
       "<IPython.lib.display.IFrame at 0x24ec4234d90>"
      ]
     },
     "execution_count": 2,
     "metadata": {},
     "output_type": "execute_result"
    }
   ],
   "source": [
    "from IPython.display import IFrame\n",
    "IFrame('https://badvisualisations.tumblr.com/', width=800, height=1200)"
   ]
  },
  {
   "cell_type": "markdown",
   "id": "cc892c72",
   "metadata": {
    "slideshow": {
     "slide_type": "fragment"
    }
   },
   "source": [
    "### Data governance and provenance"
   ]
  },
  {
   "cell_type": "markdown",
   "id": "693c5cc1",
   "metadata": {
    "slideshow": {
     "slide_type": "fragment"
    }
   },
   "source": [
    "* Data that is used to train a model needs governance and oversight\n",
    "* If data is to be used knowing the fully provenance is important"
   ]
  },
  {
   "cell_type": "markdown",
   "id": "8f1fcc8b",
   "metadata": {
    "slideshow": {
     "slide_type": "fragment"
    }
   },
   "source": [
    "```{admonition} Definition\n",
    "Provenance - the place of origin or earliest known history of something.\n",
    "```"
   ]
  },
  {
   "cell_type": "markdown",
   "id": "ebbc6611",
   "metadata": {
    "slideshow": {
     "slide_type": "fragment"
    }
   },
   "source": [
    "### Correlation does not equal causation"
   ]
  },
  {
   "cell_type": "markdown",
   "id": "0a9a6e4e",
   "metadata": {
    "slideshow": {
     "slide_type": "fragment"
    }
   },
   "source": [
    "* Just because there is a correlation in the data does not imply causation $\\rightarrow$ need to validate what your algorithms are telling you"
   ]
  },
  {
   "cell_type": "code",
   "execution_count": 3,
   "id": "57e4eaf1",
   "metadata": {
    "slideshow": {
     "slide_type": "fragment"
    },
    "tags": [
     "hide-input"
    ]
   },
   "outputs": [
    {
     "data": {
      "text/html": [
       "\n",
       "<iframe\n",
       "    width=\"800\"\n",
       "    height=\"1200\"\n",
       "    src=\"https://blog.plotly.com/post/146891210217/spurious-correlations\"\n",
       "    frameborder=\"0\"\n",
       "    allowfullscreen\n",
       "\n",
       "></iframe>\n"
      ],
      "text/plain": [
       "<IPython.lib.display.IFrame at 0x24ec4234dc0>"
      ]
     },
     "execution_count": 3,
     "metadata": {},
     "output_type": "execute_result"
    }
   ],
   "source": [
    "from IPython.display import IFrame\n",
    "IFrame('https://blog.plotly.com/post/146891210217/spurious-correlations', width=800, height=1200)"
   ]
  },
  {
   "cell_type": "markdown",
   "id": "2a4916cb",
   "metadata": {
    "slideshow": {
     "slide_type": "slide"
    }
   },
   "source": [
    "## References\n",
    "\n",
    "```{bibliography}\n",
    ":filter: docname in docnames\n",
    "```"
   ]
  }
 ],
 "metadata": {
  "celltoolbar": "Tags",
  "kernelspec": {
   "display_name": "Python 3.9.12 ('base')",
   "language": "python",
   "name": "python3"
  },
  "language_info": {
   "codemirror_mode": {
    "name": "ipython",
    "version": 3
   },
   "file_extension": ".py",
   "mimetype": "text/x-python",
   "name": "python",
   "nbconvert_exporter": "python",
   "pygments_lexer": "ipython3",
   "version": "3.10.0"
  },
  "vscode": {
   "interpreter": {
    "hash": "840b83a840664c52454f0735a8442d1647f000adfcd65e5ae08b9078efb1afec"
   }
  }
 },
 "nbformat": 4,
 "nbformat_minor": 5
}