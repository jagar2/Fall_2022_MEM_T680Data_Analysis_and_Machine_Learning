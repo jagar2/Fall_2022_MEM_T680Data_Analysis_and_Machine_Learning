{
 "cells": [
  {
   "cell_type": "markdown",
   "metadata": {
    "slideshow": {
     "slide_type": "slide"
    }
   },
   "source": [
    "# A Crash Course in Python: Part 3\n"
   ]
  },
  {
   "cell_type": "markdown",
   "metadata": {
    "slideshow": {
     "slide_type": "subslide"
    }
   },
   "source": [
    "## `Lambda` Functions\n"
   ]
  },
  {
   "cell_type": "markdown",
   "metadata": {
    "slideshow": {
     "slide_type": "fragment"
    }
   },
   "source": [
    "```{admonition} Syntax\n",
    "lambda arguments : expression\n",
    "```\n"
   ]
  },
  {
   "cell_type": "markdown",
   "metadata": {
    "slideshow": {
     "slide_type": "fragment"
    }
   },
   "source": [
    "- An anonymous function means that a function is without a name\n",
    "- The lambda keyword is used to create anonymous functions\n"
   ]
  },
  {
   "cell_type": "markdown",
   "metadata": {
    "slideshow": {
     "slide_type": "fragment"
    }
   },
   "source": [
    "### Python lambda properties:\n",
    "\n",
    "- can have any number of arguments but only one expression, which is evaluated and returned.\n"
   ]
  },
  {
   "cell_type": "markdown",
   "metadata": {
    "slideshow": {
     "slide_type": "fragment"
    }
   },
   "source": [
    "- used when objects are required\n"
   ]
  },
  {
   "cell_type": "markdown",
   "metadata": {
    "slideshow": {
     "slide_type": "fragment"
    }
   },
   "source": [
    "- syntactically restricted to a single expression\n"
   ]
  },
  {
   "cell_type": "markdown",
   "metadata": {
    "slideshow": {
     "slide_type": "fragment"
    }
   },
   "source": [
    "- have various uses in particular fields of programming, besides other types of expressions in functions.\n"
   ]
  },
  {
   "cell_type": "markdown",
   "metadata": {
    "slideshow": {
     "slide_type": "subslide"
    }
   },
   "source": [
    "### Example: `Lambda` Function\n"
   ]
  },
  {
   "cell_type": "code",
   "execution_count": 1,
   "metadata": {
    "slideshow": {
     "slide_type": "fragment"
    }
   },
   "outputs": [
    {
     "name": "stdout",
     "output_type": "stream",
     "text": [
      "Even number\n"
     ]
    }
   ],
   "source": [
    "calc = lambda num: \"Even number\" if num % 2 == 0 else \"Odd number\"\n",
    "\n",
    "print(calc(20))\n"
   ]
  },
  {
   "cell_type": "markdown",
   "metadata": {
    "slideshow": {
     "slide_type": "subslide"
    }
   },
   "source": [
    "### Example 2: `Lambda` Function\n"
   ]
  },
  {
   "cell_type": "code",
   "execution_count": 2,
   "metadata": {
    "slideshow": {
     "slide_type": "fragment"
    }
   },
   "outputs": [
    {
     "name": "stdout",
     "output_type": "stream",
     "text": [
      "<function <lambda> at 0x000001D906A625F0>\n"
     ]
    }
   ],
   "source": [
    "string = \"Drexel Dragons\"\n",
    "\n",
    "# lambda returns a function object\n",
    "print(lambda string: string)\n"
   ]
  },
  {
   "cell_type": "markdown",
   "metadata": {
    "slideshow": {
     "slide_type": "fragment"
    }
   },
   "source": [
    "**Explanation:** The lambda is not being called by the print function, but returning the function object and the memory location. So, to make the print to print the string first, we need to call the lambda so that the string will get pass the print.\n"
   ]
  },
  {
   "cell_type": "markdown",
   "metadata": {
    "slideshow": {
     "slide_type": "subslide"
    }
   },
   "source": [
    "### Example 2: Invoking lambda return value to perform various operations\n"
   ]
  },
  {
   "cell_type": "code",
   "execution_count": 3,
   "metadata": {
    "slideshow": {
     "slide_type": "fragment"
    }
   },
   "outputs": [
    {
     "name": "stdout",
     "output_type": "stream",
     "text": [
      "filter_nums(): Drexel\n"
     ]
    }
   ],
   "source": [
    "# Returns all of the non-digit parts of a string\n",
    "filter_nums = lambda s: \"\".join([ch for ch in s if not ch.isdigit()])\n",
    "print(\"filter_nums():\", filter_nums(\"Drexel101\"))"
   ]
  },
  {
   "cell_type": "code",
   "execution_count": 4,
   "metadata": {
    "slideshow": {
     "slide_type": "fragment"
    }
   },
   "outputs": [
    {
     "name": "stdout",
     "output_type": "stream",
     "text": [
      "do_exclaim(): I am tired!\n"
     ]
    }
   ],
   "source": [
    "# Adds an exclamation point at the end of a string\n",
    "do_exclaim = lambda s: s + \"!\"\n",
    "print(\"do_exclaim():\", do_exclaim(\"I am tired\"))"
   ]
  },
  {
   "cell_type": "markdown",
   "metadata": {
    "slideshow": {
     "slide_type": "subslide"
    }
   },
   "source": [
    "# In-Class Exercise:\n",
    "\n",
    "Use the Lambda function to find the sum of all integers in a string\n",
    "\n",
    "- Input an integer n\n",
    "- Use a for loop to extract the individual integers\n",
    "- Print the sum\n"
   ]
  },
  {
   "cell_type": "code",
   "execution_count": 5,
   "metadata": {
    "slideshow": {
     "slide_type": "fragment"
    }
   },
   "outputs": [],
   "source": [
    "# Type your solution here"
   ]
  },
  {
   "cell_type": "code",
   "execution_count": 6,
   "metadata": {
    "slideshow": {
     "slide_type": "fragment"
    },
    "tags": [
     "hide-cell"
    ]
   },
   "outputs": [
    {
     "name": "stdout",
     "output_type": "stream",
     "text": [
      "find_sum(): 5\n"
     ]
    }
   ],
   "source": [
    "# # finds the sum of all integers in a string\n",
    "find_sum = lambda n: sum([int(x) for x in str(n)])\n",
    "print(\"find_sum():\", find_sum(104))"
   ]
  },
  {
   "cell_type": "markdown",
   "metadata": {
    "slideshow": {
     "slide_type": "subslide"
    }
   },
   "source": [
    "### Example: Use of `lambda` function inside a function\n"
   ]
  },
  {
   "cell_type": "code",
   "execution_count": 7,
   "metadata": {
    "scrolled": true,
    "slideshow": {
     "slide_type": "fragment"
    }
   },
   "outputs": [
    {
     "name": "stdout",
     "output_type": "stream",
     "text": [
      "Sorted numerically: ['-2', '-1', '0', '1', '2', '9']\n"
     ]
    }
   ],
   "source": [
    "l = [\"1\", \"2\", \"9\", \"0\", \"-1\", \"-2\"]\n",
    "# sort list[str] numerically using sorted() a build in function\n",
    "# and custom sorting key using lambda\n",
    "print(\"Sorted numerically:\", sorted(l, key=lambda x: int(x)))"
   ]
  },
  {
   "cell_type": "code",
   "execution_count": 8,
   "metadata": {
    "slideshow": {
     "slide_type": "fragment"
    }
   },
   "outputs": [
    {
     "name": "stdout",
     "output_type": "stream",
     "text": [
      "Filtered positive even numbers: ['1', '9', '0', '-1', '-2']\n"
     ]
    }
   ],
   "source": [
    "# filter positive even numbers\n",
    "# using filter() and lambda function\n",
    "print(\n",
    "    \"Filtered positive even numbers:\",\n",
    "    list(filter(lambda x: not (int(x) % 2 == 0 and int(x) > 0), l)),\n",
    ")"
   ]
  },
  {
   "cell_type": "code",
   "execution_count": 9,
   "metadata": {
    "slideshow": {
     "slide_type": "fragment"
    }
   },
   "outputs": [
    {
     "name": "stdout",
     "output_type": "stream",
     "text": [
      "Operation on each item using lambda and map() ['11', '12', '19', '10', '9', '8']\n"
     ]
    }
   ],
   "source": [
    "# added 10 to each item after type and\n",
    "# casting to int, then convert items to string again\n",
    "print(\n",
    "    \"Operation on each item using lambda and map()\",\n",
    "    list(map(lambda x: str(int(x) + 10), l)),\n",
    ")"
   ]
  },
  {
   "cell_type": "markdown",
   "metadata": {
    "slideshow": {
     "slide_type": "slide"
    }
   },
   "source": [
    "## Object Oriented Concepts\n"
   ]
  },
  {
   "cell_type": "markdown",
   "metadata": {
    "slideshow": {
     "slide_type": "fragment"
    }
   },
   "source": [
    "### Classes\n",
    "\n",
    "- Is a logical group that contains attributes and methods\n",
    "- This allows programs to be created with simple objects that are easy to read and modify\n",
    "- It says that all instances of a class have the same attributes and methods\n"
   ]
  },
  {
   "cell_type": "markdown",
   "metadata": {
    "slideshow": {
     "slide_type": "subslide"
    }
   },
   "source": [
    "#### Example use case:\n",
    "\n",
    "Suppose you have a bunch of rubber ducks in your store and you want to keep an inventory where each duck has some attributes (e.g., color, size, name). This is a perfect use case for a `class`. You can define a class that is rubber ducks, which has a set of definable attributes.\n"
   ]
  },
  {
   "cell_type": "markdown",
   "metadata": {
    "slideshow": {
     "slide_type": "fragment"
    }
   },
   "source": [
    "- Classes are created by the keyword `class`\n",
    "- Attributes are variables that belong to a class\n",
    "- Attributes can be accessed via the (`.`) operator (e.g., `class.attribute`)\n"
   ]
  },
  {
   "cell_type": "markdown",
   "metadata": {
    "slideshow": {
     "slide_type": "subslide"
    }
   },
   "source": [
    "#### Start with defining the class\n"
   ]
  },
  {
   "cell_type": "code",
   "execution_count": 10,
   "metadata": {
    "slideshow": {
     "slide_type": "fragment"
    }
   },
   "outputs": [],
   "source": [
    "class Rubber_Duck:  # Defines the class\n",
    "    pass  # passes when called\n"
   ]
  },
  {
   "cell_type": "markdown",
   "metadata": {
    "slideshow": {
     "slide_type": "fragment"
    }
   },
   "source": [
    "We created a class that does nothing :)\n"
   ]
  },
  {
   "cell_type": "markdown",
   "metadata": {
    "slideshow": {
     "slide_type": "subslide"
    }
   },
   "source": [
    "### Objects\n"
   ]
  },
  {
   "cell_type": "markdown",
   "metadata": {
    "slideshow": {
     "slide_type": "fragment"
    }
   },
   "source": [
    "- An object is a variable that has a state and behavior associated with it.\n",
    "- An object can be as simple as a integer\n",
    "- An object can be as complex as nested functions\n"
   ]
  },
  {
   "cell_type": "markdown",
   "metadata": {
    "slideshow": {
     "slide_type": "subslide"
    }
   },
   "source": [
    "#### Components of Objects\n",
    "\n",
    "- **State:** It is represented by the attributes of an object. It also reflects the properties of an object.\n",
    "- **Behavior** Methods of the object, and how the object interacts with other objects\n",
    "- **Identity** The Unique name that is used to identify the object\n"
   ]
  },
  {
   "cell_type": "markdown",
   "metadata": {
    "slideshow": {
     "slide_type": "subslide"
    }
   },
   "source": [
    "#### Let's build and object from the `class`\n"
   ]
  },
  {
   "cell_type": "code",
   "execution_count": 11,
   "metadata": {
    "slideshow": {
     "slide_type": "fragment"
    }
   },
   "outputs": [],
   "source": [
    "obj = Rubber_Duck()\n"
   ]
  },
  {
   "cell_type": "markdown",
   "metadata": {
    "slideshow": {
     "slide_type": "fragment"
    }
   },
   "source": [
    "- This created an object of the type `Rubber_Duck`\n"
   ]
  },
  {
   "cell_type": "markdown",
   "metadata": {
    "slideshow": {
     "slide_type": "subslide"
    }
   },
   "source": [
    "#### The `self` class\n"
   ]
  },
  {
   "cell_type": "markdown",
   "metadata": {
    "slideshow": {
     "slide_type": "fragment"
    }
   },
   "source": [
    "- Class methods have an initial parameter which refers to itself\n"
   ]
  },
  {
   "cell_type": "markdown",
   "metadata": {
    "slideshow": {
     "slide_type": "fragment"
    }
   },
   "source": [
    "- If we call `myobj.method(arg1, arg2)` we are actually calling `myobj.method(myobj, arg1, arg2)`\n"
   ]
  },
  {
   "cell_type": "markdown",
   "metadata": {
    "slideshow": {
     "slide_type": "fragment"
    }
   },
   "source": [
    "- To simplify this in classes, the `self` refers to the object\n"
   ]
  },
  {
   "cell_type": "markdown",
   "metadata": {
    "slideshow": {
     "slide_type": "subslide"
    }
   },
   "source": [
    "#### The `__init__` method\n"
   ]
  },
  {
   "cell_type": "markdown",
   "metadata": {
    "slideshow": {
     "slide_type": "fragment"
    }
   },
   "source": [
    "```ipython\n",
    "def __init__(self, arg):\n",
    "    self.arg = arg\n",
    "```\n"
   ]
  },
  {
   "cell_type": "markdown",
   "metadata": {
    "slideshow": {
     "slide_type": "fragment"
    }
   },
   "source": [
    "- This method is called when the object is instantiated\n"
   ]
  },
  {
   "cell_type": "markdown",
   "metadata": {
    "slideshow": {
     "slide_type": "subslide"
    }
   },
   "source": [
    "#### In-Class Exercise: Creating a class and objects with attributes and instance attributes\n"
   ]
  },
  {
   "cell_type": "markdown",
   "metadata": {
    "slideshow": {
     "slide_type": "fragment"
    }
   },
   "source": [
    "Task:\n",
    "\n",
    "- Create a Class Rubber_Duck\n",
    "- Add an attribute `obj_type` and set it equal to \"toy\"\n",
    "- Use the `__init__` function to set the name\n",
    "- Instantiate two objects `luke_skywalker` with a name `Luke Skywalker` and `leia_Organa` with a name `Leia Organa`\n"
   ]
  },
  {
   "cell_type": "code",
   "execution_count": 12,
   "metadata": {
    "slideshow": {
     "slide_type": "fragment"
    }
   },
   "outputs": [],
   "source": [
    "# Type your solution here\n"
   ]
  },
  {
   "cell_type": "code",
   "execution_count": 13,
   "metadata": {
    "slideshow": {
     "slide_type": "fragment"
    },
    "tags": [
     "hide-cell"
    ]
   },
   "outputs": [],
   "source": [
    "class Rubber_Duck:  # Defines the class\n",
    "\n",
    "    # Class attribute\n",
    "    obj_type = \"toy\"\n",
    "\n",
    "    # Instance attribute\n",
    "    def __init__(self, name):\n",
    "        self.name = name\n",
    "\n",
    "\n",
    "# Object instantiation\n",
    "luke_skywalker = Rubber_Duck(\"Luke Skywalker\")\n",
    "leia_organa = Rubber_Duck(\"Leia Organa\")\n"
   ]
  },
  {
   "cell_type": "markdown",
   "metadata": {
    "slideshow": {
     "slide_type": "fragment"
    }
   },
   "source": [
    "##### Test\n"
   ]
  },
  {
   "cell_type": "code",
   "execution_count": 14,
   "metadata": {
    "slideshow": {
     "slide_type": "fragment"
    }
   },
   "outputs": [
    {
     "name": "stdout",
     "output_type": "stream",
     "text": [
      "Luke Skywalker is a toy\n",
      "Leia Organa is a toy\n",
      "My name is Luke Skywalker\n",
      "My name is Leia Organa\n"
     ]
    }
   ],
   "source": [
    "# Accessing class attributes\n",
    "print(f\"Luke Skywalker is a {luke_skywalker.__class__.obj_type}\")\n",
    "print(f\"Leia Organa is a {leia_organa.__class__.obj_type}\")\n",
    "\n",
    "# Accessing instance attributes\n",
    "print(f\"My name is {luke_skywalker.name}\")\n",
    "print(f\"My name is {leia_organa.name}\")\n"
   ]
  },
  {
   "cell_type": "markdown",
   "metadata": {
    "slideshow": {
     "slide_type": "subslide"
    }
   },
   "source": [
    "##### Adding a Method\n",
    "\n",
    "- You can add methods within the class\n",
    "\n",
    "Task:\n",
    "\n",
    "- Add a method to the class `Rubber_Duck` that completes the line `f\"My name is {leia_organa.name}\"` when `class.speak` is called\n"
   ]
  },
  {
   "cell_type": "code",
   "execution_count": 15,
   "metadata": {
    "slideshow": {
     "slide_type": "fragment"
    }
   },
   "outputs": [],
   "source": [
    "# Your solution goes here"
   ]
  },
  {
   "cell_type": "code",
   "execution_count": 16,
   "metadata": {
    "slideshow": {
     "slide_type": "fragment"
    },
    "tags": [
     "hide-cell"
    ]
   },
   "outputs": [],
   "source": [
    "class Rubber_Duck:  # Defines the class\n",
    "\n",
    "    # Class attribute\n",
    "    obj_type = \"toy\"\n",
    "\n",
    "    # Instance attribute\n",
    "    def __init__(self, name):\n",
    "        self.name = name\n",
    "\n",
    "    def speak(self):\n",
    "        print(f\"My name is {self.name}\")\n",
    "\n",
    "\n",
    "# Object instantiation\n",
    "luke_skywalker = Rubber_Duck(\"Luke Skywalker\")\n",
    "leia_organa = Rubber_Duck(\"Leia Organa\")\n"
   ]
  },
  {
   "cell_type": "markdown",
   "metadata": {
    "slideshow": {
     "slide_type": "fragment"
    }
   },
   "source": [
    "##### Test\n"
   ]
  },
  {
   "cell_type": "code",
   "execution_count": 17,
   "metadata": {
    "slideshow": {
     "slide_type": "fragment"
    }
   },
   "outputs": [
    {
     "name": "stdout",
     "output_type": "stream",
     "text": [
      "My name is Luke Skywalker\n",
      "My name is Leia Organa\n"
     ]
    }
   ],
   "source": [
    "luke_skywalker.speak()\n",
    "leia_organa.speak()\n"
   ]
  },
  {
   "cell_type": "markdown",
   "metadata": {
    "slideshow": {
     "slide_type": "subslide"
    }
   },
   "source": [
    "### Inheritance\n",
    "\n",
    "- Inheritance allows one class to inherit properties from another class\n"
   ]
  },
  {
   "cell_type": "markdown",
   "metadata": {
    "slideshow": {
     "slide_type": "fragment"
    }
   },
   "source": [
    "- Usually referred to as child and parent classes\n"
   ]
  },
  {
   "cell_type": "markdown",
   "metadata": {
    "slideshow": {
     "slide_type": "fragment"
    }
   },
   "source": [
    "- It allows you to better represent real-world relationships\n"
   ]
  },
  {
   "cell_type": "markdown",
   "metadata": {
    "slideshow": {
     "slide_type": "fragment"
    }
   },
   "source": [
    "- Code can become much more reusable\n"
   ]
  },
  {
   "cell_type": "markdown",
   "metadata": {
    "slideshow": {
     "slide_type": "fragment"
    }
   },
   "source": [
    "- It is transitive meaning that if Class B inherits from Class A than subclasses of Class B would also inherit from Class A\n"
   ]
  },
  {
   "cell_type": "markdown",
   "metadata": {
    "slideshow": {
     "slide_type": "subslide"
    }
   },
   "source": [
    "#### Inheritance Example\n"
   ]
  },
  {
   "cell_type": "markdown",
   "metadata": {
    "slideshow": {
     "slide_type": "fragment"
    }
   },
   "source": [
    "```{admonition} Syntax\n",
    "Class BaseClass:\n",
    "    {Body}\n",
    "Class DerivedClass(BaseClass):\n",
    "    {Body}\n",
    "```\n"
   ]
  },
  {
   "cell_type": "markdown",
   "metadata": {
    "slideshow": {
     "slide_type": "subslide"
    }
   },
   "source": [
    "##### Step 1: Create a parent class with a method\n",
    "\n",
    "- Create a parent class named `Person` that defines a `name` and `age`\n",
    "- Add a Class method that prints the name and title\n"
   ]
  },
  {
   "cell_type": "code",
   "execution_count": 18,
   "metadata": {
    "slideshow": {
     "slide_type": "fragment"
    }
   },
   "outputs": [],
   "source": [
    "# Your solution goes here"
   ]
  },
  {
   "cell_type": "code",
   "execution_count": 19,
   "metadata": {
    "slideshow": {
     "slide_type": "fragment"
    },
    "tags": [
     "hide-cell"
    ]
   },
   "outputs": [],
   "source": [
    "class Person:\n",
    "\n",
    "    # Constructor\n",
    "    def __init__(self, name, age):\n",
    "        self.name = name\n",
    "        self.age = age\n",
    "\n",
    "    # To check if this person is an employee\n",
    "    def Display(self):\n",
    "        print(self.name, self.age)\n"
   ]
  },
  {
   "cell_type": "markdown",
   "metadata": {
    "slideshow": {
     "slide_type": "fragment"
    }
   },
   "source": [
    "##### Testing\n"
   ]
  },
  {
   "cell_type": "code",
   "execution_count": 20,
   "metadata": {
    "slideshow": {
     "slide_type": "fragment"
    }
   },
   "outputs": [
    {
     "name": "stdout",
     "output_type": "stream",
     "text": [
      "Darth Vader 56\n"
     ]
    }
   ],
   "source": [
    "jedi = Person(\"Darth Vader\", 56)\n",
    "jedi.Display()\n"
   ]
  },
  {
   "cell_type": "markdown",
   "metadata": {
    "slideshow": {
     "slide_type": "fragment"
    }
   },
   "source": [
    "#### Step 2: Creating a Child Class;\n",
    "\n",
    "- Create a child class of `Person`, `Jedi` that has a method `Print` that prints `Jedi's use the force`\n"
   ]
  },
  {
   "cell_type": "code",
   "execution_count": 21,
   "metadata": {
    "slideshow": {
     "slide_type": "fragment"
    }
   },
   "outputs": [],
   "source": [
    "# Your solution goes here"
   ]
  },
  {
   "cell_type": "code",
   "execution_count": 22,
   "metadata": {
    "slideshow": {
     "slide_type": "fragment"
    },
    "tags": [
     "hide-cell"
    ]
   },
   "outputs": [],
   "source": [
    "class Jedi(Person):\n",
    "    def Print(self):\n",
    "        print(\"Jedi's use the force\")\n"
   ]
  },
  {
   "cell_type": "markdown",
   "metadata": {
    "slideshow": {
     "slide_type": "fragment"
    }
   },
   "source": [
    "##### Testing\n"
   ]
  },
  {
   "cell_type": "code",
   "execution_count": 23,
   "metadata": {
    "slideshow": {
     "slide_type": "fragment"
    }
   },
   "outputs": [
    {
     "name": "stdout",
     "output_type": "stream",
     "text": [
      "Darth Vader 56\n",
      "Jedi's use the force\n"
     ]
    }
   ],
   "source": [
    "# instantiate the parent class\n",
    "jedi_info = Jedi(\"Darth Vader\", 56)\n",
    "\n",
    "# calls the parent class\n",
    "jedi_info.Display()\n",
    "\n",
    "# calls the child class\n",
    "jedi_info.Print()\n"
   ]
  },
  {
   "cell_type": "markdown",
   "metadata": {
    "slideshow": {
     "slide_type": "subslide"
    }
   },
   "source": [
    "##### Step 3: Adding Inheritance\n",
    "\n",
    "- Starting with the base Class `Person` add a method to `getName` that returns the `name`\n",
    "- Add a method `isAlliance` that establishes if the person is part of the Rebel Alliance, the default should be `False`\n",
    "- Add a inherited child class `Alliance` that changes `isAlliance` to `True`\n"
   ]
  },
  {
   "cell_type": "code",
   "execution_count": 24,
   "metadata": {
    "slideshow": {
     "slide_type": "fragment"
    }
   },
   "outputs": [],
   "source": [
    "# Your solution goes here"
   ]
  },
  {
   "cell_type": "code",
   "execution_count": 25,
   "metadata": {
    "slideshow": {
     "slide_type": "fragment"
    },
    "tags": [
     "hide-cell"
    ]
   },
   "outputs": [],
   "source": [
    "class Person:\n",
    "\n",
    "    # Constructor\n",
    "    def __init__(self, name, age):\n",
    "        self.name = name\n",
    "        self.age = age\n",
    "\n",
    "    # Function that gets the name\n",
    "    def getName(self):\n",
    "        return self.name\n",
    "\n",
    "    # Function that returns if the person is part of the alliance\n",
    "    def isAlliance(self):\n",
    "        return False\n",
    "\n",
    "\n",
    "# Inherited child class\n",
    "class Alliance(Person):\n",
    "\n",
    "    # This will change the isAlliance class to True\n",
    "    def isAlliance(self):\n",
    "        return True\n"
   ]
  },
  {
   "cell_type": "markdown",
   "metadata": {
    "slideshow": {
     "slide_type": "fragment"
    }
   },
   "source": [
    "##### Test\n"
   ]
  },
  {
   "cell_type": "code",
   "execution_count": 26,
   "metadata": {
    "slideshow": {
     "slide_type": "fragment"
    }
   },
   "outputs": [
    {
     "name": "stdout",
     "output_type": "stream",
     "text": [
      "Darth Vader False\n",
      "Luke Skywalker True\n"
     ]
    }
   ],
   "source": [
    "darth_vader = Person(\"Darth Vader\", 56)\n",
    "print(darth_vader.getName(), darth_vader.isAlliance())\n",
    "\n",
    "luke_skywalker = Alliance(\"Luke Skywalker\", 21)\n",
    "print(luke_skywalker.getName(), luke_skywalker.isAlliance())\n"
   ]
  },
  {
   "cell_type": "markdown",
   "metadata": {
    "slideshow": {
     "slide_type": "slide"
    }
   },
   "source": [
    "# Exercise: Classes with Methods for Strings\n",
    "\n",
    "When you build a class there are a bunch of built-in magic methods methods. These can be used to do simple operations\n",
    "\n",
    "In this exercise we are going to use the methods `__str__` and `__repr__`\n",
    "\n",
    "`__str__` - To get called by built-int str() method to return a string representation of a type.\n",
    "\n",
    "`__repr__` - To get called by built-int repr() method to return a machine readable representation of a type.\n",
    "\n",
    "## Tasks\n",
    "\n",
    "1. Build a class called `Person` that records the first name `first_name`, last name `last_name`, and age `age`\n",
    "2. Add built in methods that returns a `__str__` as an f-string. It should read \"{First Name} {Last Name} is {age}\"\n",
    "3. Add built in methods that returns a `__repr__` as an f-string. It should read \"{First Name} {Last Name} is very old, they are {age}\"\n",
    "4. Try this with a person named \"Luke\" \"Skywalker\" age \"80\"\n",
    "5. Since you added the `__str__` and `__repr__` functions the object can act as a string. Try this by printing the object using an f-string.\n",
    "6. You can print the machine readable version using the following syntax `f\"{object!r}\n"
   ]
  },
  {
   "cell_type": "code",
   "execution_count": 27,
   "metadata": {
    "slideshow": {
     "slide_type": "fragment"
    }
   },
   "outputs": [],
   "source": [
    "# Type your code here"
   ]
  },
  {
   "cell_type": "code",
   "execution_count": 28,
   "metadata": {
    "slideshow": {
     "slide_type": "fragment"
    },
    "tags": [
     "hide-cell"
    ]
   },
   "outputs": [],
   "source": [
    "class Person:\n",
    "    def __init__(self, first_name, last_name, age):\n",
    "        self.first_name = first_name\n",
    "        self.last_name = last_name\n",
    "        self.age = age\n",
    "\n",
    "    def __str__(self):\n",
    "        return f\"{self.first_name} {self.last_name} is {self.age}.\"\n",
    "\n",
    "    def __repr__(self):\n",
    "        return f\"{self.first_name} {self.last_name} is very old, they are {self.age}\"\n",
    "\n",
    "new_person = Person(\"Luke\", \"Skywalker\", \"80\")\n"
   ]
  },
  {
   "cell_type": "code",
   "execution_count": 29,
   "metadata": {
    "slideshow": {
     "slide_type": "fragment"
    }
   },
   "outputs": [
    {
     "data": {
      "text/plain": [
       "'Luke Skywalker is 80.'"
      ]
     },
     "execution_count": 29,
     "metadata": {},
     "output_type": "execute_result"
    }
   ],
   "source": [
    "f\"{new_person}\""
   ]
  },
  {
   "cell_type": "code",
   "execution_count": 30,
   "metadata": {
    "scrolled": true,
    "slideshow": {
     "slide_type": "fragment"
    }
   },
   "outputs": [
    {
     "data": {
      "text/plain": [
       "'Luke Skywalker is very old, they are 80'"
      ]
     },
     "execution_count": 30,
     "metadata": {},
     "output_type": "execute_result"
    }
   ],
   "source": [
    "f\"{new_person!r}\""
   ]
  },
  {
   "cell_type": "markdown",
   "metadata": {
    "slideshow": {
     "slide_type": "slide"
    }
   },
   "source": [
    "## `*args` and `**kwargs`\n"
   ]
  },
  {
   "cell_type": "markdown",
   "metadata": {
    "slideshow": {
     "slide_type": "fragment"
    }
   },
   "source": [
    "![](figs/args_kwargs.png)\n"
   ]
  },
  {
   "cell_type": "markdown",
   "metadata": {
    "slideshow": {
     "slide_type": "subslide"
    }
   },
   "source": [
    "### What is Python \\*args ?\n",
    "\n",
    "The special syntax `*args` in function definitions in python is used to pass a variable number of arguments to a function. It is used to pass a non-key worded, variable-length argument list.\n"
   ]
  },
  {
   "cell_type": "markdown",
   "metadata": {
    "slideshow": {
     "slide_type": "fragment"
    }
   },
   "source": [
    "- The syntax is to use the symbol \\* to take in a variable number of arguments; by convention, it is often used with the word args.\n"
   ]
  },
  {
   "cell_type": "markdown",
   "metadata": {
    "slideshow": {
     "slide_type": "fragment"
    }
   },
   "source": [
    "- What *args allows you to do is take in more arguments than the number of formal arguments that you previously defined. With *args, any number of extra arguments can be tacked on to your current formal parameters (including zero extra arguments)\n"
   ]
  },
  {
   "cell_type": "markdown",
   "metadata": {
    "slideshow": {
     "slide_type": "fragment"
    }
   },
   "source": [
    "- For example, we want to make a multiply function that takes any number of arguments and is able to multiply them all together. It can be done using \\*args.\n"
   ]
  },
  {
   "cell_type": "markdown",
   "metadata": {
    "slideshow": {
     "slide_type": "fragment"
    }
   },
   "source": [
    "- Using the _, the variable that we associate with the _ becomes an iterable meaning you can do things like iterate over it, run some higher-order functions such as map and filter, etc.\n"
   ]
  },
  {
   "cell_type": "markdown",
   "metadata": {
    "slideshow": {
     "slide_type": "subslide"
    }
   },
   "source": [
    "#### Example: Simple `*args` Example\n"
   ]
  },
  {
   "cell_type": "code",
   "execution_count": 31,
   "metadata": {
    "slideshow": {
     "slide_type": "fragment"
    }
   },
   "outputs": [
    {
     "name": "stdout",
     "output_type": "stream",
     "text": [
      "Hello\n",
      "Welcome\n",
      "to\n",
      "Drexel\n"
     ]
    }
   ],
   "source": [
    "def myFun(*args):\n",
    "    for arg in args:\n",
    "        print(arg)\n",
    "\n",
    "\n",
    "myFun(\"Hello\", \"Welcome\", \"to\", \"Drexel\")\n"
   ]
  },
  {
   "cell_type": "markdown",
   "metadata": {
    "slideshow": {
     "slide_type": "subslide"
    }
   },
   "source": [
    "#### Example of `*args` with First Extra Argument\n"
   ]
  },
  {
   "cell_type": "code",
   "execution_count": 32,
   "metadata": {
    "slideshow": {
     "slide_type": "fragment"
    }
   },
   "outputs": [
    {
     "name": "stdout",
     "output_type": "stream",
     "text": [
      "First argument : Hello\n",
      "Next argument through *args : Welcome\n",
      "Next argument through *args : to\n",
      "Next argument through *args : Drexel\n"
     ]
    }
   ],
   "source": [
    "def myFun(arg1, *args):\n",
    "    print(\"First argument :\", arg1)\n",
    "    for arg in args:\n",
    "        print(\"Next argument through *args :\", arg)\n",
    "\n",
    "\n",
    "myFun(\"Hello\", \"Welcome\", \"to\", \"Drexel\")\n"
   ]
  },
  {
   "cell_type": "markdown",
   "metadata": {
    "slideshow": {
     "slide_type": "subslide"
    }
   },
   "source": [
    "### What is Python `**kwargs`?\n",
    "\n",
    "The special syntax `**kwargs` in function definitions in python is used to pass a keyworded, variable-length argument list. We use the name kwargs with the double star. The reason is that the double star allows us to pass through keyword arguments (and any number of them).\n"
   ]
  },
  {
   "cell_type": "markdown",
   "metadata": {
    "slideshow": {
     "slide_type": "fragment"
    }
   },
   "source": [
    "- A keyword argument is where you provide a name to the variable as you pass it into the function.\n"
   ]
  },
  {
   "cell_type": "markdown",
   "metadata": {
    "slideshow": {
     "slide_type": "fragment"
    }
   },
   "source": [
    "- One can think of the kwargs as being a dictionary that maps each keyword to the value that we pass alongside it. That is why when we iterate over the kwargs there doesn’t seem to be any order in which they were printed out.\n"
   ]
  },
  {
   "cell_type": "markdown",
   "metadata": {
    "slideshow": {
     "slide_type": "subslide"
    }
   },
   "source": [
    "#### Example using `**kwargs`\n"
   ]
  },
  {
   "cell_type": "code",
   "execution_count": 33,
   "metadata": {
    "slideshow": {
     "slide_type": "fragment"
    }
   },
   "outputs": [
    {
     "name": "stdout",
     "output_type": "stream",
     "text": [
      "first Welcome\n",
      "mid to\n",
      "last Drexel\n"
     ]
    }
   ],
   "source": [
    "def myFun(**kwargs):\n",
    "    for key, value in kwargs.items():\n",
    "        print(f\"{key} {value}\")\n",
    "\n",
    "\n",
    "# Driver code\n",
    "myFun(first=\"Welcome\", mid=\"to\", last=\"Drexel\")\n"
   ]
  },
  {
   "cell_type": "markdown",
   "metadata": {
    "slideshow": {
     "slide_type": "subslide"
    }
   },
   "source": [
    "#### Example using `*args` and `**kwargs`\n"
   ]
  },
  {
   "cell_type": "code",
   "execution_count": 34,
   "metadata": {
    "slideshow": {
     "slide_type": "fragment"
    }
   },
   "outputs": [
    {
     "name": "stdout",
     "output_type": "stream",
     "text": [
      "Version with *args\n",
      "arg1: Welcome\n",
      "arg2: to\n",
      "arg3: Drexel\n"
     ]
    }
   ],
   "source": [
    "def myFun(arg1, arg2, arg3):\n",
    "    print(\"arg1:\", arg1)\n",
    "    print(\"arg2:\", arg2)\n",
    "    print(\"arg3:\", arg3)\n",
    "\n",
    "\n",
    "# Now we can use *args or **kwargs to\n",
    "# pass arguments to this function :\n",
    "print(\"Version with *args\")\n",
    "args = (\"Welcome\", \"to\", \"Drexel\")\n",
    "myFun(*args)"
   ]
  },
  {
   "cell_type": "code",
   "execution_count": 35,
   "metadata": {
    "slideshow": {
     "slide_type": "fragment"
    }
   },
   "outputs": [
    {
     "name": "stdout",
     "output_type": "stream",
     "text": [
      "Version with **kwargs\n",
      "arg1: Welcome\n",
      "arg2: to\n",
      "arg3: Drexel\n"
     ]
    }
   ],
   "source": [
    "print(\"Version with **kwargs\")\n",
    "kwargs = {\"arg1\": \"Welcome\", \"arg2\": \"to\", \"arg3\": \"Drexel\"}\n",
    "myFun(**kwargs)"
   ]
  },
  {
   "cell_type": "code",
   "execution_count": 36,
   "metadata": {
    "slideshow": {
     "slide_type": "fragment"
    }
   },
   "outputs": [
    {
     "name": "stdout",
     "output_type": "stream",
     "text": [
      "args:  ('Welcome', 'to', 'Drexel')\n",
      "kwargs:  {'first': 'Come', 'mid': 'to', 'last': 'Drexel'}\n"
     ]
    }
   ],
   "source": [
    "def myFun(*args, **kwargs):\n",
    "    print(\"args: \", args)\n",
    "    print(\"kwargs: \", kwargs)\n",
    "\n",
    "\n",
    "# Now we can use both *args ,**kwargs\n",
    "# to pass arguments to this function :\n",
    "myFun(\"Welcome\", \"to\", \"Drexel\", first=\"Come\", mid=\"to\", last=\"Drexel\")\n"
   ]
  },
  {
   "cell_type": "markdown",
   "metadata": {
    "slideshow": {
     "slide_type": "subslide"
    }
   },
   "source": [
    "#### Example: Using `*args` and `**kwargs` to set values of object\n"
   ]
  },
  {
   "cell_type": "code",
   "execution_count": 37,
   "metadata": {
    "slideshow": {
     "slide_type": "fragment"
    }
   },
   "outputs": [
    {
     "name": "stdout",
     "output_type": "stream",
     "text": [
      "red\n",
      "250\n"
     ]
    }
   ],
   "source": [
    "class car:  # defining car class\n",
    "    def __init__(self, *args):  # args receives unlimited no. of arguments as an array\n",
    "        self.speed = args[0]  # access args index like array does\n",
    "        self.color = args[1]\n",
    "\n",
    "\n",
    "# creating objects of car class\n",
    "\n",
    "audi = car(200, \"red\")\n",
    "bmw = car(250, \"black\")\n",
    "mb = car(190, \"white\")\n",
    "\n",
    "print(audi.color)\n",
    "print(bmw.speed)\n"
   ]
  },
  {
   "cell_type": "code",
   "execution_count": 38,
   "metadata": {
    "slideshow": {
     "slide_type": "fragment"
    }
   },
   "outputs": [
    {
     "name": "stdout",
     "output_type": "stream",
     "text": [
      "red\n",
      "250\n"
     ]
    }
   ],
   "source": [
    "class car:  # defining car class\n",
    "    def __init__(\n",
    "        self, **kwargs\n",
    "    ):  # args receives unlimited no. of arguments as an array\n",
    "        self.speed = kwargs[\"s\"]  # access args index like array does\n",
    "        self.color = kwargs[\"c\"]\n",
    "\n",
    "\n",
    "# creating objects of car class\n",
    "\n",
    "audi = car(s=200, c=\"red\")\n",
    "bmw = car(s=250, c=\"black\")\n",
    "mb = car(s=190, c=\"white\")\n",
    "\n",
    "print(audi.color)\n",
    "print(bmw.speed)\n"
   ]
  },
  {
   "cell_type": "markdown",
   "metadata": {
    "slideshow": {
     "slide_type": "slide"
    }
   },
   "source": [
    "## Decorators\n",
    "\n",
    "Decorators a very powerful and useful tool in Python since it allows programmers to modify the behavior of a function or class. Decorators allow us to wrap another function in order to extend the behavior of the wrapped function, without permanently modifying it.\n"
   ]
  },
  {
   "cell_type": "markdown",
   "metadata": {
    "slideshow": {
     "slide_type": "subslide"
    }
   },
   "source": [
    "### Example: Recall, Using Functions as Objects\n"
   ]
  },
  {
   "cell_type": "code",
   "execution_count": 39,
   "metadata": {
    "slideshow": {
     "slide_type": "fragment"
    }
   },
   "outputs": [
    {
     "name": "stdout",
     "output_type": "stream",
     "text": [
      "HELLO\n"
     ]
    }
   ],
   "source": [
    "# Python program to illustrate functions\n",
    "# can be treated as objects\n",
    "def shout(text):\n",
    "    return text.upper()\n",
    " \n",
    "print(shout('Hello'))"
   ]
  },
  {
   "cell_type": "code",
   "execution_count": 40,
   "metadata": {
    "slideshow": {
     "slide_type": "fragment"
    }
   },
   "outputs": [
    {
     "name": "stdout",
     "output_type": "stream",
     "text": [
      "HELLO\n"
     ]
    }
   ],
   "source": [
    "yell = shout\n",
    " \n",
    "print(yell('Hello'))"
   ]
  },
  {
   "cell_type": "markdown",
   "metadata": {
    "slideshow": {
     "slide_type": "subslide"
    }
   },
   "source": [
    "### Example: Passing a Function as an Argument\n"
   ]
  },
  {
   "cell_type": "code",
   "execution_count": 41,
   "metadata": {
    "slideshow": {
     "slide_type": "fragment"
    }
   },
   "outputs": [
    {
     "name": "stdout",
     "output_type": "stream",
     "text": [
      "HI, I AM CREATED BY A FUNCTION PASSED AS AN ARGUMENT.\n",
      "hi, i am created by a function passed as an argument.\n"
     ]
    }
   ],
   "source": [
    "# Python program to illustrate functions\n",
    "# can be passed as arguments to other functions\n",
    "def shout(text):\n",
    "\treturn text.upper()\n",
    "\n",
    "def whisper(text):\n",
    "\treturn text.lower()\n",
    "\n",
    "def greet(func):\n",
    "\t# storing the function in a variable\n",
    "\tgreeting = func(\"\"\"Hi, I am created by a function passed as an argument.\"\"\")\n",
    "\tprint (greeting)\n",
    "\n",
    "greet(shout)\n",
    "greet(whisper)\n"
   ]
  },
  {
   "cell_type": "markdown",
   "metadata": {
    "slideshow": {
     "slide_type": "subslide"
    }
   },
   "source": [
    "### Example: Returning a Function from Another Function\n"
   ]
  },
  {
   "cell_type": "code",
   "execution_count": 42,
   "metadata": {
    "slideshow": {
     "slide_type": "fragment"
    }
   },
   "outputs": [
    {
     "name": "stdout",
     "output_type": "stream",
     "text": [
      "25\n"
     ]
    }
   ],
   "source": [
    "# Python program to illustrate functions\n",
    "# Functions can return another function\n",
    " \n",
    "def create_adder(x):\n",
    "    def adder(y):\n",
    "        return x+y\n",
    " \n",
    "    return adder\n",
    " \n",
    "add_15 = create_adder(15)\n",
    " \n",
    "print(add_15(10))"
   ]
  },
  {
   "cell_type": "markdown",
   "metadata": {
    "slideshow": {
     "slide_type": "fragment"
    }
   },
   "source": [
    "In the above example, we have created a function inside of another function and then have returned the function created inside\n"
   ]
  },
  {
   "cell_type": "markdown",
   "metadata": {
    "slideshow": {
     "slide_type": "fragment"
    }
   },
   "source": [
    "The above three examples depict the important concepts that are needed to understand decorators. After going through them let us now dive deep into decorators\n"
   ]
  },
  {
   "cell_type": "markdown",
   "metadata": {
    "slideshow": {
     "slide_type": "subslide"
    }
   },
   "source": [
    "### Syntax for Decorators\n"
   ]
  },
  {
   "cell_type": "markdown",
   "metadata": {
    "slideshow": {
     "slide_type": "fragment"
    }
   },
   "source": [
    "```python\n",
    "@gfg_decorator\n",
    "def hello_decorator():\n",
    "    print(\"Gfg\")\n",
    "\n",
    "'''Above code is equivalent to -\n",
    "\n",
    "def hello_decorator():\n",
    "    print(\"Gfg\")\n",
    "\n",
    "hello_decorator = gfg_decorator(hello_decorator)'''\n",
    "```\n"
   ]
  },
  {
   "cell_type": "markdown",
   "metadata": {
    "slideshow": {
     "slide_type": "fragment"
    }
   },
   "source": [
    "In the above code, gfg_decorator is a callable function, that will add some code on the top of some another callable function, hello_decorator function and return the wrapper function\n"
   ]
  },
  {
   "cell_type": "markdown",
   "metadata": {
    "slideshow": {
     "slide_type": "subslide"
    }
   },
   "source": [
    "### Example of How Decorators Modify Behavior\n"
   ]
  },
  {
   "cell_type": "code",
   "execution_count": 43,
   "metadata": {
    "slideshow": {
     "slide_type": "fragment"
    }
   },
   "outputs": [],
   "source": [
    "# defining a decorator\n",
    "def hello_decorator(func):\n",
    "\n",
    "\t# inner1 is a Wrapper function in\n",
    "\t# which the argument is called\n",
    "\t\n",
    "\t# inner function can access the outer local\n",
    "\t# functions like in this case \"func\"\n",
    "\tdef inner1():\n",
    "\t\tprint(\"Hello, this is before function execution\")\n",
    "\n",
    "\t\t# calling the actual function now\n",
    "\t\t# inside the wrapper function.\n",
    "\t\tfunc()\n",
    "\n",
    "\t\tprint(\"This is after function execution\")\n",
    "\t\t\n",
    "\treturn inner1"
   ]
  },
  {
   "cell_type": "code",
   "execution_count": 44,
   "metadata": {
    "slideshow": {
     "slide_type": "fragment"
    }
   },
   "outputs": [],
   "source": [
    "# defining a function, to be called inside wrapper\n",
    "def function_to_be_used():\n",
    "\tprint(\"This is inside the function !!\")"
   ]
  },
  {
   "cell_type": "code",
   "execution_count": 45,
   "metadata": {
    "slideshow": {
     "slide_type": "fragment"
    }
   },
   "outputs": [],
   "source": [
    "# passing 'function_to_be_used' inside the\n",
    "# decorator to control its behavior\n",
    "function_to_be_used = hello_decorator(function_to_be_used)"
   ]
  },
  {
   "cell_type": "code",
   "execution_count": 46,
   "metadata": {
    "slideshow": {
     "slide_type": "fragment"
    }
   },
   "outputs": [
    {
     "name": "stdout",
     "output_type": "stream",
     "text": [
      "Hello, this is before function execution\n",
      "This is inside the function !!\n",
      "This is after function execution\n"
     ]
    }
   ],
   "source": [
    "# calling the function\n",
    "function_to_be_used()"
   ]
  },
  {
   "cell_type": "markdown",
   "metadata": {
    "slideshow": {
     "slide_type": "subslide"
    }
   },
   "source": [
    "Let’s see the behavior of the above code and how it runs step by step when the “function_to_be_used” is called.\n",
    "\n",
    "![](figs/decorators_step.png)\n",
    "\n",
    "![](figs/decorators_step2.png)\n"
   ]
  },
  {
   "cell_type": "markdown",
   "metadata": {
    "slideshow": {
     "slide_type": "subslide"
    }
   },
   "source": [
    "### Decorator Example with Returns\n"
   ]
  },
  {
   "cell_type": "code",
   "execution_count": 47,
   "metadata": {
    "slideshow": {
     "slide_type": "fragment"
    }
   },
   "outputs": [
    {
     "name": "stdout",
     "output_type": "stream",
     "text": [
      "before Execution\n",
      "Inside the function\n",
      "after Execution\n",
      "Sum = 3\n"
     ]
    }
   ],
   "source": [
    "def hello_decorator(func):\n",
    "    def inner1(*args, **kwargs):\n",
    "\n",
    "        print(\"before Execution\")\n",
    "\n",
    "        # getting the returned value\n",
    "        returned_value = func(*args, **kwargs)\n",
    "        print(\"after Execution\")\n",
    "\n",
    "        # returning the value to the original frame\n",
    "        return returned_value\n",
    "\n",
    "    return inner1\n",
    "\n",
    "\n",
    "# adding decorator to the function\n",
    "@hello_decorator\n",
    "def sum_two_numbers(a, b):\n",
    "    print(\"Inside the function\")\n",
    "    return a + b\n",
    "\n",
    "\n",
    "a, b = 1, 2\n",
    "\n",
    "# getting the value through return of the function\n",
    "print(\"Sum =\", sum_two_numbers(a, b))\n"
   ]
  }
 ],
 "metadata": {
  "celltoolbar": "Tags",
  "kernelspec": {
   "display_name": "Python 3 (ipykernel)",
   "language": "python",
   "name": "python3"
  },
  "language_info": {
   "codemirror_mode": {
    "name": "ipython",
    "version": 3
   },
   "file_extension": ".py",
   "mimetype": "text/x-python",
   "name": "python",
   "nbconvert_exporter": "python",
   "pygments_lexer": "ipython3",
   "version": "3.10.0"
  },
  "vscode": {
   "interpreter": {
    "hash": "e835d8de9a0409e820855848a60c95be96ca5080ca1ac35ced475904bcfc4405"
   }
  }
 },
 "nbformat": 4,
 "nbformat_minor": 2
}