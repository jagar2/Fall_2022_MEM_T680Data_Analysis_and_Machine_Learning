{
 "cells": [
  {
   "cell_type": "markdown",
   "metadata": {
    "id": "5fCEDCU_qrC0",
    "slideshow": {
     "slide_type": "slide"
    }
   },
   "source": [
    "# Welcome to Colaboratory"
   ]
  },
  {
   "cell_type": "markdown",
   "metadata": {
    "id": "5fCEDCU_qrC0",
    "slideshow": {
     "slide_type": "fragment"
    }
   },
   "source": [
    "Colab, or \"Colaboratory,\" allows you to write and execute Python in your browser, with\n",
    "\n",
    "- Zero configuration required\n",
    "- Access to GPUs free of charge\n",
    "- Easy sharing"
   ]
  },
  {
   "cell_type": "markdown",
   "metadata": {
    "id": "5fCEDCU_qrC0",
    "slideshow": {
     "slide_type": "fragment"
    }
   },
   "source": [
    "Whether you're a **student**, a **data scientist**, or an **AI** researcher**, Colab can make your work easier. Watch [Introduction to Colab](https://www.youtube.com/watch?v=inN8seMm7UI) to learn more, or just get started below!"
   ]
  },
  {
   "cell_type": "markdown",
   "metadata": {
    "slideshow": {
     "slide_type": "fragment"
    }
   },
   "source": [
    "All of the material in this course can be opened in colaboratory using the rocketship icon from the JupyterBook\n"
   ]
  },
  {
   "cell_type": "markdown",
   "metadata": {
    "id": "GJBs_flRovLc",
    "slideshow": {
     "slide_type": "subslide"
    }
   },
   "source": [
    "## **Getting started**\n",
    "\n",
    "The document you are reading is not a static web page, but an interactive environment called a **Colab notebook** that lets you write and execute code.\n",
    "\n",
    "For example, here is a **code cell** with a short Python script that computes a value, stores it in a variable, and prints the result:\n"
   ]
  },
  {
   "cell_type": "code",
   "execution_count": 1,
   "metadata": {
    "colab": {
     "base_uri": "https://localhost:8080/",
     "height": 34
    },
    "id": "gJr_9dXGpJ05",
    "outputId": "9f556d03-ec67-4950-a485-cfdba9ddd14d",
    "slideshow": {
     "slide_type": "fragment"
    }
   },
   "outputs": [
    {
     "data": {
      "text/plain": [
       "86400"
      ]
     },
     "execution_count": 1,
     "metadata": {},
     "output_type": "execute_result"
    }
   ],
   "source": [
    "seconds_in_a_day = 24 * 60 * 60\n",
    "seconds_in_a_day\n"
   ]
  },
  {
   "cell_type": "markdown",
   "metadata": {
    "id": "2fhs6GZ4qFMx",
    "slideshow": {
     "slide_type": "fragment"
    }
   },
   "source": [
    "To execute the code in the above cell, select it with a click and then either press the play button to the left of the code or use the keyboard shortcut \"Command/Ctrl+Enter.\" To edit the code, click the cell and start editing.\n",
    "\n",
    "Variables that you define in one cell can later be used in other cells:\n"
   ]
  },
  {
   "cell_type": "code",
   "execution_count": 2,
   "metadata": {
    "colab": {
     "base_uri": "https://localhost:8080/",
     "height": 34
    },
    "id": "-gE-Ez1qtyIA",
    "outputId": "94cb2224-0edf-457b-90b5-0ac3488d8a97",
    "slideshow": {
     "slide_type": "fragment"
    }
   },
   "outputs": [
    {
     "data": {
      "text/plain": [
       "604800"
      ]
     },
     "execution_count": 2,
     "metadata": {},
     "output_type": "execute_result"
    }
   ],
   "source": [
    "seconds_in_a_week = 7 * seconds_in_a_day\n",
    "seconds_in_a_week\n"
   ]
  },
  {
   "cell_type": "markdown",
   "metadata": {
    "id": "lSrWNr3MuFUS",
    "slideshow": {
     "slide_type": "fragment"
    }
   },
   "source": [
    "Colab notebooks allow you to combine **executable code** and **rich text** in a single document, along with **images**, **HTML, **LaTeX**, and more. \n",
    "* When you create your own Colab notebooks, they are stored in your Google Drive account. \n",
    "* You can easily share your Colab notebooks with co-workers or friends, allowing them to comment on your notebooks or edit them. To learn more, see [Overview of Colab](/notebooks/basic_features_overview.ipynb). \n",
    "* To create a new Colab notebook, use the File menu above or the following link: [create a new Colab notebook](http://colab.research.google.com#create=true).\n",
    "\n",
    "Colab notebooks are Jupyter notebooks that Colab hosts. To learn more about the Jupyter project, see [jupyter.org](https://www.jupyter.org).\n"
   ]
  },
  {
   "cell_type": "markdown",
   "metadata": {
    "id": "UdRyKR44dcNI",
    "slideshow": {
     "slide_type": "slide"
    }
   },
   "source": [
    "<div class=\"markdown-google-sans\">\n",
    "\n",
    "## Data Science\n",
    "\n",
    "</div>\n",
    "With Colab, you can harness the full power of popular Python libraries to analyze and visualize data. The code cell below uses **numpy** to generate some random data and uses **matplotlib** to visualize it. To edit the code, click the cell and start editing.\n"
   ]
  },
  {
   "cell_type": "code",
   "execution_count": 3,
   "metadata": {
    "colab": {
     "base_uri": "https://localhost:8080/",
     "height": 281
    },
    "id": "C4HZx7Gndbrh",
    "outputId": "46abc637-6abd-41b2-9bba-80a7ae992e06",
    "slideshow": {
     "slide_type": "fragment"
    }
   },
   "outputs": [
    {
     "data": {
      "image/png": "[encoded data removed]",
      "text/plain": [
       "<Figure size 432x288 with 1 Axes>"
      ]
     },
     "metadata": {
      "filenames": {
       "image/png": "C:\\Users\\jca92\\Documents\\Codes\\Fall_2022_MEM_T680Data_Analysis_and_Machine_Learning\\jupyterbook\\_build\\jupyter_execute\\Topic_2\\4_working_in_colab\\Welcome_To_Colaboratory_10_0.png"
      },
      "needs_background": "light"
     },
     "output_type": "display_data"
    }
   ],
   "source": [
    "import numpy as np\n",
    "from matplotlib import pyplot as plt\n",
    "\n",
    "ys = 200 + np.random.randn(100)\n",
    "x = [x for x in range(len(ys))]\n",
    "\n",
    "plt.plot(x, ys, \"k-\")\n",
    "plt.fill_between(x, ys, 195, where=(ys > 195), facecolor=\"g\", alpha=0.6)\n",
    "\n",
    "plt.title(\"Sample Visualization\")\n",
    "plt.show()"
   ]
  },
  {
   "cell_type": "markdown",
   "metadata": {
    "id": "4_kCnsPUqS6o",
    "slideshow": {
     "slide_type": "fragment"
    }
   },
   "source": [
    "You can import your data into Colab notebooks from your Google Drive account, including from spreadsheets, as well as from Github and many other sources. To learn more about importing data, and how Colab can be used for data science, see the links below under [Working with Data](#working-with-data).\n"
   ]
  },
  {
   "cell_type": "markdown",
   "metadata": {
    "id": "OwuxHmxllTwN",
    "slideshow": {
     "slide_type": "slide"
    }
   },
   "source": [
    "## Machine learning\n",
    "With Colab, you can import an image dataset, train an image classifier on it, and evaluate the model, all in just [a few lines of code](https://colab.research.google.com/github/tensorflow/docs/blob/master/site/en/tutorials/quickstart/beginner.ipynb). Colab notebooks execute code on Google's cloud servers, meaning you can leverage the power of Google hardware, including [GPUs and TPUs](#using-accelerated-hardware), regardless of the power of your machine. All you need is a browser.\n"
   ]
  },
  {
   "cell_type": "markdown",
   "metadata": {
    "id": "tMce8muBqXQP",
    "slideshow": {
     "slide_type": "subslide"
    }
   },
   "source": [
    "## Colab with GPU\n",
    "\n",
    "This notebook provides an introduction to computing on a [GPU](https://cloud.google.com/gpu) in Colab. In this notebook, you will connect to a GPU and then run some basic TensorFlow operations on both the CPU and a GPU, observing the speedup provided by using the GPU.\n"
   ]
  },
  {
   "cell_type": "markdown",
   "metadata": {
    "id": "oM_8ELnJq_wd",
    "slideshow": {
     "slide_type": "fragment"
    }
   },
   "source": [
    "### Enabling and testing the GPU\n",
    "\n",
    "First, you'll need to enable GPUs for the notebook:\n",
    "\n",
    "- Navigate to Edit→Notebook Settings\n",
    "- select GPU from the Hardware Accelerator drop-down\n",
    "\n",
    "Next, we'll confirm that we can connect to the GPU with TensorFlow:\n"
   ]
  },
  {
   "cell_type": "code",
   "execution_count": 4,
   "metadata": {
    "colab": {
     "base_uri": "https://localhost:8080/",
     "height": 51
    },
    "id": "sXnDmXR7RDr2",
    "outputId": "230c8c7a-13fd-46b3-c5b1-9c6330cfd846",
    "slideshow": {
     "slide_type": "fragment"
    },
    "tags": [
     "no-execute"
    ]
   },
   "outputs": [
    {
     "name": "stdout",
     "output_type": "stream",
     "text": [
      "Found GPU at: /device:GPU:0\n"
     ]
    }
   ],
   "source": [
    "import tensorflow as tf\n",
    "\n",
    "device_name = tf.test.gpu_device_name()\n",
    "if device_name != \"/device:GPU:0\":\n",
    "    raise SystemError(\"GPU device not found\")\n",
    "print(\"Found GPU at: {}\".format(device_name))"
   ]
  },
  {
   "cell_type": "markdown",
   "metadata": {
    "id": "v3fE7KmKRDsH",
    "slideshow": {
     "slide_type": "subslide"
    }
   },
   "source": [
    "## Observe TensorFlow speedup on GPU relative to CPU\n",
    "\n",
    "This example constructs a typical convolutional neural network layer over a\n",
    "random image and manually places the resulting ops on the CPU or the GPU\n",
    "to compare execution speed.\n"
   ]
  },
  {
   "cell_type": "code",
   "execution_count": 5,
   "metadata": {
    "colab": {
     "base_uri": "https://localhost:8080/",
     "height": 139
    },
    "id": "Y04m-jvKRDsJ",
    "outputId": "bb32a619-b9f8-4866-fe6a-40d8c5341e7e",
    "slideshow": {
     "slide_type": "fragment"
    },
    "tags": [
     "no-execute"
    ]
   },
   "outputs": [
    {
     "name": "stdout",
     "output_type": "stream",
     "text": [
      "Time (s) to co nvolve 32x7x7x3 filter over random 100x100x100x3 images (batch x height x width x channel). Sum of ten runs.\n",
      "CPU (s):\n"
     ]
    },
    {
     "name": "stdout",
     "output_type": "stream",
     "text": [
      "0.5099008999968646\n",
      "GPU (s):\n",
      "0.025769299987587146\n",
      "GPU speedup over CPU: 19x\n"
     ]
    }
   ],
   "source": [
    "import tensorflow as tf\n",
    "import timeit\n",
    "\n",
    "device_name = tf.test.gpu_device_name()\n",
    "if device_name != \"/device:GPU:0\":\n",
    "    print(\n",
    "        \"\\n\\nThis error most likely means that this notebook is not \"\n",
    "        \"configured to use a GPU.  Change this in Notebook Settings via the \"\n",
    "        \"command palette (cmd/ctrl-shift-P) or the Edit menu.\\n\\n\"\n",
    "    )\n",
    "    raise SystemError(\"GPU device not found\")\n",
    "\n",
    "\n",
    "def cpu():\n",
    "    with tf.device(\"/cpu:0\"):\n",
    "        random_image_cpu = tf.random.normal((100, 100, 100, 3))\n",
    "        net_cpu = tf.keras.layers.Conv2D(32, 7)(random_image_cpu)\n",
    "        return tf.math.reduce_sum(net_cpu)\n",
    "\n",
    "\n",
    "def gpu():\n",
    "    with tf.device(\"/device:GPU:0\"):\n",
    "        random_image_gpu = tf.random.normal((100, 100, 100, 3))\n",
    "        net_gpu = tf.keras.layers.Conv2D(32, 7)(random_image_gpu)\n",
    "        return tf.math.reduce_sum(net_gpu)\n",
    "\n",
    "\n",
    "# We run each op once to warm up; see: https://stackoverflow.com/a/45067900\n",
    "cpu()\n",
    "gpu()\n",
    "\n",
    "# Run the op several times.\n",
    "print(\n",
    "    \"Time (s) to co nvolve 32x7x7x3 filter over random 100x100x100x3 images \"\n",
    "    \"(batch x height x width x channel). Sum of ten runs.\"\n",
    ")\n",
    "print(\"CPU (s):\")\n",
    "cpu_time = timeit.timeit(\"cpu()\", number=10, setup=\"from __main__ import cpu\")\n",
    "print(cpu_time)\n",
    "print(\"GPU (s):\")\n",
    "gpu_time = timeit.timeit(\"gpu()\", number=10, setup=\"from __main__ import gpu\")\n",
    "print(gpu_time)\n",
    "print(\"GPU speedup over CPU: {}x\".format(int(cpu_time / gpu_time)))"
   ]
  },
  {
   "cell_type": "markdown",
   "metadata": {
    "id": "ufxBm1yRnruN",
    "slideshow": {
     "slide_type": "subslide"
    }
   },
   "source": [
    "## Applications of Google Colab\n",
    "\n",
    "Colab is used extensively in the machine learning community with applications including:\n",
    "\n",
    "- Getting started with TensorFlow\n",
    "- Developing and training neural networks\n",
    "- Experimenting with TPUs\n",
    "- Disseminating AI research\n",
    "- Creating tutorials\n",
    "\n",
    "See sample Colab notebooks that demonstrate machine learning applications, see the [machine learning examples](#machine-learning-examples) below.\n"
   ]
  }
 ],
 "metadata": {
  "celltoolbar": "Slideshow",
  "colab": {
   "collapsed_sections": [],
   "name": "Welcome To Colaboratory",
   "provenance": [],
   "toc_visible": true
  },
  "kernelspec": {
   "display_name": "Python 3 (ipykernel)",
   "language": "python",
   "name": "python3"
  },
  "language_info": {
   "codemirror_mode": {
    "name": "ipython",
    "version": 3
   },
   "file_extension": ".py",
   "mimetype": "text/x-python",
   "name": "python",
   "nbconvert_exporter": "python",
   "pygments_lexer": "ipython3",
   "version": "3.10.0"
  },
  "vscode": {
   "interpreter": {
    "hash": "b0fa6594d8f4cbf19f97940f81e996739fb7646882a419484c72d19e05852a7e"
   }
  }
 },
 "nbformat": 4,
 "nbformat_minor": 1
}