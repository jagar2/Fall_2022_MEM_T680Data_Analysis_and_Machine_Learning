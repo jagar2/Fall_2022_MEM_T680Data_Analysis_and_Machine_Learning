{
 "cells": [
  {
   "cell_type": "markdown",
   "metadata": {},
   "source": [
    "# Final Exam Assignment (40 points - Total of 45 is Possible)\n",
    "## Due December 7, 2022, @ 8:00 am\n",
    "Note that there will be no extensions given for this assignment as there is a tight timeline for grading. \n",
    "\n",
    "For this assignment, I have provided each of you with your own training dataset. Your goal is to train a deep neural network to uncover the code image provided to you. \n",
    "\n",
    "I will provide you with instructions throughout. "
   ]
  },
  {
   "cell_type": "code",
   "execution_count": null,
   "metadata": {},
   "outputs": [],
   "source": [
    "# Add your import statements here"
   ]
  },
  {
   "cell_type": "code",
   "execution_count": null,
   "metadata": {
    "tags": [
     "skip-execution"
    ]
   },
   "outputs": [],
   "source": [
    "# This is a tool I have provided you to help you download your file.\n",
    "\n",
    "def download_file(url, filename):\n",
    "    \"\"\"\n",
    "    A function that downloads the data file from a URL\n",
    "    Parameters\n",
    "    ----------\n",
    "    url : string\n",
    "        url where the file to download is located\n",
    "    filename : string\n",
    "        location where to save the file\n",
    "    reporthook : function\n",
    "        callback to display the download progress\n",
    "    \"\"\"\n",
    "    if not os.path.isfile(filename):\n",
    "        urllib.request.urlretrieve(url, filename, reporthook)\n",
    "        \n",
    "def reporthook(count, block_size, total_size):\n",
    "    \"\"\"\n",
    "    A function that displays the status and speed of the download\n",
    "    \"\"\"\n",
    "\n",
    "    global start_time\n",
    "    if count == 0:\n",
    "        start_time = time.time()\n",
    "        return\n",
    "    duration = time.time() - start_time\n",
    "    progress_size = int(count * block_size)\n",
    "    speed = int(progress_size / (1024 * duration + 0.0001))\n",
    "    percent = int(count * block_size * 100 / total_size)\n",
    "    sys.stdout.write(\"\\r...%d%%, %d MB, %d KB/s, %d seconds passed\" %\n",
    "                     (percent, progress_size / (1024 * 1024), speed, duration))\n",
    "    sys.stdout.flush()"
   ]
  },
  {
   "cell_type": "code",
   "execution_count": null,
   "metadata": {
    "tags": [
     "skip-execution"
    ]
   },
   "outputs": [],
   "source": [
    "# You can download your file by typing your first name into the name block\n",
    "# The name used is the first part of your first name as listed in BB learn\n",
    "# If you have problems downloading the data please reach out to me\n",
    "\n",
    "name = 'Your First Name Here'\n",
    "download_file(f'https://zenodo.org/record/7339649/files/data_{name}.npz?download=1','data.npz')"
   ]
  },
  {
   "cell_type": "markdown",
   "metadata": {},
   "source": [
    "## Loading the Data (3 points)\n",
    "The data is provided to you as a compressed NumPy array saved as 'data.npz'. When working with real data you might need to figure out how data is stored. Use the information on 'npz' files to figure out what data you have. The data file contains three NumPy arrays. \n",
    "1. The features for the training dataset\n",
    "2. The regression values for the training dataset\n",
    "3. The validation features that contain your code"
   ]
  },
  {
   "cell_type": "code",
   "execution_count": null,
   "metadata": {},
   "outputs": [],
   "source": [
    "# Your Code goes here"
   ]
  },
  {
   "cell_type": "markdown",
   "metadata": {},
   "source": [
    "## Preprocessing the Data (5 points)\n",
    "\n",
    "You should explore the data and figure out the best way to preprocess the data. \n",
    "\n",
    "Hints: \n",
    "1. For the regression values, these at the end will represent colors in RGB space from [0,1]. It is recommended to use a max-min scalar between 0 and 1. \n",
    "2. For the training features, you should look at the data and determine the best scaling method. Look at our class notes for a reminder of what other scaler might be useful. "
   ]
  },
  {
   "cell_type": "code",
   "execution_count": null,
   "metadata": {},
   "outputs": [],
   "source": [
    "# Your code goes here"
   ]
  },
  {
   "cell_type": "markdown",
   "metadata": {},
   "source": [
    "## Building the Dataset (5 points)\n",
    "\n",
    "When training neural networks it is important to build a dataset that allows the machinery to sample the data. This also can be used to conduct some preprocessing of the data to make it work with PyTorch. \n",
    "\n",
    "I have provided you with the framework for a Dataset Class. \n",
    "\n",
    "You should:\n",
    "1. Convert the x and y data to a tensor 'float32' and put it on the GPU.\n",
    "2. Save the len of the data\n",
    "3. Add the code so when `__getitem__` is called it returns the x and y values\n",
    "3. make it so `__len__` returns the lenght when calle\n"
   ]
  },
  {
   "cell_type": "code",
   "execution_count": null,
   "metadata": {
    "tags": [
     "skip-execution"
    ]
   },
   "outputs": [],
   "source": [
    "class Data(Dataset):\n",
    "  '''Dataset Class to store the samples and their corresponding labels, \n",
    "  and DataLoader wraps an iterable around the Dataset to enable easy access to the samples.\n",
    "  '''\n",
    "\n",
    "  def __init__(self, X: np.ndarray, y: np.ndarray, device = 'cuda') -> None:\n",
    "\n",
    "    # need to convert float64 to float32 else \n",
    "    # will get the following error\n",
    "    # RuntimeError: expected scalar type Double but found Float\n",
    "    self.X = # here\n",
    "    self.y = # here\n",
    "    self.len = # here\n",
    "  \n",
    "  def __getitem__(self, index: int) -> tuple:\n",
    "    return # here\n",
    "\n",
    "  def __len__(self) -> int:\n",
    "    return #here"
   ]
  },
  {
   "cell_type": "markdown",
   "metadata": {},
   "source": [
    "## Train-test Split (3 points)\n",
    "\n",
    "1. You should conduct a train-test split of the training data so you can make sure that your model does not overfit the data. A good ratio is 66/33 train \n",
    "2. You should instantiate the training dataset using the data class implemented above.\n"
   ]
  },
  {
   "cell_type": "code",
   "execution_count": null,
   "metadata": {},
   "outputs": [],
   "source": [
    "# Your code goes here"
   ]
  },
  {
   "cell_type": "markdown",
   "metadata": {},
   "source": [
    "## Build the Dataloader (3 points)\n",
    "\n",
    "Pytorch uses DataLoaders to efficiently sample from a training dataset. Instantiate a Pytorch DataLoader using the dataset. \n",
    "\n",
    "You should set the following parameters:\n",
    "1. Batch size = 64\n",
    "2. Shuffle = True"
   ]
  },
  {
   "cell_type": "code",
   "execution_count": null,
   "metadata": {},
   "outputs": [],
   "source": [
    "# Your code goes here"
   ]
  },
  {
   "cell_type": "markdown",
   "metadata": {},
   "source": [
    "## Building a Neural Network (5 points)\n",
    "\n",
    "Using the provided class framework which inherits the `nn.Module` type in PyTorch builds a 4-layer neural network to complete the multiple regression.\n",
    "\n"
   ]
  },
  {
   "cell_type": "code",
   "execution_count": null,
   "metadata": {
    "tags": [
     "skip-execution"
    ]
   },
   "outputs": [],
   "source": [
    "class Neural_Network(nn.Module):\n",
    "  ''' Regression Model\n",
    "  ''' \n",
    "\n",
    "  # note, you can ignore the `:int` and `-> None` this is just more advanced doctring syntax\n",
    "  def __init__(self, input_dim: int, hidden_dim: int, output_dim: int) -> None:\n",
    "      '''The network has 4 layers\n",
    "            - input layer\n",
    "            - ReLu\n",
    "            - hidden layer\n",
    "            - ReLu\n",
    "            - hidden layer\n",
    "            - ReLu\n",
    "            - output layer\n",
    "      '''\n",
    "      super(Neural_Network, self).__init__()\n",
    "      # in this part you should intantiate each of the layer components\n",
    "      # Type your code here\n",
    "\n",
    "  def forward(self, x: torch.Tensor) -> torch.Tensor:\n",
    "      # In this part you should build a model that returns the 3 outputs of the regression\n",
    "      # Type your code here\n",
    "      \n",
    "      return x"
   ]
  },
  {
   "cell_type": "markdown",
   "metadata": {},
   "source": [
    "## Instantiate the Model (3 points)\n",
    "\n"
   ]
  },
  {
   "cell_type": "code",
   "execution_count": null,
   "metadata": {
    "tags": [
     "skip-execution"
    ]
   },
   "outputs": [],
   "source": [
    "# number of features (len of X cols)\n",
    "input_dim = \n",
    "# number of hidden layers set this to 50\n",
    "hidden_layers = \n",
    "# Add the number of output dimensions\n",
    "output_dim ="
   ]
  },
  {
   "cell_type": "code",
   "execution_count": null,
   "metadata": {
    "tags": [
     "skip-execution"
    ]
   },
   "outputs": [],
   "source": [
    "# initiate the regression model\n",
    "# make sure to put it on your GPU\n",
    "model = \n",
    "print(model)\n",
    "\n",
    "# criterion to computes the loss between input and target\n",
    "# Choose a good criteria\n",
    "\n",
    "# optimizer that will be used to update weights and biases\n",
    "# you can choose any optimizer. I would recommend ADAM.\n",
    "# This problem should not be hard to optimize. A good starting learning rate is 3e-5. "
   ]
  },
  {
   "cell_type": "markdown",
   "metadata": {},
   "source": [
    "## Train the Model (5 points)\n",
    "\n",
    "Training the model is conducted in a number of steps using loops.\n",
    "\n",
    "1. Set up a loop for each epoch\n",
    "2. Set a parameter to save the running loss\n",
    "3. Set up a nested loop that goes through the batches from the DataLoader you built\n",
    "    - I would recommend using enumerate to include the counts in the loop\n",
    "    - The dataloader will return a tuple that is the inputs and the labels\n",
    "4. Conduct the forward propagation of the model\n",
    "    - Give the model the inputs and compute the outputs\n",
    "    - Compute the loss given the criteria. \n",
    "5. Use the zero gradient method to remove the gradients from the optimizer\n",
    "6. Use the backward method to compute the gradients\n",
    "7. Use the step method in the optimizer to take an optimization step\n",
    "8. Compute the running loss by calling the item method and adding it to the running loss for each minibatch\n",
    "9. For each epoch print the epoch and the loss\n",
    "\n",
    "Note: If you find this challenging I would recommend that you look at examples of other pytorch training loops online. This is a very standard workflow. "
   ]
  },
  {
   "cell_type": "code",
   "execution_count": null,
   "metadata": {
    "tags": [
     "skip-execution"
    ]
   },
   "outputs": [],
   "source": [
    "# start training\n",
    "epochs = # sets the number of epochs to train 20 should be sufficent.\n",
    "# This should take about 5-10 minutes to train.\n",
    "\n",
    "# Your code should go here"
   ]
  },
  {
   "cell_type": "markdown",
   "metadata": {},
   "source": [
    "## Validate the Model (3 points)\n",
    "\n",
    "Use the test dataset from the train-test split to make sure your model is not overfitting\n",
    "\n",
    "1. You can build a dataloader as you did before, this time with the test data.\n",
    "2. Build a validation loop, which you should use `with torch.no_grad()` to make sure you do not modify the gradients, or weights. This will fix your model. \n",
    "3. Instantiate the loss to be 0.\n",
    "4. Build a similar loop to grab the validation dataset. \n",
    "5. Compute the predictions with the model.\n",
    "6. Compute the loss using your loss criteria.\n",
    "7. Print the final loss determined."
   ]
  },
  {
   "cell_type": "code",
   "execution_count": null,
   "metadata": {},
   "outputs": [],
   "source": [
    "# Your code goes here"
   ]
  },
  {
   "cell_type": "markdown",
   "metadata": {},
   "source": [
    "<p style=\"color:blue\"> Question: Is your model overfitting or not? How do you know? (3 points) </p>"
   ]
  },
  {
   "cell_type": "markdown",
   "metadata": {},
   "source": [
    "Type your response here"
   ]
  },
  {
   "cell_type": "markdown",
   "metadata": {},
   "source": [
    "## Crack Your Code (3 points)\n",
    "\n",
    "1. You can build a dataloader as you did before, this time with the validation features to view your code.\n",
    "2. Build a loop, you should use `with torch.no_grad()` to make sure you do not modify the gradients or weights. This will fix your model. \n",
    "3. Compute the predictions of your model. \n",
    "    - Make sure you do all the same preprocess, the data has the same datatype, and is on the same device"
   ]
  },
  {
   "cell_type": "code",
   "execution_count": null,
   "metadata": {},
   "outputs": [],
   "source": [
    "# Your code goes here"
   ]
  },
  {
   "cell_type": "markdown",
   "metadata": {},
   "source": [
    "## Reveal Your Code (3 points)\n",
    "\n",
    "Your code is an image. there are (65536, 3) predictions this corresponds to a (256,256,3) RGB image. \n",
    "1. Use the detach() method to remove the gradients from the tensor\n",
    "2. Transfer the tensor back to the 'cpu' if you had it on a GPU\n",
    "3. Reshape the image into a 256,256,3 array. \n",
    "4. Plot your successful result."
   ]
  },
  {
   "cell_type": "code",
   "execution_count": null,
   "metadata": {},
   "outputs": [],
   "source": [
    "# Your Code goes here"
   ]
  }
 ],
 "metadata": {
  "kernelspec": {
   "display_name": "Python 3 (ipykernel)",
   "language": "python",
   "name": "python3"
  },
  "language_info": {
   "codemirror_mode": {
    "name": "ipython",
    "version": 3
   },
   "file_extension": ".py",
   "mimetype": "text/x-python",
   "name": "python",
   "nbconvert_exporter": "python",
   "pygments_lexer": "ipython3",
   "version": "3.10.8"
  },
  "vscode": {
   "interpreter": {
    "hash": "c475b5beda6d617ffb7b2fcf453fbe132321ffc1e1f96c06cf49356e1e7f42cb"
   }
  }
 },
 "nbformat": 4,
 "nbformat_minor": 4
}
