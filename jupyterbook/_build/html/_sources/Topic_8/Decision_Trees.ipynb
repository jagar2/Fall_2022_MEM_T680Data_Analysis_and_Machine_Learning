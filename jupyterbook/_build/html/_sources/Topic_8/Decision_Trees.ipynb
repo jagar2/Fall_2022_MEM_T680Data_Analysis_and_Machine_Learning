{
 "cells": [
  {
   "cell_type": "code",
   "execution_count": 1,
   "id": "c660040a",
   "metadata": {
    "slideshow": {
     "slide_type": "fragment"
    }
   },
   "outputs": [],
   "source": [
    "import numpy as np\n",
    "import pandas as pd\n",
    "import matplotlib.pyplot as plt\n",
    "import seaborn as sns\n",
    "\n",
    "\n",
    "from sklearn.preprocessing import OrdinalEncoder\n",
    "from sklearn.compose import make_column_transformer, make_column_selector\n",
    "from sklearn.pipeline import make_pipeline\n",
    "from sklearn.model_selection import cross_val_score, cross_validate\n",
    "from sklearn.tree import DecisionTreeRegressor, DecisionTreeClassifier\n",
    "from sklearn.ensemble import BaggingClassifier, GradientBoostingRegressor, RandomForestRegressor\n",
    "from sklearn.ensemble import RandomForestClassifier\n",
    "from sklearn.datasets import fetch_california_housing\n"
   ]
  },
  {
   "cell_type": "markdown",
   "id": "4bce3fe0",
   "metadata": {
    "slideshow": {
     "slide_type": "slide"
    }
   },
   "source": [
    "# Decision Trees\n"
   ]
  },
  {
   "cell_type": "markdown",
   "id": "95e82341",
   "metadata": {
    "slideshow": {
     "slide_type": "fragment"
    }
   },
   "source": [
    "A thought experiment: When you wake up and decide to attend class there are many factors in your decision.\n",
    "\n",
    "1. The grade you want to get\n",
    "2. Did you get a good night's sleep\n",
    "3. Do you have a lot of other work to do\n",
    "4. Do you think the class is important\n",
    "5. Are you feeling sick\n",
    "   ...\n",
    "\n",
    "<br> \n",
    "Each of these affects the outcome of if you show up to class or not ... You can try to how much each of these features affects decision making\n"
   ]
  },
  {
   "cell_type": "markdown",
   "id": "0c9c7160",
   "metadata": {
    "slideshow": {
     "slide_type": "fragment"
    }
   },
   "source": [
    "- Let's assume your decision is highly based on the weather\n",
    "\n",
    "![](figs/Decision_Tree_1.png)\n"
   ]
  },
  {
   "cell_type": "markdown",
   "id": "c26bbda2",
   "metadata": {
    "slideshow": {
     "slide_type": "fragment"
    }
   },
   "source": [
    "![](figs/Decision_Tree_Terminology.png)\n",
    "\n",
    "- Nodes: split for a value of a particular attribute\n",
    "- Edges: results of a particular decision\n"
   ]
  },
  {
   "cell_type": "markdown",
   "id": "4af7c7cd",
   "metadata": {
    "slideshow": {
     "slide_type": "fragment"
    }
   },
   "source": [
    "- Root: a node that performs the first split\n",
    "- Leaves: the terminal output of each split\n"
   ]
  },
  {
   "cell_type": "markdown",
   "id": "551317db",
   "metadata": {
    "slideshow": {
     "slide_type": "subslide"
    }
   },
   "source": [
    "**How do we choose how to split the data?**\n"
   ]
  },
  {
   "cell_type": "markdown",
   "id": "487bd2dc",
   "metadata": {
    "slideshow": {
     "slide_type": "fragment"
    }
   },
   "source": [
    "- We want to choose the splits that maximize the amount of information gained on the split\n"
   ]
  },
  {
   "cell_type": "markdown",
   "id": "cdc86059",
   "metadata": {
    "slideshow": {
     "slide_type": "fragment"
    }
   },
   "source": [
    "**Entropy**: If a sample is all of one class, entropy = 0, if it is evenly divided entropy = 1.\n"
   ]
  },
  {
   "cell_type": "markdown",
   "id": "ffbd6f20",
   "metadata": {
    "slideshow": {
     "slide_type": "fragment"
    }
   },
   "source": [
    "We need to compute two entropy for an attribute\n",
    "\n",
    "1. Entropy for a single class\n",
    "   $$E(T) = \\sum_{i=1}^c -p_i\\log_{2}{p_i}$$\n"
   ]
  },
  {
   "cell_type": "markdown",
   "id": "3f87a7ce",
   "metadata": {
    "slideshow": {
     "slide_type": "fragment"
    }
   },
   "source": [
    "2. The entropy for two attributes:\n",
    "   $$ E(T,X) = \\sum\\_{c\\in X} P(c)E(c)$$\n",
    "\n",
    "**_n.b_**: $\\in$ means part of\n"
   ]
  },
  {
   "cell_type": "markdown",
   "id": "651a4fbd",
   "metadata": {
    "slideshow": {
     "slide_type": "fragment"
    }
   },
   "source": [
    "**Information Gained**: The reduction in the amount of entropy after conducting a particular split\n"
   ]
  },
  {
   "cell_type": "markdown",
   "id": "cd6da644",
   "metadata": {
    "slideshow": {
     "slide_type": "fragment"
    }
   },
   "source": [
    "1. Calculate the entropy of the target ... Did you go to class?\n"
   ]
  },
  {
   "cell_type": "markdown",
   "id": "46a0d98f",
   "metadata": {
    "slideshow": {
     "slide_type": "fragment"
    }
   },
   "source": [
    "2. The dataset is split on different attributes and the entropy for each branch is calculated. (equation for the entropy of two attributes)\n"
   ]
  },
  {
   "cell_type": "markdown",
   "id": "c6a2c2a5",
   "metadata": {
    "slideshow": {
     "slide_type": "fragment"
    }
   },
   "source": [
    "3. Information gained is calculated as:\n",
    "   $$ Information \\ Gained = E(T) - E(T,X) $$\n"
   ]
  },
  {
   "cell_type": "markdown",
   "id": "51159391",
   "metadata": {
    "slideshow": {
     "slide_type": "fragment"
    }
   },
   "source": [
    "4. Select the split with the largest information gained\n"
   ]
  },
  {
   "cell_type": "markdown",
   "id": "89d84f9a",
   "metadata": {
    "slideshow": {
     "slide_type": "fragment"
    }
   },
   "source": [
    "5. Repeat this process until you reach a state with an entropy of 0, this is a leaf node!\n"
   ]
  },
  {
   "cell_type": "markdown",
   "id": "49967d20",
   "metadata": {
    "slideshow": {
     "slide_type": "fragment"
    }
   },
   "source": [
    "- As you could imagine this process is computationally intensive $\\rightarrow$ You can improve the performance using a random forest\n"
   ]
  },
  {
   "cell_type": "markdown",
   "id": "fb5813db",
   "metadata": {
    "slideshow": {
     "slide_type": "subslide"
    }
   },
   "source": [
    "## Random Forest\n"
   ]
  },
  {
   "cell_type": "markdown",
   "id": "730de83f",
   "metadata": {
    "slideshow": {
     "slide_type": "fragment"
    }
   },
   "source": [
    "- Random forests rely on decision trees to reduce computational complexity relying on bagging algorithms\n"
   ]
  },
  {
   "cell_type": "markdown",
   "id": "7c7f169d",
   "metadata": {
    "slideshow": {
     "slide_type": "fragment"
    }
   },
   "source": [
    "- when training a tree, the search only on a subset of the original features taken at random.\n"
   ]
  },
  {
   "cell_type": "markdown",
   "id": "0dd3e898",
   "metadata": {
    "slideshow": {
     "slide_type": "fragment"
    }
   },
   "source": [
    "- The goal is to inject additional randomization into the learning procedure to try to decorrelate the prediction errors of the individual trees.\n"
   ]
  },
  {
   "cell_type": "markdown",
   "id": "6d889005",
   "metadata": {
    "slideshow": {
     "slide_type": "fragment"
    }
   },
   "source": [
    "Therefore, random forests are using **randomization on both axes of the data matrix**:\n",
    "\n",
    "- by **bootstrapping samples** for **each tree** in the forest;\n",
    "- randomly selecting a **subset of features** at **each node** of the tree.\n"
   ]
  },
  {
   "cell_type": "markdown",
   "id": "8876814e",
   "metadata": {
    "slideshow": {
     "slide_type": "subslide"
    }
   },
   "source": [
    "### Example: Adults Census Data\n",
    "\n",
    "We will illustrate the usage of a random forest classifier on the adult census dataset.\n"
   ]
  },
  {
   "cell_type": "code",
   "execution_count": 2,
   "id": "4039e900",
   "metadata": {
    "slideshow": {
     "slide_type": "fragment"
    }
   },
   "outputs": [],
   "source": [
    "adult_census = pd.read_csv(\"./data/adult-census.csv\")\n",
    "target_name = \"class\"\n",
    "data = adult_census.drop(columns=[target_name, \"education-num\"])\n",
    "target = adult_census[target_name]"
   ]
  },
  {
   "cell_type": "markdown",
   "id": "5acbaf70",
   "metadata": {
    "slideshow": {
     "slide_type": "fragment"
    }
   },
   "source": [
    "We will encode this data as we did before\n"
   ]
  },
  {
   "cell_type": "code",
   "execution_count": 3,
   "id": "99292b2d",
   "metadata": {
    "slideshow": {
     "slide_type": "fragment"
    }
   },
   "outputs": [],
   "source": [
    "\n",
    "\n",
    "categorical_encoder = OrdinalEncoder(\n",
    "    handle_unknown=\"use_encoded_value\", unknown_value=-1\n",
    ")\n",
    "preprocessor = make_column_transformer(\n",
    "    (categorical_encoder, make_column_selector(dtype_include=object)),\n",
    "    remainder=\"passthrough\"\n",
    ")"
   ]
  },
  {
   "cell_type": "markdown",
   "id": "f15af205",
   "metadata": {
    "slideshow": {
     "slide_type": "subslide"
    }
   },
   "source": [
    "We will first give a simple example where we will train a single decision tree classifier and check its generalization performance via cross-validation.\n"
   ]
  },
  {
   "cell_type": "code",
   "execution_count": 4,
   "id": "517497ab",
   "metadata": {
    "slideshow": {
     "slide_type": "fragment"
    }
   },
   "outputs": [],
   "source": [
    "tree = make_pipeline(preprocessor, DecisionTreeClassifier(random_state=0))"
   ]
  },
  {
   "cell_type": "code",
   "execution_count": 5,
   "id": "869fe872",
   "metadata": {
    "slideshow": {
     "slide_type": "fragment"
    }
   },
   "outputs": [
    {
     "name": "stdout",
     "output_type": "stream",
     "text": [
      "Decision tree classifier: 0.820 ± 0.006\n"
     ]
    }
   ],
   "source": [
    "scores_tree = cross_val_score(tree, data, target)\n",
    "\n",
    "print(f\"Decision tree classifier: \"\n",
    "      f\"{scores_tree.mean():.3f} ± {scores_tree.std():.3f}\")"
   ]
  },
  {
   "cell_type": "markdown",
   "id": "940b532c",
   "metadata": {
    "slideshow": {
     "slide_type": "subslide"
    }
   },
   "source": [
    "#### Bagging Classifier\n"
   ]
  },
  {
   "cell_type": "markdown",
   "id": "ebd2620b",
   "metadata": {
    "slideshow": {
     "slide_type": "subslide"
    }
   },
   "source": [
    "We construct a `BaggingClassifier` with a decision tree classifier as the base model.\n",
    "\n",
    "- A Bagging classifier is an ensemble meta-estimator that fits base classifiers each on random subsets of the original dataset and then aggregates their predictions (either by voting or by averaging) to form a final prediction.\n",
    "- Such a meta-estimator can typically be used as a way to reduce the variance of a black-box estimator (e.g., a decision tree), by introducing randomization into its construction procedure and then making an ensemble out of it.\n"
   ]
  },
  {
   "cell_type": "code",
   "execution_count": 6,
   "id": "50aee745",
   "metadata": {
    "slideshow": {
     "slide_type": "fragment"
    }
   },
   "outputs": [],
   "source": [
    "bagged_trees = make_pipeline(\n",
    "    preprocessor,\n",
    "    BaggingClassifier(\n",
    "        base_estimator=DecisionTreeClassifier(random_state=0),\n",
    "        n_estimators=50, n_jobs=2, random_state=0,\n",
    "    )\n",
    ")"
   ]
  },
  {
   "cell_type": "code",
   "execution_count": 7,
   "id": "7ea5de15",
   "metadata": {
    "slideshow": {
     "slide_type": "fragment"
    }
   },
   "outputs": [
    {
     "name": "stdout",
     "output_type": "stream",
     "text": [
      "Bagged decision tree classifier: 0.846 ± 0.005\n"
     ]
    }
   ],
   "source": [
    "scores_bagged_trees = cross_val_score(bagged_trees, data, target)\n",
    "\n",
    "print(f\"Bagged decision tree classifier: \"\n",
    "      f\"{scores_bagged_trees.mean():.3f} ± {scores_bagged_trees.std():.3f}\")"
   ]
  },
  {
   "cell_type": "markdown",
   "id": "d209ed7d",
   "metadata": {
    "slideshow": {
     "slide_type": "fragment"
    }
   },
   "source": [
    "Note that the generalization performance of the bagged trees is already much\n",
    "better than the performance of a single tree.\n"
   ]
  },
  {
   "cell_type": "markdown",
   "id": "3342003f",
   "metadata": {
    "slideshow": {
     "slide_type": "subslide"
    }
   },
   "source": [
    "### Random Forest\n"
   ]
  },
  {
   "cell_type": "markdown",
   "id": "826a930c",
   "metadata": {
    "slideshow": {
     "slide_type": "fragment"
    }
   },
   "source": [
    "Now, we will use a random forest. You will observe that we do not need to\n",
    "specify any `base_estimator` because the estimator is forced to be a decision\n",
    "tree. Thus, we just specify the desired number of trees in the forest.\n"
   ]
  },
  {
   "cell_type": "code",
   "execution_count": 8,
   "id": "dc9660cb",
   "metadata": {
    "slideshow": {
     "slide_type": "fragment"
    }
   },
   "outputs": [],
   "source": [
    "random_forest = make_pipeline(\n",
    "    preprocessor,\n",
    "    RandomForestClassifier(n_estimators=50, n_jobs=2, random_state=0)\n",
    ")"
   ]
  },
  {
   "cell_type": "code",
   "execution_count": 9,
   "id": "6e070618",
   "metadata": {
    "slideshow": {
     "slide_type": "fragment"
    }
   },
   "outputs": [
    {
     "name": "stdout",
     "output_type": "stream",
     "text": [
      "Random forest classifier: 0.851 ± 0.004\n"
     ]
    }
   ],
   "source": [
    "scores_random_forest = cross_val_score(random_forest, data, target)\n",
    "\n",
    "print(f\"Random forest classifier: \"\n",
    "      f\"{scores_random_forest.mean():.3f} ± \"\n",
    "      f\"{scores_random_forest.std():.3f}\")"
   ]
  },
  {
   "cell_type": "markdown",
   "id": "6e2838d8",
   "metadata": {
    "slideshow": {
     "slide_type": "fragment"
    }
   },
   "source": [
    "It seems that the random forest is performing slightly better than the bagged\n",
    "trees possibly due to the randomized selection of the features which\n",
    "decorrelates the prediction errors of individual trees and as a consequence makes the averaging step more efficient at reducing overfitting.\n"
   ]
  },
  {
   "cell_type": "markdown",
   "id": "3f2b7649",
   "metadata": {
    "slideshow": {
     "slide_type": "subslide"
    }
   },
   "source": [
    "### Details about default hyperparameters\n"
   ]
  },
  {
   "cell_type": "markdown",
   "id": "7594ef6c",
   "metadata": {
    "slideshow": {
     "slide_type": "fragment"
    }
   },
   "source": [
    "For random forests, it is possible to control the amount of randomness for\n",
    "each split by setting the value of `max_features` hyperparameter:\n",
    "\n",
    "- `max_features=0.5` means that 50% of the features are considered at each\n",
    "  split;\n",
    "- `max_features=1.0` means that all features are considered at each split\n",
    "  which effectively disables feature subsampling.\n"
   ]
  },
  {
   "cell_type": "markdown",
   "id": "cf1d258d",
   "metadata": {
    "slideshow": {
     "slide_type": "subslide"
    }
   },
   "source": [
    "By default, `RandomForestRegressor` disables feature subsampling while\n",
    "`RandomForestClassifier` uses `max_features=np.sqrt(n_features)`. These\n",
    "default values reflect good practices given in the scientific literature.\n"
   ]
  },
  {
   "cell_type": "markdown",
   "id": "c74f3407",
   "metadata": {
    "slideshow": {
     "slide_type": "subslide"
    }
   },
   "source": [
    "However, `max_features` is one of the hyperparameters to consider when tuning\n",
    "a random forest:\n",
    "\n",
    "- too much randomness in the trees can lead to under fitted base models and\n",
    "  can be detrimental for the ensemble as a whole,\n",
    "  too little randomness in the trees leads to more correlation of the prediction\n",
    "  errors and as a result reduce the benefits of the averaging step in terms\n",
    "  of overfitting control.\n"
   ]
  },
  {
   "cell_type": "markdown",
   "id": "79695655",
   "metadata": {
    "slideshow": {
     "slide_type": "subslide"
    }
   },
   "source": [
    "In scikit-learn, the bagging classes also expose a `max_features` parameter.\n",
    "However, `BaggingClassifier` and `BaggingRegressor` are agnostic with respect\n",
    "to their base model and therefore random feature subsampling can only happen\n",
    "once before fitting each base model instead of several times per base model\n",
    "as is the case when adding splits to a given tree.\n",
    "\n",
    "We summarize these details in the following table:\n",
    "\n",
    "| Ensemble model class     | Base model class          | Default value for `max_features`   | Features subsampling strategy |\n",
    "| ------------------------ | ------------------------- | ---------------------------------- | ----------------------------- |\n",
    "| `BaggingClassifier`      | User specified (flexible) | `n_features` (no&nbsp;subsampling) | Model level                   |\n",
    "| `RandomForestClassifier` | `DecisionTreeClassifier`  | `sqrt(n_features)`                 | Tree node level               |\n",
    "| `BaggingRegressor`       | User specified (flexible) | `n_features` (no&nbsp;subsampling) | Model level                   |\n",
    "| `RandomForestRegressor`  | `DecisionTreeRegressor`   | `n_features` (no&nbsp;subsampling) | Tree node level               |\n"
   ]
  },
  {
   "cell_type": "markdown",
   "id": "1e9f6b33",
   "metadata": {
    "slideshow": {
     "slide_type": "subslide"
    }
   },
   "source": [
    "## Random Forest Regression\n",
    "\n",
    "- You can also use random forests for regression problems\n"
   ]
  },
  {
   "cell_type": "markdown",
   "id": "f6de5f7b",
   "metadata": {
    "slideshow": {
     "slide_type": "fragment"
    }
   },
   "source": [
    "Let's start by generating some non-linear data\n"
   ]
  },
  {
   "cell_type": "code",
   "execution_count": 10,
   "id": "1d85541f",
   "metadata": {},
   "outputs": [],
   "source": [
    "# Create a random number generator that will be used to set the randomness\n",
    "rng = np.random.RandomState(0)\n",
    "\n",
    "\n",
    "def generate_data(n_samples=50):\n",
    "    \"\"\"Generate synthetic dataset. Returns `data_train`, `data_test`,\n",
    "    `target_train`.\"\"\"\n",
    "    x_max, x_min = 1.4, -1.4\n",
    "    len_x = x_max - x_min\n",
    "    x = rng.rand(n_samples) * len_x - len_x / 2\n",
    "    noise = rng.randn(n_samples) * 0.3\n",
    "    y = x ** 3 - 0.5 * x ** 2 + noise\n",
    "\n",
    "    data_train = pd.DataFrame(x, columns=[\"Feature\"])\n",
    "    data_test = pd.DataFrame(np.linspace(x_max, x_min, num=300),\n",
    "                             columns=[\"Feature\"])\n",
    "    target_train = pd.Series(y, name=\"Target\")\n",
    "\n",
    "    return data_train, data_test, target_train\n",
    "\n",
    "\n",
    "data_train, data_test, target_train = generate_data()"
   ]
  },
  {
   "cell_type": "code",
   "execution_count": 11,
   "id": "94b78e19",
   "metadata": {
    "slideshow": {
     "slide_type": "fragment"
    }
   },
   "outputs": [
    {
     "data": {
      "image/png": "[encoded data removed]",
      "text/plain": [
       "<Figure size 640x480 with 1 Axes>"
      ]
     },
     "metadata": {},
     "output_type": "display_data"
    }
   ],
   "source": [
    "sns.scatterplot(x=data_train[\"Feature\"], y=target_train, color=\"black\",\n",
    "                alpha=0.5)\n",
    "_ = plt.title(\"Synthetic regression dataset\")"
   ]
  },
  {
   "cell_type": "markdown",
   "id": "d65da72c",
   "metadata": {
    "slideshow": {
     "slide_type": "subslide"
    }
   },
   "source": [
    "We will start by creating a decision tree regressor. We will set\n",
    "the depth of the tree so that the resulting learner will underfit the data.\n"
   ]
  },
  {
   "cell_type": "code",
   "execution_count": 12,
   "id": "56acef6f",
   "metadata": {
    "slideshow": {
     "slide_type": "fragment"
    }
   },
   "outputs": [],
   "source": [
    "tree = DecisionTreeRegressor(max_depth=3, random_state=0)\n",
    "tree.fit(data_train, target_train)\n",
    "\n",
    "target_train_predicted = tree.predict(data_train)\n",
    "target_test_predicted = tree.predict(data_test)"
   ]
  },
  {
   "cell_type": "markdown",
   "id": "10315475",
   "metadata": {
    "slideshow": {
     "slide_type": "fragment"
    }
   },
   "source": [
    "Using the term \"test\" here refers to data that was not used for training.\n",
    "It should not be confused with data coming from a train-test split, as it\n",
    "was generated in equally-spaced intervals for the visual evaluation of the\n",
    "predictions.\n"
   ]
  },
  {
   "cell_type": "code",
   "execution_count": 13,
   "id": "b7fa798d",
   "metadata": {
    "slideshow": {
     "slide_type": "subslide"
    }
   },
   "outputs": [
    {
     "data": {
      "image/png": "[encoded data removed]",
      "text/plain": [
       "<Figure size 640x480 with 1 Axes>"
      ]
     },
     "metadata": {},
     "output_type": "display_data"
    }
   ],
   "source": [
    "# plot the data\n",
    "sns.scatterplot(x=data_train[\"Feature\"], y=target_train, color=\"black\",\n",
    "                alpha=0.5)\n",
    "# plot the predictions\n",
    "line_predictions = plt.plot(data_test[\"Feature\"], target_test_predicted, \"--\")\n",
    "\n",
    "# plot the residuals\n",
    "for value, true, predicted in zip(data_train[\"Feature\"],\n",
    "                                  target_train,\n",
    "                                  target_train_predicted):\n",
    "    lines_residuals = plt.plot([value, value], [true, predicted], color=\"red\")\n",
    "\n",
    "plt.legend([line_predictions[0], lines_residuals[0]],\n",
    "           [\"Fitted tree\", \"Residuals\"])\n",
    "_ = plt.title(\"Prediction function together \\nwith errors on the training set\")"
   ]
  },
  {
   "cell_type": "markdown",
   "id": "a0c0bee0",
   "metadata": {
    "slideshow": {
     "slide_type": "fragment"
    }
   },
   "source": [
    "Our initial tree was not expressive enough to handle the complexity\n",
    "of the data.\n"
   ]
  },
  {
   "cell_type": "markdown",
   "id": "e9471e9b",
   "metadata": {
    "slideshow": {
     "slide_type": "subslide"
    }
   },
   "source": [
    "## Gradient-boosting decision tree (GBDT)\n",
    "\n",
    "GBDT will fit a decision tree on the residual error (hence the name \"gradient\") of the previous tree.\n",
    "Therefore, each new tree in the ensemble predicts the error made by the previous learner instead of predicting the target directly.\n"
   ]
  },
  {
   "cell_type": "markdown",
   "id": "2632309d",
   "metadata": {
    "slideshow": {
     "slide_type": "fragment"
    }
   },
   "source": [
    "In a gradient-boosting algorithm, the idea is to create a second tree that, given the same data `data`, will try\n",
    "to predict the residuals instead of the vector `target`. We would therefore have a tree that is able to predict the errors made by the initial tree.\n",
    "\n",
    "Let's train such a tree.\n"
   ]
  },
  {
   "cell_type": "code",
   "execution_count": 14,
   "id": "7818e613",
   "metadata": {
    "slideshow": {
     "slide_type": "fragment"
    }
   },
   "outputs": [],
   "source": [
    "residuals = target_train - target_train_predicted\n",
    "\n",
    "tree_residuals = DecisionTreeRegressor(max_depth=5, random_state=0)\n",
    "tree_residuals.fit(data_train, residuals)\n",
    "\n",
    "target_train_predicted_residuals = tree_residuals.predict(data_train)\n",
    "target_test_predicted_residuals = tree_residuals.predict(data_test)"
   ]
  },
  {
   "cell_type": "code",
   "execution_count": 15,
   "id": "81de797c",
   "metadata": {
    "slideshow": {
     "slide_type": "fragment"
    }
   },
   "outputs": [
    {
     "data": {
      "image/png": "[encoded data removed]",
      "text/plain": [
       "<Figure size 640x480 with 1 Axes>"
      ]
     },
     "metadata": {},
     "output_type": "display_data"
    }
   ],
   "source": [
    "sns.scatterplot(x=data_train[\"Feature\"], y=residuals, color=\"black\", alpha=0.5)\n",
    "line_predictions = plt.plot(\n",
    "    data_test[\"Feature\"], target_test_predicted_residuals, \"--\")\n",
    "\n",
    "# plot the residuals of the predicted residuals\n",
    "for value, true, predicted in zip(data_train[\"Feature\"],\n",
    "                                  residuals,\n",
    "                                  target_train_predicted_residuals):\n",
    "    lines_residuals = plt.plot([value, value], [true, predicted], color=\"red\")\n",
    "\n",
    "plt.legend([line_predictions[0], lines_residuals[0]],\n",
    "           [\"Fitted tree\", \"Residuals\"], bbox_to_anchor=(1.05, 0.8),\n",
    "           loc=\"upper left\")\n",
    "_ = plt.title(\"Prediction of the previous residuals\")"
   ]
  },
  {
   "cell_type": "markdown",
   "id": "37fb58cc",
   "metadata": {
    "slideshow": {
     "slide_type": "fragment"
    }
   },
   "source": [
    "We see that this new tree only manages to fit some of the residuals.\n",
    "\n",
    "- We will focus on a specific sample from the training set (i.e. we know that the sample will be well-predicted using two successive trees).\n"
   ]
  },
  {
   "cell_type": "markdown",
   "id": "5402110d",
   "metadata": {
    "slideshow": {
     "slide_type": "subslide"
    }
   },
   "source": [
    "Let's first select this sample in `data_train`.\n"
   ]
  },
  {
   "cell_type": "code",
   "execution_count": 16,
   "id": "9ad1eaab",
   "metadata": {
    "slideshow": {
     "slide_type": "fragment"
    }
   },
   "outputs": [],
   "source": [
    "sample = data_train.iloc[[-2]]\n",
    "x_sample = sample['Feature'].iloc[0]\n",
    "target_true = target_train.iloc[-2]\n",
    "target_true_residual = residuals.iloc[-2]"
   ]
  },
  {
   "cell_type": "markdown",
   "id": "a50b20c8",
   "metadata": {
    "slideshow": {
     "slide_type": "subslide"
    }
   },
   "source": [
    "Let's plot the previous information and highlight our sample of interest.\n",
    "Let's start by plotting the original data and the prediction of the first\n",
    "decision tree.\n"
   ]
  },
  {
   "cell_type": "code",
   "execution_count": 17,
   "id": "c819acdc",
   "metadata": {
    "slideshow": {
     "slide_type": "fragment"
    }
   },
   "outputs": [
    {
     "data": {
      "image/png": "[encoded data removed]",
      "text/plain": [
       "<Figure size 640x480 with 1 Axes>"
      ]
     },
     "metadata": {},
     "output_type": "display_data"
    }
   ],
   "source": [
    "# Plot the previous information:\n",
    "#   * the dataset\n",
    "#   * the predictions\n",
    "#   * the residuals\n",
    "\n",
    "sns.scatterplot(x=data_train[\"Feature\"], y=target_train, color=\"black\",\n",
    "                alpha=0.5)\n",
    "plt.plot(data_test[\"Feature\"], target_test_predicted, \"--\")\n",
    "for value, true, predicted in zip(data_train[\"Feature\"],\n",
    "                                  target_train,\n",
    "                                  target_train_predicted):\n",
    "    lines_residuals = plt.plot([value, value], [true, predicted], color=\"red\")\n",
    "\n",
    "# Highlight the sample of interest\n",
    "plt.scatter(sample, target_true, label=\"Sample of interest\",\n",
    "            color=\"tab:orange\", s=200)\n",
    "plt.xlim([-1, 0])\n",
    "plt.legend(bbox_to_anchor=(1.05, 0.8), loc=\"upper left\")\n",
    "_ = plt.title(\"Tree predictions\")"
   ]
  },
  {
   "cell_type": "markdown",
   "id": "3254a1c1",
   "metadata": {
    "slideshow": {
     "slide_type": "subslide"
    }
   },
   "source": [
    "Now, let's plot the residual information. We will plot the residuals\n",
    "computed from the first decision tree and show the residual predictions.\n"
   ]
  },
  {
   "cell_type": "code",
   "execution_count": 18,
   "id": "ac7d1fc6",
   "metadata": {},
   "outputs": [
    {
     "data": {
      "image/png": "[encoded data removed]",
      "text/plain": [
       "<Figure size 640x480 with 1 Axes>"
      ]
     },
     "metadata": {},
     "output_type": "display_data"
    }
   ],
   "source": [
    "# Plot the previous information:\n",
    "#   * the residuals committed by the first tree\n",
    "#   * the residual predictions\n",
    "#   * the residuals of the residual predictions\n",
    "\n",
    "sns.scatterplot(x=data_train[\"Feature\"], y=residuals,\n",
    "                color=\"black\", alpha=0.5)\n",
    "plt.plot(data_test[\"Feature\"], target_test_predicted_residuals, \"--\")\n",
    "for value, true, predicted in zip(data_train[\"Feature\"],\n",
    "                                  residuals,\n",
    "                                  target_train_predicted_residuals):\n",
    "    lines_residuals = plt.plot([value, value], [true, predicted], color=\"red\")\n",
    "\n",
    "# Highlight the sample of interest\n",
    "plt.scatter(sample, target_true_residual, label=\"Sample of interest\",\n",
    "            color=\"tab:orange\", s=200)\n",
    "plt.xlim([-1, 0])\n",
    "plt.legend()\n",
    "_ = plt.title(\"Prediction of the residuals\")"
   ]
  },
  {
   "cell_type": "markdown",
   "id": "4b03becd",
   "metadata": {
    "slideshow": {
     "slide_type": "fragment"
    }
   },
   "source": [
    "For our sample of interest, our initial tree is making an error (small residual).\n"
   ]
  },
  {
   "cell_type": "markdown",
   "id": "60c24ae0",
   "metadata": {
    "slideshow": {
     "slide_type": "fragment"
    }
   },
   "source": [
    "When fitting the second tree, the residual in this case is\n",
    "perfectly fitted and predicted.\n"
   ]
  },
  {
   "cell_type": "code",
   "execution_count": 19,
   "id": "e771f1e4",
   "metadata": {
    "slideshow": {
     "slide_type": "fragment"
    }
   },
   "outputs": [
    {
     "name": "stdout",
     "output_type": "stream",
     "text": [
      "True value to predict for f(x=-0.517) = -0.393\n",
      "Prediction of the first decision tree for x=-0.517: y=-0.145\n",
      "Error of the tree: -0.248\n"
     ]
    }
   ],
   "source": [
    "print(f\"True value to predict for \"\n",
    "      f\"f(x={x_sample:.3f}) = {target_true:.3f}\")\n",
    "\n",
    "y_pred_first_tree = tree.predict(sample)[0]\n",
    "print(f\"Prediction of the first decision tree for x={x_sample:.3f}: \"\n",
    "      f\"y={y_pred_first_tree:.3f}\")\n",
    "print(f\"Error of the tree: {target_true - y_pred_first_tree:.3f}\")"
   ]
  },
  {
   "cell_type": "markdown",
   "id": "51e98e0d",
   "metadata": {
    "slideshow": {
     "slide_type": "fragment"
    }
   },
   "source": [
    "As we visually observed, we have a small error. Now, we can use the second\n",
    "tree to try to predict this residual.\n"
   ]
  },
  {
   "cell_type": "code",
   "execution_count": 20,
   "id": "bb91719b",
   "metadata": {
    "slideshow": {
     "slide_type": "fragment"
    }
   },
   "outputs": [
    {
     "name": "stdout",
     "output_type": "stream",
     "text": [
      "Prediction of the residual for x=-0.517: -0.248\n"
     ]
    }
   ],
   "source": [
    "print(f\"Prediction of the residual for x={x_sample:.3f}: \"\n",
    "      f\"{tree_residuals.predict(sample)[0]:.3f}\")"
   ]
  },
  {
   "cell_type": "markdown",
   "id": "c3589ced",
   "metadata": {
    "slideshow": {
     "slide_type": "subslide"
    }
   },
   "source": [
    "We see that our second tree is capable of predicting the exact residual\n",
    "(error) of our first tree. Therefore, we can predict the value of `x` by\n",
    "summing the prediction of all the trees in the ensemble.\n"
   ]
  },
  {
   "cell_type": "code",
   "execution_count": 21,
   "id": "5f514e0d",
   "metadata": {
    "slideshow": {
     "slide_type": "fragment"
    }
   },
   "outputs": [
    {
     "name": "stdout",
     "output_type": "stream",
     "text": [
      "Prediction of the first and second decision trees combined for x=-0.517: y=-0.393\n",
      "Error of the tree: 0.000\n"
     ]
    }
   ],
   "source": [
    "y_pred_first_and_second_tree = (\n",
    "    y_pred_first_tree + tree_residuals.predict(sample)[0]\n",
    ")\n",
    "print(f\"Prediction of the first and second decision trees combined for \"\n",
    "      f\"x={x_sample:.3f}: y={y_pred_first_and_second_tree:.3f}\")\n",
    "print(f\"Error of the tree: {target_true - y_pred_first_and_second_tree:.3f}\")"
   ]
  },
  {
   "cell_type": "markdown",
   "id": "be4cf718",
   "metadata": {
    "slideshow": {
     "slide_type": "fragment"
    }
   },
   "source": [
    "We chose a sample for which only two trees were enough to make the perfect\n",
    "prediction.\n",
    "\n",
    "- One needs to add several trees to the ensemble to successfully correct the error (i.e. the second tree corrects the first tree's error, while the third tree corrects the second tree's error and so on).\n"
   ]
  },
  {
   "cell_type": "markdown",
   "id": "4d271931",
   "metadata": {
    "slideshow": {
     "slide_type": "subslide"
    }
   },
   "source": [
    "### Example: Gradient-Boosted Random Forest Regression\n",
    "\n",
    "We will compare the generalization performance of random forest and gradient boosting on the California housing dataset.\n"
   ]
  },
  {
   "cell_type": "markdown",
   "id": "75ae6609",
   "metadata": {
    "slideshow": {
     "slide_type": "subslide"
    }
   },
   "source": [
    "#### Step 1: Load the Data\n"
   ]
  },
  {
   "cell_type": "code",
   "execution_count": 22,
   "id": "a960c97d",
   "metadata": {
    "slideshow": {
     "slide_type": "fragment"
    }
   },
   "outputs": [],
   "source": [
    "data, target = fetch_california_housing(return_X_y=True, as_frame=True)\n",
    "target *= 100  # rescale the target in k$"
   ]
  },
  {
   "cell_type": "markdown",
   "id": "13dfd920",
   "metadata": {
    "slideshow": {
     "slide_type": "subslide"
    }
   },
   "source": [
    "#### Step 2: Builds the Model\n"
   ]
  },
  {
   "cell_type": "code",
   "execution_count": 23,
   "id": "4f3a1d60",
   "metadata": {
    "slideshow": {
     "slide_type": "fragment"
    }
   },
   "outputs": [],
   "source": [
    "gradient_boosting = GradientBoostingRegressor(n_estimators=200)\n",
    "cv_results_gbdt = cross_validate(\n",
    "    gradient_boosting, data, target, scoring=\"neg_mean_absolute_error\",\n",
    "    n_jobs=10,\n",
    ")"
   ]
  },
  {
   "cell_type": "markdown",
   "id": "2d5a4e38",
   "metadata": {
    "slideshow": {
     "slide_type": "subslide"
    }
   },
   "source": [
    "#### Step 3: Views the Results\n"
   ]
  },
  {
   "cell_type": "code",
   "execution_count": 24,
   "id": "e0d6ab7d",
   "metadata": {
    "slideshow": {
     "slide_type": "fragment"
    }
   },
   "outputs": [
    {
     "name": "stdout",
     "output_type": "stream",
     "text": [
      "Gradient Boosting Decision Tree\n",
      "Mean absolute error via cross-validation: 46.413 ± 2.913 k$\n",
      "Average fit time: 6.152 seconds\n",
      "Average score time: 0.006 seconds\n"
     ]
    }
   ],
   "source": [
    "print(\"Gradient Boosting Decision Tree\")\n",
    "print(f\"Mean absolute error via cross-validation: \"\n",
    "      f\"{-cv_results_gbdt['test_score'].mean():.3f} ± \"\n",
    "      f\"{cv_results_gbdt['test_score'].std():.3f} k$\")\n",
    "print(f\"Average fit time: \"\n",
    "      f\"{cv_results_gbdt['fit_time'].mean():.3f} seconds\")\n",
    "print(f\"Average score time: \"\n",
    "      f\"{cv_results_gbdt['score_time'].mean():.3f} seconds\")"
   ]
  },
  {
   "cell_type": "markdown",
   "id": "fa65e7af",
   "metadata": {
    "slideshow": {
     "slide_type": "subslide"
    }
   },
   "source": [
    "#### Step 4: Comparison to Random Forest Regressor\n"
   ]
  },
  {
   "cell_type": "code",
   "execution_count": 25,
   "id": "cf62dc93",
   "metadata": {
    "slideshow": {
     "slide_type": "fragment"
    }
   },
   "outputs": [],
   "source": [
    "random_forest = RandomForestRegressor(n_estimators=200, n_jobs=-1)\n",
    "cv_results_rf = cross_validate(\n",
    "    random_forest, data, target, scoring=\"neg_mean_absolute_error\",\n",
    "    n_jobs=2,\n",
    ")"
   ]
  },
  {
   "cell_type": "code",
   "execution_count": 26,
   "id": "61988fa1",
   "metadata": {
    "slideshow": {
     "slide_type": "fragment"
    }
   },
   "outputs": [
    {
     "name": "stdout",
     "output_type": "stream",
     "text": [
      "Random Forest\n",
      "Mean absolute error via cross-validation: 46.547 ± 4.337 k$\n",
      "Average fit time: 8.416 seconds\n",
      "Average score time: 0.087 seconds\n"
     ]
    }
   ],
   "source": [
    "print(\"Random Forest\")\n",
    "print(f\"Mean absolute error via cross-validation: \"\n",
    "      f\"{-cv_results_rf['test_score'].mean():.3f} ± \"\n",
    "      f\"{cv_results_rf['test_score'].std():.3f} k$\")\n",
    "print(f\"Average fit time: \"\n",
    "      f\"{cv_results_rf['fit_time'].mean():.3f} seconds\")\n",
    "print(f\"Average score time: \"\n",
    "      f\"{cv_results_rf['score_time'].mean():.3f} seconds\")"
   ]
  },
  {
   "cell_type": "markdown",
   "id": "92f25562",
   "metadata": {
    "slideshow": {
     "slide_type": "fragment"
    }
   },
   "source": [
    "In terms of computation performance, the forest can be parallelized and will\n",
    "benefit from using multiple cores of the CPU. In terms of scoring\n",
    "performance, both algorithms lead to very close results.\n"
   ]
  },
  {
   "cell_type": "markdown",
   "id": "1b63d26e",
   "metadata": {
    "slideshow": {
     "slide_type": "fragment"
    }
   },
   "source": [
    "However, we see that gradient boosting is a very fast algorithm to\n",
    "predict compared to random forest. This is due to the fact that gradient\n",
    "boosting uses shallow trees.\n"
   ]
  },
  {
   "cell_type": "code",
   "execution_count": null,
   "id": "395ead90",
   "metadata": {},
   "outputs": [],
   "source": []
  }
 ],
 "metadata": {
  "kernelspec": {
   "display_name": "Python 3.10.0 ('jupyterbook')",
   "language": "python",
   "name": "python3"
  },
  "language_info": {
   "codemirror_mode": {
    "name": "ipython",
    "version": 3
   },
   "file_extension": ".py",
   "mimetype": "text/x-python",
   "name": "python",
   "nbconvert_exporter": "python",
   "pygments_lexer": "ipython3",
   "version": "3.10.0"
  },
  "vscode": {
   "interpreter": {
    "hash": "c475b5beda6d617ffb7b2fcf453fbe132321ffc1e1f96c06cf49356e1e7f42cb"
   }
  }
 },
 "nbformat": 4,
 "nbformat_minor": 5
}
