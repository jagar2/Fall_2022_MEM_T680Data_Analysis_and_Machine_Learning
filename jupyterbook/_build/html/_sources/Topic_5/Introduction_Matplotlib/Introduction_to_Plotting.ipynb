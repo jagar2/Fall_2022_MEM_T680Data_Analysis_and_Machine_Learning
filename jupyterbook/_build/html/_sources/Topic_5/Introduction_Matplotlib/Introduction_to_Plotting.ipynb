{
 "cells": [
  {
   "cell_type": "markdown",
   "metadata": {
    "slideshow": {
     "slide_type": "slide"
    }
   },
   "source": [
    "# Introduction to Plotting in Python\n",
    "\n",
    "Most people are visual learners, to check and understand your code it is useful to create graphs and visualizations.\n",
    "\n",
    "- Matplotlib is the most common used Python package for 2D graphics\n",
    "- You can quickly make publication-quality graphics in many formats\n"
   ]
  },
  {
   "cell_type": "code",
   "execution_count": null,
   "metadata": {
    "slideshow": {
     "slide_type": "fragment"
    }
   },
   "outputs": [],
   "source": [
    "# Libraries\n",
    "from IPython.display import IFrame\n",
    "import numpy as np\n",
    "import matplotlib.pyplot as plt\n",
    "from scipy.stats import kde\n",
    "import plotly.graph_objects as go\n",
    "import plotly.express as px\n",
    "import pandas as pd\n",
    "import seaborn as sns\n",
    "import networkx as nx\n"
   ]
  },
  {
   "cell_type": "markdown",
   "metadata": {
    "slideshow": {
     "slide_type": "slide"
    }
   },
   "source": [
    "## Data Graphics\n",
    "\n",
    "- Combined use of points, lines, a coordinate system, numbers, symbols, words, shading and color to display information\n",
    "- Surprisingly recent invention\n",
    "  - 1750's that statistical graphics length and area to show, quantity, time-series, scatter plots and multivariate displays were used\n"
   ]
  },
  {
   "cell_type": "markdown",
   "metadata": {
    "slideshow": {
     "slide_type": "fragment"
    }
   },
   "source": [
    "### Modern graphics are instruments for reasoning about quantitative information\n",
    "\n",
    "- Good graphics allow large collections of data to be turned into actionable information\n",
    "- In science, making **easy-to-interpret, honest graphical representations of information** is the most effective way of communicating scientific information\n"
   ]
  },
  {
   "cell_type": "markdown",
   "metadata": {
    "slideshow": {
     "slide_type": "slide"
    }
   },
   "source": [
    "## What does an Excellent Graphic Do?\n"
   ]
  },
  {
   "cell_type": "markdown",
   "metadata": {
    "slideshow": {
     "slide_type": "fragment"
    }
   },
   "source": [
    "- Show the data\n"
   ]
  },
  {
   "cell_type": "markdown",
   "metadata": {
    "slideshow": {
     "slide_type": "fragment"
    }
   },
   "source": [
    "- Allow the observer to extract information without thinking about the methodology or design $\\rightarrow$ good design is unnoticeable\n"
   ]
  },
  {
   "cell_type": "markdown",
   "metadata": {
    "slideshow": {
     "slide_type": "fragment"
    }
   },
   "source": [
    "- Presents a large amount of data in a small space\n"
   ]
  },
  {
   "cell_type": "markdown",
   "metadata": {
    "slideshow": {
     "slide_type": "fragment"
    }
   },
   "source": [
    "- Encourages the eye to compare important pieces of information\n"
   ]
  },
  {
   "cell_type": "markdown",
   "metadata": {
    "slideshow": {
     "slide_type": "fragment"
    }
   },
   "source": [
    "- Reveal data at several levels of detail\n"
   ]
  },
  {
   "cell_type": "markdown",
   "metadata": {
    "slideshow": {
     "slide_type": "fragment"
    }
   },
   "source": [
    "- Does not distort the data\n"
   ]
  },
  {
   "cell_type": "markdown",
   "metadata": {
    "slideshow": {
     "slide_type": "fragment"
    }
   },
   "source": [
    "- Reinforces information in the text\n"
   ]
  },
  {
   "cell_type": "markdown",
   "metadata": {
    "slideshow": {
     "slide_type": "fragment"
    }
   },
   "source": [
    "- **Graphics can be more informative than statistics!**\n"
   ]
  },
  {
   "cell_type": "markdown",
   "metadata": {
    "slideshow": {
     "slide_type": "slide"
    }
   },
   "source": [
    "## Example of how graphics can be used\n",
    "\n",
    "Famous dot of Dr. John Snow who showed deaths from Cholera in central London for September 1854\n",
    "![title](figs/snow.png)\n",
    "\n",
    "### What does this graphic tell you?\n"
   ]
  },
  {
   "cell_type": "markdown",
   "metadata": {
    "slideshow": {
     "slide_type": "slide"
    }
   },
   "source": [
    "### Adding a Spatial Dimension to a Time Series\n",
    "\n",
    "- More information can be displayed by combining multiple data forms\n",
    "- You should design figures so information can be extracted without reading\n"
   ]
  },
  {
   "cell_type": "markdown",
   "metadata": {
    "slideshow": {
     "slide_type": "fragment"
    }
   },
   "source": [
    "<img src=\"figs/poster_OrigMinard.gif\" width=\"1200\">\n"
   ]
  },
  {
   "cell_type": "markdown",
   "metadata": {
    "slideshow": {
     "slide_type": "fragment"
    }
   },
   "source": [
    "Minard’s graphic is quite clever because of its ability to combine all of the dimensions: loss of life at a time and location, temperature, geography, and historical context, into one single graphic.\n"
   ]
  },
  {
   "cell_type": "markdown",
   "metadata": {
    "slideshow": {
     "slide_type": "fragment"
    }
   },
   "source": [
    "- Shows when Napoleon's army split by branching the graph\n",
    "- Adds thin lines to represent when the army had to cross rivers\n",
    "- Shows events with labels, changes in line width, and makes it easy for the eye to see where important events occur\n",
    "- Correlates secondary information (temperature in a graphical way) $\\rightarrow$ makes it so covariances can be identified\n"
   ]
  },
  {
   "cell_type": "markdown",
   "metadata": {
    "slideshow": {
     "slide_type": "slide"
    }
   },
   "source": [
    "## Principles of Graphical Excellence\n",
    "\n",
    "- Presentation of data needs to consider _substance, statistics, and design_\n"
   ]
  },
  {
   "cell_type": "markdown",
   "metadata": {
    "slideshow": {
     "slide_type": "fragment"
    }
   },
   "source": [
    "- Complex ideas should be communicated with _clarity, precision, and efficiency_\n"
   ]
  },
  {
   "cell_type": "markdown",
   "metadata": {
    "slideshow": {
     "slide_type": "fragment"
    }
   },
   "source": [
    "- Gives the viewer the _greatest _amount of information in the_ shortest amount of time, using the least amount of ink_\n"
   ]
  },
  {
   "cell_type": "markdown",
   "metadata": {
    "slideshow": {
     "slide_type": "slide"
    }
   },
   "source": [
    "## Graphical Integrity\n",
    "\n",
    "Graphics are just like words, they can be used to deceive\n"
   ]
  },
  {
   "cell_type": "markdown",
   "metadata": {
    "slideshow": {
     "slide_type": "subslide"
    }
   },
   "source": [
    "### What is wrong with this figure?\n",
    "\n",
    "<img src=\"figs/Army_Figure.png\" width=\"1200\">\n"
   ]
  },
  {
   "cell_type": "markdown",
   "metadata": {
    "slideshow": {
     "slide_type": "fragment"
    }
   },
   "source": [
    "- Negative data not represented well\n"
   ]
  },
  {
   "cell_type": "markdown",
   "metadata": {
    "slideshow": {
     "slide_type": "slide"
    }
   },
   "source": [
    "## Bar charts\n",
    "\n",
    "- Bar charts show representation within groups that conceal the data\n",
    "- Should only be used for histograms\n",
    "  <img src=\"figs/Bar_Chart.jpeg\" width=\"800\">\n"
   ]
  },
  {
   "cell_type": "markdown",
   "metadata": {
    "slideshow": {
     "slide_type": "slide"
    }
   },
   "source": [
    "## Color scales\n"
   ]
  },
  {
   "cell_type": "markdown",
   "metadata": {
    "slideshow": {
     "slide_type": "fragment"
    }
   },
   "source": [
    "- Colorful\n",
    "- pretty\n",
    "- should be sequential\n",
    "- accurately represents the values to brain\n",
    "- print in grayscale\n",
    "- good for colorblind\n"
   ]
  },
  {
   "cell_type": "markdown",
   "metadata": {
    "slideshow": {
     "slide_type": "slide"
    }
   },
   "source": [
    "### Why colormaps matter?\n",
    "\n",
    "Your eyes interpretation of the colormap represents the scale of the y-axis. <br>\n",
    "**Use of **an **inappropriate**** colormap is** like having a non-linear y-axis!**\n",
    "![title](figs/heart_disease.png)\n"
   ]
  },
  {
   "cell_type": "markdown",
   "metadata": {
    "slideshow": {
     "slide_type": "slide"
    }
   },
   "source": [
    "#### The most common colormap JET\n",
    "\n",
    "![title](figs/jet.png)\n"
   ]
  },
  {
   "cell_type": "markdown",
   "metadata": {
    "slideshow": {
     "slide_type": "subslide"
    }
   },
   "source": [
    "##### This is what JET looks like\n",
    "\n",
    "![title](figs/Mona_1.png)\n"
   ]
  },
  {
   "cell_type": "markdown",
   "metadata": {
    "slideshow": {
     "slide_type": "subslide"
    }
   },
   "source": [
    "#### Matlab's Default [Parula]\n",
    "\n",
    "![title](figs/parula.png)\n"
   ]
  },
  {
   "cell_type": "markdown",
   "metadata": {
    "slideshow": {
     "slide_type": "subslide"
    }
   },
   "source": [
    "### Perceptually uniform colormaps [Viridis]\n",
    "\n",
    "![title](Figs/viridis.png)\n"
   ]
  },
  {
   "cell_type": "markdown",
   "metadata": {
    "slideshow": {
     "slide_type": "subslide"
    }
   },
   "source": [
    "#### More details about perceptually correct colormaps\n"
   ]
  },
  {
   "cell_type": "code",
   "execution_count": null,
   "metadata": {
    "slideshow": {
     "slide_type": "fragment"
    }
   },
   "outputs": [],
   "source": [
    "IFrame(src=\"https://bids.github.io/colormap/\", width=1000, height=1000)"
   ]
  },
  {
   "cell_type": "markdown",
   "metadata": {
    "slideshow": {
     "slide_type": "slide"
    }
   },
   "source": [
    "## Choosing Colors for your Figures\n"
   ]
  },
  {
   "cell_type": "code",
   "execution_count": null,
   "metadata": {
    "slideshow": {
     "slide_type": "fragment"
    }
   },
   "outputs": [],
   "source": [
    "IFrame(\n",
    "    src=\"http://colorbrewer2.org/#type=sequential&scheme=BuGn&n=3\",\n",
    "    width=1000,\n",
    "    height=1000,\n",
    ")"
   ]
  },
  {
   "cell_type": "markdown",
   "metadata": {
    "slideshow": {
     "slide_type": "slide"
    }
   },
   "source": [
    "## Making a Simple Plot\n",
    "\n",
    "In this section, we want to draw the cosine and sine functions on the same\n",
    "plot. Starting from the default settings, we'll enrich the figure step by step\n",
    "to make it nicer.\n",
    "\n",
    "The first step is to get the data for the sine and cosine functions:\n"
   ]
  },
  {
   "cell_type": "markdown",
   "metadata": {
    "slideshow": {
     "slide_type": "subslide"
    }
   },
   "source": [
    "### pyplot\n",
    "\n",
    "Most interaction is done using the pyplot module. This is built to mimic Matlab™\n"
   ]
  },
  {
   "cell_type": "code",
   "execution_count": null,
   "metadata": {
    "slideshow": {
     "slide_type": "fragment"
    }
   },
   "outputs": [],
   "source": [
    "import numpy as np\n",
    "import matplotlib.pyplot as plt\n",
    "\n",
    "# creates a linear spaced array\n",
    "X = np.linspace(-np.pi, np.pi, 256, endpoint=True)\n",
    "\n",
    "# computes the sine and cosine\n",
    "C, S = np.cos(X), np.sin(X)\n"
   ]
  },
  {
   "cell_type": "markdown",
   "metadata": {
    "slideshow": {
     "slide_type": "fragment"
    }
   },
   "source": [
    "X is now a NumPy array with 256 values ranging from -π to +π (included). C is\n",
    "the cosine (256 values) and S is the sine (256 values).\n"
   ]
  },
  {
   "cell_type": "code",
   "execution_count": null,
   "metadata": {
    "slideshow": {
     "slide_type": "fragment"
    }
   },
   "outputs": [],
   "source": [
    "plt.plot(X, C)\n",
    "plt.plot(X, S)\n",
    "\n",
    "plt.show()"
   ]
  },
  {
   "cell_type": "markdown",
   "metadata": {
    "slideshow": {
     "slide_type": "subslide"
    }
   },
   "source": [
    "### Customizing Plots\n",
    "\n",
    "[Customizing matplotlib ](http://matplotlib.sourceforge.net/users/customizing.html)\n",
    "\n",
    "[Controlling line properties](http://matplotlib.sourceforge.net/users/pyplot_tutorial.html#controlling-line-properties)\n",
    "\n",
    "[Line API](https://matplotlib.org/stable/api/artist_api.html)\n",
    "\n",
    "In matplotlib everything is customizable in a variety of ways.\n",
    "\n",
    "- You can control the defaults of almost every property in matplotlib: figure size and dpi, line width, color and style, axes, axis and grid properties, text and font properties and so on.\n"
   ]
  },
  {
   "cell_type": "code",
   "execution_count": null,
   "metadata": {
    "slideshow": {
     "slide_type": "fragment"
    }
   },
   "outputs": [],
   "source": [
    "# Imports\n",
    "import numpy as np\n",
    "import matplotlib.pyplot as plt\n",
    "\n",
    "# Create a new figure of size 8x6 points, using 100 dots per inch\n",
    "plt.figure(figsize=(8, 6), dpi=100)\n",
    "\n",
    "# Create a new subplot from a grid of 1x1\n",
    "plt.subplot(111)\n",
    "\n",
    "X = np.linspace(-np.pi, np.pi, 256, endpoint=True)\n",
    "C, S = np.cos(X), np.sin(X)\n",
    "\n",
    "# Plot cosine using blue color with a continuous line of width 1 (pixels)\n",
    "plt.plot(X, C, color=\"blue\", linewidth=1.0, linestyle=\"-\")\n",
    "\n",
    "# Plot sine using green color with a continuous line of width 1 (pixels)\n",
    "plt.plot(X, S, color=\"green\", linewidth=1.0, linestyle=\"-\")\n",
    "\n",
    "# Set x limits\n",
    "plt.xlim(-4.0, 4.0)\n",
    "\n",
    "# Set x ticks\n",
    "plt.xticks(np.linspace(-4, 4, 9, endpoint=True))\n",
    "\n",
    "# Set y limits\n",
    "plt.ylim(-1.0, 1.0)\n",
    "\n",
    "# Set y ticks\n",
    "plt.yticks(np.linspace(-1, 1, 5, endpoint=True))\n",
    "\n",
    "# Save figure using 72 dots per inch\n",
    "# savefig(\"../figures/exercice_2.png\",dpi=72)\n",
    "\n",
    "# Show result on screen\n",
    "plt.show()"
   ]
  },
  {
   "cell_type": "markdown",
   "metadata": {
    "slideshow": {
     "slide_type": "subslide"
    }
   },
   "source": [
    "As a first step, we want to have the cosine in blue and the sine in red and a slightly thicker line for both of them. We'll also slightly alter the figure size to make it more horizontal.\n"
   ]
  },
  {
   "cell_type": "code",
   "execution_count": null,
   "metadata": {
    "slideshow": {
     "slide_type": "fragment"
    }
   },
   "outputs": [],
   "source": [
    "plt.figure(figsize=(10, 6), dpi=80)\n",
    "plt.plot(X, C, color=\"blue\", linewidth=2.5, linestyle=\"-\")\n",
    "plt.plot(X, S, color=\"red\", linewidth=2.5, linestyle=\"-\")"
   ]
  },
  {
   "cell_type": "markdown",
   "metadata": {
    "slideshow": {
     "slide_type": "subslide"
    }
   },
   "source": [
    "#### Setting Limits\n",
    "\n",
    "[xlim() command ](https://matplotlib.org/stable/api/_as_gen/matplotlib.pyplot.xlim.html)\n",
    "\n",
    "[ylim() command](https://matplotlib.org/stable/api/_as_gen/matplotlib.pyplot.ylim.html)\n",
    "\n",
    "Current limits of the figure are a bit too tight and we want to make some space\n",
    "in order to clearly see all data points.\n"
   ]
  },
  {
   "cell_type": "code",
   "execution_count": null,
   "metadata": {
    "slideshow": {
     "slide_type": "fragment"
    }
   },
   "outputs": [],
   "source": [
    "plt.figure(figsize=(8, 5), dpi=80)\n",
    "plt.subplot(111)\n",
    "\n",
    "X = np.linspace(-np.pi, np.pi, 256, endpoint=True)\n",
    "C, S = np.cos(X), np.sin(X)\n",
    "\n",
    "plt.plot(X, C, color=\"blue\", linewidth=2.5, linestyle=\"-\")\n",
    "plt.plot(X, S, color=\"red\", linewidth=2.5, linestyle=\"-\")\n",
    "\n",
    "plt.xlim(X.min() * 1.1, X.max() * 1.1)\n",
    "plt.ylim(C.min() * 1.1, C.max() * 1.1)\n",
    "\n",
    "plt.show()"
   ]
  },
  {
   "cell_type": "markdown",
   "metadata": {
    "slideshow": {
     "slide_type": "subslide"
    }
   },
   "source": [
    "#### Setting Ticks\n",
    "\n",
    "[xticks() command](https://matplotlib.org/stable/api/_as_gen/matplotlib.pyplot.xticks)\n",
    "\n",
    "[yticks() command](https://matplotlib.org/stable/api/_as_gen/matplotlib.pyplot.yticks)\n",
    "\n",
    "[Tick container](https://matplotlib.org/stable/tutorials/intermediate/artists.html)\n",
    "\n",
    "[Tick locating and formatting](https://matplotlib.org/stable/api/ticker_api.html)\n",
    "\n",
    "Current ticks are not ideal because they do not show the interesting values (+/-π,+/-π/2) for sine and cosine. We'll change them such that they show only these values.\n"
   ]
  },
  {
   "cell_type": "code",
   "execution_count": null,
   "metadata": {
    "slideshow": {
     "slide_type": "fragment"
    }
   },
   "outputs": [],
   "source": [
    "plt.figure(figsize=(8, 5), dpi=80)\n",
    "plt.subplot(111)\n",
    "\n",
    "X = np.linspace(-np.pi, np.pi, 256, endpoint=True)\n",
    "C, S = np.cos(X), np.sin(X)\n",
    "\n",
    "plt.plot(X, C, color=\"blue\", linewidth=2.5, linestyle=\"-\")\n",
    "plt.plot(X, S, color=\"red\", linewidth=2.5, linestyle=\"-\")\n",
    "\n",
    "plt.xlim(X.min() * 1.1, X.max() * 1.1)\n",
    "plt.ylim(C.min() * 1.1, C.max() * 1.1)\n",
    "\n",
    "plt.xticks([-np.pi, -np.pi / 2, 0, np.pi / 2, np.pi])\n",
    "plt.yticks([-1, 0, +1])\n",
    "\n",
    "plt.show()"
   ]
  },
  {
   "cell_type": "markdown",
   "metadata": {
    "slideshow": {
     "slide_type": "subslide"
    }
   },
   "source": [
    "#### Setting the Tick Labels\n",
    "\n",
    "[Working with text](https://matplotlib.org/stable/tutorials/text/text_intro.html)\n",
    "\n",
    "[set_xticklabels()](https://matplotlib.org/stable/api/_as_gen/matplotlib.axes.Axes.set_xticklabels)\n",
    "\n",
    "[set_yticklabels()](https://matplotlib.org/stable/api/_as_gen/matplotlib.axes.Axes.set_yticklabels)\n"
   ]
  },
  {
   "cell_type": "markdown",
   "metadata": {
    "slideshow": {
     "slide_type": "fragment"
    }
   },
   "source": [
    "Ticks are now properly placed, but their label is not very explicit. We could guess that 3.142 is π, but it would be better to make it explicit. When we set\n",
    "tick values, we can also provide a corresponding label in the second argument list.\n",
    "\n",
    "Note that we'll use [latex](https://www.overleaf.com/learn/latex/Learn_LaTeX_in_30_minutes) to allow for a nice rendering of the label.\n"
   ]
  },
  {
   "cell_type": "code",
   "execution_count": null,
   "metadata": {
    "slideshow": {
     "slide_type": "fragment"
    }
   },
   "outputs": [],
   "source": [
    "import numpy as np\n",
    "import matplotlib.pyplot as plt\n",
    "\n",
    "plt.figure(figsize=(8, 5), dpi=80)\n",
    "plt.subplot(111)\n",
    "\n",
    "X = np.linspace(-np.pi, np.pi, 256, endpoint=True)\n",
    "C, S = np.cos(X), np.sin(X)\n",
    "\n",
    "plt.plot(X, C, color=\"blue\", linewidth=2.5, linestyle=\"-\")\n",
    "plt.plot(X, S, color=\"red\", linewidth=2.5, linestyle=\"-\")\n",
    "\n",
    "plt.xlim(X.min() * 1.1, X.max() * 1.1)\n",
    "plt.xticks(\n",
    "    [-np.pi, -np.pi / 2, 0, np.pi / 2, np.pi],\n",
    "    [r\"$-\\pi$\", r\"$-\\pi/2$\", r\"$0$\", r\"$+\\pi/2$\", r\"$+\\pi$\"],\n",
    ")\n",
    "\n",
    "plt.ylim(C.min() * 1.1, C.max() * 1.1)\n",
    "plt.yticks([-1, 0, +1], [r\"$-1$\", r\"$0$\", r\"$+1$\"])\n",
    "\n",
    "plt.show()"
   ]
  },
  {
   "cell_type": "markdown",
   "metadata": {
    "slideshow": {
     "slide_type": "subslide"
    }
   },
   "source": [
    "#### Moving Splines\n",
    "\n",
    "[Spines](https://matplotlib.org/stable/api/_as_gen/matplotlib.spines)\n",
    "\n",
    "[Axis container](https://matplotlib.org/stable/api/container_api.html)\n",
    "\n",
    "[Transformations tutorial](https://matplotlib.org/stable/tutorials/advanced/transforms_tutorial.html)\n",
    "\n",
    "Spines are the lines connecting the axis tick marks and noting the boundaries of the data area.\n",
    "\n",
    "They can be placed at arbitrary positions until now, they were on the border of the axis.\n",
    "\n",
    "We'll change that since we want to have them in the middle.\n",
    "\n",
    "1. Since there are four of them (top/bottom/left/right), we'll discard the top and right by setting their color to none\n",
    "2. we'll move the bottom and left ones to coordinate 0 in data space coordinates.\n"
   ]
  },
  {
   "cell_type": "code",
   "execution_count": null,
   "metadata": {
    "slideshow": {
     "slide_type": "fragment"
    }
   },
   "outputs": [],
   "source": [
    "import numpy as np\n",
    "import matplotlib.pyplot as plt\n",
    "\n",
    "plt.figure(figsize=(8, 5), dpi=80)\n",
    "ax = plt.subplot(111)\n",
    "\n",
    "ax.spines[\"right\"].set_color(\"none\")\n",
    "ax.spines[\"top\"].set_color(\"none\")\n",
    "ax.xaxis.set_ticks_position(\"bottom\")\n",
    "ax.spines[\"bottom\"].set_position((\"data\", 0))\n",
    "ax.yaxis.set_ticks_position(\"left\")\n",
    "ax.spines[\"left\"].set_position((\"data\", 0))\n",
    "\n",
    "X = np.linspace(-np.pi, np.pi, 256, endpoint=True)\n",
    "C, S = np.cos(X), np.sin(X)\n",
    "\n",
    "plt.plot(X, C, color=\"blue\", linewidth=2.5, linestyle=\"-\")\n",
    "plt.plot(X, S, color=\"red\", linewidth=2.5, linestyle=\"-\")\n",
    "\n",
    "\n",
    "plt.xlim(X.min() * 1.1, X.max() * 1.1)\n",
    "plt.xticks(\n",
    "    [-np.pi, -np.pi / 2, 0, np.pi / 2, np.pi],\n",
    "    [r\"$-\\pi$\", r\"$-\\pi/2$\", r\"$0$\", r\"$+\\pi/2$\", r\"$+\\pi$\"],\n",
    ")\n",
    "\n",
    "plt.ylim(C.min() * 1.1, C.max() * 1.1)\n",
    "plt.yticks([-1, 0, +1], [r\"$-1$\", r\"$0$\", r\"$+1$\"])\n",
    "\n",
    "plt.show()"
   ]
  },
  {
   "cell_type": "markdown",
   "metadata": {
    "slideshow": {
     "slide_type": "subslide"
    }
   },
   "source": [
    "#### Adding a Legend\n",
    "\n",
    "[Legend guide](https://matplotlib.org/stable/tutorials/intermediate/legend_guide.html)\n",
    "\n",
    "[legend() command](https://matplotlib.org/stable/api/_as_gen/matplotlib.pyplot.legend)\n",
    "\n",
    "[Legend API](https://matplotlib.org/stable/api/_as_gen/matplotlib.pyplot.legend.html)\n"
   ]
  },
  {
   "cell_type": "markdown",
   "metadata": {
    "slideshow": {
     "slide_type": "fragment"
    }
   },
   "source": [
    "Let's add a legend in the upper left corner. This only requires adding the keyword argument label (that will be used in the legend box) to the plot commands.\n"
   ]
  },
  {
   "cell_type": "code",
   "execution_count": null,
   "metadata": {
    "slideshow": {
     "slide_type": "fragment"
    }
   },
   "outputs": [],
   "source": [
    "import numpy as np\n",
    "import matplotlib.pyplot as plt\n",
    "\n",
    "plt.figure(figsize=(8, 5), dpi=80)\n",
    "ax = plt.subplot(111)\n",
    "ax.spines[\"right\"].set_color(\"none\")\n",
    "ax.spines[\"top\"].set_color(\"none\")\n",
    "ax.xaxis.set_ticks_position(\"bottom\")\n",
    "ax.spines[\"bottom\"].set_position((\"data\", 0))\n",
    "ax.yaxis.set_ticks_position(\"left\")\n",
    "ax.spines[\"left\"].set_position((\"data\", 0))\n",
    "\n",
    "X = np.linspace(-np.pi, np.pi, 256, endpoint=True)\n",
    "C, S = np.cos(X), np.sin(X)\n",
    "\n",
    "plt.plot(X, C, color=\"blue\", linewidth=2.5, linestyle=\"-\", label=\"cosine\")\n",
    "plt.plot(X, S, color=\"red\", linewidth=2.5, linestyle=\"-\", label=\"sine\")\n",
    "\n",
    "plt.xlim(X.min() * 1.1, X.max() * 1.1)\n",
    "plt.xticks(\n",
    "    [-np.pi, -np.pi / 2, 0, np.pi / 2, np.pi],\n",
    "    [r\"$-\\pi$\", r\"$-\\pi/2$\", r\"$0$\", r\"$+\\pi/2$\", r\"$+\\pi$\"],\n",
    ")\n",
    "\n",
    "plt.ylim(C.min() * 1.1, C.max() * 1.1)\n",
    "plt.yticks([-1, +1], [r\"$-1$\", r\"$+1$\"])\n",
    "\n",
    "plt.legend(loc=\"upper left\", frameon=False)\n",
    "# plt.savefig(\"../figures/exercice_8.png\",dpi=72)\n",
    "plt.show()"
   ]
  },
  {
   "cell_type": "markdown",
   "metadata": {
    "slideshow": {
     "slide_type": "subslide"
    }
   },
   "source": [
    "#### Annotations\n",
    "\n",
    "[Annotating axis](https://matplotlib.org/stable/tutorials/text/annotations.html)\n",
    "\n",
    "[annotate() command](https://matplotlib.org/stable/api/_as_gen/matplotlib.pyplot.annotate)\n",
    "\n",
    "In matplotlib you can add annotations to points of interest automatically.\n"
   ]
  },
  {
   "cell_type": "code",
   "execution_count": null,
   "metadata": {
    "slideshow": {
     "slide_type": "fragment"
    }
   },
   "outputs": [],
   "source": [
    "import numpy as np\n",
    "import matplotlib.pyplot as plt\n",
    "\n",
    "plt.figure(figsize=(8, 5), dpi=80)\n",
    "ax = plt.subplot(111)\n",
    "ax.spines[\"right\"].set_color(\"none\")\n",
    "ax.spines[\"top\"].set_color(\"none\")\n",
    "ax.xaxis.set_ticks_position(\"bottom\")\n",
    "ax.spines[\"bottom\"].set_position((\"data\", 0))\n",
    "ax.yaxis.set_ticks_position(\"left\")\n",
    "ax.spines[\"left\"].set_position((\"data\", 0))\n",
    "\n",
    "X = np.linspace(-np.pi, np.pi, 256, endpoint=True)\n",
    "C, S = np.cos(X), np.sin(X)\n",
    "\n",
    "plt.plot(X, C, color=\"blue\", linewidth=2.5, linestyle=\"-\", label=\"cosine\")\n",
    "plt.plot(X, S, color=\"red\", linewidth=2.5, linestyle=\"-\", label=\"sine\")\n",
    "\n",
    "plt.xlim(X.min() * 1.1, X.max() * 1.1)\n",
    "plt.xticks(\n",
    "    [-np.pi, -np.pi / 2, 0, np.pi / 2, np.pi],\n",
    "    [r\"$-\\pi$\", r\"$-\\pi/2$\", r\"$0$\", r\"$+\\pi/2$\", r\"$+\\pi$\"],\n",
    ")\n",
    "\n",
    "plt.ylim(C.min() * 1.1, C.max() * 1.1)\n",
    "plt.yticks([-1, +1], [r\"$-1$\", r\"$+1$\"])\n",
    "\n",
    "t = 2 * np.pi / 3\n",
    "plt.plot([t, t], [0, np.cos(t)], color=\"blue\", linewidth=1.5, linestyle=\"--\")\n",
    "plt.scatter(\n",
    "    [\n",
    "        t,\n",
    "    ],\n",
    "    [\n",
    "        np.cos(t),\n",
    "    ],\n",
    "    50,\n",
    "    color=\"blue\",\n",
    ")\n",
    "plt.annotate(\n",
    "    r\"$\\cos(\\frac{2\\pi}{3})=-\\frac{1}{2}$\",\n",
    "    xy=(t, np.cos(t)),\n",
    "    xycoords=\"data\",\n",
    "    xytext=(-90, -50),\n",
    "    textcoords=\"offset points\",\n",
    "    fontsize=16,\n",
    "    arrowprops=dict(arrowstyle=\"->\", connectionstyle=\"arc3,rad=.2\"),\n",
    ")\n",
    "\n",
    "plt.plot([t, t], [0, np.sin(t)], color=\"red\", linewidth=1.5, linestyle=\"--\")\n",
    "plt.scatter(\n",
    "    [\n",
    "        t,\n",
    "    ],\n",
    "    [\n",
    "        np.sin(t),\n",
    "    ],\n",
    "    50,\n",
    "    color=\"red\",\n",
    ")\n",
    "plt.annotate(\n",
    "    r\"$\\sin(\\frac{2\\pi}{3})=\\frac{\\sqrt{3}}{2}$\",\n",
    "    xy=(t, np.sin(t)),\n",
    "    xycoords=\"data\",\n",
    "    xytext=(+10, +30),\n",
    "    textcoords=\"offset points\",\n",
    "    fontsize=16,\n",
    "    arrowprops=dict(arrowstyle=\"->\", connectionstyle=\"arc3,rad=.2\"),\n",
    ")\n",
    "\n",
    "plt.legend(loc=\"upper left\", frameon=False)\n",
    "# plt.savefig(\"../figures/exercice_9.png\", dpi=72)\n",
    "plt.show()"
   ]
  },
  {
   "cell_type": "markdown",
   "metadata": {
    "slideshow": {
     "slide_type": "slide"
    }
   },
   "source": [
    "## Figures, Subplots , Axes, Ticks\n",
    "So far, we have used the built-in figure formatting. Within matplotlib you have complete control over your figures.\n",
    "- Within the figure, you can have subplots\n",
    "- The subplots can be on a regular grid or placed randomly\n",
    "- When we call plot by default, we get the current graphical axis `gca()` and the current graphical figure `gcf()`\n"
   ]
  },
  {
   "cell_type": "markdown",
   "metadata": {
    "slideshow": {
     "slide_type": "fragment"
    }
   },
   "source": [
    "### Creating Beautiful Figures\n",
    "\n",
    "[BBox ](http://matplotlib.sourceforge.net/api/artist_api.html#matplotlib.text.Text.set_bbox)\n",
    "\n",
    "When creating publish-quality figures, the details are essential. In the previous plot:\n",
    "\n",
    "1. The tick labels are not visible - we can make them bigger, so they are visible\n",
    "2. The tick labels are small. It would be helpful if they were bigger\n"
   ]
  },
  {
   "cell_type": "markdown",
   "metadata": {
    "slideshow": {
     "slide_type": "fragment"
    }
   },
   "source": [
    "### Figures\n",
    "\n",
    "A figure is a window in the GUI.\n",
    "\n",
    "- Figures are numbered starting from 1\n",
    "\n",
    "Several parameters determine what a figure looks like:\n"
   ]
  },
  {
   "cell_type": "markdown",
   "metadata": {
    "slideshow": {
     "slide_type": "fragment"
    }
   },
   "source": [
    "```{eval-rst}\n",
    "==============  ======================= ============================================\n",
    "Argument        Default                 Description\n",
    "==============  ======================= ============================================\n",
    "num             1                       number of figure\n",
    "figsize         figure.figsize          figure size in in inches (width, height)\n",
    "dpi             figure.dpi              resolution in dots per inch\n",
    "facecolor       figure.facecolor        color of the drawing background\n",
    "edgecolor       figure.edgecolor        color of edge around the drawing background\n",
    "frameon         True                    draw figure frame or not\n",
    "==============  ======================= ============================================\n",
    "```\n"
   ]
  },
  {
   "cell_type": "markdown",
   "metadata": {
    "slideshow": {
     "slide_type": "fragment"
    }
   },
   "source": [
    "The defaults can be specified in the resource file and will be used most of the time. Only the number of the figure is frequently changed.\n",
    "\n",
    "As with other objects, you can set figure properties with the set_something methods.\n"
   ]
  },
  {
   "cell_type": "markdown",
   "metadata": {
    "slideshow": {
     "slide_type": "subslide"
    }
   },
   "source": [
    "### Subplots\n",
    "With subplot, you can arrange plots in a regular grid. You need to specify the number of rows and columns and the number of the plot.\n"
   ]
  },
  {
   "cell_type": "code",
   "execution_count": null,
   "metadata": {
    "slideshow": {
     "slide_type": "fragment"
    }
   },
   "outputs": [],
   "source": [
    "from pylab import *\n",
    "\n",
    "subplot(2, 1, 1)\n",
    "xticks([]), yticks([])\n",
    "text(0.5, 0.5, \"subplot(2,1,1)\", ha=\"center\", va=\"center\", size=24, alpha=0.5)\n",
    "\n",
    "subplot(2, 1, 2)\n",
    "xticks([]), yticks([])\n",
    "text(0.5, 0.5, \"subplot(2,1,2)\", ha=\"center\", va=\"center\", size=24, alpha=0.5)\n",
    "\n",
    "# plt.savefig('../figures/subplot-horizontal.png', dpi=64)\n",
    "show()\n"
   ]
  },
  {
   "cell_type": "code",
   "execution_count": null,
   "metadata": {
    "slideshow": {
     "slide_type": "fragment"
    }
   },
   "outputs": [],
   "source": [
    "from pylab import *\n",
    "\n",
    "subplot(1, 2, 1)\n",
    "xticks([]), yticks([])\n",
    "text(0.5, 0.5, \"subplot(2,2,1)\", ha=\"center\", va=\"center\", size=24, alpha=0.5)\n",
    "\n",
    "subplot(1, 2, 2)\n",
    "xticks([]), yticks([])\n",
    "text(0.5, 0.5, \"subplot(2,2,2)\", ha=\"center\", va=\"center\", size=24, alpha=0.5)\n",
    "\n",
    "# plt.savefig('../figures/subplot-vertical.png', dpi=64)\n",
    "show()\n"
   ]
  },
  {
   "cell_type": "code",
   "execution_count": null,
   "metadata": {
    "slideshow": {
     "slide_type": "fragment"
    }
   },
   "outputs": [],
   "source": [
    "from pylab import *\n",
    "\n",
    "subplot(2, 2, 1)\n",
    "xticks([]), yticks([])\n",
    "text(0.5, 0.5, \"subplot(2,2,1)\", ha=\"center\", va=\"center\", size=20, alpha=0.5)\n",
    "\n",
    "subplot(2, 2, 2)\n",
    "xticks([]), yticks([])\n",
    "text(0.5, 0.5, \"subplot(2,2,2)\", ha=\"center\", va=\"center\", size=20, alpha=0.5)\n",
    "\n",
    "subplot(2, 2, 3)\n",
    "xticks([]), yticks([])\n",
    "text(0.5, 0.5, \"subplot(2,2,3)\", ha=\"center\", va=\"center\", size=20, alpha=0.5)\n",
    "\n",
    "subplot(2, 2, 4)\n",
    "xticks([]), yticks([])\n",
    "text(0.5, 0.5, \"subplot(2,2,4)\", ha=\"center\", va=\"center\", size=20, alpha=0.5)\n",
    "\n",
    "# savefig('../figures/subplot-grid.png', dpi=64)\n",
    "show()\n"
   ]
  },
  {
   "cell_type": "markdown",
   "metadata": {
    "slideshow": {
     "slide_type": "subslide"
    }
   },
   "source": [
    "You can also use GridSpec, a more powerful tool for laying out plots\n"
   ]
  },
  {
   "cell_type": "code",
   "execution_count": null,
   "metadata": {
    "slideshow": {
     "slide_type": "fragment"
    }
   },
   "outputs": [],
   "source": [
    "from pylab import *\n",
    "import matplotlib.gridspec as gridspec\n",
    "\n",
    "G = gridspec.GridSpec(3, 3)\n",
    "\n",
    "axes_1 = subplot(G[0, :])\n",
    "xticks([]), yticks([])\n",
    "text(0.5, 0.5, \"Axes 1\", ha=\"center\", va=\"center\", size=24, alpha=0.5)\n",
    "\n",
    "axes_2 = subplot(G[1, :-1])\n",
    "xticks([]), yticks([])\n",
    "text(0.5, 0.5, \"Axes 2\", ha=\"center\", va=\"center\", size=24, alpha=0.5)\n",
    "\n",
    "axes_3 = subplot(G[1:, -1])\n",
    "xticks([]), yticks([])\n",
    "text(0.5, 0.5, \"Axes 3\", ha=\"center\", va=\"center\", size=24, alpha=0.5)\n",
    "\n",
    "axes_4 = subplot(G[-1, 0])\n",
    "xticks([]), yticks([])\n",
    "text(0.5, 0.5, \"Axes 4\", ha=\"center\", va=\"center\", size=24, alpha=0.5)\n",
    "\n",
    "axes_5 = subplot(G[-1, -2])\n",
    "xticks([]), yticks([])\n",
    "text(0.5, 0.5, \"Axes 5\", ha=\"center\", va=\"center\", size=24, alpha=0.5)\n",
    "\n",
    "# plt.savefig('../figures/gridspec.png', dpi=64)\n",
    "show()\n"
   ]
  },
  {
   "cell_type": "markdown",
   "metadata": {
    "slideshow": {
     "slide_type": "subslide"
    }
   },
   "source": [
    "### Axes\n",
    "\n",
    "Axes are very similar to subplots but allow the placement of plots at any location\n",
    "in the figure. So if we want to put a smaller plot inside a bigger one we do\n",
    "so with axes.\n"
   ]
  },
  {
   "cell_type": "code",
   "execution_count": null,
   "metadata": {
    "slideshow": {
     "slide_type": "fragment"
    }
   },
   "outputs": [],
   "source": [
    "import matplotlib.pyplot as plt\n",
    "\n",
    "plt.axes([0.1, 0.1, 0.8, 0.8])\n",
    "plt.xticks([]), plt.yticks([])\n",
    "plt.text(\n",
    "    0.6, 0.6, \"axes([0.1,0.1,.8,.8])\", ha=\"center\", va=\"center\", size=20, alpha=0.5\n",
    ")\n",
    "\n",
    "plt.axes([0.2, 0.2, 0.3, 0.3])\n",
    "plt.xticks([]), plt.yticks([])\n",
    "plt.text(\n",
    "    0.5, 0.5, \"axes([0.2,0.2,.3,.3])\", ha=\"center\", va=\"center\", size=16, alpha=0.5\n",
    ")\n",
    "\n",
    "# plt.savefig(\"../figures/axes.png\",dpi=64)\n",
    "plt.show()\n"
   ]
  },
  {
   "cell_type": "code",
   "execution_count": null,
   "metadata": {
    "slideshow": {
     "slide_type": "fragment"
    }
   },
   "outputs": [],
   "source": [
    "import matplotlib.pyplot as plt\n",
    "\n",
    "plt.axes([0.1, 0.1, 0.5, 0.5])\n",
    "plt.xticks([]), plt.yticks([])\n",
    "plt.text(0.1, 0.1, \"axes([0.1,0.1,.5,.5])\", ha=\"left\", va=\"center\", size=16, alpha=0.5)\n",
    "\n",
    "plt.axes([0.2, 0.2, 0.5, 0.5])\n",
    "plt.xticks([]), plt.yticks([])\n",
    "plt.text(0.1, 0.1, \"axes([0.2,0.2,.5,.5])\", ha=\"left\", va=\"center\", size=16, alpha=0.5)\n",
    "\n",
    "plt.axes([0.3, 0.3, 0.5, 0.5])\n",
    "plt.xticks([]), plt.yticks([])\n",
    "plt.text(0.1, 0.1, \"axes([0.3,0.3,.5,.5])\", ha=\"left\", va=\"center\", size=16, alpha=0.5)\n",
    "\n",
    "plt.axes([0.4, 0.4, 0.5, 0.5])\n",
    "plt.xticks([]), plt.yticks([])\n",
    "plt.text(0.1, 0.1, \"axes([0.4,0.4,.5,.5])\", ha=\"left\", va=\"center\", size=16, alpha=0.5)\n",
    "\n",
    "# plt.savefig(\"../figures/axes-2.png\",dpi=64)\n",
    "plt.show()\n"
   ]
  },
  {
   "cell_type": "markdown",
   "metadata": {
    "slideshow": {
     "slide_type": "subslide"
    }
   },
   "source": [
    "### Ticks\n",
    "\n",
    "Well-formatted ticks are important for publish-ready figures.Matplotlib provides a configurable system for ticks.\n",
    "\n",
    "- Tick locators specify where ticks should appear\n",
    "- Tick formatters to give ticks the appearance you want.\n",
    "- Major and minor ticks can be located and formatted independently\n",
    "- By default, minor ticks are not shown\n"
   ]
  },
  {
   "cell_type": "markdown",
   "metadata": {
    "slideshow": {
     "slide_type": "fragment"
    }
   },
   "source": [
    "### Tick Locators\n",
    "\n",
    "There are several locators for different kinds of requirements:\n",
    "\n",
    "![](./figs/Ticks.png)\n"
   ]
  },
  {
   "cell_type": "markdown",
   "metadata": {
    "slideshow": {
     "slide_type": "fragment"
    }
   },
   "source": [
    "Dates are tricky to deal with. For this, you can use [matplotlib.dates](https://matplotlib.org/stable/api/dates_api.html) utility\n"
   ]
  },
  {
   "cell_type": "markdown",
   "metadata": {
    "slideshow": {
     "slide_type": "slide"
    }
   },
   "source": [
    "## Types of Graphs\n"
   ]
  },
  {
   "cell_type": "code",
   "execution_count": null,
   "metadata": {
    "slideshow": {
     "slide_type": "fragment"
    }
   },
   "outputs": [],
   "source": [
    "IFrame(src=\"https://www.data-to-viz.com/\", width=1000, height=1200)"
   ]
  },
  {
   "cell_type": "markdown",
   "metadata": {
    "slideshow": {
     "slide_type": "slide"
    }
   },
   "source": [
    "## Making Plots in Python\n",
    "\n",
    "The most common library for making plots is Matplotlib\n"
   ]
  },
  {
   "cell_type": "markdown",
   "metadata": {
    "slideshow": {
     "slide_type": "subslide"
    }
   },
   "source": [
    "### Violin Plots\n",
    "\n",
    "- Like a box plot but provides a deeper understanding of data density\n",
    "- Good when you have large datasets\n"
   ]
  },
  {
   "cell_type": "code",
   "execution_count": null,
   "metadata": {
    "slideshow": {
     "slide_type": "fragment"
    }
   },
   "outputs": [],
   "source": [
    "# This is a Pandas dataframe\n",
    "# Pandas dataframes are like xls files for python\n",
    "# They have their own structure and syntax\n",
    "df = sns.load_dataset(\"iris\")\n",
    "\n",
    "# Change line width\n",
    "sns.violinplot(x=df[\"species\"], y=df[\"sepal_length\"], linewidth=1)\n",
    "\n",
    "# Change width\n",
    "sns.violinplot(x=df[\"species\"], y=df[\"sepal_length\"], width=0.3)"
   ]
  },
  {
   "cell_type": "markdown",
   "metadata": {
    "slideshow": {
     "slide_type": "subslide"
    }
   },
   "source": [
    "### 2D Density Plot\n",
    "\n",
    "- Used to compare 2D quantitative information\n",
    "- Good for small data sets\n",
    "- When the density of data is high (shouldn't use a scatter plot)\n"
   ]
  },
  {
   "cell_type": "code",
   "execution_count": null,
   "metadata": {
    "slideshow": {
     "slide_type": "fragment"
    }
   },
   "outputs": [],
   "source": [
    "# Create data: 200 points\n",
    "data = np.random.multivariate_normal([0, 0], [[1, 0.5], [0.5, 3]], 200)\n",
    "x, y = data.T\n",
    "\n",
    "# Create a figure with 6 plot areas\n",
    "fig, axes = plt.subplots(ncols=6, nrows=1, figsize=(21, 5))\n",
    "\n",
    "# Everything start with a Scatterplot\n",
    "axes[0].set_title(\"Scatterplot\")\n",
    "axes[0].plot(x, y, \"ko\")\n",
    "# As you can see there is a lot of overplotting here!\n",
    "\n",
    "# Thus we can cut the plotting window in several hexbins\n",
    "nbins = 20\n",
    "axes[1].set_title(\"Hexbin\")\n",
    "axes[1].hexbin(x, y, gridsize=nbins, cmap=plt.cm.viridis)\n",
    "\n",
    "# 2D Histogram\n",
    "axes[2].set_title(\"2D Histogram\")\n",
    "axes[2].hist2d(x, y, bins=nbins, cmap=plt.cm.viridis)\n",
    "\n",
    "# Evaluate a gaussian kde on a regular grid of nbins x nbins over data extents\n",
    "k = kde.gaussian_kde(data.T)\n",
    "xi, yi = np.mgrid[x.min() : x.max() : nbins * 1j, y.min() : y.max() : nbins * 1j]\n",
    "zi = k(np.vstack([xi.flatten(), yi.flatten()]))\n",
    "\n",
    "# plot a density\n",
    "axes[3].set_title(\"Calculate Gaussian KDE\")\n",
    "axes[3].pcolormesh(xi, yi, zi.reshape(xi.shape), cmap=plt.cm.viridis)\n",
    "\n",
    "# add shading\n",
    "axes[4].set_title(\"2D Density with shading\")\n",
    "axes[4].pcolormesh(xi, yi, zi.reshape(xi.shape), shading=\"gouraud\", cmap=plt.cm.viridis)\n",
    "\n",
    "# contour\n",
    "axes[5].set_title(\"Contour\")\n",
    "axes[5].pcolormesh(xi, yi, zi.reshape(xi.shape), shading=\"gouraud\", cmap=plt.cm.viridis)\n",
    "axes[5].contour(xi, yi, zi.reshape(xi.shape))\n",
    "\n",
    "for ax_ in axes:\n",
    "    ax_.set_box_aspect(1)\n",
    "\n",
    "\n",
    "plt.tight_layout()"
   ]
  },
  {
   "cell_type": "markdown",
   "metadata": {
    "slideshow": {
     "slide_type": "subslide"
    }
   },
   "source": [
    "### Correlogram\n",
    "\n",
    "A correlogram or correlation matrix allows to analyze the relationship between each pair of numerical variables of a matrix.\n"
   ]
  },
  {
   "cell_type": "code",
   "execution_count": null,
   "metadata": {
    "slideshow": {
     "slide_type": "fragment"
    }
   },
   "outputs": [],
   "source": [
    "df = sns.load_dataset(\"iris\")\n",
    "\n",
    "# with regression\n",
    "sns.pairplot(df, kind=\"reg\")\n",
    "plt.show()\n",
    "\n",
    "# without regression\n",
    "sns.pairplot(df, kind=\"scatter\")\n",
    "plt.show()"
   ]
  },
  {
   "cell_type": "markdown",
   "metadata": {
    "slideshow": {
     "slide_type": "subslide"
    }
   },
   "source": [
    "### Dendrogram\n",
    "\n",
    "- A dendrogram or tree diagram allows to illustrate the hierarchical organization of several entities.\n"
   ]
  },
  {
   "cell_type": "code",
   "execution_count": null,
   "metadata": {
    "slideshow": {
     "slide_type": "fragment"
    }
   },
   "outputs": [],
   "source": [
    "# Libraries\n",
    "import seaborn as sns\n",
    "import pandas as pd\n",
    "from matplotlib import pyplot as plt\n",
    "\n",
    "# Data set\n",
    "df = pd.read_csv(\".\\data\\mtcars.csv\")\n",
    "df = df.set_index(\"model\")\n",
    "\n",
    "# Change color palette\n",
    "sns.clustermap(df, metric=\"euclidean\", standard_scale=1, method=\"ward\", cmap=\"viridis\")"
   ]
  },
  {
   "cell_type": "markdown",
   "metadata": {
    "slideshow": {
     "slide_type": "subslide"
    }
   },
   "source": [
    "### Graph Structures\n",
    "\n",
    "- Show interconnections between a set of entities.\n",
    "- Each entity is represented by a Node (or vertices).\n",
    "- The connection between nodes is represented through links (or edges).\n",
    "- Directed or undirected, weighted or unweighted.\n"
   ]
  },
  {
   "cell_type": "code",
   "execution_count": null,
   "metadata": {
    "slideshow": {
     "slide_type": "fragment"
    }
   },
   "outputs": [],
   "source": [
    "z = [5, 3, 3, 3, 3, 2, 2, 2, 1, 1, 1]\n",
    "print(nx.is_graphical(z))\n",
    "\n",
    "print(\"Configuration model\")\n",
    "G = nx.configuration_model(z)  # configuration model\n",
    "degree_sequence = [d for n, d in G.degree()]  # degree sequence\n",
    "print(\"Degree sequence %s\" % degree_sequence)\n",
    "print(\"Degree histogram\")\n",
    "hist = {}\n",
    "for d in degree_sequence:\n",
    "    if d in hist:\n",
    "        hist[d] += 1\n",
    "    else:\n",
    "        hist[d] = 1\n",
    "print(\"degree #nodes\")\n",
    "for d in hist:\n",
    "    print(\"%d %d\" % (d, hist[d]))\n",
    "\n",
    "nx.draw(G)\n",
    "plt.show()"
   ]
  },
  {
   "cell_type": "markdown",
   "metadata": {
    "slideshow": {
     "slide_type": "slide"
    }
   },
   "source": [
    "## Guiding Principals\n"
   ]
  },
  {
   "cell_type": "markdown",
   "metadata": {
    "slideshow": {
     "slide_type": "subslide"
    }
   },
   "source": [
    "### Cutting the Y-axis/suppressing the zero\n",
    "\n",
    "- **Bad** when using a bar chart or physical quantity based at zero\n",
    "- **Good** when the reference point and all of the values are greater than zero\n",
    "\n",
    "![title](Figs/Bar_Chart.jpeg)\n"
   ]
  },
  {
   "cell_type": "markdown",
   "metadata": {
    "slideshow": {
     "slide_type": "subslide"
    }
   },
   "source": [
    "### Pie Charts\n",
    "\n",
    "- Never use them ... people are not good at determining angles\n",
    "  ![title](Figs/pie_chart_1.png)\n"
   ]
  },
  {
   "cell_type": "markdown",
   "metadata": {
    "slideshow": {
     "slide_type": "fragment"
    }
   },
   "source": [
    "A bar chart or a line chart is much more informative\n"
   ]
  },
  {
   "cell_type": "markdown",
   "metadata": {
    "slideshow": {
     "slide_type": "fragment"
    }
   },
   "source": [
    "![title](Figs/bar_chart_1.png)\n"
   ]
  },
  {
   "cell_type": "markdown",
   "metadata": {
    "slideshow": {
     "slide_type": "subslide"
    }
   },
   "source": [
    "### Overplotting\n",
    "\n",
    "Make sure the density of datapoints is visible!\n",
    "![title](Figs/overplotting_1.png)\n"
   ]
  },
  {
   "cell_type": "markdown",
   "metadata": {
    "slideshow": {
     "slide_type": "fragment"
    }
   },
   "source": [
    "![title](Figs/overplotting_2.png)\n"
   ]
  },
  {
   "cell_type": "markdown",
   "metadata": {
    "slideshow": {
     "slide_type": "fragment"
    }
   },
   "source": [
    "![title](Figs/overplotting_3.png)\n"
   ]
  },
  {
   "cell_type": "markdown",
   "metadata": {
    "slideshow": {
     "slide_type": "slide"
    }
   },
   "source": [
    "### Plots with multiple lines\n",
    "\n",
    "- Generally it is hard to extract information from these graphs\n",
    "- Can be used if only one piece of information is most important\n",
    "- Can be used if the scales are similar\n"
   ]
  },
  {
   "cell_type": "markdown",
   "metadata": {
    "slideshow": {
     "slide_type": "fragment"
    }
   },
   "source": [
    "![title](Figs/two_lines_1.png)\n"
   ]
  },
  {
   "cell_type": "markdown",
   "metadata": {
    "slideshow": {
     "slide_type": "fragment"
    }
   },
   "source": [
    "![title](Figs/two_lines_2.png)\n"
   ]
  },
  {
   "cell_type": "markdown",
   "metadata": {
    "slideshow": {
     "slide_type": "fragment"
    }
   },
   "source": [
    "![title](Figs/two_lines_3.png)\n"
   ]
  },
  {
   "cell_type": "markdown",
   "metadata": {
    "slideshow": {
     "slide_type": "fragment"
    }
   },
   "source": [
    "![title](Figs/two_lines_4.png)\n"
   ]
  },
  {
   "cell_type": "markdown",
   "metadata": {
    "slideshow": {
     "slide_type": "slide"
    }
   },
   "source": [
    "### 3D graphics\n",
    "\n",
    "While 3D might look cool ... it is nearly impossible to extract information\n"
   ]
  },
  {
   "cell_type": "markdown",
   "metadata": {
    "slideshow": {
     "slide_type": "fragment"
    }
   },
   "source": [
    "#### Don't: 3D bar charts\n",
    "\n",
    "Information is hidden in 3D space\n",
    "![title](Figs/3d_1.png)\n"
   ]
  },
  {
   "cell_type": "markdown",
   "metadata": {
    "slideshow": {
     "slide_type": "subslide"
    }
   },
   "source": [
    "### Don't: Fixed 3D scatter plots\n",
    "\n",
    "You cannot see the data\n",
    "![title](Figs/3d_2.png)\n"
   ]
  },
  {
   "cell_type": "markdown",
   "metadata": {
    "slideshow": {
     "slide_type": "subslide"
    }
   },
   "source": [
    "#### Maybe if the graph is interactive\n"
   ]
  },
  {
   "cell_type": "code",
   "execution_count": null,
   "metadata": {
    "slideshow": {
     "slide_type": "fragment"
    }
   },
   "outputs": [],
   "source": [
    "iris = px.data.iris()\n",
    "fig = px.scatter_3d(\n",
    "    iris,\n",
    "    x=\"sepal_length\",\n",
    "    y=\"sepal_width\",\n",
    "    z=\"petal_width\",\n",
    "    color=\"petal_length\",\n",
    "    symbol=\"species\",\n",
    ")\n",
    "fig.show()"
   ]
  },
  {
   "cell_type": "markdown",
   "metadata": {
    "slideshow": {
     "slide_type": "subslide"
    }
   },
   "source": [
    "#### Don't: Add dimensions to the data when they do not exist\n"
   ]
  },
  {
   "cell_type": "code",
   "execution_count": null,
   "metadata": {
    "slideshow": {
     "slide_type": "fragment"
    }
   },
   "outputs": [],
   "source": [
    "# Read data from a csv\n",
    "z_data = pd.read_csv(\n",
    "    \"https://raw.githubusercontent.com/plotly/datasets/master/api_docs/mt_bruno_elevation.csv\"\n",
    ")\n",
    "\n",
    "fig = go.Figure(data=[go.Surface(z=z_data.values)])\n",
    "\n",
    "fig.update_layout(\n",
    "    title=\"Mt Bruno Elevation\",\n",
    "    autosize=False,\n",
    "    width=500,\n",
    "    height=500,\n",
    "    margin=dict(l=65, r=50, b=65, t=90),\n",
    ")\n",
    "\n",
    "fig.show()"
   ]
  },
  {
   "cell_type": "markdown",
   "metadata": {},
   "source": [
    "Much more physical information can be visualized with just a 2d map.\n"
   ]
  },
  {
   "cell_type": "code",
   "execution_count": null,
   "metadata": {
    "slideshow": {
     "slide_type": "fragment"
    }
   },
   "outputs": [],
   "source": [
    "plt.imshow(z_data.values)\n"
   ]
  },
  {
   "cell_type": "markdown",
   "metadata": {
    "slideshow": {
     "slide_type": "fragment"
    }
   },
   "source": [
    "### Use 3D it when absolutely necessary\n",
    "\n",
    "![figure](Figs/adma201702069-fig-0002-m.jpg)\n"
   ]
  },
  {
   "cell_type": "markdown",
   "metadata": {
    "slideshow": {
     "slide_type": "slide"
    }
   },
   "source": [
    "## WTF Graphs\n"
   ]
  },
  {
   "cell_type": "code",
   "execution_count": null,
   "metadata": {
    "slideshow": {
     "slide_type": "fragment"
    }
   },
   "outputs": [],
   "source": [
    "IFrame(src=\"https://viz.wtf/\", width=1000, height=1000)"
   ]
  },
  {
   "cell_type": "markdown",
   "metadata": {
    "slideshow": {
     "slide_type": "subslide"
    }
   },
   "source": [
    "## Animations\n",
    "\n",
    "The easiest way to make an animation in matplotlib is to declare a FuncAnimation object that specifies to matplotlib what the figure is to update, what is the update function and what the delay is between frames.\n"
   ]
  },
  {
   "cell_type": "markdown",
   "metadata": {
    "slideshow": {
     "slide_type": "fragment"
    }
   },
   "source": [
    "### Animation Example: Drip Drop\n",
    "\n",
    "A very simple rain effect can be obtained by having small growing rings randomly positioned over a figure.\n",
    "\n",
    "Of course, they won't grow forever since the wave is supposed to dampen with time.\n",
    "\n",
    "To simulate that, we can use a more and more transparent color as the ring grows, up to the point where it is no more visible. At this point, we remove the ring and create a new one.\n"
   ]
  },
  {
   "cell_type": "markdown",
   "metadata": {
    "slideshow": {
     "slide_type": "subslide"
    }
   },
   "source": [
    "#### 1. Create a Blank Figure\n"
   ]
  },
  {
   "cell_type": "code",
   "execution_count": null,
   "metadata": {
    "slideshow": {
     "slide_type": "fragment"
    }
   },
   "outputs": [],
   "source": [
    "# New figure with white background\n",
    "fig = plt.figure(figsize=(6, 6), facecolor=\"white\")\n",
    "\n",
    "# New axis over the whole figure, no frame and a 1:1 aspect ratio\n",
    "ax = fig.add_axes([0, 0, 1, 1], frameon=False, aspect=1)\n"
   ]
  },
  {
   "cell_type": "markdown",
   "metadata": {
    "slideshow": {
     "slide_type": "subslide"
    }
   },
   "source": [
    "#### 2. Plotting data\n",
    "\n",
    "1. We want to create several rings using a scatter plot\n",
    "2. We want to set the initial size of the ring between some range\n",
    "3. We want to make sure as the rings get larger, they get lighter.\n",
    "\n",
    "The transparency of an object is controlled with the alpha setting\n"
   ]
  },
  {
   "cell_type": "code",
   "execution_count": null,
   "metadata": {
    "slideshow": {
     "slide_type": "fragment"
    }
   },
   "outputs": [],
   "source": [
    "import numpy as np\n",
    "import matplotlib.pyplot as plt\n",
    "\n",
    "# New figure with white background\n",
    "fig = plt.figure(figsize=(6, 6), facecolor=\"white\")\n",
    "\n",
    "# New axis over the whole figure and a 1:1 aspect ratio\n",
    "ax = fig.add_axes([0.005, 0.005, 0.99, 0.99], frameon=True, aspect=1)\n",
    "\n",
    "# Number of ring\n",
    "n = 50\n",
    "size_min = 50\n",
    "size_max = 50 * 50\n",
    "\n",
    "# Ring position\n",
    "P = np.random.uniform(0, 1, (n, 2))\n",
    "\n",
    "# Ring colors\n",
    "C = np.ones((n, 4)) * (0, 0, 0, 1)\n",
    "\n",
    "# Alpha color channel goes from 0 (transparent) to 1 (opaque)\n",
    "C[:, 3] = np.linspace(0, 1, n)\n",
    "\n",
    "# Ring sizes\n",
    "S = np.linspace(size_min, size_max, n)\n",
    "\n",
    "# Scatter plot\n",
    "scat = ax.scatter(P[:, 0], P[:, 1], s=S, lw=0.5, edgecolors=C, facecolors=\"None\")\n",
    "\n",
    "# Ensure limits are [0,1] and remove ticks\n",
    "ax.set_xlim(0, 1), ax.set_xticks([])\n",
    "ax.set_ylim(0, 1), ax.set_yticks([])\n",
    "\n",
    "# plt.savefig(\"../figures/rain-static.png\",dpi=72)\n",
    "plt.show()\n"
   ]
  },
  {
   "cell_type": "markdown",
   "metadata": {
    "slideshow": {
     "slide_type": "subslide"
    }
   },
   "source": [
    "#### 3. The Update Function\n",
    "\n",
    "Now, we need to write the update function for our animation.\n",
    "\n",
    "1. At each time step, each ring should grow and become more transparent.\n",
    "2. The largest ring should be totally transparent and thus removed.\n",
    "3. We won't actually remove the largest ring but re-use it to set a new ring at a new random position with nominal size and color. This will keep the number of rings constant\n"
   ]
  },
  {
   "cell_type": "code",
   "execution_count": null,
   "metadata": {
    "slideshow": {
     "slide_type": "fragment"
    }
   },
   "outputs": [],
   "source": [
    "import numpy as np\n",
    "import matplotlib\n",
    "import matplotlib.pyplot as plt\n",
    "from matplotlib.animation import FuncAnimation\n",
    "\n",
    "# No toolbar\n",
    "matplotlib.rcParams[\"toolbar\"] = \"None\"\n",
    "\n",
    "# New figure with white background\n",
    "fig = plt.figure(figsize=(6, 6), facecolor=\"white\")\n",
    "\n",
    "# New axis over the whole figureand a 1:1 aspect ratio\n",
    "# ax = fig.add_axes([0,0,1,1], frameon=False, aspect=1)\n",
    "ax = fig.add_axes([0.005, 0.005, 0.990, 0.990], frameon=True, aspect=1)\n",
    "\n",
    "# Number of ring\n",
    "n = 50\n",
    "size_min = 50\n",
    "size_max = 50 * 50\n",
    "\n",
    "# Ring position\n",
    "P = np.random.uniform(0, 1, (n, 2))\n",
    "\n",
    "# Ring colors\n",
    "C = np.ones((n, 4)) * (0, 0, 0, 1)\n",
    "\n",
    "# Alpha color channel goes from 0 (transparent) to 1 (opaque)\n",
    "C[:, 3] = np.linspace(0, 1, n)\n",
    "\n",
    "# Ring sizes\n",
    "S = np.linspace(size_min, size_max, n)\n",
    "\n",
    "# Scatter plot\n",
    "scat = ax.scatter(P[:, 0], P[:, 1], s=S, lw=0.5, edgecolors=C, facecolors=\"None\")\n",
    "\n",
    "# Ensure limits are [0,1] and remove ticks\n",
    "ax.set_xlim(0, 1), ax.set_xticks([])\n",
    "ax.set_ylim(0, 1), ax.set_yticks([])\n",
    "\n",
    "\n",
    "def update(frame):\n",
    "    global P, C, S\n",
    "\n",
    "    # Every ring is made more transparent\n",
    "    C[:, 3] = np.maximum(0, C[:, 3] - 1.0 / n)\n",
    "\n",
    "    # Each ring is made larger\n",
    "    S += (size_max - size_min) / n\n",
    "\n",
    "    # Reset ring specific ring (relative to frame number)\n",
    "    i = frame % 50\n",
    "    P[i] = np.random.uniform(0, 1, 2)\n",
    "    S[i] = size_min\n",
    "    C[i, 3] = 1\n",
    "\n",
    "    # Update scatter object\n",
    "    scat.set_edgecolors(C)\n",
    "    scat.set_sizes(S)\n",
    "    scat.set_offsets(P)\n",
    "    return (scat,)\n",
    "\n",
    "\n",
    "animation = FuncAnimation(fig, update, interval=10)\n",
    "# animation.save('../figures/rain.gif', writer='imagemagick', fps=30, dpi=72)\n",
    "plt.show()\n"
   ]
  },
  {
   "cell_type": "markdown",
   "metadata": {
    "slideshow": {
     "slide_type": "subslide"
    }
   },
   "source": [
    "#### 4. Saving the Movie\n"
   ]
  },
  {
   "cell_type": "code",
   "execution_count": null,
   "metadata": {
    "slideshow": {
     "slide_type": "fragment"
    }
   },
   "outputs": [],
   "source": [
    "animation = FuncAnimation(fig, update, interval=10, blit=True, frames=200)\n",
    "# animation.save('rain.gif', writer='imagemagick', fps=30, dpi=40)\n",
    "plt.show()\n"
   ]
  },
  {
   "cell_type": "markdown",
   "metadata": {
    "slideshow": {
     "slide_type": "subslide"
    }
   },
   "source": [
    "#### 5. Rendering the movie in a notebook\n"
   ]
  },
  {
   "cell_type": "code",
   "execution_count": null,
   "metadata": {
    "slideshow": {
     "slide_type": "fragment"
    }
   },
   "outputs": [],
   "source": [
    "from IPython.display import HTML\n",
    "\n",
    "HTML(animation.to_html5_video())\n"
   ]
  }
 ],
 "metadata": {
  "celltoolbar": "Slideshow",
  "kernelspec": {
   "display_name": "Python 3 (ipykernel)",
   "language": "python",
   "name": "python3"
  },
  "language_info": {
   "codemirror_mode": {
    "name": "ipython",
    "version": 3
   },
   "file_extension": ".py",
   "mimetype": "text/x-python",
   "name": "python",
   "nbconvert_exporter": "python",
   "pygments_lexer": "ipython3",
   "version": "3.10.0"
  },
  "vscode": {
   "interpreter": {
    "hash": "e835d8de9a0409e820855848a60c95be96ca5080ca1ac35ced475904bcfc4405"
   }
  }
 },
 "nbformat": 4,
 "nbformat_minor": 2
}
