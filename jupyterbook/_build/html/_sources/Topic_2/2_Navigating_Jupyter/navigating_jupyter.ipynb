{
 "cells": [
  {
   "cell_type": "markdown",
   "metadata": {
    "slideshow": {
     "slide_type": "slide"
    }
   },
   "source": [
    "# Using Project Jupyter\n",
    "\n",
    "## The Classic Notebook interface\n",
    "\n",
    "The *Classic Notebook* interface is a document-oriented interface that allows you to create, view, and execute code in a Jupyter Notebook."
   ]
  },
  {
   "cell_type": "markdown",
   "metadata": {
    "slideshow": {
     "slide_type": "subslide"
    }
   },
   "source": [
    "The example should look like this:\n",
    "\n",
    "**Notebook Dashboard**\n",
    "\n",
    "![](./figs/tryjupyter_file.png)"
   ]
  },
  {
   "cell_type": "markdown",
   "metadata": {
    "slideshow": {
     "slide_type": "subslide"
    }
   },
   "source": [
    "**Notebook Editor**\n",
    "\n",
    "![](./figs/trynb.png)"
   ]
  },
  {
   "cell_type": "markdown",
   "metadata": {
    "slideshow": {
     "slide_type": "slide"
    }
   },
   "source": [
    "## Try the JupyterLab interface\n",
    "\n",
    "The Jupyter Lab interface is a more extensible and composable interactive computing interface for more complex workflows.\n",
    "\n",
    "Here's an example of what the JupyterLab interface looks like:\n",
    "\n",
    "![](./figs/jupyter_lab.png)"
   ]
  },
  {
   "cell_type": "markdown",
   "metadata": {
    "slideshow": {
     "slide_type": "subslide"
    }
   },
   "source": [
    "## Jupyter Lab Interface"
   ]
  },
  {
   "cell_type": "markdown",
   "metadata": {
    "slideshow": {
     "slide_type": "fragment"
    }
   },
   "source": [
    "The best platform for this class (outside of computing restrictions) is JupyterLab. Many, if not all the features we will discuss are available in Google Colab. "
   ]
  },
  {
   "cell_type": "markdown",
   "metadata": {
    "slideshow": {
     "slide_type": "fragment"
    }
   },
   "source": [
    "JupyterLab is a next-generation web-based user interface for Project Jupyter."
   ]
  },
  {
   "cell_type": "markdown",
   "metadata": {
    "slideshow": {
     "slide_type": "fragment"
    }
   },
   "source": [
    "![](./figs/interface_jupyterlab.png)"
   ]
  },
  {
   "cell_type": "markdown",
   "metadata": {
    "slideshow": {
     "slide_type": "fragment"
    }
   },
   "source": [
    "JupyterLab enables you to work with documents and activities such as:\n",
    "* Jupyter notebooks\n",
    "* text editors\n",
    "* terminals\n",
    "* custom components"
   ]
  },
  {
   "cell_type": "markdown",
   "metadata": {
    "slideshow": {
     "slide_type": "fragment"
    }
   },
   "source": [
    "Here is a short video that rapidly goes over many of the cool features in Jupyter"
   ]
  },
  {
   "cell_type": "code",
   "execution_count": null,
   "metadata": {
    "slideshow": {
     "slide_type": "fragment"
    },
    "tags": [
     "hide-input"
    ]
   },
   "outputs": [],
   "source": [
    "from IPython.display import HTML\n",
    "\n",
    "HTML(\n",
    "    '<iframe width=\"926\" height=\"521\" src=\"https://www.youtube.com/embed/A5YyoCKxEOU\" title=\"How to Use JupyterLab\" frameborder=\"0\" allow=\"accelerometer; autoplay; clipboard-write; encrypted-media; gyroscope; picture-in-picture\" allowfullscreen></iframe>'\n",
    ")\n"
   ]
  },
  {
   "cell_type": "markdown",
   "metadata": {
    "slideshow": {
     "slide_type": "slide"
    }
   },
   "source": [
    "## Running Jupyter Lab"
   ]
  },
  {
   "cell_type": "markdown",
   "metadata": {
    "slideshow": {
     "slide_type": "fragment"
    }
   },
   "source": [
    "Once you have Jupyter Lab installed you can spin up a Jupyter Lab with:"
   ]
  },
  {
   "cell_type": "markdown",
   "metadata": {
    "slideshow": {
     "slide_type": "fragment"
    }
   },
   "source": [
    "`jupyter lab`"
   ]
  },
  {
   "cell_type": "markdown",
   "metadata": {
    "slideshow": {
     "slide_type": "slide"
    }
   },
   "source": [
    "## Jupyter Notebooks\n",
    "\n",
    "Within Jupyer Lab you will primarily use Jupyter Notebooks. These are files with `.ipynb` extensions"
   ]
  },
  {
   "cell_type": "markdown",
   "metadata": {
    "slideshow": {
     "slide_type": "fragment"
    }
   },
   "source": [
    "### Introduction\n",
    "* Web based platform for developing, documenting, and executing code, as well as communicating the results\n",
    "    * **A web application:** a browser-based tool for interactive authoring of documents which combine explanatory text, mathematics, computations and their rich media output.\n",
    "    * **Notebook documentation:** a representation of all content visible in the web application, including inputs and outputs of the computations, explanatory text, mathematics, images, and rich media representations of objects. "
   ]
  },
  {
   "cell_type": "markdown",
   "metadata": {
    "slideshow": {
     "slide_type": "subslide"
    }
   },
   "source": [
    "### Main Features of the Web Application\n",
    "* In-browser editing for code, with automatic syntax highlighting, indentation, and tab completion/introspection.\n",
    "* The ability to execute code from the browser, with the results of computations attached to the code which generated them.\n",
    "* Displaying the result of computation using rich media representations, such as HTML, LaTeX, PNG, SVG, etc. For example, publication-quality figures rendered by the `matplotlib` library, can be included inline.\n",
    "* In-browser editing for rich text using the Markdown markup language, which can provide commentary for the code, is not limited to plain text."
   ]
  },
  {
   "cell_type": "markdown",
   "metadata": {
    "slideshow": {
     "slide_type": "subslide"
    }
   },
   "source": [
    "### Tab Complete\n",
    "\n",
    "If you start typing the name of a package, or an object you can press the `tab` button to discover what is available (twice) or complete the name "
   ]
  },
  {
   "cell_type": "markdown",
   "metadata": {
    "slideshow": {
     "slide_type": "fragment"
    }
   },
   "source": [
    "### Importing packages"
   ]
  },
  {
   "cell_type": "code",
   "execution_count": null,
   "metadata": {
    "slideshow": {
     "slide_type": "fragment"
    }
   },
   "outputs": [],
   "source": [
    "import sklearn.cluster as cluster\n"
   ]
  },
  {
   "cell_type": "markdown",
   "metadata": {
    "slideshow": {
     "slide_type": "fragment"
    }
   },
   "source": [
    "### Reading Documentation"
   ]
  },
  {
   "cell_type": "code",
   "execution_count": null,
   "metadata": {
    "slideshow": {
     "slide_type": "fragment"
    }
   },
   "outputs": [],
   "source": [
    "?? cluster.KMeans"
   ]
  },
  {
   "cell_type": "markdown",
   "metadata": {
    "slideshow": {
     "slide_type": "subslide"
    }
   },
   "source": [
    "### Structure of Notebook Document\n",
    "* Consists of a sequence of cells\n",
    "* Cells can be executed by pressing `shift + enter`"
   ]
  },
  {
   "cell_type": "markdown",
   "metadata": {
    "slideshow": {
     "slide_type": "subslide"
    }
   },
   "source": [
    "## Types of Cells\n",
    "### Code Cells\n",
    "A *code* cell allows you to write new python code that can be executed on the kernel, generally this is python"
   ]
  },
  {
   "cell_type": "code",
   "execution_count": null,
   "metadata": {
    "slideshow": {
     "slide_type": "fragment"
    }
   },
   "outputs": [],
   "source": [
    "from IPython.display import Image\n",
    "\n",
    "Image(url=\"http://python.org/images/python-logo.gif\")\n"
   ]
  },
  {
   "cell_type": "markdown",
   "metadata": {
    "slideshow": {
     "slide_type": "fragment"
    }
   },
   "source": [
    "* Other examples can be seen at A [Rich Output Example](https://nbviewer.jupyter.org/github/ipython/ipython/blob/master/examples/IPython%20Kernel/Rich%20Output.ipynb \"Rich Output Example\")."
   ]
  },
  {
   "cell_type": "markdown",
   "metadata": {
    "slideshow": {
     "slide_type": "subslide"
    }
   },
   "source": [
    "### Markdown Cells\n",
    "These cells provide the ability to add sequential documentation to your code using simple style guides\n",
    "* Structure for document can be provided using `#` or `##`\n",
    "* You can include mathematical equations in LaTeX notation `$...$` or `$$...$$`"
   ]
  },
  {
   "cell_type": "markdown",
   "metadata": {
    "slideshow": {
     "slide_type": "fragment"
    }
   },
   "source": [
    "$e^{i\\pi} + 1 = 0$\n",
    "$$e^x=\\sum_{i=0}^\\infty \\frac{1}{i!}x^i$$"
   ]
  },
  {
   "cell_type": "markdown",
   "metadata": {
    "slideshow": {
     "slide_type": "fragment"
    }
   },
   "source": [
    "* Other examples can be seen at A [Markdown Example](https://nbviewer.jupyter.org/github/jupyter/notebook/blob/master/docs/source/examples/Notebook/Working%20With%20Markdown%20Cells.ipynb \"Markdown Example\")"
   ]
  },
  {
   "cell_type": "markdown",
   "metadata": {
    "slideshow": {
     "slide_type": "subslide"
    }
   },
   "source": [
    "### Raw Cells\n",
    "* These are cells where you can write the output directly without it being evaluated by the notebook"
   ]
  },
  {
   "cell_type": "markdown",
   "metadata": {
    "slideshow": {
     "slide_type": "slide"
    }
   },
   "source": [
    "# Important Keyboard Shortcuts\n",
    "`Shift + Enter` - Run a cell\n",
    "`up/down arrows` - move between cells\n",
    "`Enter` - edit mode\n",
    "`Esc` - command mode allows you to navigate using keyboard shortcuts\n",
    "* `a` - add cell above\n",
    "* `b` - add cell below\n",
    "* `c` - copy cell\n",
    "* `v` - paste cell\n",
    "* `d, d` - delete cell\n",
    "* `m` - change cell to markdown\n",
    "* `y` - change to code mode\n",
    "* `I, I` - Interrupt kernel\n",
    "\n",
    "Other examples can be seen at [Jupyter Tricks](http://maxmelnick.com/2016/04/19/python-beginner-tips-and-tricks.html \"Jupyter Tricks\")."
   ]
  },
  {
   "cell_type": "markdown",
   "metadata": {
    "slideshow": {
     "slide_type": "slide"
    }
   },
   "source": [
    "## Magic Functions\n",
    "\n",
    "Magic functions allow your IPython kernel to perform useful functions"
   ]
  },
  {
   "cell_type": "markdown",
   "metadata": {
    "slideshow": {
     "slide_type": "fragment"
    }
   },
   "source": [
    "Some useful magics:\n",
    "\n",
    "- `%precision 4` sets printed precision for floats to 4 decimal places  \n",
    "- `%whos` gives a list of variables and their values  \n",
    "- `%quickref` gives a list of magics  \n",
    "\n",
    "\n",
    "The full list of magics is [here](http://ipython.readthedocs.org/en/stable/interactive/magics.html)."
   ]
  },
  {
   "cell_type": "markdown",
   "metadata": {
    "slideshow": {
     "slide_type": "slide"
    }
   },
   "source": [
    "## Debugging\n",
    "\n",
    "> “Debugging is twice as hard as writing the code in the first place.\n",
    "> Therefore, if you write the code as cleverly as possible, you are, by definition,\n",
    "> not smart enough to debug it.” – [Brian Kernighan](https://en.wikipedia.org/wiki/Brian_Kernighan) (Unix Creator)"
   ]
  },
  {
   "cell_type": "markdown",
   "metadata": {
    "slideshow": {
     "slide_type": "fragment"
    }
   },
   "source": [
    "Many early programers use `print` statements to help them"
   ]
  },
  {
   "cell_type": "markdown",
   "metadata": {
    "slideshow": {
     "slide_type": "fragment"
    }
   },
   "source": [
    "Then they might move on to adding `verbose` options"
   ]
  },
  {
   "cell_type": "markdown",
   "metadata": {
    "slideshow": {
     "slide_type": "fragment"
    }
   },
   "source": [
    "Really, it is best to use a debugger"
   ]
  },
  {
   "cell_type": "markdown",
   "metadata": {
    "slideshow": {
     "slide_type": "subslide"
    }
   },
   "source": [
    "### How to Debug"
   ]
  },
  {
   "cell_type": "markdown",
   "metadata": {
    "slideshow": {
     "slide_type": "fragment"
    }
   },
   "source": [
    "#### Rubber Duck Debugging\n",
    "\n",
    "![](figs/rubber_duck.png)"
   ]
  },
  {
   "cell_type": "markdown",
   "metadata": {
    "slideshow": {
     "slide_type": "fragment"
    }
   },
   "source": [
    "The rubber duck debugging method is as follows:\n",
    "\n",
    "1. Beg, borrow, steal, buy, fabricate or otherwise obtain a rubber duck (bathtub variety)."
   ]
  },
  {
   "cell_type": "markdown",
   "metadata": {
    "slideshow": {
     "slide_type": "fragment"
    }
   },
   "source": [
    "2. Place rubber duck on desk and inform it you are just going to go over some code with it, if that’s all right."
   ]
  },
  {
   "cell_type": "markdown",
   "metadata": {
    "slideshow": {
     "slide_type": "fragment"
    }
   },
   "source": [
    "3. Explain to the duck what your code is supposed to do, and then go into detail and explain your code line by line."
   ]
  },
  {
   "cell_type": "markdown",
   "metadata": {
    "slideshow": {
     "slide_type": "fragment"
    }
   },
   "source": [
    "4. At some point you will tell the duck what you are doing next and then realize that that is not in fact what you are actually doing. The duck will sit there serenely, happy in the knowledge that it has helped you on your way."
   ]
  },
  {
   "cell_type": "markdown",
   "metadata": {
    "slideshow": {
     "slide_type": "fragment"
    }
   },
   "source": [
    "Note: In a pinch a coworker might be able to substitute for the duck, however, it is often preferred to confide mistakes to the duck instead of your coworker.\n",
    "\n",
    "Original Credit: ~Andy from lists.ethernal.org"
   ]
  },
  {
   "cell_type": "markdown",
   "metadata": {
    "slideshow": {
     "slide_type": "subslide"
    }
   },
   "source": [
    "## Debugging in Jupyter Notebooks\n",
    "\n",
    "Debugging is one of the major limitations of Jupyter Notebooks. The best way to debug is using the `%debug` magic command"
   ]
  },
  {
   "cell_type": "markdown",
   "metadata": {},
   "source": [
    "### Debugging Example"
   ]
  },
  {
   "cell_type": "code",
   "execution_count": null,
   "metadata": {},
   "outputs": [],
   "source": [
    "%matplotlib inline\n",
    "import numpy as np\n",
    "import matplotlib.pyplot as plt\n",
    "plt.rcParams['figure.figsize'] = (10,6)"
   ]
  },
  {
   "cell_type": "code",
   "execution_count": null,
   "metadata": {
    "slideshow": {
     "slide_type": "subslide"
    },
    "tags": [
     "skip-execution"
    ]
   },
   "outputs": [],
   "source": [
    "def plot_log():\n",
    "    fig, ax = plt.subplots(2, 1)\n",
    "    x = np.linspace(1, 2, 10)\n",
    "    ax.plot(x, np.log(x))\n",
    "    plt.show()\n",
    "\n",
    "\n",
    "plot_log()  # Call the function, generate plot\n"
   ]
  },
  {
   "cell_type": "markdown",
   "metadata": {
    "slideshow": {
     "slide_type": "fragment"
    }
   },
   "source": [
    "```ipython\n",
    "---------------------------------------------------------------------------\n",
    "AttributeError                            Traceback (most recent call last)\n",
    "Input In [6], in <cell line: 7>()\n",
    "      4     ax.plot(x, np.log(x))\n",
    "      5     plt.show()\n",
    "----> 7 plot_log()\n",
    "\n",
    "Input In [6], in plot_log()\n",
    "      2 fig, ax = plt.subplots(2, 1)\n",
    "      3 x = np.linspace(1, 2, 10)\n",
    "----> 4 ax.plot(x, np.log(x))\n",
    "      5 plt.show()\n",
    "\n",
    "AttributeError: 'numpy.ndarray' object has no attribute 'plot'\n",
    "```"
   ]
  },
  {
   "cell_type": "markdown",
   "metadata": {
    "slideshow": {
     "slide_type": "fragment"
    }
   },
   "source": [
    "This code is intended to plot the `log` function over the interval $ [1, 2] $."
   ]
  },
  {
   "cell_type": "markdown",
   "metadata": {
    "slideshow": {
     "slide_type": "fragment"
    }
   },
   "source": [
    "But there’s an error here: `plt.subplots(2, 1)` should be just `plt.subplots()`."
   ]
  },
  {
   "cell_type": "markdown",
   "metadata": {
    "slideshow": {
     "slide_type": "fragment"
    }
   },
   "source": [
    "(The call `plt.subplots(2, 1)` returns a NumPy array containing two axes objects, suitable for having two subplots on the same figure)"
   ]
  },
  {
   "cell_type": "markdown",
   "metadata": {
    "slideshow": {
     "slide_type": "fragment"
    }
   },
   "source": [
    "The traceback shows that the error occurs at the method call `ax.plot(x, np.log(x))`."
   ]
  },
  {
   "cell_type": "markdown",
   "metadata": {
    "slideshow": {
     "slide_type": "fragment"
    }
   },
   "source": [
    "The error occurs because we have mistakenly made `ax` a NumPy array, and a NumPy array has no `plot` method."
   ]
  },
  {
   "cell_type": "markdown",
   "metadata": {
    "slideshow": {
     "slide_type": "fragment"
    }
   },
   "source": [
    "But let’s pretend that we don’t understand this for the moment."
   ]
  },
  {
   "cell_type": "markdown",
   "metadata": {
    "slideshow": {
     "slide_type": "fragment"
    }
   },
   "source": [
    "We might suspect there’s something wrong with `ax` but when we try to investigate this object, we get the following exception:"
   ]
  },
  {
   "cell_type": "code",
   "execution_count": null,
   "metadata": {
    "slideshow": {
     "slide_type": "fragment"
    },
    "tags": [
     "skip-execution"
    ]
   },
   "outputs": [],
   "source": [
    "ax\n"
   ]
  },
  {
   "cell_type": "markdown",
   "metadata": {
    "slideshow": {
     "slide_type": "fragment"
    }
   },
   "source": [
    "```ipython\n",
    "---------------------------------------------------------------------------\n",
    "NameError                                 Traceback (most recent call last)\n",
    "Input In [7], in <cell line: 1>()\n",
    "----> 1 ax\n",
    "\n",
    "NameError: name 'ax' is not defined\n",
    "```"
   ]
  },
  {
   "cell_type": "markdown",
   "metadata": {
    "slideshow": {
     "slide_type": "fragment"
    }
   },
   "source": [
    "The problem is that `ax` was defined inside `plot_log()`, and the name is\n",
    "lost once that function terminates."
   ]
  },
  {
   "cell_type": "markdown",
   "metadata": {
    "slideshow": {
     "slide_type": "fragment"
    }
   },
   "source": [
    "Now let's use the `%debug` magic command"
   ]
  },
  {
   "cell_type": "code",
   "execution_count": null,
   "metadata": {
    "slideshow": {
     "slide_type": "fragment"
    },
    "tags": [
     "skip-execution"
    ]
   },
   "outputs": [],
   "source": [
    "%debug\n",
    "def plot_log():\n",
    "    fig, ax = plt.subplots(2, 1)\n",
    "    x = np.linspace(1, 2, 10)\n",
    "    ax.plot(x, np.log(x))\n",
    "    plt.show()\n",
    "\n",
    "plot_log()  # Call the function, generate plot"
   ]
  },
  {
   "cell_type": "markdown",
   "metadata": {
    "slideshow": {
     "slide_type": "fragment"
    }
   },
   "source": [
    "Now we see \n",
    "```ipython \n",
    "ipdb>\n",
    "```"
   ]
  },
  {
   "cell_type": "markdown",
   "metadata": {
    "slideshow": {
     "slide_type": "fragment"
    }
   },
   "source": [
    "You now have a breakpoint where you can look at the variables, for example:"
   ]
  },
  {
   "cell_type": "markdown",
   "metadata": {
    "slideshow": {
     "slide_type": "fragment"
    }
   },
   "source": [
    "```ipython\n",
    "/var/folders/kg/n0rbgr9525qgc4kkytjzh6xc0000gn/T/ipykernel_11121/4061873064.py(6)plot_log()\n",
    "      4     fig, ax = plt.subplots(2, 1)\n",
    "      5     x = np.linspace(1, 2, 10)\n",
    "----> 6     ax.plot(x, np.log(x))\n",
    "      7     plt.show()\n",
    "      8 \n",
    "\n",
    "ipdb> ax\n",
    "array([<AxesSubplot:>, <AxesSubplot:>], dtype=object)\n",
    "ipdb> x\n",
    "array([1.        , 1.11111111, 1.22222222, 1.33333333, 1.44444444,\n",
    "       1.55555556, 1.66666667, 1.77777778, 1.88888889, 2.        ])\n",
    "```"
   ]
  },
  {
   "cell_type": "markdown",
   "metadata": {
    "slideshow": {
     "slide_type": "fragment"
    }
   },
   "source": [
    "Now, we can see that ax is a NumPy array of objects, AxesSubplot"
   ]
  },
  {
   "cell_type": "markdown",
   "metadata": {
    "slideshow": {
     "slide_type": "fragment"
    }
   },
   "source": [
    "To break out of the debugger you type `exit()`"
   ]
  },
  {
   "cell_type": "markdown",
   "metadata": {
    "slideshow": {
     "slide_type": "subslide"
    }
   },
   "source": [
    "### Setting a Breakpoint"
   ]
  },
  {
   "cell_type": "markdown",
   "metadata": {
    "slideshow": {
     "slide_type": "fragment"
    }
   },
   "source": [
    "Suppose we have a function that works but the results do not look as expected. We need to add a breakpoint to explore this."
   ]
  },
  {
   "cell_type": "code",
   "execution_count": null,
   "metadata": {
    "slideshow": {
     "slide_type": "fragment"
    }
   },
   "outputs": [],
   "source": [
    "def plot_log():\n",
    "    fig, ax = plt.subplots()\n",
    "    x = np.logspace(1, 2, 10)\n",
    "    ax.plot(x, np.log(x))\n",
    "    plt.show()\n",
    "\n",
    "\n",
    "plot_log()\n"
   ]
  },
  {
   "cell_type": "code",
   "execution_count": null,
   "metadata": {
    "slideshow": {
     "slide_type": "fragment"
    }
   },
   "outputs": [],
   "source": [
    "from IPython.core.debugger import set_trace\n"
   ]
  },
  {
   "cell_type": "markdown",
   "metadata": {
    "slideshow": {
     "slide_type": "fragment"
    }
   },
   "source": [
    "You can set a breakpoint by adding `set_trace()`\n",
    "* For executing line by line use `n` \n",
    "* For step into a function use `s` \n",
    "* To exit from debugging prompt use `c`"
   ]
  },
  {
   "cell_type": "code",
   "execution_count": null,
   "metadata": {
    "slideshow": {
     "slide_type": "fragment"
    },
    "tags": [
     "skip-execution"
    ]
   },
   "outputs": [],
   "source": [
    "%debug\n",
    "def plot_log():\n",
    "    set_trace()\n",
    "    fig, ax = plt.subplots()\n",
    "    x = np.logspace(1, 2, 10)\n",
    "    ax.plot(x, np.log(x))\n",
    "    plt.show()\n",
    "\n",
    "plot_log()"
   ]
  },
  {
   "cell_type": "markdown",
   "metadata": {
    "slideshow": {
     "slide_type": "slide"
    }
   },
   "source": [
    "## Debugging in Jupyter Lab\n",
    "You can debug in a much more user friendly way in JupyterLab"
   ]
  },
  {
   "cell_type": "markdown",
   "metadata": {
    "slideshow": {
     "slide_type": "fragment"
    }
   },
   "source": [
    "![](figs/debugging_in_lab.gif)"
   ]
  }
 ],
 "metadata": {
  "celltoolbar": "Tags",
  "kernelspec": {
   "display_name": "Python 3 (ipykernel)",
   "language": "python",
   "name": "python3"
  },
  "language_info": {
   "codemirror_mode": {
    "name": "ipython",
    "version": 3
   },
   "file_extension": ".py",
   "mimetype": "text/x-python",
   "name": "python",
   "nbconvert_exporter": "python",
   "pygments_lexer": "ipython3",
   "version": "3.10.5"
  },
  "vscode": {
   "interpreter": {
    "hash": "b0fa6594d8f4cbf19f97940f81e996739fb7646882a419484c72d19e05852a7e"
   }
  }
 },
 "nbformat": 4,
 "nbformat_minor": 2
}
