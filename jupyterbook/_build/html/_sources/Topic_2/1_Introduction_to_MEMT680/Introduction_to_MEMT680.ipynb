{
 "cells": [
  {
   "cell_type": "markdown",
   "metadata": {
    "slideshow": {
     "slide_type": "slide"
    }
   },
   "source": [
    "# Introduction to the Course Machinery\n"
   ]
  },
  {
   "cell_type": "markdown",
   "metadata": {
    "slideshow": {
     "slide_type": "fragment"
    }
   },
   "source": [
    "## How the Course is Built?"
   ]
  },
  {
   "cell_type": "markdown",
   "metadata": {
    "slideshow": {
     "slide_type": "fragment"
    }
   },
   "source": [
    "* This course is built using `JupyterBook`. This is an open source tool that combines markdown files and `Jupyter Notebooks` into websites. "
   ]
  },
  {
   "cell_type": "markdown",
   "metadata": {
    "slideshow": {
     "slide_type": "fragment"
    }
   },
   "source": [
    "* All material for the course will be released openly on GitHub [https://github.com/jagar2/Fall_2022_MEM_T680Data_Analysis_and_Machine_Learning](https://github.com/jagar2/Fall_2022_MEM_T680Data_Analysis_and_Machine_Learning)"
   ]
  },
  {
   "cell_type": "markdown",
   "metadata": {
    "slideshow": {
     "slide_type": "fragment"
    }
   },
   "source": [
    "* All code can be executed as Jupyter notebooks"
   ]
  },
  {
   "cell_type": "markdown",
   "metadata": {
    "slideshow": {
     "slide_type": "slide"
    }
   },
   "source": [
    "## Accessing the Course Materials"
   ]
  },
  {
   "cell_type": "markdown",
   "metadata": {
    "slideshow": {
     "slide_type": "fragment"
    }
   },
   "source": [
    "\n",
    "* It is possible to access the course material on the JupyterBook website\n",
    "* You can clone the GitHub repository to access the source code"
   ]
  },
  {
   "cell_type": "markdown",
   "metadata": {
    "slideshow": {
     "slide_type": "slide"
    }
   },
   "source": [
    "## Viewing the Course Materials"
   ]
  },
  {
   "cell_type": "markdown",
   "metadata": {
    "slideshow": {
     "slide_type": "fragment"
    }
   },
   "source": [
    "There are three options to view the course material. \n",
    "\n",
    "1. You can read the JupyterBook and run the code in colab as needed\n",
    "1. You can download the raw .ipynb files and open them with any Jupyter Notebook reader.\n",
    "1. You can view the jupyter notebooks as slides. "
   ]
  },
  {
   "cell_type": "markdown",
   "metadata": {
    "slideshow": {
     "slide_type": "fragment"
    }
   },
   "source": [
    "### Viewing the Jupyter Notebook Slides\n",
    "\n",
    "The notebooks can be views as executable sidles using RISE. To use this feature you will need to install the notebook extension."
   ]
  },
  {
   "cell_type": "markdown",
   "metadata": {
    "slideshow": {
     "slide_type": "fragment"
    }
   },
   "source": [
    "#### Installation\n",
    "\n",
    "1. Using conda \n",
    "\n",
    "  `conda install -c conda-forge rise`\n",
    "\n",
    "2. Using pip\n",
    "\n",
    "  `pip install RISE`"
   ]
  },
  {
   "cell_type": "markdown",
   "metadata": {
    "slideshow": {
     "slide_type": "fragment"
    }
   },
   "source": [
    "```{note}\n",
    "If you installed the required packages from the `requirements.txt` RISE will already be installed\n",
    "```"
   ]
  },
  {
   "cell_type": "markdown",
   "metadata": {
    "slideshow": {
     "slide_type": "fragment"
    }
   },
   "source": [
    "After installation you should see the RISE logo to start the slideshow.\n",
    "\n",
    "![](figs/rise_logo.png)\n",
    "\n",
    "Further information on usage can be viewed on the [RISE Website](https://rise.readthedocs.io/en/stable/)"
   ]
  },
  {
   "cell_type": "markdown",
   "metadata": {
    "slideshow": {
     "slide_type": "slide"
    }
   },
   "source": [
    "## Your Computing Environment\n"
   ]
  },
  {
   "cell_type": "markdown",
   "metadata": {
    "slideshow": {
     "slide_type": "fragment"
    }
   },
   "source": [
    "\n",
    "There are many options for computing. Any method can be used as long as you are comfortable.\n",
    "\n",
    "1. Google Colab\n",
    "1. JupyterHub (only for Drexel Students)\n",
    "1. Local Python installation"
   ]
  }
 ],
 "metadata": {
  "celltoolbar": "Slideshow",
  "kernelspec": {
   "display_name": "Python 3 (ipykernel)",
   "language": "python",
   "name": "python3"
  },
  "language_info": {
   "codemirror_mode": {
    "name": "ipython",
    "version": 3
   },
   "file_extension": ".py",
   "mimetype": "text/x-python",
   "name": "python",
   "nbconvert_exporter": "python",
   "pygments_lexer": "ipython3",
   "version": "3.10.6"
  },
  "vscode": {
   "interpreter": {
    "hash": "b0fa6594d8f4cbf19f97940f81e996739fb7646882a419484c72d19e05852a7e"
   }
  }
 },
 "nbformat": 4,
 "nbformat_minor": 2
}
