{
 "cells": [
  {
   "cell_type": "code",
   "execution_count": 1,
   "metadata": {
    "scrolled": true,
    "slideshow": {
     "slide_type": "fragment"
    }
   },
   "outputs": [],
   "source": [
    "# Import packages\n",
    "\n",
    "import os\n",
    "import getpass\n",
    "import subprocess\n",
    "from platform import platform\n",
    "import sys\n",
    "\n",
    "try:\n",
    "    datapath = os.mkdir(\"./datapath\")\n",
    "except:\n",
    "    datapath = \"./datapath\"\n"
   ]
  },
  {
   "cell_type": "code",
   "execution_count": 2,
   "metadata": {
    "slideshow": {
     "slide_type": "fragment"
    }
   },
   "outputs": [
    {
     "data": {
      "text/plain": [
       "sys.version_info(major=3, minor=10, micro=0, releaselevel='final', serial=0)"
      ]
     },
     "execution_count": 2,
     "metadata": {},
     "output_type": "execute_result"
    }
   ],
   "source": [
    "sys.version_info\n"
   ]
  },
  {
   "cell_type": "code",
   "execution_count": 3,
   "metadata": {
    "slideshow": {
     "slide_type": "fragment"
    }
   },
   "outputs": [
    {
     "data": {
      "text/plain": [
       "'Windows-10-10.0.19044-SP0'"
      ]
     },
     "execution_count": 3,
     "metadata": {},
     "output_type": "execute_result"
    }
   ],
   "source": [
    "platform()\n"
   ]
  },
  {
   "cell_type": "code",
   "execution_count": 4,
   "metadata": {
    "slideshow": {
     "slide_type": "fragment"
    }
   },
   "outputs": [
    {
     "name": "stdout",
     "output_type": "stream",
     "text": [
      "Success! You have DataFed: 1.4.0:0\n"
     ]
    }
   ],
   "source": [
    "try:\n",
    "\n",
    "    # This package is not part of anaconda and may need to be installed.\n",
    "    from datafed.CommandLib import API\n",
    "\n",
    "except ImportError:\n",
    "    print(\"datafed not found. Installing from pip.\")\n",
    "    subprocess.call([sys.executable, \"-m\", \"pip\", \"install\", \"datafed\"])\n",
    "    from datafed.CommandLib import API\n",
    "\n",
    "from datafed import version as df_ver\n",
    "\n",
    "if not df_ver.startswith(\"1.4\"):\n",
    "    print(\"Attempting to update DataFed.\")\n",
    "    subprocess.call([sys.executable, \"-m\", \"pip\", \"install\", \"--upgrade\", \"datafed\"])\n",
    "    print(\n",
    "        \"Please restart the python kernel or upgrade manually to V 1.1.0:1 if you are repeatedly seeing this message via\"\n",
    "        \"\\n\\tpip install --upgrade datafed\"\n",
    "    )\n",
    "else:\n",
    "    df_api = API()\n",
    "    print(\"Success! You have DataFed: \" + df_ver)"
   ]
  },
  {
   "cell_type": "code",
   "execution_count": 5,
   "metadata": {
    "slideshow": {
     "slide_type": "fragment"
    }
   },
   "outputs": [
    {
     "name": "stdout",
     "output_type": "stream",
     "text": [
      "Success! You have been authenticated into DataFed as: u/jca318\n"
     ]
    }
   ],
   "source": [
    "if df_api.getAuthUser():\n",
    "    print(\n",
    "        \"Success! You have been authenticated into DataFed as: \" + df_api.getAuthUser()\n",
    "    )\n",
    "else:\n",
    "    print(\"You have not authenticated into DataFed Client\")\n",
    "    print(\n",
    "        'Please follow instructions in the \"Basic Configuration\" section in the link below to authenticate yourself:'\n",
    "    )\n",
    "    print(\"https://ornl.github.io/DataFed/user/client/install.html#basic-configuration\")"
   ]
  },
  {
   "cell_type": "code",
   "execution_count": 6,
   "metadata": {
    "slideshow": {
     "slide_type": "fragment"
    }
   },
   "outputs": [
    {
     "name": "stdout",
     "output_type": "stream",
     "text": [
      "Your default Globus Endpoint in DataFed is:\n",
      "f134f91a-572a-11ed-ba55-d5fb255a47cc\n"
     ]
    }
   ],
   "source": [
    "if not df_api.endpointDefaultGet():\n",
    "    print(\"Please follow instructions in the link below to find your Globus Endpoint:\")\n",
    "    print(\n",
    "        \"https://ornl.github.io/DataFed/system/getting_started.html#install-identify-globus-endpoint\"\n",
    "    )\n",
    "    endpoint = input(\n",
    "        \"\\nPlease enter either the Endpoint UUID or Legacy Name for your Globus Endpoint: \"\n",
    "    )\n",
    "    df_api.endpointDefaultSet(endpoint)\n",
    "\n",
    "print(\"Your default Globus Endpoint in DataFed is:\\n\" + df_api.endpointDefaultGet())"
   ]
  },
  {
   "cell_type": "code",
   "execution_count": 7,
   "metadata": {
    "slideshow": {
     "slide_type": "fragment"
    }
   },
   "outputs": [
    {
     "data": {
      "text/plain": [
       "(task {\n",
       "   id: \"task/412662990\"\n",
       "   type: TT_DATA_GET\n",
       "   status: TS_SUCCEEDED\n",
       "   client: \"u/jca318\"\n",
       "   step: 2\n",
       "   steps: 3\n",
       "   msg: \"Finished\"\n",
       "   ct: 1667076705\n",
       "   ut: 1667076711\n",
       "   source: \"d/35437908\"\n",
       "   dest: \"f134f91a-572a-11ed-ba55-d5fb255a47cc/C/Users/jca92/Documents/codes/Fall_2022_MEM_T680Data_Analysis_and_Machine_Learning/jupyterbook/Topic_7/DataFed/datapath\"\n",
       " },\n",
       " 'TaskDataReply')"
      ]
     },
     "execution_count": 7,
     "metadata": {},
     "output_type": "execute_result"
    }
   ],
   "source": [
    "# This is a dataGet Command\n",
    "dget_resp = df_api.dataGet(\"d/35437908\", os.path.abspath(datapath), wait=True)\n",
    "dget_resp\n"
   ]
  },
  {
   "cell_type": "code",
   "execution_count": 8,
   "metadata": {
    "slideshow": {
     "slide_type": "fragment"
    }
   },
   "outputs": [
    {
     "name": "stdout",
     "output_type": "stream",
     "text": [
      "Success! Downloaded a test file to your location. Removing the file now\n"
     ]
    }
   ],
   "source": [
    "if dget_resp[0].task[0].status == 3:\n",
    "    print(\"Success! Downloaded a test file to your location. Removing the file now\")\n",
    "    os.remove(datapath + \"/35437908.md5sum\")\n",
    "else:\n",
    "    if dget_resp[0].task[0].msg == \"globus connect offline\":\n",
    "        print(\n",
    "            \"You need to activate your Globus Endpoint and/or ensure Globus Connect Personal is running.\\n\"\n",
    "            \"Please visit https://globus.org to activate your Endpoint\"\n",
    "        )\n",
    "    elif dget_resp[0].task[0].msg == \"permission denied\":\n",
    "        print(\n",
    "            \"Globus does not have write access to this directory. \\n\"\n",
    "            \"If you are using Globus Connect Personal, ensure that this notebook runs within\"\n",
    "            \"one of the directories where Globus has write access. You may consider moving this\"\n",
    "            \"notebook to a valid directory or add this directory to the Globus Connect Personal settings\"\n",
    "        )\n",
    "    else:\n",
    "        NotImplementedError(\n",
    "            \"Get in touch with us or consider looking online to find a solution to this problem:\\n\"\n",
    "            + dget_resp[0].task[0].msg\n",
    "        )"
   ]
  },
  {
   "cell_type": "code",
   "execution_count": 9,
   "metadata": {
    "slideshow": {
     "slide_type": "fragment"
    }
   },
   "outputs": [
    {
     "name": "stdout",
     "output_type": "stream",
     "text": [
      "You are not running as an admin\n"
     ]
    }
   ],
   "source": [
    "import ctypes, os\n",
    "\n",
    "try:\n",
    "    is_admin = os.getuid() == 0\n",
    "except AttributeError:\n",
    "    is_admin = ctypes.windll.shell32.IsUserAnAdmin() != 0\n",
    "\n",
    "value = \"\"\n",
    "if not is_admin:\n",
    "    value = \"not \"\n",
    "\n",
    "print(f\"You are {value}running as an admin\")"
   ]
  }
 ],
 "metadata": {
  "celltoolbar": "Slideshow",
  "kernelspec": {
   "display_name": "Python 3 (ipykernel)",
   "language": "python",
   "name": "python3"
  },
  "language_info": {
   "codemirror_mode": {
    "name": "ipython",
    "version": 3
   },
   "file_extension": ".py",
   "mimetype": "text/x-python",
   "name": "python",
   "nbconvert_exporter": "python",
   "pygments_lexer": "ipython3",
   "version": "3.10.0"
  },
  "vscode": {
   "interpreter": {
    "hash": "c475b5beda6d617ffb7b2fcf453fbe132321ffc1e1f96c06cf49356e1e7f42cb"
   }
  }
 },
 "nbformat": 4,
 "nbformat_minor": 2
}