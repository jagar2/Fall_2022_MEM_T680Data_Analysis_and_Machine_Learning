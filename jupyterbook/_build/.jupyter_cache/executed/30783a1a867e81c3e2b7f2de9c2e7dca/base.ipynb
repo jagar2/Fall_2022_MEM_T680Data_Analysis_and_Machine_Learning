{
 "cells": [],
 "metadata": {
  "celltoolbar": "Tags",
  "kernelspec": {
   "display_name": "Python 3.9.12",
   "language": "python",
   "name": "python3"
  },
  "language_info": {
   "codemirror_mode": {
    "name": "ipython",
    "version": 3
   },
   "file_extension": ".py",
   "mimetype": "text/x-python",
   "name": "python",
   "nbconvert_exporter": "python",
   "pygments_lexer": "ipython3",
   "version": "3.10.0"
  },
  "vscode": {
   "interpreter": {
    "hash": "81436187d6781c3ccec267398526cbaf638744671e64245120c2d906c5c69e63"
   }
  }
 },
 "nbformat": 4,
 "nbformat_minor": 5
}