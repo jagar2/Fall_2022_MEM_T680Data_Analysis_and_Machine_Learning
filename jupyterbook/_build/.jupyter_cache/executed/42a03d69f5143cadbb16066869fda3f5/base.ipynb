{
 "cells": [
  {
   "cell_type": "code",
   "execution_count": 1,
   "metadata": {
    "slideshow": {
     "slide_type": "fragment"
    }
   },
   "outputs": [],
   "source": [
    "from datafed.CommandLib import API\n"
   ]
  },
  {
   "cell_type": "code",
   "execution_count": 2,
   "metadata": {
    "slideshow": {
     "slide_type": "fragment"
    }
   },
   "outputs": [],
   "source": [
    "df_api = API()\n"
   ]
  },
  {
   "cell_type": "code",
   "execution_count": 3,
   "metadata": {
    "slideshow": {
     "slide_type": "fragment"
    }
   },
   "outputs": [
    {
     "name": "stdout",
     "output_type": "stream",
     "text": [
      "(item {\n",
      "  id: \"p/2021_berkeley_pfm_database\"\n",
      "  title: \"2021_Berkeley_PFM_Database\"\n",
      "  owner: \"u/jca318\"\n",
      "}\n",
      "item {\n",
      "  id: \"p/2021_lane_martin_afm_database\"\n",
      "  title: \"2021_Lane_Martin_AFM_Database\"\n",
      "  owner: \"u/jca318\"\n",
      "}\n",
      "item {\n",
      "  id: \"p/2021_lehigh_cornell_tem\"\n",
      "  title: \"2021_Lehigh_Cornell_TEM\"\n",
      "  owner: \"u/jca318\"\n",
      "}\n",
      "item {\n",
      "  id: \"p/2021_lehigh_wallpaper_group_symmetry\"\n",
      "  title: \"2021_Lehigh_Wallpaper_Group_Symmetry\"\n",
      "  owner: \"u/jca318\"\n",
      "}\n",
      "item {\n",
      "  id: \"p/2022_4dtem_noisy_benchmark\"\n",
      "  title: \"2022_TEM_Noisy_Benchmark\"\n",
      "  owner: \"u/jca318\"\n",
      "}\n",
      "item {\n",
      "  id: \"p/2022_afm_oxford\"\n",
      "  title: \"AFM Repository Oxford Instruments\"\n",
      "  owner: \"u/jca318\"\n",
      "}\n",
      "item {\n",
      "  id: \"p/2022_datafed_tutorial_lehigh\"\n",
      "  title: \"2022_DataFed_Tutorial_Lehigh\"\n",
      "  owner: \"u/jca318\"\n",
      "}\n",
      "item {\n",
      "  id: \"p/2022_materials_project\"\n",
      "  title: \"Materials Project Piezoresponse\"\n",
      "  owner: \"u/jca318\"\n",
      "}\n",
      "item {\n",
      "  id: \"p/2022_pld_plume_recording\"\n",
      "  title: \"2022_PLD_Plume_Recording\"\n",
      "  owner: \"u/yig319\"\n",
      "  creator: \"u/jca318\"\n",
      "}\n",
      "item {\n",
      "  id: \"p/lehigh_2021_band_excitation_pfm\"\n",
      "  title: \"Band_Excitation_Piezoresponse_Force_Microscopy\"\n",
      "  owner: \"u/jca318\"\n",
      "}\n",
      "item {\n",
      "  id: \"p/lehigh_queens_university_belfast_2021\"\n",
      "  title: \"2021_4D_TEM_needles\"\n",
      "  owner: \"u/jca318\"\n",
      "}\n",
      "item {\n",
      "  id: \"p/lehigh.cellsorter.2021\"\n",
      "  title: \"Cell Sorter Project\"\n",
      "  owner: \"u/jca318\"\n",
      "}\n",
      "item {\n",
      "  id: \"p/lehigh.test\"\n",
      "  title: \"Lehigh Test Project\"\n",
      "  owner: \"u/stansberrydv\"\n",
      "}\n",
      "item {\n",
      "  id: \"p/trn001\"\n",
      "  title: \"TRN001 : DataFed Training\"\n",
      "  owner: \"u/somnaths\"\n",
      "}\n",
      "offset: 0\n",
      "count: 20\n",
      "total: 14\n",
      ", 'ListingReply')\n"
     ]
    }
   ],
   "source": [
    "pl_resp = df_api.projectList()\n",
    "print(pl_resp)\n"
   ]
  },
  {
   "cell_type": "code",
   "execution_count": 4,
   "metadata": {
    "slideshow": {
     "slide_type": "fragment"
    }
   },
   "outputs": [
    {
     "name": "stdout",
     "output_type": "stream",
     "text": [
      "<class 'tuple'> 2\n"
     ]
    }
   ],
   "source": [
    "print(type(pl_resp), len(pl_resp))\n"
   ]
  },
  {
   "cell_type": "code",
   "execution_count": 5,
   "metadata": {
    "slideshow": {
     "slide_type": "fragment"
    }
   },
   "outputs": [
    {
     "data": {
      "text/plain": [
       "SDMS_Auth_pb2.ListingReply"
      ]
     },
     "execution_count": 5,
     "metadata": {},
     "output_type": "execute_result"
    }
   ],
   "source": [
    "type(pl_resp[0])\n"
   ]
  },
  {
   "cell_type": "code",
   "execution_count": 6,
   "metadata": {
    "slideshow": {
     "slide_type": "fragment"
    }
   },
   "outputs": [
    {
     "name": "stdout",
     "output_type": "stream",
     "text": [
      "u/jca318\n"
     ]
    }
   ],
   "source": [
    "print(df_api.getContext())\n"
   ]
  },
  {
   "cell_type": "code",
   "execution_count": 7,
   "metadata": {
    "slideshow": {
     "slide_type": "fragment"
    }
   },
   "outputs": [
    {
     "name": "stdout",
     "output_type": "stream",
     "text": [
      "(coll {\n",
      "  id: \"c/p_trn001_root\"\n",
      "  title: \"Root Collection\"\n",
      "  alias: \"root\"\n",
      "  desc: \"Root collection for project trn001\"\n",
      "  owner: \"p/trn001\"\n",
      "  notes: 0\n",
      "}\n",
      ", 'CollDataReply')\n"
     ]
    }
   ],
   "source": [
    "print(df_api.collectionView(\"root\", context=\"p/trn001\"))\n"
   ]
  },
  {
   "cell_type": "code",
   "execution_count": 8,
   "metadata": {
    "slideshow": {
     "slide_type": "fragment"
    }
   },
   "outputs": [
    {
     "name": "stdout",
     "output_type": "stream",
     "text": [
      "(coll {\n",
      "  id: \"c/u_jca318_root\"\n",
      "  title: \"Root Collection\"\n",
      "  alias: \"root\"\n",
      "  desc: \"Root collection for user Joshua C Agar (jca318)\"\n",
      "  owner: \"u/jca318\"\n",
      "  notes: 0\n",
      "}\n",
      ", 'CollDataReply')\n"
     ]
    }
   ],
   "source": [
    "print(df_api.collectionView(\"root\"))\n"
   ]
  },
  {
   "cell_type": "code",
   "execution_count": 9,
   "metadata": {
    "slideshow": {
     "slide_type": "fragment"
    }
   },
   "outputs": [
    {
     "name": "stdout",
     "output_type": "stream",
     "text": [
      "(item {\n",
      "  id: \"c/35747646\"\n",
      "  title: \"Addi Thakur Malviya\"\n",
      "  alias: \"malviyaa\"\n",
      "  owner: \"p/trn001\"\n",
      "  notes: 0\n",
      "}\n",
      "item {\n",
      "  id: \"c/35667650\"\n",
      "  title: \"Alka Singh\"\n",
      "  alias: \"singhar\"\n",
      "  owner: \"p/trn001\"\n",
      "  notes: 0\n",
      "}\n",
      "item {\n",
      "  id: \"c/43524172\"\n",
      "  title: \"Austin Ladshaw\"\n",
      "  alias: \"ladshawap\"\n",
      "  owner: \"p/trn001\"\n",
      "  notes: 0\n",
      "}\n",
      "item {\n",
      "  id: \"c/248807016\"\n",
      "  title: \"Ben Chance\"\n",
      "  alias: \"chancebr\"\n",
      "  owner: \"p/trn001\"\n",
      "  creator: \"u/somnaths\"\n",
      "  notes: 0\n",
      "}\n",
      "item {\n",
      "  id: \"c/35761498\"\n",
      "  title: \"Bjoern Enders\"\n",
      "  alias: \"benders\"\n",
      "  owner: \"p/trn001\"\n",
      "  notes: 0\n",
      "}\n",
      "item {\n",
      "  id: \"c/43594529\"\n",
      "  title: \"Bowen Li\"\n",
      "  alias: \"shelllbw\"\n",
      "  owner: \"p/trn001\"\n",
      "  notes: 0\n",
      "}\n",
      "item {\n",
      "  id: \"c/43644629\"\n",
      "  title: \"Brian Kaul\"\n",
      "  alias: \"bkaul\"\n",
      "  owner: \"p/trn001\"\n",
      "  notes: 0\n",
      "}\n",
      "item {\n",
      "  id: \"c/43643184\"\n",
      "  title: \"Charles Finney\"\n",
      "  alias: \"ceafinney\"\n",
      "  owner: \"p/trn001\"\n",
      "  notes: 0\n",
      "}\n",
      "item {\n",
      "  id: \"c/35522723\"\n",
      "  title: \"Chris Lindsley\"\n",
      "  alias: \"lindsley\"\n",
      "  owner: \"p/trn001\"\n",
      "  notes: 0\n",
      "}\n",
      "item {\n",
      "  id: \"c/34559268\"\n",
      "  title: \"Dale V. Stansberry\"\n",
      "  alias: \"stansberrydv\"\n",
      "  owner: \"p/trn001\"\n",
      "  notes: 0\n",
      "}\n",
      "item {\n",
      "  id: \"c/43524401\"\n",
      "  title: \"Denis Ladychenko\"\n",
      "  alias: \"dladyche\"\n",
      "  owner: \"p/trn001\"\n",
      "  notes: 0\n",
      "}\n",
      "item {\n",
      "  id: \"c/35574448\"\n",
      "  title: \"External Collaboration\"\n",
      "  owner: \"p/trn001\"\n",
      "  notes: 0\n",
      "}\n",
      "item {\n",
      "  id: \"c/35522343\"\n",
      "  title: \"Flavio Dal Forno Chuahy\"\n",
      "  alias: \"dalfornochuf\"\n",
      "  owner: \"p/trn001\"\n",
      "  notes: 0\n",
      "}\n",
      "item {\n",
      "  id: \"c/43523994\"\n",
      "  title: \"Jens Glaser\"\n",
      "  alias: \"glaserj\"\n",
      "  owner: \"p/trn001\"\n",
      "  notes: 0\n",
      "}\n",
      "item {\n",
      "  id: \"c/34559341\"\n",
      "  title: \"Jessica U. Breet\"\n",
      "  alias: \"breetju\"\n",
      "  owner: \"p/trn001\"\n",
      "  notes: 0\n",
      "}\n",
      "item {\n",
      "  id: \"c/35522132\"\n",
      "  title: \"Johannes P. Blaschke\"\n",
      "  alias: \"jpblaschke\"\n",
      "  owner: \"p/trn001\"\n",
      "  notes: 0\n",
      "}\n",
      "item {\n",
      "  id: \"c/43524585\"\n",
      "  title: \"Jonathan Sakkos\"\n",
      "  alias: \"sakkosjo\"\n",
      "  owner: \"p/trn001\"\n",
      "  notes: 0\n",
      "}\n",
      "item {\n",
      "  id: \"c/35760936\"\n",
      "  title: \"Joseph Weaver\"\n",
      "  alias: \"joeeweaver\"\n",
      "  owner: \"p/trn001\"\n",
      "  notes: 0\n",
      "}\n",
      "item {\n",
      "  id: \"c/50107115\"\n",
      "  title: \"Josh Agar\"\n",
      "  alias: \"jca318\"\n",
      "  owner: \"p/trn001\"\n",
      "  creator: \"u/somnaths\"\n",
      "  notes: 0\n",
      "}\n",
      "item {\n",
      "  id: \"c/50103213\"\n",
      "  title: \"Jouny Zedan\"\n",
      "  alias: \"zedanjouny\"\n",
      "  owner: \"p/trn001\"\n",
      "  creator: \"u/somnaths\"\n",
      "  notes: 0\n",
      "}\n",
      "offset: 0\n",
      "count: 20\n",
      "total: 35\n",
      ", 'ListingReply')\n"
     ]
    }
   ],
   "source": [
    "ls_resp = df_api.collectionItemsList(\"root\", context=\"p/trn001\")\n",
    "print(ls_resp)\n"
   ]
  },
  {
   "cell_type": "code",
   "execution_count": 10,
   "metadata": {
    "slideshow": {
     "slide_type": "fragment"
    }
   },
   "outputs": [
    {
     "data": {
      "text/plain": [
       "'Josh Agar'"
      ]
     },
     "execution_count": 10,
     "metadata": {},
     "output_type": "execute_result"
    }
   ],
   "source": [
    "ls_resp[0].item[-2].title\n"
   ]
  },
  {
   "cell_type": "code",
   "execution_count": 11,
   "metadata": {
    "slideshow": {
     "slide_type": "fragment"
    }
   },
   "outputs": [
    {
     "name": "stdout",
     "output_type": "stream",
     "text": [
      "c/35747646 \t malviyaa\n",
      "c/35667650 \t singhar\n",
      "c/43524172 \t ladshawap\n",
      "c/248807016 \t chancebr\n",
      "c/35761498 \t benders\n",
      "c/43594529 \t shelllbw\n",
      "c/43644629 \t bkaul\n",
      "c/43643184 \t ceafinney\n",
      "c/35522723 \t lindsley\n",
      "c/34559268 \t stansberrydv\n",
      "c/43524401 \t dladyche\n",
      "c/35574448 \t \n",
      "c/35522343 \t dalfornochuf\n",
      "c/43523994 \t glaserj\n",
      "c/34559341 \t breetju\n",
      "c/35522132 \t jpblaschke\n",
      "c/43524585 \t sakkosjo\n",
      "c/35760936 \t joeeweaver\n",
      "c/50107115 \t jca318\n",
      "c/50103213 \t zedanjouny\n"
     ]
    }
   ],
   "source": [
    "for record in ls_resp[0].item:\n",
    "    print(record.id, \"\\t\", record.alias)\n"
   ]
  },
  {
   "cell_type": "code",
   "execution_count": null,
   "metadata": {
    "slideshow": {
     "slide_type": "fragment"
    },
    "tags": [
     "skip-execution"
    ]
   },
   "outputs": [],
   "source": [
    "df_api.collectionView(\"projshare\")\n"
   ]
  },
  {
   "cell_type": "code",
   "execution_count": 12,
   "metadata": {},
   "outputs": [],
   "source": [
    "# Your Code Goes Here"
   ]
  },
  {
   "cell_type": "code",
   "execution_count": 13,
   "metadata": {
    "slideshow": {
     "slide_type": "fragment"
    },
    "tags": [
     "hide-cell"
    ]
   },
   "outputs": [
    {
     "data": {
      "text/plain": [
       "(coll {\n",
       "   id: \"c/34559108\"\n",
       "   title: \"Project Share\"\n",
       "   alias: \"projshare\"\n",
       "   owner: \"p/trn001\"\n",
       "   ct: 1610905739\n",
       "   ut: 1611853827\n",
       "   notes: 0\n",
       " },\n",
       " 'CollDataReply')"
      ]
     },
     "execution_count": 13,
     "metadata": {},
     "output_type": "execute_result"
    }
   ],
   "source": [
    "df_api.collectionView(\"projshare\", context=\"p/trn001\")\n"
   ]
  },
  {
   "cell_type": "code",
   "execution_count": 14,
   "metadata": {
    "slideshow": {
     "slide_type": "fragment"
    }
   },
   "outputs": [
    {
     "data": {
      "text/plain": [
       "(coll {\n",
       "   id: \"c/34559108\"\n",
       "   title: \"Project Share\"\n",
       "   alias: \"projshare\"\n",
       "   owner: \"p/trn001\"\n",
       "   ct: 1610905739\n",
       "   ut: 1611853827\n",
       "   notes: 0\n",
       " },\n",
       " 'CollDataReply')"
      ]
     },
     "execution_count": 14,
     "metadata": {},
     "output_type": "execute_result"
    }
   ],
   "source": [
    "df_api.collectionView(\"c/34559108\")\n"
   ]
  },
  {
   "cell_type": "code",
   "execution_count": 15,
   "metadata": {
    "slideshow": {
     "slide_type": "fragment"
    }
   },
   "outputs": [],
   "source": [
    "df_api.setContext(\"p/trn001\")\n"
   ]
  },
  {
   "cell_type": "code",
   "execution_count": 16,
   "metadata": {
    "slideshow": {
     "slide_type": "fragment"
    }
   },
   "outputs": [
    {
     "data": {
      "text/plain": [
       "(coll {\n",
       "   id: \"c/34559108\"\n",
       "   title: \"Project Share\"\n",
       "   alias: \"projshare\"\n",
       "   owner: \"p/trn001\"\n",
       "   ct: 1610905739\n",
       "   ut: 1611853827\n",
       "   notes: 0\n",
       " },\n",
       " 'CollDataReply')"
      ]
     },
     "execution_count": 16,
     "metadata": {},
     "output_type": "execute_result"
    }
   ],
   "source": [
    "df_api.collectionView(\"projshare\")\n"
   ]
  },
  {
   "cell_type": "code",
   "execution_count": 17,
   "metadata": {},
   "outputs": [],
   "source": [
    "# Your Code Goes Here"
   ]
  },
  {
   "cell_type": "code",
   "execution_count": 18,
   "metadata": {
    "slideshow": {
     "slide_type": "fragment"
    },
    "tags": [
     "hide-cell"
    ]
   },
   "outputs": [
    {
     "data": {
      "text/plain": [
       "'01/17/2021,12:48'"
      ]
     },
     "execution_count": 18,
     "metadata": {},
     "output_type": "execute_result"
    }
   ],
   "source": [
    "personal_collection_id = \"c/34559108\"\n",
    "create_time = df_api.collectionView(personal_collection_id)[0].coll[0].ct\n",
    "\n",
    "# Bonus:\n",
    "df_api.timestampToStr(create_time)\n"
   ]
  },
  {
   "cell_type": "code",
   "execution_count": 19,
   "metadata": {
    "slideshow": {
     "slide_type": "fragment"
    }
   },
   "outputs": [],
   "source": [
    "df_api.setContext(\"p/trn001\")\n"
   ]
  },
  {
   "cell_type": "code",
   "execution_count": 20,
   "metadata": {},
   "outputs": [],
   "source": [
    "# Your Code Goes Here"
   ]
  },
  {
   "cell_type": "code",
   "execution_count": 21,
   "metadata": {
    "slideshow": {
     "slide_type": "fragment"
    },
    "tags": [
     "hide-cell"
    ]
   },
   "outputs": [],
   "source": [
    "parent_collection = \"jca318\"\n"
   ]
  },
  {
   "cell_type": "code",
   "execution_count": 22,
   "metadata": {
    "slideshow": {
     "slide_type": "fragment"
    }
   },
   "outputs": [],
   "source": [
    "parameters = {\n",
    "    \"a\": 4,\n",
    "    \"b\": [1, 2, -4, 7.123],\n",
    "    \"c\": \"Something important\",\n",
    "    \"d\": {\"x\": 14, \"y\": -19},  # Can use nested dictionaries\n",
    "}\n"
   ]
  },
  {
   "cell_type": "code",
   "execution_count": 23,
   "metadata": {
    "slideshow": {
     "slide_type": "fragment"
    }
   },
   "outputs": [
    {
     "data": {
      "text/plain": [
       "'{\"a\": 4, \"b\": [1, 2, -4, 7.123], \"c\": \"Something important\", \"d\": {\"x\": 14, \"y\": -19}}'"
      ]
     },
     "execution_count": 23,
     "metadata": {},
     "output_type": "execute_result"
    }
   ],
   "source": [
    "import json\n",
    "\n",
    "json.dumps(parameters)"
   ]
  },
  {
   "cell_type": "code",
   "execution_count": 24,
   "metadata": {
    "slideshow": {
     "slide_type": "fragment"
    }
   },
   "outputs": [
    {
     "data": {
      "text/plain": [
       "(data {\n",
       "   id: \"d/412686165\"\n",
       "   title: \"my important data\"\n",
       "   metadata: \"{\\\"a\\\":4,\\\"b\\\":[1,2,-4,7.123],\\\"c\\\":\\\"Something important\\\",\\\"d\\\":{\\\"x\\\":14,\\\"y\\\":-19}}\"\n",
       "   repo_id: \"repo/cades-cnms\"\n",
       "   size: 0.0\n",
       "   ext_auto: true\n",
       "   ct: 1667098575\n",
       "   ut: 1667098575\n",
       "   owner: \"p/trn001\"\n",
       "   creator: \"u/jca318\"\n",
       "   parent_id: \"c/50107115\"\n",
       " },\n",
       " 'RecordDataReply')"
      ]
     },
     "execution_count": 24,
     "metadata": {},
     "output_type": "execute_result"
    }
   ],
   "source": [
    "dc_resp = df_api.dataCreate(\n",
    "    \"my important data\",\n",
    "    metadata=json.dumps(parameters),\n",
    "    parent_id=parent_collection,\n",
    "    # The parent collection, whose alias is your username\n",
    ")\n",
    "dc_resp"
   ]
  },
  {
   "cell_type": "code",
   "execution_count": 25,
   "metadata": {},
   "outputs": [],
   "source": [
    "# Your Code Goes Here"
   ]
  },
  {
   "cell_type": "code",
   "execution_count": 26,
   "metadata": {
    "slideshow": {
     "slide_type": "fragment"
    },
    "tags": [
     "hide-cell"
    ]
   },
   "outputs": [
    {
     "name": "stdout",
     "output_type": "stream",
     "text": [
      "d/412686165\n"
     ]
    }
   ],
   "source": [
    "record_id = dc_resp[0].data[0].id\n",
    "print(record_id)\n"
   ]
  },
  {
   "cell_type": "code",
   "execution_count": 27,
   "metadata": {
    "slideshow": {
     "slide_type": "fragment"
    }
   },
   "outputs": [
    {
     "name": "stdout",
     "output_type": "stream",
     "text": [
      "(data {\n",
      "  id: \"d/412686165\"\n",
      "  title: \"Some new title for the data\"\n",
      "  metadata: \"{\\\"a\\\":4,\\\"appended_metadata\\\":true,\\\"b\\\":[1,2,-4,7.123],\\\"c\\\":\\\"Something important\\\",\\\"d\\\":{\\\"x\\\":14,\\\"y\\\":-19}}\"\n",
      "  repo_id: \"repo/cades-cnms\"\n",
      "  size: 0.0\n",
      "  ext_auto: true\n",
      "  ct: 1667098575\n",
      "  ut: 1667098575\n",
      "  owner: \"p/trn001\"\n",
      "  creator: \"u/jca318\"\n",
      "  notes: 0\n",
      "}\n",
      "update {\n",
      "  id: \"d/412686165\"\n",
      "  title: \"Some new title for the data\"\n",
      "  owner: \"p/trn001\"\n",
      "  creator: \"u/jca318\"\n",
      "  size: 0.0\n",
      "  notes: 0\n",
      "  deps_avail: true\n",
      "}\n",
      ", 'RecordDataReply')\n"
     ]
    }
   ],
   "source": [
    "du_resp = df_api.dataUpdate(\n",
    "    record_id,\n",
    "    title=\"Some new title for the data\",\n",
    "    metadata=json.dumps({\"appended_metadata\": True}),\n",
    ")\n",
    "print(du_resp)"
   ]
  },
  {
   "cell_type": "code",
   "execution_count": 28,
   "metadata": {
    "slideshow": {
     "slide_type": "fragment"
    }
   },
   "outputs": [
    {
     "name": "stdout",
     "output_type": "stream",
     "text": [
      "(data {\n",
      "  id: \"d/412686165\"\n",
      "  title: \"Some new title for the data\"\n",
      "  metadata: \"{\\\"a\\\":4,\\\"appended_metadata\\\":true,\\\"b\\\":[1,2,-4,7.123],\\\"c\\\":\\\"Something important\\\",\\\"d\\\":{\\\"x\\\":14,\\\"y\\\":-19}}\"\n",
      "  repo_id: \"repo/cades-cnms\"\n",
      "  size: 0.0\n",
      "  ext_auto: true\n",
      "  ct: 1667098575\n",
      "  ut: 1667098575\n",
      "  owner: \"p/trn001\"\n",
      "  creator: \"u/jca318\"\n",
      "  notes: 0\n",
      "}\n",
      ", 'RecordDataReply')\n"
     ]
    }
   ],
   "source": [
    "dv_resp = df_api.dataView(record_id)\n",
    "print(dv_resp)\n"
   ]
  },
  {
   "cell_type": "code",
   "execution_count": 29,
   "metadata": {},
   "outputs": [],
   "source": [
    "# Your Code Goes Here"
   ]
  },
  {
   "cell_type": "code",
   "execution_count": 30,
   "metadata": {
    "slideshow": {
     "slide_type": "fragment"
    },
    "tags": [
     "hide-cell"
    ]
   },
   "outputs": [
    {
     "name": "stdout",
     "output_type": "stream",
     "text": [
      "{'a': 4, 'appended_metadata': True, 'b': [1, 2, -4, 7.123], 'c': 'Something important', 'd': {'x': 14, 'y': -19}}\n"
     ]
    }
   ],
   "source": [
    "metadata = json.loads(dv_resp[0].data[0].metadata)\n",
    "print(metadata)\n"
   ]
  },
  {
   "cell_type": "code",
   "execution_count": 31,
   "metadata": {},
   "outputs": [],
   "source": [
    "# Your Code Goes Here"
   ]
  },
  {
   "cell_type": "code",
   "execution_count": 32,
   "metadata": {
    "slideshow": {
     "slide_type": "fragment"
    },
    "tags": [
     "hide-cell"
    ]
   },
   "outputs": [
    {
     "name": "stdout",
     "output_type": "stream",
     "text": [
      "{'E': 'mc^2', 'key': 'value'}\n"
     ]
    }
   ],
   "source": [
    "new_metadata = {\"key\": \"value\", \"E\": \"mc^2\"}\n",
    "du_resp = df_api.dataUpdate(\n",
    "    record_id, metadata=json.dumps(new_metadata), metadata_set=True\n",
    ")\n",
    "dv_resp = df_api.dataView(record_id)\n",
    "print(json.loads(dv_resp[0].data[0].metadata))"
   ]
  },
  {
   "cell_type": "code",
   "execution_count": 33,
   "metadata": {},
   "outputs": [],
   "source": [
    "# Your Code Goes Here"
   ]
  },
  {
   "cell_type": "code",
   "execution_count": 34,
   "metadata": {
    "slideshow": {
     "slide_type": "fragment"
    },
    "tags": [
     "hide-cell"
    ]
   },
   "outputs": [
    {
     "name": "stdout",
     "output_type": "stream",
     "text": [
      "d/412686316\n"
     ]
    }
   ],
   "source": [
    "new_params = {\"hello\": \"world\", \"counting\": [1, 2, 3, 4]}\n",
    "\n",
    "dc2_resp = df_api.dataCreate(\n",
    "    \"Subsequent Record\", metadata=json.dumps(new_params), parent_id=parent_collection\n",
    ")\n",
    "\n",
    "clean_rec_id = dc2_resp[0].data[0].id\n",
    "print(clean_rec_id)"
   ]
  },
  {
   "cell_type": "code",
   "execution_count": 35,
   "metadata": {
    "slideshow": {
     "slide_type": "fragment"
    }
   },
   "outputs": [
    {
     "name": "stdout",
     "output_type": "stream",
     "text": [
      "(data {\n",
      "  id: \"d/412686316\"\n",
      "  title: \"Subsequent Record_412686316\"\n",
      "  metadata: \"{\\\"counting\\\":[1,2,3,4],\\\"hello\\\":\\\"world\\\"}\"\n",
      "  repo_id: \"repo/cades-cnms\"\n",
      "  size: 0.0\n",
      "  ext_auto: true\n",
      "  ct: 1667098576\n",
      "  ut: 1667098576\n",
      "  owner: \"p/trn001\"\n",
      "  creator: \"u/jca318\"\n",
      "  deps {\n",
      "    id: \"d/412686165\"\n",
      "    type: DEP_IS_DERIVED_FROM\n",
      "    dir: DEP_OUT\n",
      "  }\n",
      "  notes: 0\n",
      "}\n",
      "update {\n",
      "  id: \"d/412686316\"\n",
      "  title: \"Subsequent Record_412686316\"\n",
      "  owner: \"p/trn001\"\n",
      "  creator: \"u/jca318\"\n",
      "  size: 0.0\n",
      "  notes: 0\n",
      "  deps_avail: true\n",
      "  dep {\n",
      "    id: \"d/412686165\"\n",
      "    type: DEP_IS_DERIVED_FROM\n",
      "    dir: DEP_OUT\n",
      "  }\n",
      "}\n",
      ", 'RecordDataReply')\n"
     ]
    }
   ],
   "source": [
    "dep_resp = df_api.dataUpdate(clean_rec_id, deps_add=[[\"der\", record_id]])\n",
    "print(dep_resp)\n"
   ]
  },
  {
   "cell_type": "code",
   "execution_count": 36,
   "metadata": {},
   "outputs": [],
   "source": [
    "# Your Code Goes Here"
   ]
  },
  {
   "cell_type": "code",
   "execution_count": 37,
   "metadata": {
    "slideshow": {
     "slide_type": "fragment"
    },
    "tags": [
     "hide-cell"
    ]
   },
   "outputs": [
    {
     "name": "stdout",
     "output_type": "stream",
     "text": [
      "id: \"d/412686352\"\n",
      "title: \"Figure 1_412686352\"\n",
      "repo_id: \"repo/cades-cnms\"\n",
      "size: 0.0\n",
      "ext_auto: true\n",
      "ct: 1667098576\n",
      "ut: 1667098576\n",
      "owner: \"p/trn001\"\n",
      "creator: \"u/jca318\"\n",
      "deps {\n",
      "  id: \"d/412686316\"\n",
      "  type: DEP_IS_COMPONENT_OF\n",
      "  dir: DEP_OUT\n",
      "}\n",
      "notes: 0\n",
      "\n"
     ]
    }
   ],
   "source": [
    "# 1\n",
    "reply = df_api.dataCreate(\"Figure 1\", parent_id=parent_collection)\n",
    "# 2\n",
    "fig_id = reply[0].data[0].id\n",
    "# 3\n",
    "provenance_link = df_api.dataUpdate(fig_id, deps_add=[(\"comp\", clean_rec_id)])\n",
    "print(provenance_link[0].data[0])\n"
   ]
  },
  {
   "cell_type": "code",
   "execution_count": 38,
   "metadata": {
    "slideshow": {
     "slide_type": "fragment"
    }
   },
   "outputs": [],
   "source": [
    "# imports necessary packages\n",
    "\n",
    "import json\n",
    "import os\n",
    "import time\n",
    "from datafed.CommandLib import API\n"
   ]
  },
  {
   "cell_type": "code",
   "execution_count": 39,
   "metadata": {
    "slideshow": {
     "slide_type": "fragment"
    }
   },
   "outputs": [],
   "source": [
    "df_api = API()\n",
    "df_api.setContext(\"p/trn001\")\n"
   ]
  },
  {
   "cell_type": "code",
   "execution_count": 40,
   "metadata": {},
   "outputs": [],
   "source": [
    "# Your Code Goes Here"
   ]
  },
  {
   "cell_type": "code",
   "execution_count": 41,
   "metadata": {
    "slideshow": {
     "slide_type": "fragment"
    },
    "tags": [
     "hide-cell"
    ]
   },
   "outputs": [],
   "source": [
    "parent_collection = \"jca318\"  # your username here\n"
   ]
  },
  {
   "cell_type": "code",
   "execution_count": 42,
   "metadata": {},
   "outputs": [],
   "source": [
    "# Your Code Goes Here"
   ]
  },
  {
   "cell_type": "code",
   "execution_count": 43,
   "metadata": {
    "slideshow": {
     "slide_type": "fragment"
    },
    "tags": [
     "hide-cell"
    ]
   },
   "outputs": [],
   "source": [
    "record_id = \"d/412681057\"\n"
   ]
  },
  {
   "cell_type": "code",
   "execution_count": 44,
   "metadata": {
    "slideshow": {
     "slide_type": "fragment"
    }
   },
   "outputs": [],
   "source": [
    "datapath = './datapath'\n",
    "\n",
    "# This just writes some text\n",
    "with open(datapath + \"/raw_data.txt\", mode=\"w\") as file_handle:\n",
    "    file_handle.write(\"This is some data\")\n"
   ]
  },
  {
   "cell_type": "code",
   "execution_count": 45,
   "metadata": {
    "slideshow": {
     "slide_type": "fragment"
    }
   },
   "outputs": [
    {
     "name": "stdout",
     "output_type": "stream",
     "text": [
      "(task {\n",
      "  id: \"task/412686392\"\n",
      "  type: TT_DATA_PUT\n",
      "  status: TS_SUCCEEDED\n",
      "  client: \"u/jca318\"\n",
      "  step: 3\n",
      "  steps: 4\n",
      "  msg: \"Finished\"\n",
      "  ct: 1667098577\n",
      "  ut: 1667098582\n",
      "  source: \"f134f91a-572a-11ed-ba55-d5fb255a47cc/C/Users/jca92/Documents/codes/Fall_2022_MEM_T680Data_Analysis_and_Machine_Learning/jupyterbook/Topic_7/DataFed/datapath/raw_data.txt\"\n",
      "  dest: \"d/412681057\"\n",
      "}\n",
      ", 'TaskDataReply')\n"
     ]
    }
   ],
   "source": [
    "put_resp = df_api.dataPut(\n",
    "    record_id,\n",
    "    datapath + \"/raw_data.txt\",\n",
    "    wait=True,  # Waits until transfer completes.\n",
    ")\n",
    "print(put_resp)"
   ]
  },
  {
   "cell_type": "code",
   "execution_count": 46,
   "metadata": {
    "slideshow": {
     "slide_type": "fragment"
    }
   },
   "outputs": [
    {
     "name": "stdout",
     "output_type": "stream",
     "text": [
      "(data {\n",
      "  id: \"d/412681057\"\n",
      "  title: \"Some new title for the data\"\n",
      "  metadata: \"{\\\"E\\\":\\\"mc^2\\\",\\\"key\\\":\\\"value\\\"}\"\n",
      "  source: \"f134f91a-572a-11ed-ba55-d5fb255a47cc/C/Users/jca92/Documents/codes/Fall_2022_MEM_T680Data_Analysis_and_Machine_Learning/jupyterbook/Topic_7/DataFed/datapath/raw_data.txt\"\n",
      "  repo_id: \"repo/cades-cnms\"\n",
      "  size: 17.0\n",
      "  ext: \".txt\"\n",
      "  ext_auto: true\n",
      "  ct: 1667097842\n",
      "  ut: 1667098228\n",
      "  dt: 1667098228\n",
      "  owner: \"p/trn001\"\n",
      "  creator: \"u/jca318\"\n",
      "  deps {\n",
      "    id: \"d/412681212\"\n",
      "    type: DEP_IS_DERIVED_FROM\n",
      "    dir: DEP_IN\n",
      "  }\n",
      "  notes: 0\n",
      "}\n",
      ", 'RecordDataReply')\n"
     ]
    }
   ],
   "source": [
    "dv_resp = df_api.dataView(record_id)\n",
    "print(dv_resp)\n"
   ]
  },
  {
   "cell_type": "code",
   "execution_count": 47,
   "metadata": {
    "slideshow": {
     "slide_type": "fragment"
    }
   },
   "outputs": [
    {
     "name": "stdout",
     "output_type": "stream",
     "text": [
      "(task {\n",
      "  id: \"task/412686509\"\n",
      "  type: TT_DATA_GET\n",
      "  status: TS_SUCCEEDED\n",
      "  client: \"u/jca318\"\n",
      "  step: 2\n",
      "  steps: 3\n",
      "  msg: \"Finished\"\n",
      "  ct: 1667098585\n",
      "  ut: 1667098590\n",
      "  source: \"d/412681057\"\n",
      "  dest: \"f134f91a-572a-11ed-ba55-d5fb255a47cc/C/Users/jca92/Documents/codes/Fall_2022_MEM_T680Data_Analysis_and_Machine_Learning/jupyterbook/Topic_7/DataFed/datapath\"\n",
      "}\n",
      ", 'TaskDataReply')\n"
     ]
    }
   ],
   "source": [
    "get_resp = df_api.dataGet(\n",
    "    record_id,\n",
    "    datapath,  # directory where data should be downloaded\n",
    "    orig_fname=False,  # do not name file by its original name\n",
    "    wait=True,  # Wait until Globus transfer completes\n",
    ")\n",
    "print(get_resp)"
   ]
  },
  {
   "cell_type": "code",
   "execution_count": 48,
   "metadata": {
    "slideshow": {
     "slide_type": "fragment"
    }
   },
   "outputs": [
    {
     "data": {
      "text/plain": [
       "['408461737.txt', '412681057.txt', 'raw_data.txt']"
      ]
     },
     "execution_count": 48,
     "metadata": {},
     "output_type": "execute_result"
    }
   ],
   "source": [
    "os.listdir(datapath)\n"
   ]
  },
  {
   "cell_type": "code",
   "execution_count": 49,
   "metadata": {
    "slideshow": {
     "slide_type": "fragment"
    }
   },
   "outputs": [
    {
     "name": "stdout",
     "output_type": "stream",
     "text": [
      "Does a file with this name: ./datapath\\412681057.txt exist?\n",
      "True\n"
     ]
    }
   ],
   "source": [
    "expected_file_name = os.path.join(datapath, record_id.split(\"d/\")[-1]) + \".txt\"\n",
    "print(\"Does a file with this name: \" + expected_file_name + \" exist?\")\n",
    "print(os.path.exists(expected_file_name))\n"
   ]
  },
  {
   "cell_type": "code",
   "execution_count": 50,
   "metadata": {
    "slideshow": {
     "slide_type": "fragment"
    }
   },
   "outputs": [
    {
     "name": "stdout",
     "output_type": "stream",
     "text": [
      "task/412686509\n"
     ]
    }
   ],
   "source": [
    "task_id = get_resp[0].task[0].id\n",
    "print(task_id)\n"
   ]
  },
  {
   "cell_type": "code",
   "execution_count": 51,
   "metadata": {
    "slideshow": {
     "slide_type": "fragment"
    }
   },
   "outputs": [
    {
     "name": "stdout",
     "output_type": "stream",
     "text": [
      "(task {\n",
      "  id: \"task/412686509\"\n",
      "  type: TT_DATA_GET\n",
      "  status: TS_SUCCEEDED\n",
      "  client: \"u/jca318\"\n",
      "  step: 2\n",
      "  steps: 3\n",
      "  msg: \"Finished\"\n",
      "  ct: 1667098585\n",
      "  ut: 1667098590\n",
      "  source: \"d/412681057\"\n",
      "  dest: \"f134f91a-572a-11ed-ba55-d5fb255a47cc/C/Users/jca92/Documents/codes/Fall_2022_MEM_T680Data_Analysis_and_Machine_Learning/jupyterbook/Topic_7/DataFed/datapath\"\n",
      "}\n",
      ", 'TaskDataReply')\n"
     ]
    }
   ],
   "source": [
    "task_resp = df_api.taskView(task_id)\n",
    "print(task_resp)\n"
   ]
  },
  {
   "cell_type": "code",
   "execution_count": 52,
   "metadata": {
    "slideshow": {
     "slide_type": "fragment"
    }
   },
   "outputs": [
    {
     "data": {
      "text/plain": [
       "3"
      ]
     },
     "execution_count": 52,
     "metadata": {},
     "output_type": "execute_result"
    }
   ],
   "source": [
    "task_resp[0].task[0].status\n"
   ]
  },
  {
   "cell_type": "code",
   "execution_count": 53,
   "metadata": {
    "scrolled": true,
    "slideshow": {
     "slide_type": "fragment"
    }
   },
   "outputs": [
    {
     "data": {
      "text/plain": [
       "(task {\n",
       "   id: \"task/412686509\"\n",
       "   type: TT_DATA_GET\n",
       "   status: TS_SUCCEEDED\n",
       "   client: \"u/jca318\"\n",
       "   step: 2\n",
       "   steps: 3\n",
       "   msg: \"Finished\"\n",
       "   ct: 1667098585\n",
       "   ut: 1667098590\n",
       "   source: \"d/412681057\"\n",
       "   dest: \"f134f91a-572a-11ed-ba55-d5fb255a47cc/C/Users/jca92/Documents/codes/Fall_2022_MEM_T680Data_Analysis_and_Machine_Learning/jupyterbook/Topic_7/DataFed/datapath\"\n",
       " }\n",
       " task {\n",
       "   id: \"task/412686392\"\n",
       "   type: TT_DATA_PUT\n",
       "   status: TS_SUCCEEDED\n",
       "   client: \"u/jca318\"\n",
       "   step: 3\n",
       "   steps: 4\n",
       "   msg: \"Finished\"\n",
       "   ct: 1667098577\n",
       "   ut: 1667098582\n",
       "   source: \"f134f91a-572a-11ed-ba55-d5fb255a47cc/C/Users/jca92/Documents/codes/Fall_2022_MEM_T680Data_Analysis_and_Machine_Learning/jupyterbook/Topic_7/DataFed/datapath/raw_data.txt\"\n",
       "   dest: \"d/412681057\"\n",
       " }\n",
       " task {\n",
       "   id: \"task/412685350\"\n",
       "   type: TT_DATA_PUT\n",
       "   status: TS_SUCCEEDED\n",
       "   client: \"u/jca318\"\n",
       "   step: 3\n",
       "   steps: 4\n",
       "   msg: \"Finished\"\n",
       "   ct: 1667098510\n",
       "   ut: 1667098525\n",
       "   source: \"f134f91a-572a-11ed-ba55-d5fb255a47cc/C/Users/jca92/Documents/codes/Fall_2022_MEM_T680Data_Analysis_and_Machine_Learning/jupyterbook/Topic_7/DataFed/datapath/raw_data.txt\"\n",
       "   dest: \"d/412685344\"\n",
       " }\n",
       " task {\n",
       "   id: \"task/412685327\"\n",
       "   type: TT_DATA_PUT\n",
       "   status: TS_SUCCEEDED\n",
       "   client: \"u/jca318\"\n",
       "   step: 3\n",
       "   steps: 4\n",
       "   msg: \"Finished\"\n",
       "   ct: 1667098510\n",
       "   ut: 1667098525\n",
       "   source: \"f134f91a-572a-11ed-ba55-d5fb255a47cc/C/Users/jca92/Documents/codes/Fall_2022_MEM_T680Data_Analysis_and_Machine_Learning/jupyterbook/Topic_7/DataFed/datapath/raw_data.txt\"\n",
       "   dest: \"d/412685321\"\n",
       " }\n",
       " task {\n",
       "   id: \"task/412685304\"\n",
       "   type: TT_DATA_PUT\n",
       "   status: TS_SUCCEEDED\n",
       "   client: \"u/jca318\"\n",
       "   step: 3\n",
       "   steps: 4\n",
       "   msg: \"Finished\"\n",
       "   ct: 1667098510\n",
       "   ut: 1667098524\n",
       "   source: \"f134f91a-572a-11ed-ba55-d5fb255a47cc/C/Users/jca92/Documents/codes/Fall_2022_MEM_T680Data_Analysis_and_Machine_Learning/jupyterbook/Topic_7/DataFed/datapath/raw_data.txt\"\n",
       "   dest: \"d/412685298\"\n",
       " }\n",
       " task {\n",
       "   id: \"task/412685208\"\n",
       "   type: TT_DATA_PUT\n",
       "   status: TS_SUCCEEDED\n",
       "   client: \"u/jca318\"\n",
       "   step: 3\n",
       "   steps: 4\n",
       "   msg: \"Finished\"\n",
       "   ct: 1667098509\n",
       "   ut: 1667098520\n",
       "   source: \"f134f91a-572a-11ed-ba55-d5fb255a47cc/C/Users/jca92/Documents/codes/Fall_2022_MEM_T680Data_Analysis_and_Machine_Learning/jupyterbook/Topic_7/DataFed/datapath/raw_data.txt\"\n",
       "   dest: \"d/412685202\"\n",
       " }\n",
       " task {\n",
       "   id: \"task/412685281\"\n",
       "   type: TT_DATA_PUT\n",
       "   status: TS_SUCCEEDED\n",
       "   client: \"u/jca318\"\n",
       "   step: 3\n",
       "   steps: 4\n",
       "   msg: \"Finished\"\n",
       "   ct: 1667098510\n",
       "   ut: 1667098520\n",
       "   source: \"f134f91a-572a-11ed-ba55-d5fb255a47cc/C/Users/jca92/Documents/codes/Fall_2022_MEM_T680Data_Analysis_and_Machine_Learning/jupyterbook/Topic_7/DataFed/datapath/raw_data.txt\"\n",
       "   dest: \"d/412685275\"\n",
       " }\n",
       " task {\n",
       "   id: \"task/412685258\"\n",
       "   type: TT_DATA_PUT\n",
       "   status: TS_SUCCEEDED\n",
       "   client: \"u/jca318\"\n",
       "   step: 3\n",
       "   steps: 4\n",
       "   msg: \"Finished\"\n",
       "   ct: 1667098510\n",
       "   ut: 1667098519\n",
       "   source: \"f134f91a-572a-11ed-ba55-d5fb255a47cc/C/Users/jca92/Documents/codes/Fall_2022_MEM_T680Data_Analysis_and_Machine_Learning/jupyterbook/Topic_7/DataFed/datapath/raw_data.txt\"\n",
       "   dest: \"d/412685252\"\n",
       " }\n",
       " task {\n",
       "   id: \"task/412685235\"\n",
       "   type: TT_DATA_PUT\n",
       "   status: TS_SUCCEEDED\n",
       "   client: \"u/jca318\"\n",
       "   step: 3\n",
       "   steps: 4\n",
       "   msg: \"Finished\"\n",
       "   ct: 1667098509\n",
       "   ut: 1667098519\n",
       "   source: \"f134f91a-572a-11ed-ba55-d5fb255a47cc/C/Users/jca92/Documents/codes/Fall_2022_MEM_T680Data_Analysis_and_Machine_Learning/jupyterbook/Topic_7/DataFed/datapath/raw_data.txt\"\n",
       "   dest: \"d/412685229\"\n",
       " }\n",
       " task {\n",
       "   id: \"task/412685181\"\n",
       "   type: TT_DATA_PUT\n",
       "   status: TS_SUCCEEDED\n",
       "   client: \"u/jca318\"\n",
       "   step: 3\n",
       "   steps: 4\n",
       "   msg: \"Finished\"\n",
       "   ct: 1667098509\n",
       "   ut: 1667098514\n",
       "   source: \"f134f91a-572a-11ed-ba55-d5fb255a47cc/C/Users/jca92/Documents/codes/Fall_2022_MEM_T680Data_Analysis_and_Machine_Learning/jupyterbook/Topic_7/DataFed/datapath/raw_data.txt\"\n",
       "   dest: \"d/412685175\"\n",
       " }\n",
       " task {\n",
       "   id: \"task/412685127\"\n",
       "   type: TT_DATA_PUT\n",
       "   status: TS_SUCCEEDED\n",
       "   client: \"u/jca318\"\n",
       "   step: 3\n",
       "   steps: 4\n",
       "   msg: \"Finished\"\n",
       "   ct: 1667098508\n",
       "   ut: 1667098514\n",
       "   source: \"f134f91a-572a-11ed-ba55-d5fb255a47cc/C/Users/jca92/Documents/codes/Fall_2022_MEM_T680Data_Analysis_and_Machine_Learning/jupyterbook/Topic_7/DataFed/datapath/raw_data.txt\"\n",
       "   dest: \"d/412685121\"\n",
       " }\n",
       " task {\n",
       "   id: \"task/412685154\"\n",
       "   type: TT_DATA_PUT\n",
       "   status: TS_SUCCEEDED\n",
       "   client: \"u/jca318\"\n",
       "   step: 3\n",
       "   steps: 4\n",
       "   msg: \"Finished\"\n",
       "   ct: 1667098509\n",
       "   ut: 1667098514\n",
       "   source: \"f134f91a-572a-11ed-ba55-d5fb255a47cc/C/Users/jca92/Documents/codes/Fall_2022_MEM_T680Data_Analysis_and_Machine_Learning/jupyterbook/Topic_7/DataFed/datapath/raw_data.txt\"\n",
       "   dest: \"d/412685148\"\n",
       " }\n",
       " task {\n",
       "   id: \"task/412684960\"\n",
       "   type: TT_DATA_PUT\n",
       "   status: TS_SUCCEEDED\n",
       "   client: \"u/jca318\"\n",
       "   step: 3\n",
       "   steps: 4\n",
       "   msg: \"Finished\"\n",
       "   ct: 1667098502\n",
       "   ut: 1667098507\n",
       "   source: \"f134f91a-572a-11ed-ba55-d5fb255a47cc/C/Users/jca92/Documents/codes/Fall_2022_MEM_T680Data_Analysis_and_Machine_Learning/jupyterbook/Topic_7/DataFed/datapath/408461737.txt\"\n",
       "   dest: \"d/412684954\"\n",
       " }\n",
       " task {\n",
       "   id: \"task/412684882\"\n",
       "   type: TT_DATA_PUT\n",
       "   status: TS_SUCCEEDED\n",
       "   client: \"u/jca318\"\n",
       "   step: 3\n",
       "   steps: 4\n",
       "   msg: \"Finished\"\n",
       "   ct: 1667098497\n",
       "   ut: 1667098502\n",
       "   source: \"f134f91a-572a-11ed-ba55-d5fb255a47cc/C/Users/jca92/Documents/codes/Fall_2022_MEM_T680Data_Analysis_and_Machine_Learning/jupyterbook/Topic_7/DataFed/datapath/408461737.txt\"\n",
       "   dest: \"d/412684876\"\n",
       " }\n",
       " task {\n",
       "   id: \"task/412684798\"\n",
       "   type: TT_DATA_PUT\n",
       "   status: TS_SUCCEEDED\n",
       "   client: \"u/jca318\"\n",
       "   step: 3\n",
       "   steps: 4\n",
       "   msg: \"Finished\"\n",
       "   ct: 1667098492\n",
       "   ut: 1667098497\n",
       "   source: \"f134f91a-572a-11ed-ba55-d5fb255a47cc/C/Users/jca92/Documents/codes/Fall_2022_MEM_T680Data_Analysis_and_Machine_Learning/jupyterbook/Topic_7/DataFed/datapath/408461737.txt\"\n",
       "   dest: \"d/412684792\"\n",
       " }\n",
       " task {\n",
       "   id: \"task/412684738\"\n",
       "   type: TT_DATA_PUT\n",
       "   status: TS_SUCCEEDED\n",
       "   client: \"u/jca318\"\n",
       "   step: 3\n",
       "   steps: 4\n",
       "   msg: \"Finished\"\n",
       "   ct: 1667098486\n",
       "   ut: 1667098492\n",
       "   source: \"f134f91a-572a-11ed-ba55-d5fb255a47cc/C/Users/jca92/Documents/codes/Fall_2022_MEM_T680Data_Analysis_and_Machine_Learning/jupyterbook/Topic_7/DataFed/datapath/408461737.txt\"\n",
       "   dest: \"d/412684732\"\n",
       " }\n",
       " task {\n",
       "   id: \"task/412684639\"\n",
       "   type: TT_DATA_GET\n",
       "   status: TS_SUCCEEDED\n",
       "   client: \"u/jca318\"\n",
       "   step: 2\n",
       "   steps: 3\n",
       "   msg: \"Finished\"\n",
       "   ct: 1667098473\n",
       "   ut: 1667098478\n",
       "   source: \"d/412681057\"\n",
       "   dest: \"f134f91a-572a-11ed-ba55-d5fb255a47cc/C/Users/jca92/Documents/codes/Fall_2022_MEM_T680Data_Analysis_and_Machine_Learning/jupyterbook/Topic_7/DataFed/datapath\"\n",
       " }\n",
       " task {\n",
       "   id: \"task/412684536\"\n",
       "   type: TT_DATA_PUT\n",
       "   status: TS_SUCCEEDED\n",
       "   client: \"u/jca318\"\n",
       "   step: 3\n",
       "   steps: 4\n",
       "   msg: \"Finished\"\n",
       "   ct: 1667098465\n",
       "   ut: 1667098470\n",
       "   source: \"f134f91a-572a-11ed-ba55-d5fb255a47cc/C/Users/jca92/Documents/codes/Fall_2022_MEM_T680Data_Analysis_and_Machine_Learning/jupyterbook/Topic_7/DataFed/datapath/raw_data.txt\"\n",
       "   dest: \"d/412681057\"\n",
       " }\n",
       " task {\n",
       "   id: \"task/412683328\"\n",
       "   type: TT_DATA_PUT\n",
       "   status: TS_FAILED\n",
       "   client: \"u/jca318\"\n",
       "   step: 1\n",
       "   steps: 4\n",
       "   msg: \"globus connect offline\"\n",
       "   ct: 1667098268\n",
       "   ut: 1667098283\n",
       "   source: \"f134f91a-572a-11ed-ba55-d5fb255a47cc/C/Users/jca92/Documents/codes/Fall_2022_MEM_T680Data_Analysis_and_Machine_Learning/jupyterbook/Topic_7/DataFed/datapath/raw_data.txt\"\n",
       "   dest: \"d/412683322\"\n",
       " }\n",
       " task {\n",
       "   id: \"task/412683305\"\n",
       "   type: TT_DATA_PUT\n",
       "   status: TS_FAILED\n",
       "   client: \"u/jca318\"\n",
       "   step: 1\n",
       "   steps: 4\n",
       "   msg: \"globus connect offline\"\n",
       "   ct: 1667098268\n",
       "   ut: 1667098283\n",
       "   source: \"f134f91a-572a-11ed-ba55-d5fb255a47cc/C/Users/jca92/Documents/codes/Fall_2022_MEM_T680Data_Analysis_and_Machine_Learning/jupyterbook/Topic_7/DataFed/datapath/raw_data.txt\"\n",
       "   dest: \"d/412683299\"\n",
       " },\n",
       " 'TaskDataReply')"
      ]
     },
     "execution_count": 53,
     "metadata": {},
     "output_type": "execute_result"
    }
   ],
   "source": [
    "df_api.taskList()\n"
   ]
  },
  {
   "cell_type": "code",
   "execution_count": 54,
   "metadata": {
    "slideshow": {
     "slide_type": "fragment"
    }
   },
   "outputs": [],
   "source": [
    "import time\n",
    "\n",
    "\n",
    "def expensive_simulation():\n",
    "    time.sleep(5)\n",
    "    # Yes, this simulation is deterministic and always results in the same result:\n",
    "    path_to_results = datapath + \"/408461737.txt\"\n",
    "    # The simulation uses the same combination of parameters\n",
    "    metadata = {\"a\": 1, \"b\": 2, \"c\": 3.14}\n",
    "    return path_to_results, metadata"
   ]
  },
  {
   "cell_type": "code",
   "execution_count": 55,
   "metadata": {
    "slideshow": {
     "slide_type": "fragment"
    }
   },
   "outputs": [],
   "source": [
    "# Your Code Goes Here"
   ]
  },
  {
   "cell_type": "code",
   "execution_count": 56,
   "metadata": {
    "slideshow": {
     "slide_type": "fragment"
    },
    "tags": [
     "hide-cell"
    ]
   },
   "outputs": [],
   "source": [
    "def capture_data(\n",
    "    simulation_index,  # integer - counter to signify the Nth simulation in the series\n",
    "    metadata,  # dictionary - combination of parameters used for this simulation\n",
    "    raw_data_path,  # string - Path to the raw data file that needs to be put into the receord\n",
    "    parent_collection=parent_collection,  # string - Collection to create this Data Record into\n",
    "):\n",
    "\n",
    "    # 1. Create a new Data Record with the metadata and use the simulation index to provide a unique title\n",
    "    rec_resp = df_api.dataCreate(\n",
    "        \"Simulation_\" + str(simulation_index),\n",
    "        metadata=json.dumps(metadata),\n",
    "        parent_id=parent_collection,\n",
    "    )\n",
    "\n",
    "    # 2. Extract the record ID from the response\n",
    "    this_rec_id = rec_resp[0].data[0].id\n",
    "\n",
    "    # 3. Put the raw data into this record:\n",
    "    put_resp = df_api.dataPut(this_rec_id, raw_data_path, wait=False)\n",
    "\n",
    "    # 4. Extract the ID for the data transfer task\n",
    "    task_id = put_resp[0].task.id\n",
    "\n",
    "    # 5. Return the task ID\n",
    "    return task_id"
   ]
  },
  {
   "cell_type": "code",
   "execution_count": 57,
   "metadata": {
    "slideshow": {
     "slide_type": "fragment"
    }
   },
   "outputs": [
    {
     "data": {
      "text/plain": [
       "'task/412686610'"
      ]
     },
     "execution_count": 57,
     "metadata": {},
     "output_type": "execute_result"
    }
   ],
   "source": [
    "path_to_results, metadata = expensive_simulation()\n",
    "\n",
    "task_id = capture_data(14, metadata, path_to_results)\n",
    "task_id\n"
   ]
  },
  {
   "cell_type": "code",
   "execution_count": 58,
   "metadata": {
    "slideshow": {
     "slide_type": "fragment"
    }
   },
   "outputs": [],
   "source": [
    "def check_xfer_status(task_ids):\n",
    "\n",
    "    # put singular task ID into a list\n",
    "    if isinstance(task_ids, str):\n",
    "        task_ids = [task_ids]\n",
    "\n",
    "    # Create a list to hold the statuses of each of the tasks\n",
    "    statuses = list()\n",
    "\n",
    "    # Iterate over each of the task IDs\n",
    "    for this_task_id in task_ids:\n",
    "\n",
    "        # For each task ID, get detailed information about it\n",
    "        task_resp = df_api.taskView(this_task_id)\n",
    "\n",
    "        # Extract the task status from the detailed information\n",
    "        this_status = task_resp[0].task[0].status\n",
    "\n",
    "        # Append this status to the list of statuses\n",
    "        statuses.append(this_status)\n",
    "\n",
    "    # Return the list of statuses\n",
    "    return statuses\n"
   ]
  },
  {
   "cell_type": "code",
   "execution_count": 59,
   "metadata": {
    "slideshow": {
     "slide_type": "fragment"
    }
   },
   "outputs": [
    {
     "data": {
      "text/plain": [
       "[2]"
      ]
     },
     "execution_count": 59,
     "metadata": {},
     "output_type": "execute_result"
    }
   ],
   "source": [
    "check_xfer_status(task_id)\n"
   ]
  },
  {
   "cell_type": "code",
   "execution_count": 60,
   "metadata": {
    "slideshow": {
     "slide_type": "fragment"
    }
   },
   "outputs": [
    {
     "name": "stdout",
     "output_type": "stream",
     "text": [
      "Starting simulation #0\n"
     ]
    },
    {
     "name": "stdout",
     "output_type": "stream",
     "text": [
      "Transfer status: [2]\n",
      "\n",
      "Starting simulation #1\n"
     ]
    },
    {
     "name": "stdout",
     "output_type": "stream",
     "text": [
      "Transfer status: [2, 2]\n",
      "\n",
      "Starting simulation #2\n"
     ]
    },
    {
     "name": "stdout",
     "output_type": "stream",
     "text": [
      "Transfer status: [3, 2, 2]\n",
      "\n",
      "Simulations complete! Waiting for uploads to complete\n",
      "\n"
     ]
    },
    {
     "name": "stdout",
     "output_type": "stream",
     "text": [
      "Transfer status: [3, 3, 3]\n",
      "\n",
      "Finished uploading all data!\n"
     ]
    }
   ],
   "source": [
    "xfer_tasks = list()\n",
    "for ind in range(3):\n",
    "    print(\"Starting simulation #{}\".format(ind))\n",
    "    # Run the simulation.\n",
    "    path_to_results, metadata = expensive_simulation()\n",
    "    # Capture the data and metadata into DataFed\n",
    "    task_id = capture_data(ind, metadata, path_to_results)\n",
    "    # Append the task ID for this data upload into xfer_tasks\n",
    "    xfer_tasks.append(task_id)\n",
    "    # Print out the status of the data transfers\n",
    "    print(\"Transfer status: {}\".format(check_xfer_status(xfer_tasks)))\n",
    "    print(\"\")\n",
    "\n",
    "print(\"Simulations complete! Waiting for uploads to complete\\n\")\n",
    "\n",
    "while True:\n",
    "    time.sleep(5)\n",
    "    statuses = check_xfer_status(xfer_tasks)\n",
    "    print(\"Transfer status: {}\".format(statuses))\n",
    "    if all([this == 3 for this in statuses]):\n",
    "        break\n",
    "\n",
    "print(\"\\nFinished uploading all data!\")"
   ]
  },
  {
   "cell_type": "code",
   "execution_count": 61,
   "metadata": {
    "slideshow": {
     "slide_type": "fragment"
    }
   },
   "outputs": [],
   "source": [
    "import os\n",
    "import json\n",
    "from datafed.CommandLib import API\n"
   ]
  },
  {
   "cell_type": "code",
   "execution_count": 62,
   "metadata": {
    "slideshow": {
     "slide_type": "fragment"
    }
   },
   "outputs": [],
   "source": [
    "df_api = API()\n",
    "df_api.setContext(\"p/trn001\")\n"
   ]
  },
  {
   "cell_type": "code",
   "execution_count": 63,
   "metadata": {
    "slideshow": {
     "slide_type": "fragment"
    }
   },
   "outputs": [],
   "source": [
    "# Your Code Goes Here"
   ]
  },
  {
   "cell_type": "code",
   "execution_count": 64,
   "metadata": {
    "slideshow": {
     "slide_type": "fragment"
    },
    "tags": [
     "hide-cell"
    ]
   },
   "outputs": [],
   "source": [
    "parent_collection = \"jca318\"  # Name of this user\n"
   ]
  },
  {
   "cell_type": "code",
   "execution_count": 65,
   "metadata": {
    "slideshow": {
     "slide_type": "fragment"
    }
   },
   "outputs": [
    {
     "name": "stdout",
     "output_type": "stream",
     "text": [
      "(coll {\n",
      "  id: \"c/412686982\"\n",
      "  title: \"Image classification training data\"\n",
      "  owner: \"p/trn001\"\n",
      "  creator: \"u/jca318\"\n",
      "  ct: 1667098620\n",
      "  ut: 1667098620\n",
      "  parent_id: \"c/50107115\"\n",
      "}\n",
      ", 'CollDataReply')\n"
     ]
    }
   ],
   "source": [
    "coll_resp = df_api.collectionCreate(\n",
    "    \"Image classification training data\", parent_id=parent_collection\n",
    ")\n",
    "print(coll_resp)"
   ]
  },
  {
   "cell_type": "code",
   "execution_count": 66,
   "metadata": {
    "slideshow": {
     "slide_type": "fragment"
    }
   },
   "outputs": [
    {
     "name": "stdout",
     "output_type": "stream",
     "text": [
      "c/412686982\n"
     ]
    }
   ],
   "source": [
    "train_coll_id = coll_resp[0].coll[0].id\n",
    "print(train_coll_id)\n"
   ]
  },
  {
   "cell_type": "code",
   "execution_count": 67,
   "metadata": {
    "slideshow": {
     "slide_type": "fragment"
    }
   },
   "outputs": [],
   "source": [
    "import random\n",
    "\n",
    "def generate_animal_data(is_dog=True):\n",
    "    this_animal = \"cat\"\n",
    "    if is_dog:\n",
    "        this_animal = \"dog\"\n",
    "    # Ideally, we would have more sensible titles such as \"Doberman\", \"Poodle\", etc. instead of \"Dog_234\"\n",
    "    # To mimic a real-life scenario, we append a number to the animal type to denote\n",
    "    # the N-th example of a cat or dog. In this case, we use a random integer.\n",
    "    title = this_animal + \"_\" + str(random.randint(1, 1000))\n",
    "    # Create the record here:\n",
    "    rec_resp = df_api.dataCreate(\n",
    "        title, metadata=json.dumps({\"animal\": this_animal}), parent_id=train_coll_id\n",
    "    )\n",
    "\n",
    "    # Extract the ID of the Record:\n",
    "    this_rec_id = rec_resp[0].data[0].id\n",
    "\n",
    "    # path to the file containing the (dummy) raw data\n",
    "    raw_data_path = datapath + \"/raw_data.txt\"\n",
    "\n",
    "    # Put the raw data into the record you just created:\n",
    "    put_resp = df_api.dataPut(this_rec_id, raw_data_path)\n",
    "\n",
    "    # Only return the ID of the Data Record you created:\n",
    "    return this_rec_id"
   ]
  },
  {
   "cell_type": "code",
   "execution_count": 68,
   "metadata": {
    "slideshow": {
     "slide_type": "fragment"
    }
   },
   "outputs": [],
   "source": [
    "cat_records = list()\n",
    "dog_records = list()\n",
    "for _ in range(5):\n",
    "    dog_records.append(generate_animal_data(is_dog=True))\n",
    "    time.sleep(0.1)\n",
    "for _ in range(5):\n",
    "    cat_records.append(generate_animal_data(is_dog=False))\n",
    "    time.sleep(0.1)\n"
   ]
  },
  {
   "cell_type": "code",
   "execution_count": 69,
   "metadata": {
    "slideshow": {
     "slide_type": "fragment"
    }
   },
   "outputs": [
    {
     "name": "stdout",
     "output_type": "stream",
     "text": [
      "['d/412687128', 'd/412687151', 'd/412687174', 'd/412687197', 'd/412687220']\n"
     ]
    }
   ],
   "source": [
    "print(cat_records)\n"
   ]
  },
  {
   "cell_type": "code",
   "execution_count": 70,
   "metadata": {
    "slideshow": {
     "slide_type": "fragment"
    }
   },
   "outputs": [
    {
     "name": "stdout",
     "output_type": "stream",
     "text": [
      "['d/412686997', 'd/412687024', 'd/412687051', 'd/412687078', 'd/412687105']\n"
     ]
    }
   ],
   "source": [
    "print(dog_records)\n"
   ]
  },
  {
   "cell_type": "code",
   "execution_count": 71,
   "metadata": {
    "scrolled": true,
    "slideshow": {
     "slide_type": "fragment"
    }
   },
   "outputs": [
    {
     "name": "stdout",
     "output_type": "stream",
     "text": [
      "(item {\n",
      "  id: \"d/412686997\"\n",
      "  title: \"dog_164\"\n",
      "  owner: \"p/trn001\"\n",
      "  creator: \"u/jca318\"\n",
      "  size: 0.0\n",
      "  notes: 0\n",
      "}\n",
      "item {\n",
      "  id: \"d/412687105\"\n",
      "  title: \"dog_177\"\n",
      "  owner: \"p/trn001\"\n",
      "  creator: \"u/jca318\"\n",
      "  size: 0.0\n",
      "  notes: 0\n",
      "}\n",
      "item {\n",
      "  id: \"d/412687024\"\n",
      "  title: \"dog_473\"\n",
      "  owner: \"p/trn001\"\n",
      "  creator: \"u/jca318\"\n",
      "  size: 0.0\n",
      "  notes: 0\n",
      "}\n",
      "item {\n",
      "  id: \"d/412687078\"\n",
      "  title: \"dog_527\"\n",
      "  owner: \"p/trn001\"\n",
      "  creator: \"u/jca318\"\n",
      "  size: 0.0\n",
      "  notes: 0\n",
      "}\n",
      "item {\n",
      "  id: \"d/412687051\"\n",
      "  title: \"dog_531\"\n",
      "  owner: \"p/trn001\"\n",
      "  creator: \"u/jca318\"\n",
      "  size: 0.0\n",
      "  notes: 0\n",
      "}\n",
      "offset: 5\n",
      "count: 20\n",
      "total: 10\n",
      ", 'ListingReply')\n"
     ]
    }
   ],
   "source": [
    "coll_list_resp = df_api.collectionItemsList(train_coll_id, offset=5)\n",
    "print(coll_list_resp)\n"
   ]
  },
  {
   "cell_type": "code",
   "execution_count": 72,
   "metadata": {
    "slideshow": {
     "slide_type": "fragment"
    }
   },
   "outputs": [
    {
     "name": "stdout",
     "output_type": "stream",
     "text": [
      "(item {\n",
      "  id: \"q/408394603\"\n",
      "  title: \"cat\"\n",
      "}\n",
      "item {\n",
      "  id: \"q/412653216\"\n",
      "  title: \"cat\"\n",
      "}\n",
      "item {\n",
      "  id: \"q/412658711\"\n",
      "  title: \"cat\"\n",
      "}\n",
      "item {\n",
      "  id: \"q/408540273\"\n",
      "  title: \"cat\"\n",
      "}\n",
      "item {\n",
      "  id: \"q/412658874\"\n",
      "  title: \"cat2\"\n",
      "}\n",
      "item {\n",
      "  id: \"q/408540601\"\n",
      "  title: \"catter\"\n",
      "}\n",
      "item {\n",
      "  id: \"q/249837250\"\n",
      "  title: \"L1_A1\"\n",
      "}\n",
      "offset: 0\n",
      "count: 20\n",
      "total: 7\n",
      ", 'ListingReply')\n"
     ]
    }
   ],
   "source": [
    "ql_resp = df_api.queryList()\n",
    "print(ql_resp)\n"
   ]
  },
  {
   "cell_type": "code",
   "execution_count": 73,
   "metadata": {
    "slideshow": {
     "slide_type": "fragment"
    }
   },
   "outputs": [],
   "source": [
    "# Your Code Goes Here"
   ]
  },
  {
   "cell_type": "code",
   "execution_count": 74,
   "metadata": {
    "slideshow": {
     "slide_type": "fragment"
    },
    "tags": [
     "hide-cell"
    ]
   },
   "outputs": [
    {
     "name": "stdout",
     "output_type": "stream",
     "text": [
      "q/412658874\n"
     ]
    }
   ],
   "source": [
    "id_ = [i.title for i in ql_resp[0].item].index(\"cat2\")\n",
    "query_id = ql_resp[0].item[id_].id\n",
    "print(query_id)\n"
   ]
  },
  {
   "cell_type": "code",
   "execution_count": 75,
   "metadata": {
    "slideshow": {
     "slide_type": "fragment"
    }
   },
   "outputs": [
    {
     "data": {
      "text/plain": [
       "(id: \"q/412658874\"\n",
       " title: \"cat2\"\n",
       " owner: \"u/jca318\"\n",
       " ct: 1667072632\n",
       " ut: 1667072632\n",
       " query {\n",
       "   mode: SM_DATA\n",
       "   owner: \"p/trn001\"\n",
       "   coll: \"c/412657579\"\n",
       "   meta: \"animal == \\\"cat\\\"\"\n",
       "   sort: SORT_TITLE\n",
       "   sort_rev: false\n",
       " },\n",
       " 'QueryDataReply')"
      ]
     },
     "execution_count": 75,
     "metadata": {},
     "output_type": "execute_result"
    }
   ],
   "source": [
    "df_api.queryView(query_id)\n"
   ]
  },
  {
   "cell_type": "code",
   "execution_count": 76,
   "metadata": {
    "slideshow": {
     "slide_type": "fragment"
    }
   },
   "outputs": [
    {
     "name": "stdout",
     "output_type": "stream",
     "text": [
      "(item {\n",
      "  id: \"d/412657841\"\n",
      "  title: \"cat_159\"\n",
      "  owner: \"p/trn001\"\n",
      "  size: 17.0\n",
      "  notes: 0\n",
      "}\n",
      "item {\n",
      "  id: \"d/412657739\"\n",
      "  title: \"cat_18\"\n",
      "  owner: \"p/trn001\"\n",
      "  size: 17.0\n",
      "  notes: 0\n",
      "}\n",
      "item {\n",
      "  id: \"d/412657818\"\n",
      "  title: \"cat_357\"\n",
      "  owner: \"p/trn001\"\n",
      "  size: 17.0\n",
      "  notes: 0\n",
      "}\n",
      "item {\n",
      "  id: \"d/412657795\"\n",
      "  title: \"cat_693\"\n",
      "  owner: \"p/trn001\"\n",
      "  size: 17.0\n",
      "  notes: 0\n",
      "}\n",
      "item {\n",
      "  id: \"d/412657766\"\n",
      "  title: \"cat_882\"\n",
      "  owner: \"p/trn001\"\n",
      "  size: 17.0\n",
      "  notes: 0\n",
      "}\n",
      "offset: 0\n",
      "count: 5\n",
      "total: 5\n",
      ", 'ListingReply')\n"
     ]
    }
   ],
   "source": [
    "query_resp = df_api.queryExec(query_id)\n",
    "print(query_resp)\n"
   ]
  },
  {
   "cell_type": "code",
   "execution_count": 77,
   "metadata": {
    "slideshow": {
     "slide_type": "fragment"
    }
   },
   "outputs": [
    {
     "name": "stdout",
     "output_type": "stream",
     "text": [
      "['d/412657841', 'd/412657739', 'd/412657818', 'd/412657795', 'd/412657766']\n"
     ]
    }
   ],
   "source": [
    "cat_rec_ids = list()\n",
    "for record in query_resp[0].item:\n",
    "    cat_rec_ids.append(record.id)\n",
    "\n",
    "# one could also use list comprehensions to get the answer in one line:\n",
    "# cat_rec_ids = [record.id for record in query_resp[0].item]\n",
    "print(cat_rec_ids)\n"
   ]
  },
  {
   "cell_type": "code",
   "execution_count": 78,
   "metadata": {
    "slideshow": {
     "slide_type": "fragment"
    }
   },
   "outputs": [
    {
     "name": "stdout",
     "output_type": "stream",
     "text": [
      "False\n"
     ]
    }
   ],
   "source": [
    "# Note, you might get a false response if you have run this script more than once\n",
    "print(set(cat_rec_ids) == set(cat_records))\n"
   ]
  },
  {
   "cell_type": "code",
   "execution_count": 79,
   "metadata": {
    "slideshow": {
     "slide_type": "fragment"
    }
   },
   "outputs": [],
   "source": [
    "# Your Code Goes Here"
   ]
  },
  {
   "cell_type": "code",
   "execution_count": 80,
   "metadata": {
    "slideshow": {
     "slide_type": "fragment"
    },
    "tags": [
     "hide-cell"
    ]
   },
   "outputs": [],
   "source": [
    "coll_resp = df_api.collectionCreate(\"Cats\", parent_id=train_coll_id)\n"
   ]
  },
  {
   "cell_type": "code",
   "execution_count": 81,
   "metadata": {
    "slideshow": {
     "slide_type": "fragment"
    }
   },
   "outputs": [],
   "source": [
    "# Your Code Goes Here"
   ]
  },
  {
   "cell_type": "code",
   "execution_count": 82,
   "metadata": {
    "slideshow": {
     "slide_type": "fragment"
    },
    "tags": [
     "hide-cell"
    ]
   },
   "outputs": [
    {
     "name": "stdout",
     "output_type": "stream",
     "text": [
      "c/412687393\n"
     ]
    }
   ],
   "source": [
    "cat_coll_id = coll_resp[0].coll[0].id\n",
    "print(cat_coll_id)\n"
   ]
  },
  {
   "cell_type": "code",
   "execution_count": 176,
   "metadata": {
    "slideshow": {
     "slide_type": "fragment"
    },
    "tags": [
     "skip-execution"
    ]
   },
   "outputs": [
    {
     "name": "stdout",
     "output_type": "stream",
     "text": [
      "(, 'ListingReply')\n"
     ]
    }
   ],
   "source": [
    "cup_resp = df_api.collectionItemsUpdate(cat_coll_id, add_ids=cat_rec_ids)\n",
    "print(cup_resp)\n"
   ]
  },
  {
   "cell_type": "code",
   "execution_count": 177,
   "metadata": {
    "slideshow": {
     "slide_type": "fragment"
    },
    "tags": [
     "skip-execution"
    ]
   },
   "outputs": [
    {
     "name": "stdout",
     "output_type": "stream",
     "text": [
      "d/412657841 cat_159\n",
      "d/412657739 cat_18\n",
      "d/412657818 cat_357\n",
      "d/412657795 cat_693\n",
      "d/412657766 cat_882\n"
     ]
    }
   ],
   "source": [
    "ls_resp = df_api.collectionItemsList(cat_coll_id)\n",
    "# Iterating through the items in the Collection and only extracting a few items:\n",
    "for obj in ls_resp[0].item:\n",
    "    print(obj.id, obj.title)\n"
   ]
  },
  {
   "cell_type": "code",
   "execution_count": 83,
   "metadata": {
    "slideshow": {
     "slide_type": "fragment"
    }
   },
   "outputs": [],
   "source": [
    "# Your Code Goes Here"
   ]
  },
  {
   "cell_type": "code",
   "execution_count": 179,
   "metadata": {
    "slideshow": {
     "slide_type": "fragment"
    },
    "tags": [
     "hide-cell",
     "skip-execution"
    ]
   },
   "outputs": [
    {
     "name": "stdout",
     "output_type": "stream",
     "text": [
      "c/412659270 Cats\n",
      "d/412657841 cat_159\n",
      "d/412657739 cat_18\n",
      "d/412657818 cat_357\n",
      "d/412657795 cat_693\n",
      "d/412657766 cat_882\n",
      "d/412657716 dog_224\n",
      "d/412657635 dog_562\n",
      "d/412657608 dog_576\n",
      "d/412657689 dog_961\n",
      "d/412657662 dog_982\n"
     ]
    }
   ],
   "source": [
    "ls_resp = df_api.collectionItemsList(train_coll_id)\n",
    "# Iterating through the items in the Collection and only extracting a few items:\n",
    "for obj in ls_resp[0].item:\n",
    "    print(obj.id, obj.title)\n"
   ]
  },
  {
   "cell_type": "code",
   "execution_count": 84,
   "metadata": {
    "slideshow": {
     "slide_type": "fragment"
    }
   },
   "outputs": [],
   "source": [
    "# Your Code Goes Here"
   ]
  },
  {
   "cell_type": "code",
   "execution_count": 181,
   "metadata": {
    "slideshow": {
     "slide_type": "fragment"
    },
    "tags": [
     "hide-cell",
     "skip-execution"
    ]
   },
   "outputs": [
    {
     "name": "stdout",
     "output_type": "stream",
     "text": [
      "(, 'ListingReply')\n"
     ]
    }
   ],
   "source": [
    "cup_resp = df_api.collectionItemsUpdate(train_coll_id, rem_ids=cat_rec_ids)\n",
    "print(cup_resp)\n"
   ]
  },
  {
   "cell_type": "code",
   "execution_count": 85,
   "metadata": {
    "slideshow": {
     "slide_type": "fragment"
    }
   },
   "outputs": [],
   "source": [
    "# Your Code Goes Here"
   ]
  },
  {
   "cell_type": "code",
   "execution_count": 182,
   "metadata": {
    "slideshow": {
     "slide_type": "fragment"
    },
    "tags": [
     "hide-cell",
     "skip-execution"
    ]
   },
   "outputs": [
    {
     "name": "stdout",
     "output_type": "stream",
     "text": [
      "c/412659270 Cats\n",
      "d/412657716 dog_224\n",
      "d/412657635 dog_562\n",
      "d/412657608 dog_576\n",
      "d/412657689 dog_961\n",
      "d/412657662 dog_982\n"
     ]
    }
   ],
   "source": [
    "ls_resp = df_api.collectionItemsList(train_coll_id)\n",
    "# Iterating through the items in the Collection and only extracting a few items:\n",
    "for obj in ls_resp[0].item:\n",
    "    print(obj.id, obj.title)\n"
   ]
  },
  {
   "cell_type": "code",
   "execution_count": 86,
   "metadata": {
    "slideshow": {
     "slide_type": "fragment"
    }
   },
   "outputs": [],
   "source": [
    "dest_dir = datapath + \"/cat_data\"\n",
    "\n",
    "if os.path.exists(dest_dir):\n",
    "    import shutil\n",
    "\n",
    "    shutil.rmtree(dest_dir)"
   ]
  },
  {
   "cell_type": "code",
   "execution_count": 87,
   "metadata": {
    "slideshow": {
     "slide_type": "fragment"
    }
   },
   "outputs": [],
   "source": [
    "# Your Code Goes Here"
   ]
  },
  {
   "cell_type": "code",
   "execution_count": 186,
   "metadata": {
    "slideshow": {
     "slide_type": "fragment"
    },
    "tags": [
     "hide-cell",
     "skip-execution"
    ]
   },
   "outputs": [
    {
     "data": {
      "text/plain": [
       "(task {\n",
       "   id: \"task/412659666\"\n",
       "   type: TT_DATA_GET\n",
       "   status: TS_SUCCEEDED\n",
       "   client: \"u/jca318\"\n",
       "   step: 2\n",
       "   steps: 3\n",
       "   msg: \"Finished\"\n",
       "   ct: 1667073220\n",
       "   ut: 1667073235\n",
       "   source: \"d/412657841, d/412657739, d/412657818, d/412657795, d/412657766, ...\"\n",
       "   dest: \"f134f91a-572a-11ed-ba55-d5fb255a47cc/c/Users/jca92/Documents/codes/MEM_Data_Analysis_Dev/Fall_2022_MEM_T680/jupyterbook/week_6/DataFed/datapath/cat_data\"\n",
       " },\n",
       " 'TaskDataReply')"
      ]
     },
     "execution_count": 186,
     "metadata": {},
     "output_type": "execute_result"
    }
   ],
   "source": [
    "df_api.dataGet(cat_coll_id, datapath + \"/cat_data\", wait=True)\n"
   ]
  },
  {
   "cell_type": "code",
   "execution_count": 187,
   "metadata": {
    "slideshow": {
     "slide_type": "fragment"
    },
    "tags": [
     "skip-execution"
    ]
   },
   "outputs": [
    {
     "data": {
      "text/plain": [
       "['412657739.txt',\n",
       " '412657766.txt',\n",
       " '412657795.txt',\n",
       " '412657818.txt',\n",
       " '412657841.txt']"
      ]
     },
     "execution_count": 187,
     "metadata": {},
     "output_type": "execute_result"
    }
   ],
   "source": [
    "os.listdir(dest_dir)\n"
   ]
  }
 ],
 "metadata": {
  "celltoolbar": "Tags",
  "kernelspec": {
   "display_name": "Python 3 (ipykernel)",
   "language": "python",
   "name": "python3"
  },
  "language_info": {
   "codemirror_mode": {
    "name": "ipython",
    "version": 3
   },
   "file_extension": ".py",
   "mimetype": "text/x-python",
   "name": "python",
   "nbconvert_exporter": "python",
   "pygments_lexer": "ipython3",
   "version": "3.10.0"
  },
  "vscode": {
   "interpreter": {
    "hash": "c475b5beda6d617ffb7b2fcf453fbe132321ffc1e1f96c06cf49356e1e7f42cb"
   }
  }
 },
 "nbformat": 4,
 "nbformat_minor": 2
}